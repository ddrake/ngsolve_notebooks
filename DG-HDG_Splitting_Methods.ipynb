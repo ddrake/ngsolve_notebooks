{
 "cells": [
  {
   "cell_type": "markdown",
   "metadata": {},
   "source": [
    "# DG/HDG splitting Methods (Unit 3.4)\n",
    "\n",
    "When solving unsteady problems with an operator-splitting method it might be beneficial to consider different space discretizations for different operators.\n",
    "\n",
    "For a problem of the form\n",
    "\n",
    "$$\\partial_t u + A u + C u = 0$$\n",
    "\n",
    "We consider the operator splitting:\n",
    "\n",
    "1. Step: Given $u_0$, solve $t^n \\rightarrow t^{n+1}: \\partial_t u + C u = 0 \\implies u^{\\frac{1}{2}}$\n",
    "2. Step: Given $u^{\\frac{1}{2}}$, solve $t^n\\rightarrow t^{n+1}: \\partial_t u + A u = 0 \\rightarrow u^1$\n",
    "\n",
    "This splitting is only first order accurate but allows to take different time discretizations for the substeps 1 and 2.\n",
    "\n",
    "In this example we consider the Navier-Stokes problem again (cf. 3.2) and want to combine\n",
    "\n",
    "- an $H(div)$-conforming Hybrid DG method (which is a very good discretization for Stokes-type problems) and \n",
    "- a standard upwind DG method for the discretization of the convection\n",
    "\n",
    "The weak form is: Find $(u,p):[0,T]\\rightarrow (H_{0,D}^1)^d\\times L_2$, s.t.\n",
    "$$\\int_\\Omega \\partial_t u \\cdot v + \\int_\\Omega \\nu \\nabla u \\cdot \\nabla v + u \\cdot \\nabla u v - \\int_\\Omega \\text{div}(v)p = \\int fv\\hspace{2em}\\forall v \\in (H_{0,D}^1)^d$$\n",
    "$$- \\int_\\Omega \\text{div}(u) q = 0 \\hspace{2em}  \\forall q \\in L_2,$$\n",
    "$$u(t=0) = u_0$$\n",
    "\n",
    "Again, we consider the benchmark setup from http://www.featflow.de/en/benchmarks/cfdbenchmarking/flow/dfg_benchmark2_re100.html . The geometry is a 2D channel with a circular obstacle which is positioned (only slightly) off the center of the channel. The geometry: \n",
    "<img src=\"resources/geometry.png\" \\>\n",
    "\n",
    "The left part (red) is the inflow boundary, The right part (green) is the outflow boundary. The viscosity is set to $\\nu=10^{−3}$\n",
    "."
   ]
  },
  {
   "cell_type": "code",
   "execution_count": 1,
   "metadata": {},
   "outputs": [],
   "source": [
    "import netgen.gui\n",
    "%gui tk\n",
    "import tkinter\n",
    "from math import pi\n",
    "from ngsolve import *\n",
    "from netgen.geom2d import SplineGeometry\n",
    "geo = SplineGeometry()\n",
    "geo.AddRectangle( (0, 0), (2, 0.41), bcs = (\"wall\", \"outlet\", \"wall\", \"inlet\") )\n",
    "geo.AddCircle ( (0.2, 0.2), r=0.05, leftdomain = 0, rightdomain = 1, bc = \"cyl\" )\n",
    "mesh = Mesh( geo.GenerateMesh(maxh = 0.08) )\n",
    "order = 3\n",
    "mesh.Curve(order)"
   ]
  },
  {
   "cell_type": "markdown",
   "metadata": {},
   "source": [
    "For the HDG formulation we use the product space with\n",
    "\n",
    "- $BDM_k: H(div)$ conforming FE space (degree k)\n",
    "- Vector facet space: facet functions of degree k (vector valued and only in tangential direction)\n",
    "- piecewise polynomials up to degree k−1 for the pressure \n",
    "<img src=\"resources/stokeshdghdiv.png\" width='250px' \\>\n",
    "## HDG spaces"
   ]
  },
  {
   "cell_type": "code",
   "execution_count": 2,
   "metadata": {},
   "outputs": [],
   "source": [
    "V1 = HDiv ( mesh, order = order, dirichlet = \"wall|cyl|inlet\" )\n",
    "V2 = FESpace ( \"vectorfacet\", mesh, order = order, dirichlet = \"wall|cyl|inlet\" )\n",
    "Q = L2( mesh, order = order-1)\n",
    "V = FESpace ([V1,V2,Q])\n",
    "\n",
    "u, uhat, p = V.TrialFunction()\n",
    "v, vhat, q = V.TestFunction()"
   ]
  },
  {
   "cell_type": "markdown",
   "metadata": {},
   "source": [
    "## Stokes discretization / initial conditions\n",
    "\n",
    "The bilinear form to the HDG discretized Stokes problem is:\n",
    "\n",
    "$$K_h((u_T, u_F, p),(v_T, v_F, q)) := \\sum_{T \\in \\mathcal{T}}\\left\\lbrace \\int_T \\nu \\nabla u_T : \\nabla v_T dx\n",
    "- \\int_{\\partial_T} \\nu \\frac{\\partial u_T}{\\partial n}[v]_t ds\n",
    "- \\int_{\\partial_T} \\nu \\frac{\\partial v_T}{\\partial n}[u]_t ds\n",
    "+ \\int_{\\partial_T} \\nu \\frac{\\lambda k^2}{h}[u]_t [v]_t ds \\right\\rbrace$$\n",
    "$$ - \\int_\\Omega \\text{div}(u) q dx -  \\int_\\Omega \\text{div}(v) p dx$$\n",
    "\n",
    "\n",
    "Kh((uT,uF,p),(vT,vF,q):=∑T∈{∫Tν∇uT:∇vT dx−∫∂Tν∂uT∂n[v]t ds−∫∂Tν∂vT∂n[u]t ds+∫∂Tνλk2h[u]t[v]t ds}−∫Ωdiv(u)q dx−∫Ωdiv(v)p dx\n",
    "\n",
    "where $[\\cdot]_t$ is the tangential projection of the jump $(\\cdot)_T−(\\cdot)_F$.\n",
    "\n",
    "The mass matrix is simply\n",
    "$$M_h((u_T, u_F, p),(v_T, v_F, q)) :=\\int_\\Omega u_T \\cdot v_T dx$$\n"
   ]
  },
  {
   "cell_type": "code",
   "execution_count": 3,
   "metadata": {},
   "outputs": [],
   "source": [
    "nu = 0.001\n",
    "alpha = 4\n",
    "\n",
    "gradu = CoefficientFunction ( (grad(u),), dims=(2,2) )\n",
    "gradv = CoefficientFunction ( (grad(v),), dims=(2,2) )\n",
    "\n",
    "n = specialcf.normal(mesh.dim)\n",
    "h = specialcf.mesh_size\n",
    "\n",
    "def tang(vec):\n",
    "    return vec - (vec*n)*n\n",
    "\n",
    "a = BilinearForm ( V, symmetric=True)\n",
    "a += SymbolicBFI ( nu*InnerProduct ( gradu, gradv) )\n",
    "a += SymbolicBFI ( nu*InnerProduct ( gradu.trans * n,  tang(vhat-v) ), element_boundary=True )\n",
    "a += SymbolicBFI ( nu*InnerProduct ( gradv.trans * n,  tang(uhat-u) ), element_boundary=True )\n",
    "a += SymbolicBFI ( nu*alpha*order*order/h * InnerProduct ( tang(vhat-v),  tang(uhat-u) ), element_boundary=True )\n",
    "a += SymbolicBFI ( -div(u)*q -div(v)*p )\n",
    "a.Assemble()\n",
    "\n",
    "m = BilinearForm(V , symmetric=True)\n",
    "m += SymbolicBFI( u * v )\n",
    "m.Assemble()\n",
    "\n",
    "f = LinearForm ( V )"
   ]
  },
  {
   "cell_type": "markdown",
   "metadata": {},
   "source": [
    "As initial condition we solve the Stokes problem:"
   ]
  },
  {
   "cell_type": "code",
   "execution_count": 4,
   "metadata": {},
   "outputs": [],
   "source": [
    "gfu = GridFunction(V)\n",
    "\n",
    "U0 = 1.5\n",
    "uin = CoefficientFunction( (U0*4*y*(0.41-y)/(0.41*0.41),0) )\n",
    "gfu.components[0].Set(uin, definedon=mesh.Boundaries(\"inlet\"))\n",
    "\n",
    "\n",
    "invstokes = a.mat.Inverse(V.FreeDofs(), inverse=\"umfpack\")\n",
    "\n",
    "res = f.vec.CreateVector()\n",
    "res.data = f.vec - a.mat*gfu.vec\n",
    "gfu.vec.data += invstokes * res\n",
    "\n",
    "Draw( gfu.components[0], mesh, \"velocity\" )\n",
    "Draw( Norm(gfu.components[0]), mesh, \"absvel(hdiv)\")"
   ]
  },
  {
   "cell_type": "markdown",
   "metadata": {},
   "source": [
    "## Application of convection\n",
    "\n",
    "In the operator split approach we want to apply only operator applications for the convection part. Further, we want to do this in a usual DG setting. As a model problem we use the following procedure:\n",
    "\n",
    "- Given $(u,p)$ in HDG space: project into $\\hat{u}$ in usual DG space\n",
    "- Solve $\\partial_t \\hat{u} = C\\hat{u}$ by explicit scheme (involves convection evaluations and mass matrix operations only)\n",
    "- Solve Unsteady Stokes step with r.h.s. from convection sub-problem. To this end evaluate mixed mass matrix $\\int \\hat{u} v$ to obtain a functional on the HDG space\n",
    "\n",
    "For the projection steps we use mixed mass matrices:\n",
    "\n",
    "- $M_m: HDG\\times DG\\rightarrow \\mathbb{R}$\n",
    "- $M_m^T: DG\\times HDG\\rightarrow \\mathbb{R}$\n",
    "- $M_{DG}: DG\\times DG\\rightarrow \\mathbb{R}$ (block diagonal)\n",
    "\n",
    "### mixed mass matrices\n",
    "\n",
    "To set up mixed mass matrices we use a bilinear form with two different FESpaces.\n",
    "\n",
    "We do not assemble the matrices as we will only need the matrix-vector applications of $M_m$, $M_m^T$ and $M_{DG}^{-1}$."
   ]
  },
  {
   "cell_type": "code",
   "execution_count": 5,
   "metadata": {},
   "outputs": [],
   "source": [
    "VL2 = L2(mesh, dim=mesh.dim, order=order, flags = { \"dgjumps\" : True } )\n",
    "uL2 = VL2.TrialFunction()   # 1 x dim matrix\n",
    "vL2 = VL2.TestFunction()    \n",
    "\n",
    "gfuL2 = GridFunction(VL2)\n",
    "\n",
    "bfmixed = BilinearForm ( V, VL2, flags = { \"nonassemble\" : True } )\n",
    "bfmixed += SymbolicBFI ( vL2*u )\n",
    "\n",
    "bfmixedT = BilinearForm ( VL2, V, flags = { \"nonassemble\" : True } )\n",
    "bfmixedT += SymbolicBFI ( uL2*v )\n",
    "\n"
   ]
  },
  {
   "cell_type": "markdown",
   "metadata": {},
   "source": [
    "### convection operator\n",
    "\n",
    "For the convection operation we use a standard Upwind scheme. Again, we do not set up the matrix as we are only interested in operator applications. For the advection velocity we use the $H(div)$-conforming velocity (which is point-wise divergence free)."
   ]
  },
  {
   "cell_type": "code",
   "execution_count": 6,
   "metadata": {},
   "outputs": [],
   "source": [
    "vel = gfu.components[0]\n",
    "convL2 = BilinearForm(VL2, flags = { \"nonassemble\" : True } )\n",
    "convL2 += SymbolicBFI( (-InnerProduct(grad(vL2).trans * vel, uL2.trans)) )\n",
    "un = InnerProduct(vel,n)\n",
    "upwindL2 = IfPos(un, un*uL2, un*uL2.Other(bnd=uin))\n",
    "convL2 += SymbolicBFI( InnerProduct (upwindL2, vL2-vL2.Other()), VOL, skeleton=True )\n",
    "convL2 += SymbolicBFI( InnerProduct (upwindL2, vL2), BND, skeleton=True )"
   ]
  },
  {
   "cell_type": "markdown",
   "metadata": {},
   "source": [
    "### solution of convection steps\n",
    "\n",
    "We now define the solution of the convection problem for an initial data $u$ in the HDG space. The return value (\"res\") is $M_m \\hat{u}$ where \\hat{u} is the solution of several explicit Euler steps of the convection problem\n",
    "$$\\partial_t \\hat{u} = -M_{DG}^{-1} C\\hat{u}$$ "
   ]
  },
  {
   "cell_type": "code",
   "execution_count": 7,
   "metadata": {},
   "outputs": [],
   "source": [
    "def SolveConvectionSteps(gfuvec, res, tau, steps):\n",
    "    bfmixed.Apply (gfuvec, gfuL2.vec) \n",
    "    VL2.SolveM(vec=gfuL2.vec, rho=CoefficientFunction(1))\n",
    "    conv_applied = gfuL2.vec.CreateVector()\n",
    "    for i in range(steps):\n",
    "        convL2.Apply(gfuL2.vec,conv_applied)\n",
    "        VL2.SolveM(vec=conv_applied, rho=CoefficientFunction(1))\n",
    "        gfuL2.vec.data -= tau/steps * conv_applied\n",
    "        #Redraw()    \n",
    "    bfmixedT.Apply (gfuL2.vec, res)\n",
    "    \n",
    "#SolveConvectionSteps(gfu,res,0.01,1)    \n",
    "#Draw(gfuL2, mesh, \"velocity(L2)\")\n",
    "#Draw(Norm(gfuL2), mesh, \"absvel(L2)\")\n",
    "\n"
   ]
  },
  {
   "cell_type": "markdown",
   "metadata": {},
   "source": [
    "## Operator splitting method"
   ]
  },
  {
   "cell_type": "code",
   "execution_count": 8,
   "metadata": {},
   "outputs": [],
   "source": [
    "# initial values again:\n",
    "res.data = f.vec - a.mat*gfu.vec\n",
    "gfu.vec.data += invstokes * res\n",
    "t = 0\n"
   ]
  },
  {
   "cell_type": "code",
   "execution_count": 9,
   "metadata": {},
   "outputs": [
    {
     "ename": "TypeError",
     "evalue": "SolveM(): incompatible function arguments. The following argument types are supported:\n    1. (self: ngsolve.comp.FESpace, vec: ngsolve.la.BaseVector, rho: ngsolve.fem.CoefficientFunction=None) -> None\n\nInvoked with: <ngsolve.comp.L2 object at 0x7febccaa2e60>, <ngsolve.fem.CoefficientFunction object at 0x7febcc47db48>, basevector",
     "output_type": "error",
     "traceback": [
      "\u001b[0;31m---------------------------------------------------------------------------\u001b[0m",
      "\u001b[0;31mTypeError\u001b[0m                                 Traceback (most recent call last)",
      "\u001b[0;32m<ipython-input-9-ab3af29585a2>\u001b[0m in \u001b[0;36m<module>\u001b[0;34m()\u001b[0m\n\u001b[1;32m      8\u001b[0m \u001b[0;34m\u001b[0m\u001b[0m\n\u001b[1;32m      9\u001b[0m \u001b[0;32mwhile\u001b[0m \u001b[0mt\u001b[0m \u001b[0;34m<\u001b[0m \u001b[0mtend\u001b[0m\u001b[0;34m:\u001b[0m\u001b[0;34m\u001b[0m\u001b[0m\n\u001b[0;32m---> 10\u001b[0;31m     \u001b[0mSolveConvectionSteps\u001b[0m\u001b[0;34m(\u001b[0m\u001b[0mgfu\u001b[0m\u001b[0;34m.\u001b[0m\u001b[0mvec\u001b[0m\u001b[0;34m,\u001b[0m \u001b[0mres\u001b[0m\u001b[0;34m,\u001b[0m \u001b[0mtau\u001b[0m\u001b[0;34m,\u001b[0m \u001b[0msubsteps\u001b[0m\u001b[0;34m)\u001b[0m\u001b[0;34m\u001b[0m\u001b[0m\n\u001b[0m\u001b[1;32m     11\u001b[0m     \u001b[0mres\u001b[0m\u001b[0;34m.\u001b[0m\u001b[0mdata\u001b[0m \u001b[0;34m-=\u001b[0m \u001b[0mmstar\u001b[0m \u001b[0;34m*\u001b[0m \u001b[0mgfu\u001b[0m\u001b[0;34m.\u001b[0m\u001b[0mvec\u001b[0m\u001b[0;34m\u001b[0m\u001b[0m\n\u001b[1;32m     12\u001b[0m     \u001b[0mgfu\u001b[0m\u001b[0;34m.\u001b[0m\u001b[0mvec\u001b[0m\u001b[0;34m.\u001b[0m\u001b[0mdata\u001b[0m \u001b[0;34m+=\u001b[0m \u001b[0minv\u001b[0m \u001b[0;34m*\u001b[0m \u001b[0mres\u001b[0m\u001b[0;34m\u001b[0m\u001b[0m\n",
      "\u001b[0;32m<ipython-input-7-1829f012a608>\u001b[0m in \u001b[0;36mSolveConvectionSteps\u001b[0;34m(gfuvec, res, tau, steps)\u001b[0m\n\u001b[1;32m      2\u001b[0m     \u001b[0mbfmixed\u001b[0m\u001b[0;34m.\u001b[0m\u001b[0mApply\u001b[0m \u001b[0;34m(\u001b[0m\u001b[0mgfuvec\u001b[0m\u001b[0;34m,\u001b[0m \u001b[0mgfuL2\u001b[0m\u001b[0;34m.\u001b[0m\u001b[0mvec\u001b[0m\u001b[0;34m)\u001b[0m\u001b[0;34m\u001b[0m\u001b[0m\n\u001b[1;32m      3\u001b[0m     \u001b[0;31m#VL2.SolveM(rho=CoefficientFunction(1), vec=gfuL2.vec)\u001b[0m\u001b[0;34m\u001b[0m\u001b[0;34m\u001b[0m\u001b[0m\n\u001b[0;32m----> 4\u001b[0;31m     \u001b[0mVL2\u001b[0m\u001b[0;34m.\u001b[0m\u001b[0mSolveM\u001b[0m\u001b[0;34m(\u001b[0m\u001b[0mCoefficientFunction\u001b[0m\u001b[0;34m(\u001b[0m\u001b[0;36m1\u001b[0m\u001b[0;34m)\u001b[0m\u001b[0;34m,\u001b[0m \u001b[0mgfuL2\u001b[0m\u001b[0;34m.\u001b[0m\u001b[0mvec\u001b[0m\u001b[0;34m)\u001b[0m\u001b[0;34m\u001b[0m\u001b[0m\n\u001b[0m\u001b[1;32m      5\u001b[0m     \u001b[0mconv_applied\u001b[0m \u001b[0;34m=\u001b[0m \u001b[0mgfuL2\u001b[0m\u001b[0;34m.\u001b[0m\u001b[0mvec\u001b[0m\u001b[0;34m.\u001b[0m\u001b[0mCreateVector\u001b[0m\u001b[0;34m(\u001b[0m\u001b[0;34m)\u001b[0m\u001b[0;34m\u001b[0m\u001b[0m\n\u001b[1;32m      6\u001b[0m     \u001b[0;32mfor\u001b[0m \u001b[0mi\u001b[0m \u001b[0;32min\u001b[0m \u001b[0mrange\u001b[0m\u001b[0;34m(\u001b[0m\u001b[0msteps\u001b[0m\u001b[0;34m)\u001b[0m\u001b[0;34m:\u001b[0m\u001b[0;34m\u001b[0m\u001b[0m\n",
      "\u001b[0;31mTypeError\u001b[0m: SolveM(): incompatible function arguments. The following argument types are supported:\n    1. (self: ngsolve.comp.FESpace, vec: ngsolve.la.BaseVector, rho: ngsolve.fem.CoefficientFunction=None) -> None\n\nInvoked with: <ngsolve.comp.L2 object at 0x7febccaa2e60>, <ngsolve.fem.CoefficientFunction object at 0x7febcc47db48>, basevector"
     ]
    }
   ],
   "source": [
    "tend = 1\n",
    "substeps = 10\n",
    "tau = 0.01\n",
    "\n",
    "mstar = m.mat.CreateMatrix()\n",
    "mstar.AsVector().data = m.mat.AsVector() + tau * a.mat.AsVector()\n",
    "inv = mstar.Inverse(V.FreeDofs(), inverse=\"umfpack\")\n",
    "\n",
    "while t < tend:\n",
    "    SolveConvectionSteps(gfu.vec, res, tau, substeps)\n",
    "    res.data -= mstar * gfu.vec\n",
    "    gfu.vec.data += inv * res\n",
    "    t += tau\n",
    "    print (\"t=\", t)\n",
    "    Redraw(blocking=True)"
   ]
  },
  {
   "cell_type": "code",
   "execution_count": null,
   "metadata": {},
   "outputs": [],
   "source": []
  }
 ],
 "metadata": {
  "kernelspec": {
   "display_name": "Python 3",
   "language": "python",
   "name": "python3"
  },
  "language_info": {
   "codemirror_mode": {
    "name": "ipython",
    "version": 3
   },
   "file_extension": ".py",
   "mimetype": "text/x-python",
   "name": "python",
   "nbconvert_exporter": "python",
   "pygments_lexer": "ipython3",
   "version": "3.6.5"
  }
 },
 "nbformat": 4,
 "nbformat_minor": 2
}
