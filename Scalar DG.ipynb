{
 "cells": [
  {
   "cell_type": "markdown",
   "metadata": {},
   "source": [
    "# Discontinuous Galerkin Discretizations\n",
    "We are solving the scalar linear transport problem\n",
    "Find $u : [0,T] \\rightarrow V_D := \\{u \\in L^2(\\Omega), b \\cdot \\nabla u \\in L^2(\\Omega), u\\restriction_{\\Gamma_{in}} = u_D\\}$ s.t.\n",
    "$$\\int_\\Omega \\partial_t uv + b \\cdot \\nabla uv = \\int_\\Omega fv \\hspace{3em} \\forall v \\in V_0  := \\{u \\in L^2(\\Omega), b \\cdot \\nabla u \\in L^2(\\Omega), u\\restriction_{\\Gamma_{in}} = 0\\}$$"
   ]
  },
  {
   "cell_type": "code",
   "execution_count": 2,
   "metadata": {
    "collapsed": true
   },
   "outputs": [],
   "source": [
    "import netgen.gui\n",
    "%gui tk\n",
    "import tkinter\n",
    "from math import pi\n",
    "from ngsolve import *\n",
    "from netgen.geom2d import SplineGeometry\n"
   ]
  },
  {
   "cell_type": "code",
   "execution_count": 3,
   "metadata": {
    "collapsed": true
   },
   "outputs": [],
   "source": [
    "geo = SplineGeometry()\n",
    "geo.AddRectangle( (0, 0), (1, 1), \n",
    "                 bcs = (\"bottom\", \"right\", \"top\", \"left\"))\n",
    "mesh = Mesh( geo.GenerateMesh(maxh=0.2))\n",
    "\n"
   ]
  },
  {
   "cell_type": "markdown",
   "metadata": {},
   "source": []
  },
  {
   "cell_type": "code",
   "execution_count": 4,
   "metadata": {
    "collapsed": true
   },
   "outputs": [],
   "source": [
    "b = CoefficientFunction((1,2))\n",
    "n = specialcf.normal(mesh.dim)\n",
    "ubnd = IfPos(x,1,0)\n",
    "\n",
    "V = L2(mesh,order=2)\n",
    "u,v = V.TrialFunction(), V.TestFunction()\n",
    "\n",
    "c = BilinearForm(V)\n",
    "c += SymbolicBFI( b * grad(u) * v)\n",
    "c += SymbolicBFI( IfPos( (b*n), 0, (b*n) * (u.Other(ubnd)-u)) * v, element_boundary=True)\n",
    "\n",
    "gfu_expl = GridFunction(V)\n",
    "Draw(gfu_expl,mesh,\"u_explicit\")\n",
    "\n",
    "res = gfu_expl.vec.CreateVector()\n",
    "c.Apply(gfu_expl.vec,res)\n"
   ]
  },
  {
   "cell_type": "code",
   "execution_count": 5,
   "metadata": {
    "collapsed": true
   },
   "outputs": [],
   "source": [
    "t = 0\n",
    "dt = 0.001\n",
    "tend = 1\n",
    "\n",
    "while t < tend-0.5*dt:\n",
    "    c.Apply(gfu_expl.vec,res)\n",
    "    V.SolveM(CoefficientFunction(1.0),res)\n",
    "    gfu_expl.vec.data -= dt * res\n",
    "    t += dt\n",
    "    Redraw(blocking=True)\n"
   ]
  },
  {
   "cell_type": "code",
   "execution_count": 6,
   "metadata": {},
   "outputs": [
    {
     "data": {
      "image/png": "[encoded data removed]",
      "text/plain": [
       "<matplotlib.figure.Figure at 0x7f03a9a51748>"
      ]
     },
     "metadata": {},
     "output_type": "display_data"
    }
   ],
   "source": [
    "V1 = L2(mesh,order=0)\n",
    "a1 = BilinearForm(V1)\n",
    "a1.Assemble()\n",
    "\n",
    "V2 = L2(mesh,order=0,flags={\"dgjumps\" : True})\n",
    "a2 = BilinearForm(V2)\n",
    "a2.Assemble()\n",
    "\n",
    "import scipy.sparse as sp\n",
    "import matplotlib.pylab as plt\n",
    "plt.rcParams['figure.figsize'] = (12, 12)\n",
    "\n",
    "a1.mat.AsVector()[:] = 1 # set every entry to 1\n",
    "rows,cols,vals = a1.mat.COO()\n",
    "# had to add this for scipy version 0.17.0 because scipy errors trying to convert\n",
    "# vals (type <class 'ngsolve.bla.VectorD'>) to int when checking the constructor arguments.  \n",
    "# I should probably be using pip to intall numpy, scipy, etc...\n",
    "# rrs = [int(r) for r in rows]\n",
    "# ccs = [int(c) for c in cols]\n",
    "# vvs = [float(v) for v in vals]\n",
    "A1 = sp.csr_matrix((vals,(rows, cols)))\n",
    "a2.mat.AsVector()[:] = 1 # set every entry to 1\n",
    "rows,cols,vals = a2.mat.COO()\n",
    "# rrs = [int(r) for r in rows]\n",
    "# ccs = [int(c) for c in cols]\n",
    "# vvs = [float(v) for v in vals]\n",
    "A2 = sp.csr_matrix((vals,(rows,cols)))\n",
    "fig = plt.figure()\n",
    "ax1 = fig.add_subplot(121)\n",
    "ax2 = fig.add_subplot(122)\n",
    "ax1.spy(A1)\n",
    "ax2.spy(A2)\n",
    "plt.show()\n"
   ]
  },
  {
   "cell_type": "code",
   "execution_count": 27,
   "metadata": {},
   "outputs": [
    {
     "name": "stdout",
     "output_type": "stream",
     "text": [
      "<class 'ngsolve.bla.VectorD'>\n"
     ]
    }
   ],
   "source": [
    "print(type(vals))"
   ]
  }
 ],
 "metadata": {
  "kernelspec": {
   "display_name": "Python 3",
   "language": "python",
   "name": "python3"
  },
  "language_info": {
   "codemirror_mode": {
    "name": "ipython",
    "version": 3
   },
   "file_extension": ".py",
   "mimetype": "text/x-python",
   "name": "python",
   "nbconvert_exporter": "python",
   "pygments_lexer": "ipython3",
   "version": "3.5.2"
  }
 },
 "nbformat": 4,
 "nbformat_minor": 2
}
