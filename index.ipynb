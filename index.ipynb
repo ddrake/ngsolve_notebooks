{
 "cells": [
  {
   "cell_type": "markdown",
   "metadata": {},
   "source": [
    "Interactive NGSolve Tutorial\n",
    "====\n",
    "[Before we start](before_we_start.ipynb)"
   ]
  },
  {
   "cell_type": "markdown",
   "metadata": {
    "collapsed": true
   },
   "source": [
    "Getting started\n",
    "----\n",
    "* [1.1](Poisson.ipynb) Poisson equation\n",
    "* [1.2](Coefficient Functions.ipynb) CoefficientFunctions\n",
    "* [1.3](Dirichlet.ipynb) Dirichlet boundary conditions\n",
    "* [1.4](Static Condensation.ipynb) Static condensation\n",
    "* [1.5](Spaces_Forms_on_Subdomains.ipynb) Spaces and forms on sub-domains\n",
    "* [1.6](Error estimation and refinement.ipynb) Error estimation and refinement\n",
    "* [1.7](Helmholtz equation.ipynb)  Helmholtz equation\n",
    "* [1.8](meshtopology.ipynb) Exploring the mesh topology"
   ]
  },
  {
   "cell_type": "markdown",
   "metadata": {
    "collapsed": true
   },
   "source": [
    "Advanced topics\n",
    "----\n",
    "* **2.1 Preconditioning**\n",
    "  * [2.1.1](Preconditioners.ipynb) Available preconditioners and solvers\n",
    "  * [2.1.2](blockjacobi.ipynb) Programming preconditioners\n",
    "  * [2.1.3](bddc.ipynb) p-version BDDC preconditioner\n",
    "* [2.2](Eigenvalue Solver.ipynb) Eigen-value solver\n",
    "* [2.3](HCurlDiv.ipynb) $H(curl)$ and $H(div)$ finite element spaces\n",
    "* [2.4](Maxwell.ipynb) Solving Maxwell equations\n",
    "* [2.5](Mixed.ipynb) Mixed formulations for second order equations\n",
    "* [2.6](Stokes.ipynb) Stokes equation\n",
    "* [2.7](Facet Spaces and Hybrid Methods.ipynb) Facet-spaces and hybrid methods\n",
    "* [2.8](Discontinuous_Galerkin_Methods.ipynb) (Hybrid) Discontinuous Galerkin methods \n",
    "* [2.9](fourthorder.ipynb) Fourth order equations - Kirchoff plates"
   ]
  },
  {
   "cell_type": "markdown",
   "metadata": {},
   "source": [
    "Time-dependent and non-linear problems\n",
    "----\n",
    "* [3.1](Parabolic_Model_Problem.ipynb) Time-stepping methods for parabolic equations\n",
    "* [3.2](Navier Stokes w Questions.ipynb) Time-dependent Navier-Stokes equation\n",
    "* [3.3](DG_Method_for_convection.ipynb) DG-method for convection \n",
    "* [3.4](shallow2D.ipynb) DG for hyperbolic conservation laws \n",
    "* [3.5](surfacehdg.ipynb) Scalar HDG on surface \n",
    "* [3.6](DG-HDG_Splitting_Methods.ipynb)  DG/HDG splitting methods\n",
    "* [3.7](Nonlinear_Problems.ipynb) Non-linear equations\n",
    "* [3.8](Nonlinear Minimization.ipynb) Non-linear minimization problems"
   ]
  },
  {
   "cell_type": "markdown",
   "metadata": {},
   "source": [
    "Geometric modeling and mesh generation\n",
    "---\n",
    "\n",
    "* [4.1](Spline_Geometries_in_2D.ipynb) Spline geometries in 2D\n",
    "* [4.2](Constructive_Solid_Geometry_CSG.ipynb) CSG geometries in 3D\n",
    "* [4.3](manualmeshing.ipynb) Working with meshes"
   ]
  },
  {
   "cell_type": "markdown",
   "metadata": {
    "collapsed": true
   },
   "source": [
    "MPI-parallel NGSolve and FETI-DP\n",
    "---\n",
    "\n",
    "* [5.0](MPI-Parallelization in NGSolve.ipynb) Starting MPI jobs\n",
    "* [5.1](mpi_basics.ipynb) Basics of MPI-parallel NGSolve\n",
    "* [5.2](FETI-DP-I.ipynb) FETI-DP with point-constraints in 2D\n",
    "* [5.3](FETI-DP-II.ipynb) FETI-DP with point-constraints in 3D\n",
    "* [5.4](FETI-DP-III.ipynb) FETI-DP with point- and edge-constraints\n",
    "* [5.5](FETI-DP-IV.ipynb) inexact FETI-DP\n"
   ]
  },
  {
   "cell_type": "code",
   "execution_count": null,
   "metadata": {},
   "outputs": [],
   "source": []
  }
 ],
 "metadata": {
  "kernelspec": {
   "display_name": "Python 3",
   "language": "python",
   "name": "python3"
  },
  "language_info": {
   "codemirror_mode": {
    "name": "ipython",
    "version": 3
   },
   "file_extension": ".py",
   "mimetype": "text/x-python",
   "name": "python",
   "nbconvert_exporter": "python",
   "pygments_lexer": "ipython3",
   "version": "3.6.5"
  }
 },
 "nbformat": 4,
 "nbformat_minor": 2
}
