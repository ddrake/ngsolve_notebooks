{
 "cells": [
  {
   "cell_type": "markdown",
   "metadata": {},
   "source": [
    "# CoefficientFunctions (Unit 1.2)\n",
    "\n",
    "In NGSolve, CoefficientFunctions are representations of functions defined on the computational domain $\\Omega$. Examples are expressions of coordinate variables $x,y,z$ and functions that are constant on subdomains. Much of the magic behind the seamless integration of NGSolve with python lies in CoefficientFunctions. This tutorial introduces you to them."
   ]
  },
  {
   "cell_type": "code",
   "execution_count": 2,
   "metadata": {},
   "outputs": [],
   "source": [
    "import netgen.gui\n",
    "%gui tk\n",
    "from ngsolve import *\n",
    "from netgen.geom2d import unit_square\n",
    "\n",
    "mesh = Mesh(unit_square.GenerateMesh(maxh=0.2))"
   ]
  },
  {
   "cell_type": "markdown",
   "metadata": {},
   "source": [
    "#### Define a function"
   ]
  },
  {
   "cell_type": "code",
   "execution_count": 3,
   "metadata": {},
   "outputs": [
    {
     "data": {
      "text/plain": [
       "<ngsolve.fem.CoefficientFunction at 0x7f11381b1990>"
      ]
     },
     "execution_count": 3,
     "metadata": {},
     "output_type": "execute_result"
    }
   ],
   "source": [
    "myfunc = x*(1-x)\n",
    "myfunc"
   ]
  },
  {
   "cell_type": "code",
   "execution_count": 4,
   "metadata": {},
   "outputs": [
    {
     "data": {
      "text/plain": [
       "<ngsolve.fem.CoefficientFunction at 0x7f11381b1360>"
      ]
     },
     "execution_count": 4,
     "metadata": {},
     "output_type": "execute_result"
    }
   ],
   "source": [
    "x        # This is a built-in CoefficientFunction"
   ]
  },
  {
   "cell_type": "markdown",
   "metadata": {},
   "source": [
    "\n",
    "#### Draw the function\n",
    "\n",
    "Use the mesh to visualize the function.\n"
   ]
  },
  {
   "cell_type": "code",
   "execution_count": 3,
   "metadata": {
    "collapsed": true
   },
   "outputs": [],
   "source": [
    "Draw(myfunc, mesh, 'firstfunc')"
   ]
  },
  {
   "cell_type": "code",
   "execution_count": 4,
   "metadata": {
    "scrolled": true
   },
   "outputs": [
    {
     "name": "stdout",
     "output_type": "stream",
     "text": [
      "Help on built-in function Draw in module ngsolve.solve:\n",
      "\n",
      "Draw(...) method of builtins.PyCapsule instance\n",
      "    Draw(*args, **kwargs)\n",
      "    Overloaded function.\n",
      "    \n",
      "    1. Draw(arg0: ngsolve.comp.Mesh) -> None\n",
      "    \n",
      "    2. Draw(gf: ngsolve.comp.GridFunction, sd: int=2, autoscale: bool=True, min: float=0.0, max: float=1.0) -> None\n",
      "    \n",
      "    3. Draw(cf: ngsolve.fem.CoefficientFunction, mesh: ngsolve.comp.Mesh, name: str, sd: int=2, autoscale: bool=True, min: float=0.0, max: float=1.0, draw_vol: bool=True, draw_surf: bool=True) -> None\n",
      "\n"
     ]
    }
   ],
   "source": [
    "help(Draw)"
   ]
  },
  {
   "cell_type": "markdown",
   "metadata": {},
   "source": [
    "#### Evaluate the function"
   ]
  },
  {
   "cell_type": "code",
   "execution_count": 5,
   "metadata": {},
   "outputs": [
    {
     "data": {
      "text/plain": [
       "0.24"
      ]
     },
     "execution_count": 5,
     "metadata": {},
     "output_type": "execute_result"
    }
   ],
   "source": [
    "mip = mesh(0.6,0.6)\n",
    "myfunc(mip)"
   ]
  },
  {
   "cell_type": "markdown",
   "metadata": {},
   "source": [
    "\n",
    "\n",
    "Note that ```myfunc(0.2,0.3)``` does not work: You need to give points in the form of MappedIntegrationPoints like mip above. The mesh knows how to produce them.\n",
    "#### Examining functions on sets of points\n"
   ]
  },
  {
   "cell_type": "code",
   "execution_count": 7,
   "metadata": {
    "scrolled": true
   },
   "outputs": [
    {
     "data": {
      "image/png": "[encoded data removed]",
      "text/plain": [
       "<Figure size 432x288 with 1 Axes>"
      ]
     },
     "metadata": {},
     "output_type": "display_data"
    }
   ],
   "source": [
    "%matplotlib inline\n",
    "import matplotlib.pyplot as plt\n",
    "xs = [.01*i for i in range(100)]\n",
    "ys = [myfunc(mesh(x, .4)) for x in xs]\n",
    "plt.plot(xs,ys)\n",
    "plt.title(\"Restriction to a line\")\n",
    "plt.ylabel(\"f(x,0.4)\")\n",
    "plt.xlabel(\"x\")\n",
    "plt.show()\n"
   ]
  },
  {
   "cell_type": "markdown",
   "metadata": {},
   "source": [
    "\n",
    "#### Interpolate a CoefficientFunction\n",
    "\n",
    "We may Set a GridFunction using a CoefficientFunction:\n"
   ]
  },
  {
   "cell_type": "code",
   "execution_count": 8,
   "metadata": {},
   "outputs": [],
   "source": [
    "fes = H1(mesh, order=1)\n",
    "u = GridFunction(fes)\n",
    "u.Set(myfunc)\n",
    "Draw(u) # Cf.: Draw(myfunc, mesh, \"firstfun\")"
   ]
  },
  {
   "cell_type": "markdown",
   "metadata": {},
   "source": [
    "- The Set method interpolates myfunc to obtain the grid function u.\n",
    "\n",
    "- Set does an Oswald-type interpolation as follows:\n",
    "\n",
    "   - It first zeros the grid function;\n",
    "   - It then projects myfunc in $L_2$ on each mesh element;\n",
    "   - It then averages dofs on element interfaces for conformity.\n",
    "\n",
    "#### Integrate a CoefficientFunction\n",
    "\n",
    "We can numerically integrate the function using the mesh:\n"
   ]
  },
  {
   "cell_type": "code",
   "execution_count": 9,
   "metadata": {},
   "outputs": [
    {
     "data": {
      "text/plain": [
       "0.166666666666666"
      ]
     },
     "execution_count": 9,
     "metadata": {},
     "output_type": "execute_result"
    }
   ],
   "source": [
    "Integrate(myfunc, mesh)"
   ]
  },
  {
   "cell_type": "markdown",
   "metadata": {},
   "source": [
    "\n",
    "#### Differentiate\n",
    "\n",
    "There is no facility to directly differentiate a CoefficientFunction. But you can interpolate it into a GridFunction and then differentiate the GridFunction.\n"
   ]
  },
  {
   "cell_type": "code",
   "execution_count": null,
   "metadata": {},
   "outputs": [],
   "source": [
    "u.Set(myfunc)\n",
    "gradu = grad(u)\n",
    "gradu[0]\n"
   ]
  },
  {
   "cell_type": "code",
   "execution_count": 12,
   "metadata": {},
   "outputs": [],
   "source": [
    "Draw(gradu[0], mesh, 'dx_firstfun')"
   ]
  },
  {
   "cell_type": "markdown",
   "metadata": {},
   "source": [
    "\n",
    "\n",
    "Obviously the accuracy of this process can be improved for smooth functions by using higher order finite element spaces.\n",
    "#### Vector-valued CoefficientFunctions\n",
    "\n",
    "Above, gradu provided an example of a vector-valued coefficient function. To visualize it, click on ```Visual``` menu in GUI and check ```Draw Surface Vectors```.\n"
   ]
  },
  {
   "cell_type": "code",
   "execution_count": 13,
   "metadata": {
    "collapsed": true
   },
   "outputs": [],
   "source": [
    "Draw(gradu, mesh, 'grad(firstfun)')"
   ]
  },
  {
   "cell_type": "markdown",
   "metadata": {},
   "source": [
    "You can also define vector coefficient expressions directly:"
   ]
  },
  {
   "cell_type": "code",
   "execution_count": 14,
   "metadata": {
    "collapsed": true
   },
   "outputs": [],
   "source": [
    "vecfun = CoefficientFunction((-y, sin(x)))\n",
    "Draw(vecfun, mesh, 'vecfun')"
   ]
  },
  {
   "cell_type": "markdown",
   "metadata": {},
   "source": [
    "\n",
    "#### Expression tree\n",
    "\n",
    "Internally, coefficient functions are implemented as an expression tree made from building blocks like x, y, sin, etc., and arithmetic operations.\n",
    "\n",
    "E.g., the expression tree for myfunc = x*(1-x) looks like this:\n"
   ]
  },
  {
   "cell_type": "code",
   "execution_count": 15,
   "metadata": {},
   "outputs": [
    {
     "name": "stdout",
     "output_type": "stream",
     "text": [
      "coef binary operation '*', real\n",
      "  coef coordinate x, real\n",
      "  coef binary operation '-', real\n",
      "    coef N5ngfem27ConstantCoefficientFunctionE, real\n",
      "    coef coordinate x, real\n",
      "\n"
     ]
    }
   ],
   "source": [
    "print(myfunc)"
   ]
  }
 ],
 "metadata": {
  "kernelspec": {
   "display_name": "Python 3",
   "language": "python",
   "name": "python3"
  },
  "language_info": {
   "codemirror_mode": {
    "name": "ipython",
    "version": 3
   },
   "file_extension": ".py",
   "mimetype": "text/x-python",
   "name": "python",
   "nbconvert_exporter": "python",
   "pygments_lexer": "ipython3",
   "version": "3.6.5"
  }
 },
 "nbformat": 4,
 "nbformat_minor": 2
}
