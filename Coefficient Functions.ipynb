{
 "cells": [
  {
   "cell_type": "code",
   "execution_count": 1,
   "metadata": {
    "collapsed": true
   },
   "outputs": [],
   "source": [
    "import netgen.gui\n",
    "%gui tk\n",
    "from ngsolve import *\n",
    "from netgen.geom2d import unit_square\n",
    "\n",
    "mesh = Mesh(unit_square.GenerateMesh(maxh=0.2))"
   ]
  },
  {
   "cell_type": "code",
   "execution_count": 2,
   "metadata": {},
   "outputs": [
    {
     "data": {
      "text/plain": [
       "<ngsolve.fem.CoefficientFunction at 0x7f98f68fa500>"
      ]
     },
     "execution_count": 2,
     "metadata": {},
     "output_type": "execute_result"
    }
   ],
   "source": [
    "myfunc = x*(1-x)\n",
    "myfunc"
   ]
  },
  {
   "cell_type": "code",
   "execution_count": 3,
   "metadata": {
    "collapsed": true
   },
   "outputs": [],
   "source": [
    "Draw(myfunc, mesh, 'firstfunc')"
   ]
  },
  {
   "cell_type": "code",
   "execution_count": 4,
   "metadata": {
    "scrolled": true
   },
   "outputs": [
    {
     "name": "stdout",
     "output_type": "stream",
     "text": [
      "Help on built-in function Draw in module ngsolve.solve:\n",
      "\n",
      "Draw(...) method of builtins.PyCapsule instance\n",
      "    Draw(*args, **kwargs)\n",
      "    Overloaded function.\n",
      "    \n",
      "    1. Draw(arg0: ngsolve.comp.Mesh) -> None\n",
      "    \n",
      "    2. Draw(gf: ngsolve.comp.GridFunction, sd: int=2, autoscale: bool=True, min: float=0.0, max: float=1.0) -> None\n",
      "    \n",
      "    3. Draw(cf: ngsolve.fem.CoefficientFunction, mesh: ngsolve.comp.Mesh, name: str, sd: int=2, autoscale: bool=True, min: float=0.0, max: float=1.0, draw_vol: bool=True, draw_surf: bool=True) -> None\n",
      "\n"
     ]
    }
   ],
   "source": [
    "help(Draw)"
   ]
  },
  {
   "cell_type": "code",
   "execution_count": 5,
   "metadata": {},
   "outputs": [
    {
     "data": {
      "text/plain": [
       "0.24"
      ]
     },
     "execution_count": 5,
     "metadata": {},
     "output_type": "execute_result"
    }
   ],
   "source": [
    "mip = mesh(0.6,0.6)\n",
    "myfunc(mip)"
   ]
  },
  {
   "cell_type": "code",
   "execution_count": 6,
   "metadata": {},
   "outputs": [
    {
     "data": {
      "image/png": "[encoded data removed]",
      "text/plain": [
       "<matplotlib.figure.Figure at 0x7f98f68c1898>"
      ]
     },
     "metadata": {},
     "output_type": "display_data"
    }
   ],
   "source": [
    "import matplotlib.pyplot as plt\n",
    "xs = [.01*i for i in range(100)]\n",
    "ys = [myfunc(mesh(x, .4)) for x in xs]\n",
    "plt.plot(xs,ys)\n",
    "plt.title(\"Restriction to a line\")\n",
    "plt.ylabel(\"f(x,0.4)\")\n",
    "plt.xlabel(\"x\")\n",
    "plt.show()\n"
   ]
  },
  {
   "cell_type": "code",
   "execution_count": 9,
   "metadata": {},
   "outputs": [],
   "source": [
    "fes = H1(mesh, order=1)\n",
    "u = GridFunction(fes)\n",
    "u.Set(myfunc)\n",
    "Draw(u)"
   ]
  },
  {
   "cell_type": "code",
   "execution_count": 10,
   "metadata": {},
   "outputs": [
    {
     "data": {
      "text/plain": [
       "0.16666666666666602"
      ]
     },
     "execution_count": 10,
     "metadata": {},
     "output_type": "execute_result"
    }
   ],
   "source": [
    "Integrate(myfunc, mesh)"
   ]
  },
  {
   "cell_type": "code",
   "execution_count": 12,
   "metadata": {},
   "outputs": [],
   "source": [
    "gradu = grad(u)\n",
    "Draw(gradu[0], mesh, 'firstfun')"
   ]
  },
  {
   "cell_type": "code",
   "execution_count": 13,
   "metadata": {
    "collapsed": true
   },
   "outputs": [],
   "source": [
    "Draw(gradu, mesh, 'grad(firstfun)')"
   ]
  },
  {
   "cell_type": "code",
   "execution_count": 14,
   "metadata": {
    "collapsed": true
   },
   "outputs": [],
   "source": [
    "vecfun = CoefficientFunction((-y, sin(x)))\n",
    "Draw(vecfun, mesh, 'vecfun')"
   ]
  },
  {
   "cell_type": "code",
   "execution_count": 15,
   "metadata": {},
   "outputs": [
    {
     "name": "stdout",
     "output_type": "stream",
     "text": [
      "coef binary operation '*', real\n",
      "  coef coordinate x, real\n",
      "  coef binary operation '-', real\n",
      "    coef N5ngfem27ConstantCoefficientFunctionE, real\n",
      "    coef coordinate x, real\n",
      "\n"
     ]
    }
   ],
   "source": [
    "print(myfunc)"
   ]
  }
 ],
 "metadata": {
  "kernelspec": {
   "display_name": "Python 3",
   "language": "python",
   "name": "python3"
  },
  "language_info": {
   "codemirror_mode": {
    "name": "ipython",
    "version": 3
   },
   "file_extension": ".py",
   "mimetype": "text/x-python",
   "name": "python",
   "nbconvert_exporter": "python",
   "pygments_lexer": "ipython3",
   "version": "3.5.2"
  }
 },
 "nbformat": 4,
 "nbformat_minor": 2
}
