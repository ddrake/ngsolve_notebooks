{
 "cells": [
  {
   "cell_type": "markdown",
   "metadata": {},
   "source": [
    "# Facet spaces and hybrid methods (Unit 2.7)\n",
    "\n",
    "Mixed methods for second order problems lead to saddle point problems, and indefinite matrices. By hybridization one obtains a positive definite system again. It's structure is similar to the non-conforming $\\mathcal{P}^1$ method, but hybridization works for any order. See text-book by Brezzi and Fortin.\n",
    "\n",
    "One skips the normal-continuity of the $H(div)$ variable, and reinforces it by a Lagrange parameter. This leads to the following discrete system:\n",
    "\n",
    "Find $\\sigma, u, \\hat{u} \\in \\Sigma_h \\times V_h \\times F_h$:\n",
    "\n",
    "$$\\int \\lambda^{-1} \\sigma \\tau + \\sum_T \\int_T \\text{ div } \\tau u - \\sum_F \\int_F [\\tau \\cdot n] \\hat{u} = 0 \\ \\ \\forall \\tau \\in \\Sigma_h$$\n",
    "\n",
    "$$\\int \\text{div } \\sigma v = -\\int fv \\ \\ \\forall v \\in V_h$$\n",
    "\n",
    "$$\\text{I added the sum here: }\\sum_F \\int_F [\\sigma \\cdot n] \\hat{v} = \\int_{\\Gamma_n} g \\hat{v} \\ \\ \\forall \\hat{v} \\in F_h $$ \n",
    "\n",
    "where $\\Sigma_h$ is a discontinuous $H(div)$ finite element space, $V_h$ a sub-space of $L_2$, and $F_h$ consists of polynomials on every edge."
   ]
  },
  {
   "cell_type": "markdown",
   "metadata": {},
   "source": [
    "### Notes: \n",
    "The notation above: $[\\sigma n]\\hat{v}$ indicates a 'jump' term.  We will avoid integrating jump terms on facets by integrating the boundaries of H(div) elements.  See below.\n",
    "\n",
    "I think $F_h$ stands for Facet\n",
    "\n",
    "We are solving the same diffusion problem as in Mixed. The main difference is that now we have $\\hat{u}$ (edge polynomials) and $\\sigma$ can be discontinous.  Open the Mixed notebook and compare!\n",
    "\n",
    "The first equation here corresponds to \n",
    "$$ \\int_\\Omega \\lambda^{-1}\\sigma \\cdot \\tau + \\int_\\Omega \\text{div}\\tau\\ u - \\int_{\\Gamma_D} u_D \\tau_n = 0$$\n",
    "which results from integration by parts on the first equation in Mixed.\n",
    "\n",
    "The second equation here corresponds to the second equation in Mixed\n",
    "$$ \\int_\\Omega \\text{div} \\sigma v = -\\int_\\Omega f v $$\n",
    "\n",
    "The third equation here corresponds to $\\sigma_n = g$ on $\\Gamma_N$\n",
    "\n",
    "**Note: I changed the signs of two terms above.  That made the equations above consistent with both the Mixed example and the code below.**\n",
    "\n",
    "We can use the 'discontinuous' keyword for a finite element space to specify whether a space is discontinuous.  Read on..."
   ]
  },
  {
   "cell_type": "code",
   "execution_count": 1,
   "metadata": {},
   "outputs": [],
   "source": [
    "from netgen.geom2d import unit_square\n",
    "from ngsolve import *\n",
    "import netgen.gui\n",
    "%gui tk\n",
    "mesh = Mesh(unit_square.GenerateMesh(maxh=0.1)) # DD: changed from 0.2 for better comparison with Mixed\n"
   ]
  },
  {
   "cell_type": "markdown",
   "metadata": {},
   "source": [
    "same example as in 'mixed':"
   ]
  },
  {
   "cell_type": "code",
   "execution_count": 2,
   "metadata": {},
   "outputs": [],
   "source": [
    "source = sin(3.14*x)\n",
    "ud = CoefficientFunction(5)\n",
    "g = CoefficientFunction([y*(1-y) if bc==\"left\" else 0 for bc in mesh.GetBoundaries()])\n",
    "lam = 10"
   ]
  },
  {
   "cell_type": "markdown",
   "metadata": {},
   "source": [
    "define spaces:\n",
    "\n",
    "- The discontinuous flag generates an element-wise $H(Div)$-space\n",
    "- FacetFESpace lives only on facets (i.e. faces in 3D, edges in 2D, points in 1D)\n",
    "\n",
    "Boundary conditions are now posed for the facet-space"
   ]
  },
  {
   "cell_type": "code",
   "execution_count": 3,
   "metadata": {},
   "outputs": [
    {
     "name": "stdout",
     "output_type": "stream",
     "text": [
      "sigmadofs: slice(0, 4600, 1)\n",
      "udofs:     slice(4600, 5980, 1)\n",
      "uhatdofs:  slice(5980, 7440, 1)\n"
     ]
    }
   ],
   "source": [
    "order = 3\n",
    "# DD: V corresponds to Sigma above, Q to V above for consistency with Mixed (a convention?)\n",
    "V = HDiv(mesh, order=order, discontinuous = True)\n",
    "Q = L2(mesh, order=order-1)\n",
    "F = FacetFESpace(mesh, order=order, dirichlet=\"bottom\")  # Note: We didn't have this dirichlet condition in Mixed\n",
    "X = FESpace([V,Q,F])\n",
    "print (\"sigmadofs:\", X.Range(0))\n",
    "print (\"udofs:    \", X.Range(1))\n",
    "print (\"uhatdofs: \", X.Range(2))\n"
   ]
  },
  {
   "cell_type": "markdown",
   "metadata": {},
   "source": [
    "Assemble forms. The jump-term is rewritten as\n",
    "\n",
    "$$\\sum_F \\int_F [\\sigma_n] v = \\sum_T \\int_{\\partial T} \\sigma_n v$$\n"
   ]
  },
  {
   "cell_type": "markdown",
   "metadata": {},
   "source": [
    "Ok, so sum of integrals of jumps on facets equals sum of integrals over element boundaries... \n",
    "\n",
    "This was confusing until I added the sum in the third equation at the top\n",
    "\n",
    "Is the jump term $[\\sigma_n]=\\sigma_{n_{left}}−\\sigma_{n_{right}}$?\n",
    "\n"
   ]
  },
  {
   "cell_type": "code",
   "execution_count": 4,
   "metadata": {},
   "outputs": [
    {
     "name": "stdout",
     "output_type": "stream",
     "text": [
      "A non-zero 27920\n"
     ]
    }
   ],
   "source": [
    "sigma,u,uhat = X.TrialFunction()\n",
    "tau,v,vhat = X.TestFunction()\n",
    "\n",
    "condense=True\n",
    "\n",
    "a = BilinearForm(X, eliminate_internal=condense)\n",
    "a += SymbolicBFI(1/lam * sigma*tau + div(sigma)*v + div(tau)*u)\n",
    "n = specialcf.normal(mesh.dim)\n",
    "a += SymbolicBFI(sigma*n*vhat-tau*n*uhat, element_boundary=True) # DD: changed sign of sigma*n*vhat to +\n",
    "\n",
    "# Compare with mixed -- we've added an integrator on the element boundaries\n",
    "# am = BilinearForm(fesm)\n",
    "# am += SymbolicBFI(1/lam * sigma * tau + div(sigma)*v + div(tau)* u)\n",
    "# am.Assemble()\n",
    "\n",
    "c = Preconditioner(a, \"bddc\")\n",
    "\n",
    "f = LinearForm(X)\n",
    "f += SymbolicLFI(-source*v)\n",
    "f += SymbolicLFI(g*vhat.Trace(), BND) # DD: changed sign to +\n",
    "# if we omit Trace() we will get error assembling:\n",
    "# RuntimeError: cannot evaluate facet-fe inside element.  This makes sense because specifying BND\n",
    "# means integrate over boundary elements -- including their interiors.\n",
    "\n",
    "# Compare with mixed! -- we don't need the ud *tau integrator for the Dirichlet boundary now.\n",
    "# We added an integrator on the Facet space.\n",
    "\n",
    "# fm = LinearForm(fesm)\n",
    "# fm += SymbolicLFI(-source*v)\n",
    "# normal = specialcf.normal(mesh.dim)\n",
    "# fm += SymbolicLFI(ud * (tau.Trace()*normal), BND)\n",
    "# fm.Assemble()\n",
    "a.Assemble()\n",
    "print (\"A non-zero\", a.mat.nze)\n",
    "\n",
    "gfu = GridFunction(X)\n"
   ]
  },
  {
   "cell_type": "markdown",
   "metadata": {},
   "source": [
    "Solve system. Leave everything to the sparse direct solver, or use CG"
   ]
  },
  {
   "cell_type": "code",
   "execution_count": 5,
   "metadata": {},
   "outputs": [
    {
     "ename": "RuntimeError",
     "evalue": "cannot evaluate facet-fe inside element, add trans simdin Assemble LinearForm\n",
     "output_type": "error",
     "traceback": [
      "\u001b[0;31m---------------------------------------------------------------------------\u001b[0m",
      "\u001b[0;31mRuntimeError\u001b[0m                              Traceback (most recent call last)",
      "\u001b[0;32m<ipython-input-5-1d2f2c2630bd>\u001b[0m in \u001b[0;36m<module>\u001b[0;34m()\u001b[0m\n\u001b[0;32m----> 1\u001b[0;31m \u001b[0mf\u001b[0m\u001b[0;34m.\u001b[0m\u001b[0mAssemble\u001b[0m\u001b[0;34m(\u001b[0m\u001b[0;34m)\u001b[0m\u001b[0;34m\u001b[0m\u001b[0m\n\u001b[0m\u001b[1;32m      2\u001b[0m \u001b[0mgfu\u001b[0m\u001b[0;34m.\u001b[0m\u001b[0mcomponents\u001b[0m\u001b[0;34m[\u001b[0m\u001b[0;36m2\u001b[0m\u001b[0;34m]\u001b[0m\u001b[0;34m.\u001b[0m\u001b[0mSet\u001b[0m\u001b[0;34m(\u001b[0m\u001b[0mud\u001b[0m\u001b[0;34m,\u001b[0m \u001b[0mBND\u001b[0m\u001b[0;34m)\u001b[0m\u001b[0;34m\u001b[0m\u001b[0m\n\u001b[1;32m      3\u001b[0m \u001b[0;34m\u001b[0m\u001b[0m\n\u001b[1;32m      4\u001b[0m \u001b[0;32mif\u001b[0m \u001b[0mcondense\u001b[0m\u001b[0;34m:\u001b[0m\u001b[0;34m\u001b[0m\u001b[0m\n\u001b[1;32m      5\u001b[0m     \u001b[0mf\u001b[0m\u001b[0;34m.\u001b[0m\u001b[0mvec\u001b[0m\u001b[0;34m.\u001b[0m\u001b[0mdata\u001b[0m \u001b[0;34m+=\u001b[0m \u001b[0ma\u001b[0m\u001b[0;34m.\u001b[0m\u001b[0mharmonic_extension_trans\u001b[0m \u001b[0;34m*\u001b[0m \u001b[0mf\u001b[0m\u001b[0;34m.\u001b[0m\u001b[0mvec\u001b[0m\u001b[0;34m\u001b[0m\u001b[0m\n",
      "\u001b[0;31mRuntimeError\u001b[0m: cannot evaluate facet-fe inside element, add trans simdin Assemble LinearForm\n"
     ]
    }
   ],
   "source": [
    "f.Assemble()\n",
    "gfu.components[2].Set(ud, BND)\n",
    "\n",
    "if condense:\n",
    "    f.vec.data += a.harmonic_extension_trans * f.vec\n",
    "    \n",
    "    solvers.CG(mat=a.mat, pre=c.mat, rhs=f.vec, sol=gfu.vec, initialize=False)\n",
    "    \n",
    "    gfu.vec.data += a.harmonic_extension * gfu.vec\n",
    "    gfu.vec.data += a.inner_solve * f.vec\n",
    "else:\n",
    "    r = f.vec.CreateVector()\n",
    "    r.data = f.vec - a.mat * gfu.vec\n",
    "    inv = a.mat.Inverse(freedofs=X.FreeDofs())\n",
    "    gfu.vec.data += inv * r\n",
    "    \n"
   ]
  },
  {
   "cell_type": "code",
   "execution_count": null,
   "metadata": {},
   "outputs": [],
   "source": [
    "Draw (gfu.components[0], mesh, \"sigma\")\n",
    "Draw (gfu.components[1], mesh, \"u\")"
   ]
  }
 ],
 "metadata": {
  "kernelspec": {
   "display_name": "Python 3",
   "language": "python",
   "name": "python3"
  },
  "language_info": {
   "codemirror_mode": {
    "name": "ipython",
    "version": 3
   },
   "file_extension": ".py",
   "mimetype": "text/x-python",
   "name": "python",
   "nbconvert_exporter": "python",
   "pygments_lexer": "ipython3",
   "version": "3.6.5"
  }
 },
 "nbformat": 4,
 "nbformat_minor": 2
}
