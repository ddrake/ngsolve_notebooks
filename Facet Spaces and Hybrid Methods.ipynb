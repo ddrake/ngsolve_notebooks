{
 "cells": [
  {
   "cell_type": "markdown",
   "metadata": {},
   "source": [
    "# Facet spaces and hybrid methods (Unit 2.7)\n",
    "\n",
    "Mixed methods for second order problems lead to saddle point problems, and indefinite matrices. By hybridization one obtains a positive definite system again. It's structure is similar to the non-conforming $\\mathcal{P}^1$ method, but hybridization works for any order. See text-book by Brezzi and Fortin.\n",
    "\n",
    "One skips the normal-continuity of the $H(div)$ variable, and reinforces it by a Lagrange parameter. This leads to the following discrete system:\n",
    "\n",
    "Find $\\sigma, u, \\hat{u} \\in \\Sigma_h \\times V_h \\times F_h$:\n",
    "\n",
    "$$\\int \\lambda^{-1} \\sigma \\tau + \\sum_T \\int_T \\text{ div } \\tau u + \\sum_F \\int_F [\\tau n] \\hat{u} = 0 \\ \\ \\forall \\tau \\in \\Sigma_h$$\n",
    "\n",
    "$$\\int \\text{div } \\sigma v = \\int fv \\ \\ \\forall v \\in V_h$$\n",
    "\n",
    "$$\\int [\\sigma n] \\hat{v} = \\int_{\\Gamma_n} g \\hat{v} \\ \\ \\forall \\hat{v} \\in F_h $$ \n",
    "\n",
    "where $\\Sigma_h$ is a discontinuous $H(div)$ finite element space, $V_h$ a sub-space of $L_2$, and $F_h$ consists of polynomials on every edge."
   ]
  },
  {
   "cell_type": "markdown",
   "metadata": {},
   "source": [
    "### Notes: \n",
    "I think $F_h$ stands for Facet\n",
    "\n",
    "What is the problem we're trying to solve here?  I think it's exactly the diffusion problem in Mixed. The main difference is that now we have $\\hat{u}$ (edge polynomials) and $\\sigma$ can be discontinous.  Open the Mixed notebook and compare!\n",
    "\n",
    "We can use the 'discontinuous' keyword for a finite element space to specify whether a space is discontinuous.  Read on..."
   ]
  },
  {
   "cell_type": "code",
   "execution_count": 1,
   "metadata": {},
   "outputs": [],
   "source": [
    "from netgen.geom2d import unit_square\n",
    "from ngsolve import *\n",
    "import netgen.gui\n",
    "%gui tk\n",
    "mesh = Mesh(unit_square.GenerateMesh(maxh=0.2))\n"
   ]
  },
  {
   "cell_type": "markdown",
   "metadata": {},
   "source": [
    "same example as in 'mixed':"
   ]
  },
  {
   "cell_type": "code",
   "execution_count": 2,
   "metadata": {},
   "outputs": [],
   "source": [
    "source = sin(3.14*x)\n",
    "ud = CoefficientFunction(5)\n",
    "g = CoefficientFunction([y*(1-y) if bc==\"left\" else 0 for bc in mesh.GetBoundaries()])\n",
    "lam = 10"
   ]
  },
  {
   "cell_type": "markdown",
   "metadata": {},
   "source": [
    "define spaces:\n",
    "\n",
    "- The discontinuous flag generates an element-wise $H(Div)$-space\n",
    "- FacetFESpace lives only on facets (i.e. faces in 3D, edges in 2D, points in 1D)\n",
    "\n",
    "Boundary conditions are now posed for the facet-space"
   ]
  },
  {
   "cell_type": "code",
   "execution_count": 3,
   "metadata": {},
   "outputs": [
    {
     "name": "stdout",
     "output_type": "stream",
     "text": [
      "sigmadofs: slice(0, 1120, 1)\n",
      "udofs:     slice(1120, 1456, 1)\n",
      "uhatdofs:  slice(1456, 1832, 1)\n"
     ]
    }
   ],
   "source": [
    "order = 3\n",
    "V = HDiv(mesh, order=order, discontinuous = True)\n",
    "Q = L2(mesh, order=order-1)\n",
    "F = FacetFESpace(mesh, order=order, dirichlet=\"bottom\")\n",
    "X = FESpace([V,Q,F])\n",
    "print (\"sigmadofs:\", X.Range(0))\n",
    "print (\"udofs:    \", X.Range(1))\n",
    "print (\"uhatdofs: \", X.Range(2))\n"
   ]
  },
  {
   "cell_type": "markdown",
   "metadata": {},
   "source": [
    "Assemble forms. The jump-term is rewritten as\n",
    "\n",
    "$$\\sum_F \\int_F [\\sigma_n] v = \\sum_T \\int_{\\partial T} \\sigma_n v$$\n"
   ]
  },
  {
   "cell_type": "markdown",
   "metadata": {},
   "source": [
    "Ok, so sum of integrals of jumps on facets equals sum of integrals over element boundaries... \n",
    "\n",
    "Is the jump term $[\\sigma_n]=\\sigma_{n_{left}}−\\sigma_{n_{right}}$?"
   ]
  },
  {
   "cell_type": "code",
   "execution_count": 8,
   "metadata": {},
   "outputs": [
    {
     "name": "stdout",
     "output_type": "stream",
     "text": [
      "A non-zero 6880\n"
     ]
    }
   ],
   "source": [
    "sigma,u,uhat = X.TrialFunction()\n",
    "tau,v,vhat = X.TestFunction()\n",
    "\n",
    "condense=True\n",
    "\n",
    "a = BilinearForm(X, eliminate_internal=condense)\n",
    "a += SymbolicBFI(1/lam * sigma*tau + div(sigma)*v + div(tau)*u)\n",
    "n = specialcf.normal(mesh.dim)\n",
    "a += SymbolicBFI(sigma*n*vhat+tau*n*uhat, element_boundary=True)\n",
    "\n",
    "# Compare with mixed!\n",
    "# am = BilinearForm(fesm)\n",
    "# am += SymbolicBFI(1/lam * sigma * tau + div(sigma)*v + div(tau)* u)\n",
    "# am.Assemble()\n",
    "\n",
    "c = Preconditioner(a, \"bddc\")\n",
    "\n",
    "f = LinearForm(X)\n",
    "f += SymbolicLFI(-source*v)\n",
    "# this gives \"cannot evaluate facet inside element\" in newer ngsolve\n",
    "# f += SymbolicLFI(-g*vhat, BND) # Need Trace()\n",
    "f += SymbolicLFI(-g*vhat.Trace(), BND)\n",
    "\n",
    "# Compare with mixed!\n",
    "# fm = LinearForm(fesm)\n",
    "# fm += SymbolicLFI(-source*v)\n",
    "# normal = specialcf.normal(mesh.dim)\n",
    "# fm += SymbolicLFI(ud * (tau.Trace()*normal), BND)\n",
    "# fm.Assemble()\n",
    "a.Assemble()\n",
    "print (\"A non-zero\", a.mat.nze)\n",
    "\n",
    "gfu = GridFunction(X)\n"
   ]
  },
  {
   "cell_type": "markdown",
   "metadata": {},
   "source": [
    "Solve system. Leave everything to the sparse direct solver, or use CG"
   ]
  },
  {
   "cell_type": "code",
   "execution_count": 9,
   "metadata": {},
   "outputs": [
    {
     "name": "stdout",
     "output_type": "stream",
     "text": [
      "it =  0  err =  136.8191868086319\n",
      "it =  1  err =  60.516513272990274\n",
      "it =  2  err =  24.136100089360756\n",
      "it =  3  err =  12.537226028566534\n",
      "it =  4  err =  4.6597378335093635\n",
      "it =  5  err =  1.6826333630097998\n",
      "it =  6  err =  0.6520593990049843\n",
      "it =  7  err =  0.2536829638538802\n",
      "it =  8  err =  0.10105347619782698\n",
      "it =  9  err =  0.036154331316412006\n",
      "it =  10  err =  0.02136691657112922\n",
      "it =  11  err =  0.007693795930838057\n",
      "it =  12  err =  0.003261934205614721\n",
      "it =  13  err =  0.001215624309297893\n",
      "it =  14  err =  0.0005170547168348946\n",
      "it =  15  err =  0.00018477883556307118\n",
      "it =  16  err =  6.139392640661932e-05\n",
      "it =  17  err =  2.3631110433991963e-05\n",
      "it =  18  err =  8.96379181959564e-06\n",
      "it =  19  err =  4.210116567505514e-06\n",
      "it =  20  err =  1.0952387787503712e-06\n",
      "it =  21  err =  5.00111515102993e-07\n",
      "it =  22  err =  1.9156387389959438e-07\n",
      "it =  23  err =  8.848840826450581e-08\n",
      "it =  24  err =  3.7501229354090414e-08\n",
      "it =  25  err =  1.273194478384614e-08\n",
      "it =  26  err =  3.9316364414441715e-09\n",
      "it =  27  err =  1.594451231770799e-09\n",
      "it =  28  err =  7.253159276737649e-10\n",
      "it =  29  err =  2.616613631074703e-10\n",
      "it =  30  err =  1.104596951916382e-10\n"
     ]
    }
   ],
   "source": [
    "f.Assemble()\n",
    "gfu.components[2].Set(ud, BND)\n",
    "\n",
    "if condense:\n",
    "    f.vec.data += a.harmonic_extension_trans * f.vec\n",
    "    \n",
    "    solvers.CG(mat=a.mat, pre=c.mat, rhs=f.vec, sol=gfu.vec, initialize=False)\n",
    "    \n",
    "    gfu.vec.data += a.harmonic_extension * gfu.vec\n",
    "    gfu.vec.data += a.inner_solve * f.vec\n",
    "else:\n",
    "    r = f.vec.CreateVector()\n",
    "    r.data = f.vec - a.mat * gfu.vec\n",
    "    inv = a.mat.Inverse(freedofs=X.FreeDofs())\n",
    "    gfu.vec.data = inv * r\n",
    "    \n"
   ]
  },
  {
   "cell_type": "code",
   "execution_count": 10,
   "metadata": {},
   "outputs": [],
   "source": [
    "Draw (gfu.components[0], mesh, \"sigma\")\n",
    "Draw (gfu.components[1], mesh, \"u\")"
   ]
  },
  {
   "cell_type": "code",
   "execution_count": null,
   "metadata": {},
   "outputs": [],
   "source": []
  }
 ],
 "metadata": {
  "kernelspec": {
   "display_name": "Python 3",
   "language": "python",
   "name": "python3"
  },
  "language_info": {
   "codemirror_mode": {
    "name": "ipython",
    "version": 3
   },
   "file_extension": ".py",
   "mimetype": "text/x-python",
   "name": "python",
   "nbconvert_exporter": "python",
   "pygments_lexer": "ipython3",
   "version": "3.6.5"
  }
 },
 "nbformat": 4,
 "nbformat_minor": 2
}
