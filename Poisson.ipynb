{
 "cells": [
  {
   "cell_type": "markdown",
   "metadata": {},
   "source": [
    "# First NGSolve example (Unit 1.1)\n",
    "\n",
    "Let us solve the Poisson problem.\n",
    "$$\\text{find: } u \\in H_{0,D}^1 \\int_{\\Omega} \\nabla u \\nabla v = \\int_\\Omega f v \\hspace{2em} \\forall v \\in H_{0,D}^1.$$\n",
    "## Quick steps to solution:\n",
    "#### 1. Import NGSolve and Netgen Python modules:\n"
   ]
  },
  {
   "cell_type": "code",
   "execution_count": 1,
   "metadata": {},
   "outputs": [],
   "source": [
    "import netgen.gui\n",
    "%gui tk\n",
    "from ngsolve import *\n",
    "from netgen.geom2d import unit_square\n",
    "\n",
    "# these lines removed in new versions\n",
    "from netgen.geom2d import SplineGeometry\n",
    "geo = SplineGeometry()\n"
   ]
  },
  {
   "cell_type": "markdown",
   "metadata": {},
   "source": [
    "**Note (DD):** to generate a regular mesh with the boundary condition names set correctly\n",
    " just remove the maxh value from unit_square.GenerateMesh, then in Netgen refine it a couple times and save it.\n",
    " \n",
    " **Note (DD):** We can load geometry files but I'm not sure how to save them."
   ]
  },
  {
   "cell_type": "markdown",
   "metadata": {},
   "source": [
    "#### 2. Generate an unstructured mesh"
   ]
  },
  {
   "cell_type": "code",
   "execution_count": 2,
   "metadata": {},
   "outputs": [],
   "source": [
    "\n",
    "mesh = Mesh(unit_square.GenerateMesh(maxh=0.2))#maxh=0.25))\n",
    "#print(unit_square.SegmentData())\n",
    "#mesh = Mesh('dow_test7.vol')\n",
    "#mesh.Boundaries('top')"
   ]
  },
  {
   "cell_type": "code",
   "execution_count": 3,
   "metadata": {},
   "outputs": [
    {
     "data": {
      "text/plain": [
       "(39, 56)"
      ]
     },
     "execution_count": 3,
     "metadata": {},
     "output_type": "execute_result"
    }
   ],
   "source": [
    "mesh.nv, mesh.ne"
   ]
  },
  {
   "cell_type": "markdown",
   "metadata": {},
   "source": [
    "- Here we prescribed a maximal mesh-size of 0.2 using the maxh flag.\n",
    "\n",
    "- The mesh can be viewed by switching to the Mesh tab in the Netgen GUI.\n",
    "\n",
    "#### 3. Declare a finite element space:"
   ]
  },
  {
   "cell_type": "code",
   "execution_count": 4,
   "metadata": {},
   "outputs": [
    {
     "data": {
      "text/plain": [
       "39"
      ]
     },
     "execution_count": 4,
     "metadata": {},
     "output_type": "execute_result"
    }
   ],
   "source": [
    "\n",
    "fes = H1(mesh, order=2, dirichlet=\"bottom|top|left|right\")\n",
    "fes.ndof  # number of unknowns in this space\n"
   ]
  },
  {
   "cell_type": "markdown",
   "metadata": {},
   "source": [
    "Python's help system displays further documentation."
   ]
  },
  {
   "cell_type": "code",
   "execution_count": 5,
   "metadata": {},
   "outputs": [
    {
     "name": "stdout",
     "output_type": "stream",
     "text": [
      "Help on H1 in module ngsolve.comp object:\n",
      "\n",
      "class H1(FESpace)\n",
      " |   Keyword arguments can be:\n",
      " |  order: int = 1\n",
      " |    order of finite element space\n",
      " |  complex: bool = False\n",
      " |  dirichlet: regexpr\n",
      " |    Regular expression string defining the dirichlet boundary.\n",
      " |    More than one boundary can be combined by the | operator,\n",
      " |    i.e.: dirichlet = 'top|right'\n",
      " |  definedon: Region or regexpr\n",
      " |    FESpace is only defined on specific Region, created with mesh.Materials('regexpr')\n",
      " |    or mesh.Boundaries('regexpr'). If given a regexpr, the region is assumed to be\n",
      " |    mesh.Materials('regexpr').\n",
      " |  dim: int = 1\n",
      " |    Create multi dimensional FESpace (i.e. [H1]^3)\n",
      " |  dgjumps: bool = False\n",
      " |    Enable discontinuous space for DG methods, this flag is needed for DG methods,\n",
      " |    since the dofs have a different coupling then and this changes the sparsity\n",
      " |    pattern of matrices.\n",
      " |  \n",
      " |  Method resolution order:\n",
      " |      H1\n",
      " |      FESpace\n",
      " |      pybind11_builtins.pybind11_object\n",
      " |      builtins.object\n",
      " |  \n",
      " |  Methods defined here:\n",
      " |  \n",
      " |  __getstate__(...)\n",
      " |      __getstate__(self: ngsolve.comp.FESpace) -> tuple\n",
      " |  \n",
      " |  __init__(...)\n",
      " |      __init__(self: ngsolve.comp.H1, mesh: ngsolve.comp.Mesh, **kwargs) -> None\n",
      " |  \n",
      " |  __setstate__(...)\n",
      " |      __setstate__(self: ngsolve.comp.H1, arg0: tuple) -> None\n",
      " |  \n",
      " |  ----------------------------------------------------------------------\n",
      " |  Data descriptors defined here:\n",
      " |  \n",
      " |  __dict__\n",
      " |  \n",
      " |  ----------------------------------------------------------------------\n",
      " |  Methods inherited from FESpace:\n",
      " |  \n",
      " |  ApplyM(...)\n",
      " |      ApplyM(self: ngsolve.comp.FESpace, vec: ngsolve.la.BaseVector, rho: ngsolve.fem.CoefficientFunction=None) -> None\n",
      " |      \n",
      " |      Apply mass-matrix. Available only for L2-like spaces\n",
      " |  \n",
      " |  CouplingType(...)\n",
      " |      CouplingType(self: ngsolve.comp.FESpace, dofnr: int) -> ngsolve.comp.COUPLING_TYPE\n",
      " |      \n",
      " |      get coupling type of a degree of freedom\n",
      " |  \n",
      " |  Elements(...)\n",
      " |      Elements(self: ngsolve.comp.FESpace, VOL_or_BND: ngsolve.comp.VorB=VorB.VOL) -> ngsolve.comp.FESpaceElementRange\n",
      " |  \n",
      " |  FinalizeUpdate(...)\n",
      " |      FinalizeUpdate(self: ngsolve.comp.FESpace) -> None\n",
      " |      \n",
      " |      finalize update\n",
      " |  \n",
      " |  FreeDofs(...)\n",
      " |      FreeDofs(self: ngsolve.comp.FESpace, coupling: bool=False) -> ngsolve.ngstd.BitArray\n",
      " |      \n",
      " |      Return BitArray of free (non-Dirichlet) dofs\n",
      " |      coupling=False ... all free dofs including local dofs\n",
      " |      coupling=True .... only element-boundary free dofs\n",
      " |  \n",
      " |  GetDofNrs(...)\n",
      " |      GetDofNrs(*args, **kwargs)\n",
      " |      Overloaded function.\n",
      " |      \n",
      " |      1. GetDofNrs(self: ngsolve.comp.FESpace, arg0: ngsolve.comp.ElementId) -> tuple\n",
      " |      \n",
      " |      2. GetDofNrs(self: ngsolve.comp.FESpace, arg0: ngsolve.comp.NodeId) -> tuple\n",
      " |  \n",
      " |  GetDofs(...)\n",
      " |      GetDofs(self: ngsolve.comp.FESpace, arg0: ngsolve.comp.Region) -> ngsolve.ngstd.BitArray\n",
      " |  \n",
      " |  GetFE(...)\n",
      " |      GetFE(self: ngsolve.comp.FESpace, arg0: ngsolve.comp.ElementId) -> object\n",
      " |  \n",
      " |  ParallelDofs(...)\n",
      " |      ParallelDofs(self: ngsolve.comp.FESpace) -> ngsolve.la.ParallelDofs\n",
      " |      \n",
      " |      Return dof-identification for MPI-distributed meshes\n",
      " |  \n",
      " |  Range(...)\n",
      " |      Range(self: ngsolve.comp.FESpace, component: int) -> slice\n",
      " |      \n",
      " |      Return interval of dofs of a component of a product space\n",
      " |  \n",
      " |  SetCouplingType(...)\n",
      " |      SetCouplingType(self: ngsolve.comp.FESpace, dofnr: int, coupling_type: ngsolve.comp.COUPLING_TYPE) -> None\n",
      " |      \n",
      " |      set coupling type of a degree of freedom\n",
      " |  \n",
      " |  SetDefinedOn(...)\n",
      " |      SetDefinedOn(self: ngsolve.comp.FESpace, Region: ngsolve.comp.Region) -> None\n",
      " |  \n",
      " |  SetOrder(...)\n",
      " |      SetOrder(*args, **kwargs)\n",
      " |      Overloaded function.\n",
      " |      \n",
      " |      1. SetOrder(self: ngsolve.comp.FESpace, element_type: ngsolve.fem.ET, order: int) -> None\n",
      " |      \n",
      " |      2. SetOrder(self: ngsolve.comp.FESpace, nodeid: ngsolve.comp.NodeId, order: int) -> None\n",
      " |  \n",
      " |  SolveM(...)\n",
      " |      SolveM(self: ngsolve.comp.FESpace, vec: ngsolve.la.BaseVector, rho: ngsolve.fem.CoefficientFunction=None) -> None\n",
      " |      \n",
      " |      Solve with the mass-matrix. Available only for L2-like spaces\n",
      " |  \n",
      " |  TestFunction(...)\n",
      " |      TestFunction(self: ngsolve.comp.FESpace) -> object\n",
      " |      \n",
      " |      Return a proxy to be used as a testfunction for Symbolic Integrators\n",
      " |  \n",
      " |  TnT(...)\n",
      " |      TnT(self: ngsolve.comp.FESpace) -> Tuple[object, object]\n",
      " |      \n",
      " |      Return a tuple of trial and testfunction\n",
      " |  \n",
      " |  TrialFunction(...)\n",
      " |      TrialFunction(self: ngsolve.comp.FESpace) -> object\n",
      " |      \n",
      " |      Return a proxy to be used as a trialfunction in Symbolic Integrators\n",
      " |  \n",
      " |  Update(...)\n",
      " |      Update(self: ngsolve.comp.FESpace) -> None\n",
      " |      \n",
      " |      update space after mesh-refinement\n",
      " |  \n",
      " |  UpdateDofTables(...)\n",
      " |      UpdateDofTables(self: ngsolve.comp.FESpace) -> None\n",
      " |      \n",
      " |      update dof-tables after changing polynomial order distribution\n",
      " |  \n",
      " |  __eq__(...)\n",
      " |      __eq__(self: ngsolve.comp.FESpace, arg0: ngsolve.comp.FESpace) -> bool\n",
      " |  \n",
      " |  __flags_doc__(...) from builtins.PyCapsule\n",
      " |      __flags_doc__() -> dict\n",
      " |  \n",
      " |  __special_treated_flags__(...) from builtins.PyCapsule\n",
      " |      __special_treated_flags__() -> dict\n",
      " |  \n",
      " |  __str__(...)\n",
      " |      __str__(self: ngsolve.comp.FESpace) -> str\n",
      " |  \n",
      " |  __timing__(...)\n",
      " |      __timing__(self: ngsolve.comp.FESpace) -> object\n",
      " |  \n",
      " |  ----------------------------------------------------------------------\n",
      " |  Data descriptors inherited from FESpace:\n",
      " |  \n",
      " |  components\n",
      " |      Return a list of the components of a product space\n",
      " |  \n",
      " |  globalorder\n",
      " |      query global order of space\n",
      " |  \n",
      " |  is_complex\n",
      " |  \n",
      " |  lospace\n",
      " |  \n",
      " |  mesh\n",
      " |  \n",
      " |  ndof\n",
      " |      number of degrees of freedom\n",
      " |  \n",
      " |  ndofglobal\n",
      " |      global number of dofs on MPI-distributed mesh\n",
      " |  \n",
      " |  type\n",
      " |      type of finite element space\n",
      " |  \n",
      " |  ----------------------------------------------------------------------\n",
      " |  Methods inherited from pybind11_builtins.pybind11_object:\n",
      " |  \n",
      " |  __new__(*args, **kwargs) from pybind11_builtins.pybind11_type\n",
      " |      Create and return a new object.  See help(type) for accurate signature.\n",
      "\n"
     ]
    }
   ],
   "source": [
    "help(fes)"
   ]
  },
  {
   "cell_type": "markdown",
   "metadata": {},
   "source": [
    "\n",
    "#### 4. Declare test function, trial function, and grid function\n",
    "\n",
    "- Test and trial function are symbolic objects - called ProxyFunctions - that help you construct bilinear forms (and have no space to hold solutions).\n",
    "\n",
    "- GridFunctions, on the other hand, represent functions in the finite element space and contains memory to hold coefficient vectors.\n",
    "\n"
   ]
  },
  {
   "cell_type": "code",
   "execution_count": 6,
   "metadata": {},
   "outputs": [],
   "source": [
    "u = fes.TrialFunction()  # symbolic object\n",
    "v = fes.TestFunction()   # symbolic object\n",
    "gfu = GridFunction(fes)  # solution "
   ]
  },
  {
   "cell_type": "markdown",
   "metadata": {},
   "source": [
    "A shorter command for obtaining at once both trial and test variables is now available:"
   ]
  },
  {
   "cell_type": "code",
   "execution_count": null,
   "metadata": {},
   "outputs": [],
   "source": [
    "u, v = fes.TnT()"
   ]
  },
  {
   "cell_type": "markdown",
   "metadata": {},
   "source": [
    "#### 5. Define and assemble linear and bilinear forms:"
   ]
  },
  {
   "cell_type": "code",
   "execution_count": 7,
   "metadata": {},
   "outputs": [],
   "source": [
    "a = BilinearForm(fes, symmetric=True)\n",
    "a += SymbolicBFI(grad(u)*grad(v))\n",
    "a.Assemble()\n",
    "\n",
    "f = LinearForm(fes)\n",
    "f += SymbolicLFI(x*v)\n",
    "f.Assemble()\n"
   ]
  },
  {
   "cell_type": "code",
   "execution_count": 8,
   "metadata": {
    "scrolled": false
   },
   "outputs": [
    {
     "name": "stdout",
     "output_type": "stream",
     "text": [
      " 0.000333333\n",
      " 0.0090505\n",
      " 0.00633333\n",
      " 0.000770891\n",
      " 0.00419003\n",
      " 0.00873851\n",
      " 0.0110113\n",
      " 0.0118831\n",
      " 0.0154585\n",
      " 0.0172657\n",
      " 0.0153513\n",
      " 0.0180248\n",
      " 0.0203006\n",
      " 0.00930857\n",
      " 0.00722848\n",
      " 0.00380471\n",
      " 0.000687974\n",
      " 0.000703175\n",
      " 0.00144642\n",
      " 0.00174641\n",
      " 0.0130156\n",
      " 0.0196218\n",
      " 0.0235625\n",
      " 0.0209991\n",
      " 0.032979\n",
      " 0.0275741\n",
      " 0.0284488\n",
      " 0.0170589\n",
      " 0.0176338\n",
      " 0.0124153\n",
      " 0.0051304\n",
      " 0.00284308\n",
      " 0.00630915\n",
      " 0.0220354\n",
      " 0.0157804\n",
      " 0.0210096\n",
      " 0.0100578\n",
      " 0.0181327\n",
      " 0.0217548\n",
      "\n",
      "\n"
     ]
    }
   ],
   "source": [
    "print(f.vec)"
   ]
  },
  {
   "cell_type": "markdown",
   "metadata": {},
   "source": [
    "I tried to get NGSolve to generate a matrix similar to the one in Claes Johnson 1.4, but it always puts in rows for the boundary elements and the diagonal elements have a different pattern.  \n",
    "\n",
    "This is because the matrix in Claes Johnson doesn't include elements corresponding to Dirichlet boundary conditions, whereas NGSolve assumes Neumann boundary conditions when constructing the matrix and only applies the Dirichlet conditions when the matrix is inverted."
   ]
  },
  {
   "cell_type": "code",
   "execution_count": 9,
   "metadata": {
    "scrolled": false
   },
   "outputs": [
    {
     "name": "stdout",
     "output_type": "stream",
     "text": [
      "Row 0:   0: 1\n",
      "Row 1:   1: 0.829127\n",
      "Row 2:   2: 1\n",
      "Row 3:   3: 0.880753\n",
      "Row 4:   0: -0.5   4: 1.90755\n",
      "Row 5:   4: -0.559177   5: 1.91948\n",
      "Row 6:   5: -0.37742   6: 1.7799\n",
      "Row 7:   1: -0.222678   6: -0.298266   7: 1.83885\n",
      "Row 8:   1: -0.223343   8: 1.90243\n",
      "Row 9:   8: -0.375377   9: 1.75223\n",
      "Row 10:   9: -0.283322   10: 1.78161\n",
      "Row 11:   2: -0.5   10: -0.268388   11: 1.99954\n",
      "Row 12:   2: -0.5   11: -0.098129   12: 1.84322\n",
      "Row 13:   12: -0.211616   13: 1.75354\n",
      "Row 14:   13: -0.319115   14: 1.77273\n",
      "Row 15:   3: -0.359363   14: -0.356559   15: 1.85161\n",
      "Row 16:   3: -0.354152   16: 1.80192\n",
      "Row 17:   16: -0.146234   17: 1.85831\n",
      "Row 18:   17: -0.280268   18: 1.8809\n",
      "Row 19:   0: -0.5   4: -0.159147   18: -0.497592   19: 1.89108\n",
      "Row 20:   4: -0.689223   5: -0.134026   18: -0.213492   19: -0.734339   20: 3.5107\n",
      "Row 21:   5: -0.848855   6: -0.338846   20: -0.607596   21: 3.57058\n",
      "Row 22:   6: -0.76537   7: -0.325948   21: -0.590849   22: 3.53156\n",
      "Row 23:   1: -0.383106   7: -0.991955   8: -1.08169   22: -0.711434   23: 3.78819\n",
      "Row 24:   8: -0.222018   9: -0.654805   22: -0.588928   23: -0.62   24: 3.44463\n",
      "Row 25:   9: -0.438728   10: -0.852694   24: -0.516043   25: 3.57605\n",
      "Row 26:   10: -0.377206   11: -1.13302   12: -0.22963   25: -0.541968   26: 3.73524\n",
      "Row 27:   12: -0.803846   13: -0.666276   26: -0.773272   27: 3.68753\n",
      "Row 28:   13: -0.556538   14: -0.353124   27: -0.781766   28: 3.60218\n",
      "Row 29:   14: -0.74393   15: -0.202714   28: -0.943134   29: 3.72717\n",
      "Row 30:   3: -0.167237   15: -0.932971   16: -0.826096   29: -0.840918   30: 3.7686\n",
      "Row 31:   16: -0.475439   17: -1.04297   30: -0.848015   31: 3.7525\n",
      "Row 32:   17: -0.388835   18: -0.889547   20: -0.459182   31: -0.532046   32: 3.57532\n",
      "Row 33:   21: -0.763143   22: -0.54903   24: -0.350551   33: 3.66745\n",
      "Row 34:   20: -0.672842   21: -0.421292   32: -0.676988   33: -0.704385   34: 3.51434\n",
      "Row 35:   25: -0.347729   26: -0.680143   27: -0.662371   28: -0.447405   35: 3.54016\n",
      "Row 36:   29: -0.830595   30: -0.153364   31: -0.854028   32: -0.628726   34: -0.40922   36: 3.64742\n",
      "Row 37:   24: -0.492286   25: -0.878889   33: -1.07273   35: -0.76226   37: 3.75396\n",
      "Row 38:   28: -0.520216   29: -0.165884   33: -0.227614   34: -0.629613   35: -0.640254   36: -0.771484   37: -0.547794   38: 3.50286\n",
      "\n"
     ]
    }
   ],
   "source": [
    "print(a.mat)"
   ]
  },
  {
   "cell_type": "markdown",
   "metadata": {},
   "source": [
    "#### 6. Solve the system:"
   ]
  },
  {
   "cell_type": "code",
   "execution_count": 10,
   "metadata": {},
   "outputs": [],
   "source": [
    "#gfu.vec.data = a.mat.Inverse(freedofs=fes.FreeDofs(), inverse='umfpack')*f.vec\n",
    "#gfu.vec.data = a.mat.Inverse(freedofs=fes.FreeDofs(), inverse='sparsecholesky')*f.vec\n",
    "gfu.vec.data = a.mat.Inverse(freedofs=fes.FreeDofs()) * f.vec\n",
    "Draw(gfu)"
   ]
  },
  {
   "cell_type": "markdown",
   "metadata": {},
   "source": [
    "\n",
    "The Dirichlet boundary condition constrains some degrees of freedom. The argument ```fes.FreeDofs()``` indicates that only the remaining \"free\" degrees of freedom should participate in the linear solve.\n",
    "\n",
    "You can examine the coefficient vector of solution if needed:\n"
   ]
  },
  {
   "cell_type": "code",
   "execution_count": 11,
   "metadata": {},
   "outputs": [
    {
     "name": "stdout",
     "output_type": "stream",
     "text": [
      "       0\n",
      "       0\n",
      "       0\n",
      "       0\n",
      "       0\n",
      "       0\n",
      "       0\n",
      "       0\n",
      "       0\n",
      "       0\n",
      "       0\n",
      "       0\n",
      "       0\n",
      "       0\n",
      "       0\n",
      "       0\n",
      "       0\n",
      "       0\n",
      "       0\n",
      "       0\n",
      " 0.0152671\n",
      " 0.0232533\n",
      " 0.024121\n",
      " 0.014921\n",
      " 0.0296193\n",
      " 0.0279071\n",
      " 0.0220941\n",
      " 0.0203339\n",
      " 0.0233011\n",
      " 0.0177906\n",
      " 0.00849804\n",
      " 0.00995411\n",
      " 0.0147511\n",
      " 0.0361075\n",
      " 0.02925\n",
      " 0.0341538\n",
      " 0.0227803\n",
      " 0.0376474\n",
      " 0.0352646\n",
      "\n",
      "\n"
     ]
    }
   ],
   "source": [
    "print(gfu.vec)"
   ]
  },
  {
   "cell_type": "markdown",
   "metadata": {
    "collapsed": true
   },
   "source": [
    "\n",
    "## Ways to interact with NGSolve\n",
    "\n",
    "- A jupyter notebook (like this one) gives you one way to interact with NGSolve. When you have a complex sequence of tasks to perform, the notebook may not be adequate.\n",
    "\n",
    "- You can write an entire python script in a text editor and call python on the command line. (A script of the above is provided in poisson.py.)\n",
    "\n",
    "      python3 poisson.py\n",
    "\n",
    "- If you want the Netgen GUI, then use netgen on the command line:\n",
    "\n",
    "      netgen poisson.py\n",
    "\n",
    "- You can then ask for a python shell from the GUI's menu options (Solve -> Python shell).\n",
    "\n"
   ]
  },
  {
   "cell_type": "code",
   "execution_count": null,
   "metadata": {},
   "outputs": [],
   "source": []
  }
 ],
 "metadata": {
  "kernelspec": {
   "display_name": "Python 3",
   "language": "python",
   "name": "python3"
  },
  "language_info": {
   "codemirror_mode": {
    "name": "ipython",
    "version": 3
   },
   "file_extension": ".py",
   "mimetype": "text/x-python",
   "name": "python",
   "nbconvert_exporter": "python",
   "pygments_lexer": "ipython3",
   "version": "3.6.5"
  }
 },
 "nbformat": 4,
 "nbformat_minor": 2
}
