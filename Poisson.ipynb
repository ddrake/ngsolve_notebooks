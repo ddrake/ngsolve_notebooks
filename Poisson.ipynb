{
 "cells": [
  {
   "cell_type": "code",
   "execution_count": 1,
   "metadata": {
    "collapsed": true
   },
   "outputs": [],
   "source": [
    "import netgen.gui\n",
    "%gui tk\n",
    "from ngsolve import *\n",
    "from netgen.geom2d import unit_square\n",
    "from netgen.geom2d import SplineGeometry\n",
    "\n",
    "geo = SplineGeometry()\n"
   ]
  },
  {
   "cell_type": "code",
   "execution_count": 2,
   "metadata": {
    "collapsed": true
   },
   "outputs": [],
   "source": [
    "#finally found a way to generate a regular mesh with the boundary condition names set correctly\n",
    "# just remove the maxh value from unit_square.GenerateMesh, then in Netgen refine it a couple times and save it.\n",
    "# it's unfortunate that we can load geometry files but not save them.\n",
    "\n",
    "mesh = Mesh(unit_square.GenerateMesh(maxh=0.2))#maxh=0.25))\n",
    "#print(unit_square.SegmentData())\n",
    "#mesh = Mesh('dow_test7.vol')\n",
    "#mesh.Boundaries('top')"
   ]
  },
  {
   "cell_type": "code",
   "execution_count": 3,
   "metadata": {},
   "outputs": [
    {
     "data": {
      "text/plain": [
       "(25, 32)"
      ]
     },
     "execution_count": 3,
     "metadata": {},
     "output_type": "execute_result"
    }
   ],
   "source": [
    "mesh.nv, mesh.ne"
   ]
  },
  {
   "cell_type": "code",
   "execution_count": 4,
   "metadata": {},
   "outputs": [
    {
     "data": {
      "text/plain": [
       "25"
      ]
     },
     "execution_count": 4,
     "metadata": {},
     "output_type": "execute_result"
    }
   ],
   "source": [
    "\n",
    "fes = H1(mesh, order=1, dirichlet=\"bottom|top|left|right\")\n",
    "fes.ndof  # number of unknowns in this space\n"
   ]
  },
  {
   "cell_type": "code",
   "execution_count": 5,
   "metadata": {
    "collapsed": true
   },
   "outputs": [],
   "source": [
    "u = fes.TrialFunction()\n",
    "v = fes.TestFunction()\n",
    "gfu = GridFunction(fes)"
   ]
  },
  {
   "cell_type": "code",
   "execution_count": 6,
   "metadata": {
    "collapsed": true
   },
   "outputs": [],
   "source": [
    "a = BilinearForm(fes, symmetric=True)\n",
    "a += SymbolicBFI(grad(u)*grad(v))"
   ]
  },
  {
   "cell_type": "code",
   "execution_count": 7,
   "metadata": {
    "collapsed": true
   },
   "outputs": [],
   "source": [
    "a.Assemble()"
   ]
  },
  {
   "cell_type": "code",
   "execution_count": 8,
   "metadata": {
    "collapsed": true
   },
   "outputs": [],
   "source": [
    "f = LinearForm(fes)\n",
    "f += SymbolicLFI(x*x*v)\n",
    "f.Assemble()"
   ]
  },
  {
   "cell_type": "code",
   "execution_count": 9,
   "metadata": {
    "scrolled": false
   },
   "outputs": [
    {
     "name": "stdout",
     "output_type": "stream",
     "text": [
      " 0.000244141\n",
      " 0.00919596\n",
      " 0.0171712\n",
      " 8.13802e-05\n",
      " 0.0094401\n",
      " 0.016276\n",
      " 0.000325521\n",
      " 0.0263672\n",
      " 0.00683594\n",
      " 0.00292969\n",
      " 0.00455729\n",
      " 0.000325521\n",
      " 0.0198568\n",
      " 0.0263672\n",
      " 0.0358073\n",
      " 0.0263672\n",
      " 0.0159505\n",
      " 0.000325521\n",
      " 0.0016276\n",
      " 0.016276\n",
      " 0.0358073\n",
      " 0.00455729\n",
      " 0.0358073\n",
      " 0.016276\n",
      " 0.00455729\n",
      "\n",
      "\n"
     ]
    }
   ],
   "source": [
    "print(f.vec)"
   ]
  },
  {
   "cell_type": "markdown",
   "metadata": {},
   "source": [
    "I tried to get Ngsolve to generate a matrix similar to the one in Claes Johnson 1.4, but it always puts in rows for the boundary elements and the diagonal elements have a different pattern"
   ]
  },
  {
   "cell_type": "code",
   "execution_count": 10,
   "metadata": {
    "scrolled": false
   },
   "outputs": [
    {
     "name": "stdout",
     "output_type": "stream",
     "text": [
      "Row 0:   0: 1\n",
      "Row 1:   1: 1\n",
      "Row 2:   2: 1\n",
      "Row 3:   3: 1\n",
      "Row 4:   4: 2\n",
      "Row 5:   5: 4\n",
      "Row 6:   6: 2\n",
      "Row 7:   7: 2\n",
      "Row 8:   8: 2\n",
      "Row 9:   0: -0.5   4: -0.5   9: 2\n",
      "Row 10:   0: 0   5: 0   9: -1   10: 4\n",
      "Row 11:   0: -0.5   6: -0.5   10: -1   11: 2\n",
      "Row 12:   1: -0.5   4: -0.5   12: 2\n",
      "Row 13:   1: -0.5   7: -0.5   12: 0   13: 2\n",
      "Row 14:   2: 0   5: 0   14: 4\n",
      "Row 15:   2: -0.5   7: -0.5   14: -1   15: 2\n",
      "Row 16:   2: -0.5   8: -0.5   14: -1   16: 2\n",
      "Row 17:   3: -0.5   6: -0.5   17: 2\n",
      "Row 18:   3: -0.5   8: -0.5   17: 0   18: 2\n",
      "Row 19:   4: -1   5: -1   9: 0   10: -1   19: 4\n",
      "Row 20:   4: 0   7: 0   12: -1   13: -1   19: -1   20: 4\n",
      "Row 21:   5: -1   6: -1   10: -1   11: 0   21: 4\n",
      "Row 22:   5: -1   7: -1   14: -1   15: 0   19: 0   20: -1   22: 4\n",
      "Row 23:   5: -1   8: -1   14: -1   16: 0   21: 0   23: 4\n",
      "Row 24:   6: 0   8: 0   17: -1   18: -1   21: -1   23: -1   24: 4\n",
      "\n"
     ]
    }
   ],
   "source": [
    "print(a.mat)"
   ]
  },
  {
   "cell_type": "code",
   "execution_count": 11,
   "metadata": {
    "collapsed": true
   },
   "outputs": [],
   "source": [
    "#gfu.vec.data = a.mat.Inverse(freedofs=fes.FreeDofs(), inverse='umfpack')*f.vec\n",
    "gfu.vec.data = a.mat.Inverse(freedofs=fes.FreeDofs(), inverse='sparsecholesky')*f.vec"
   ]
  },
  {
   "cell_type": "code",
   "execution_count": 12,
   "metadata": {
    "collapsed": true
   },
   "outputs": [],
   "source": [
    "Draw(gfu)"
   ]
  },
  {
   "cell_type": "code",
   "execution_count": 13,
   "metadata": {},
   "outputs": [
    {
     "name": "stdout",
     "output_type": "stream",
     "text": [
      "       0\n",
      "       0\n",
      "       0\n",
      "       0\n",
      "       0\n",
      " 0.0202637\n",
      "       0\n",
      "       0\n",
      "       0\n",
      "       0\n",
      " 0.00756255\n",
      "       0\n",
      "       0\n",
      "       0\n",
      " 0.0187233\n",
      "       0\n",
      "       0\n",
      "       0\n",
      "       0\n",
      " 0.0157064\n",
      " 0.0187233\n",
      " 0.00998651\n",
      " 0.0233794\n",
      " 0.0157064\n",
      " 0.00756255\n",
      "\n",
      "\n"
     ]
    }
   ],
   "source": [
    "print(gfu.vec)"
   ]
  },
  {
   "cell_type": "code",
   "execution_count": null,
   "metadata": {
    "collapsed": true
   },
   "outputs": [],
   "source": []
  }
 ],
 "metadata": {
  "kernelspec": {
   "display_name": "Python 3",
   "language": "python",
   "name": "python3"
  },
  "language_info": {
   "codemirror_mode": {
    "name": "ipython",
    "version": 3
   },
   "file_extension": ".py",
   "mimetype": "text/x-python",
   "name": "python",
   "nbconvert_exporter": "python",
   "pygments_lexer": "ipython3",
   "version": "3.5.2"
  }
 },
 "nbformat": 4,
 "nbformat_minor": 2
}
