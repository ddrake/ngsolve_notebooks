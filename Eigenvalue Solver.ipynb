{
 "cells": [
  {
   "cell_type": "markdown",
   "metadata": {},
   "source": [
    "# Eigenvalue problems (Unit 2.2) \n",
    "\n",
    "We solve the generalized eigenvalue problem\n",
    "$$A u=\\lambda M u$$,\n",
    "\n",
    "where A comes from $\\int \\nabla u \\nabla v$, and $M$ from $\\int uv$, on the space $H_0^1$"
   ]
  },
  {
   "cell_type": "code",
   "execution_count": 1,
   "metadata": {},
   "outputs": [],
   "source": [
    "import netgen.gui\n",
    "%gui tk\n",
    "from netgen.geom2d import unit_square\n",
    "from ngsolve import *\n",
    "from math import pi\n",
    "import scipy.linalg\n",
    "from scipy import random\n",
    "\n",
    "mesh = Mesh(unit_square.GenerateMesh(maxh=0.1))\n"
   ]
  },
  {
   "cell_type": "markdown",
   "metadata": {},
   "source": [
    "We setup a stiffness matrix A and a mass matrix M, and declare a preconditioner for A:"
   ]
  },
  {
   "cell_type": "code",
   "execution_count": 2,
   "metadata": {},
   "outputs": [],
   "source": [
    "fes = H1(mesh, order=4, dirichlet=[1,2,3,4])\n",
    "u = fes.TrialFunction()\n",
    "v = fes.TestFunction()\n",
    "\n",
    "a = BilinearForm(fes)\n",
    "a += SymbolicBFI(grad(u)*grad(v))\n",
    "pre = Preconditioner(a, \"multigrid\")\n",
    "\n",
    "m = BilinearForm(fes)\n",
    "m += SymbolicBFI(u*v)\n",
    "\n",
    "a.Assemble()\n",
    "m.Assemble()\n",
    "\n",
    "u = GridFunction(fes)"
   ]
  },
  {
   "cell_type": "markdown",
   "metadata": {},
   "source": [
    "The inverse iteration is\n",
    "$$u_{n+1}=A^{−1}Mu_n,$$\n",
    "\n",
    "where the Rayleigh quotient\n",
    "$$\\rho_n=\\frac{\\langle Au_n,u_n \\rangle}{\\langle Mu_n,u_n\\rangle}$$\n",
    "\n",
    "converges to the smallest eigen-value, with rate of convergence $\\lambda_1/\\lambda_2$.\n",
    "\n",
    "The preconditioned inverse iteration (PINVIT), see [Knyazef+Neymeyr], replaces $A^{−1}$\n",
    "by an approximate inverse $C^{−1}$\n",
    "\n",
    "$$\\rho_n=\\frac{\\langle Au_n,u_n\\rangle}{\\langle Mu_n,u_n\\rangle}$$\n",
    "\n",
    "$$w_n=C^{−1}(Au_n−\\rho Mu_n)$$\n",
    "$$u_{n+1}=u_n+\\alpha w_n$$\n",
    "\n",
    "The optimal step-size $\\alpha$ is found by minimizing the Rayleigh-quotient on a two-dimensional space:\n",
    "$$u_{n+1}=\\arg \\min_{v\\in \\lbrace u_n,w_n\\rbrace} \\frac{\\langle Av,v\\rangle}{\\langle Mv,v\\rangle}$$\n",
    "\n",
    "This minimization problem can be solved by a small eigenvalue problem\n",
    "$$ay=\\lambda my$$\n",
    "\n",
    "with matrices\n",
    "$$a = \\left(\n",
    "\\begin{array}[cc]\n",
    "\\ \\langle Au_n,u_n\\rangle & \\langle Au_n,w_n\\rangle\\\\\n",
    "\\langle Aw_n,u_n\\rangle & \\langle Aw_n,w_n\\rangle\n",
    "\\end{array}\n",
    "\\right) \\hspace{3em} m = \\left(\n",
    "\\begin{array}[cc]\n",
    "\\ \\langle Mu_n,u_n\\rangle & \\langle Mu_n,w_n\\rangle\\\\\n",
    "\\langle Mw_n,u_n\\rangle & \\langle Mw_n,w_n\\rangle\n",
    "\\end{array}\n",
    "\\right) $$\n",
    "\n",
    "Then, the new iterate is\n",
    "\n",
    "$$u_{n+1}=y_1 u_n+y_2 w_n$$\n",
    "\n",
    "where $y$ is the eigenvector corresponding to the smaller eigenvalue.\n",
    "### Implementation in NGSolve\n",
    "\n",
    "Create some help vectors:\n"
   ]
  },
  {
   "cell_type": "code",
   "execution_count": 3,
   "metadata": {},
   "outputs": [],
   "source": [
    "r = u.vec.CreateVector()\n",
    "w = u.vec.CreateVector()\n",
    "Mu = u.vec.CreateVector()\n",
    "Au = u.vec.CreateVector()\n",
    "Mw = u.vec.CreateVector()\n",
    "Aw = u.vec.CreateVector()\n"
   ]
  },
  {
   "cell_type": "markdown",
   "metadata": {},
   "source": [
    "random initial condition, zero on the boundary"
   ]
  },
  {
   "cell_type": "code",
   "execution_count": 4,
   "metadata": {},
   "outputs": [],
   "source": [
    "# Note how we can use numpy with NGSolve vectors!\n",
    "r.FV().NumPy()[:] = random.rand(fes.ndof)\n",
    "# Linear operator projecting to true/false bits of BitArray\n",
    "# mask, depending on argument range\n",
    "# Also has a Project() method to project a vector inline\n",
    "u.vec.data = Projector(fes.FreeDofs(), range=True) * r\n",
    "\n",
    "# old way...\n",
    "#freedofs = fes.FreeDofs()    \n",
    "#for i in range(len(u.vec)):\n",
    "#    u.vec[i] = random() if freedofs[i] else 0   "
   ]
  },
  {
   "cell_type": "code",
   "execution_count": 5,
   "metadata": {},
   "outputs": [
    {
     "name": "stdout",
     "output_type": "stream",
     "text": [
      "26.83126293693843\n",
      "2.0301813451116\n",
      "2.0009740208150095\n",
      "2.000161421001047\n",
      "2.00003814124705\n",
      "2.000009616822793\n",
      "2.000002482567583\n",
      "2.0000006505790657\n",
      "2.0000001722727845\n",
      "2.0000000459906015\n",
      "2.000000012371347\n",
      "2.000000003365789\n",
      "2.000000000941486\n",
      "2.000000000286302\n",
      "2.000000000108649\n",
      "2.0000000000603486\n",
      "2.0000000000471863\n",
      "2.0000000000435914\n",
      "2.000000000042608\n",
      "2.00000000004234\n"
     ]
    }
   ],
   "source": [
    "for i in range(20):\n",
    "    Au.data = a.mat * u.vec\n",
    "    Mu.data = m.mat * u.vec\n",
    "    auu = InnerProduct(Au, u.vec)\n",
    "    muu = InnerProduct(Mu, u.vec)\n",
    "    # Rayleigh quotiont\n",
    "    lam = auu/muu\n",
    "    print (lam / (pi**2))\n",
    "    # residual\n",
    "    r.data = Au - lam * Mu\n",
    "    w.data = pre.mat * r.data\n",
    "    w.data = 1/Norm(w) * w\n",
    "    Aw.data = a.mat * w\n",
    "    Mw.data = m.mat * w\n",
    "\n",
    "    # setup and solve 2x2 small eigenvalue problem\n",
    "    asmall = Matrix(2,2)\n",
    "    asmall[0,0] = auu\n",
    "    asmall[0,1] = asmall[1,0] = InnerProduct(Au, w)\n",
    "    asmall[1,1] = InnerProduct(Aw, w)\n",
    "    msmall = Matrix(2,2)\n",
    "    msmall[0,0] = muu\n",
    "    msmall[0,1] = msmall[1,0] = InnerProduct(Mu, w)\n",
    "    msmall[1,1] = InnerProduct(Mw, w)\n",
    "    # print (\"asmall =\", asmall, \", msmall = \", msmall)\n",
    "    \n",
    "    \n",
    "    eval,evec = scipy.linalg.eigh(a=asmall, b=msmall)\n",
    "    # print (eval, evec)\n",
    "    u.vec.data = float(evec[0,0]) * u.vec + float(evec[1,0]) * w\n",
    "    \n",
    "Draw (u)"
   ]
  },
  {
   "cell_type": "markdown",
   "metadata": {},
   "source": [
    "\n",
    "### Simultaneous iteration for several eigenvalues\n",
    "\n",
    "Declare GridFunction with multiple components to store several eigenvectors.\n"
   ]
  },
  {
   "cell_type": "code",
   "execution_count": 6,
   "metadata": {},
   "outputs": [],
   "source": [
    "num = 5\n",
    "u = GridFunction(fes, multidim=num)"
   ]
  },
  {
   "cell_type": "markdown",
   "metadata": {},
   "source": [
    "\n",
    "Create list of help vectors:\n"
   ]
  },
  {
   "cell_type": "code",
   "execution_count": 7,
   "metadata": {},
   "outputs": [],
   "source": [
    "r = u.vec.CreateVector()\n",
    "Av = u.vec.CreateVector()\n",
    "Mv = u.vec.CreateVector()\n",
    "\n",
    "vecs = []\n",
    "for i in range(2*num):\n",
    "    vecs.append (u.vec.CreateVector())\n",
    "\n",
    "for v in u.vecs:\n",
    "    r.FV().NumPy()[:] = random.rand(fes.ndof)\n",
    "    v.data = Projector(fes.FreeDofs(), True) * r\n",
    "\n",
    "# old way\n",
    "#freedofs = fes.FreeDofs()    \n",
    "#for v in u.vecs:\n",
    "#    for i in range(len(u.vec)):\n",
    "#        v[i] = random() if freedofs[i] else 0\n",
    "\n"
   ]
  },
  {
   "cell_type": "markdown",
   "metadata": {},
   "source": [
    "Compute $num$ residuals, and solve small eigenvalue problem on $2num$-dimensional space"
   ]
  },
  {
   "cell_type": "code",
   "execution_count": 8,
   "metadata": {},
   "outputs": [
    {
     "name": "stdout",
     "output_type": "stream",
     "text": [
      "0 : [11.80364559949426, 70.94139814915454, 83.06716415323355, 92.98351322829299, 100.55685731692716]\n",
      "1 : [2.0397727982636185, 6.955295610150047, 8.809412950683296, 14.904515815132127, 19.1057980093157]\n",
      "2 : [2.0013181581679995, 5.1160320175795615, 5.19927277991376, 8.381830230320917, 11.820017249071247]\n",
      "3 : [2.0001544272216414, 5.00472334510711, 5.016984211794599, 8.065807541736696, 10.317473206738063]\n",
      "4 : [2.000028597179129, 5.000411724845429, 5.001924124480344, 8.022566822249791, 10.099139861449407]\n",
      "5 : [2.0000061253403993, 5.000065690167718, 5.000244264763393, 8.0092920570862, 10.035263400540973]\n",
      "6 : [2.00000134549885, 5.000013334857813, 5.00003438251435, 8.004041421125024, 10.012998569287983]\n",
      "7 : [2.0000003017031016, 5.000002924698037, 5.0000053801373525, 8.001791874080224, 10.004827477674214]\n",
      "8 : [2.000000068199269, 5.000000665334123, 5.000000937687826, 8.000798787725156, 10.00179555190104]\n",
      "9 : [2.0000000155299356, 5.000000156393345, 5.000000182092181, 8.000356887199056, 10.000668579952794]\n",
      "10 : [2.0000000035788763, 5.000000039698873, 5.000000041265818, 8.000159627410588, 10.000249238351595]\n",
      "11 : [2.0000000008531233, 5.000000012508876, 5.000000013163048, 8.000071455616611, 10.000093031192794]\n",
      "12 : [2.000000000228857, 5.000000006501847, 5.000000006886422, 8.00003201622696, 10.000034813791414]\n",
      "13 : [2.0000000000853335, 5.000000005108715, 5.000000005489684, 8.0000143649312, 10.000013098243583]\n",
      "14 : [2.0000000000522213, 5.000000004776302, 5.000000005179351, 8.000006461969694, 10.000004995624483]\n",
      "15 : [2.000000000044559, 5.000000004697396, 5.000000005108799, 8.000002922232822, 10.00000197035519]\n",
      "16 : [2.0000000000427796, 5.000000004678431, 5.000000005092461, 8.000001336339615, 10.000000840567573]\n",
      "17 : [2.0000000000423652, 5.0000000046735025, 5.000000005088843, 8.000000625606122, 10.000000418431027]\n",
      "18 : [2.000000000042269, 5.000000004672779, 5.000000005087859, 8.000000307014282, 10.000000260677403]\n",
      "19 : [2.0000000000422444, 5.000000004672151, 5.00000000508763, 8.0000001641691, 10.000000201700223]\n"
     ]
    }
   ],
   "source": [
    "asmall = Matrix(2*num, 2*num)\n",
    "msmall = Matrix(2*num, 2*num)\n",
    "lams = num * [1]\n",
    "\n",
    "for i in range(20):\n",
    "    \n",
    "    for j in range(num):\n",
    "        vecs[j].data = u.vecs[j]\n",
    "        r.data = a.mat * vecs[j] - lams[j] * m.mat * vecs[j]\n",
    "        vecs[num+j].data = pre.mat * r\n",
    "\n",
    "    for j in range(2*num):\n",
    "        Av.data = a.mat * vecs[j]\n",
    "        Mv.data = m.mat * vecs[j]\n",
    "        for k in range(2*num):\n",
    "            asmall[j,k] = InnerProduct(Av, vecs[k])\n",
    "            msmall[j,k] = InnerProduct(Mv, vecs[k])\n",
    "\n",
    "    ev,evec = scipy.linalg.eigh(a=asmall, b=msmall)\n",
    "    lams[:] = ev[0:num]\n",
    "    print (i, \":\", [lam/pi**2 for lam in lams])\n",
    "    \n",
    "    for j in range(num):\n",
    "        u.vecs[j][:] = 0.0\n",
    "        for k in range(2*num):\n",
    "            u.vecs[j].data += float(evec[k,j]) * vecs[k]\n",
    "            \n",
    "Draw (u)"
   ]
  },
  {
   "cell_type": "markdown",
   "metadata": {},
   "source": [
    "The multidim-component select in the Visualization dialog box allows to switch between the components of the multidim-GridFunction."
   ]
  },
  {
   "cell_type": "code",
   "execution_count": null,
   "metadata": {
    "collapsed": true
   },
   "outputs": [],
   "source": []
  }
 ],
 "metadata": {
  "kernelspec": {
   "display_name": "Python 3",
   "language": "python",
   "name": "python3"
  },
  "language_info": {
   "codemirror_mode": {
    "name": "ipython",
    "version": 3
   },
   "file_extension": ".py",
   "mimetype": "text/x-python",
   "name": "python",
   "nbconvert_exporter": "python",
   "pygments_lexer": "ipython3",
   "version": "3.6.5"
  }
 },
 "nbformat": 4,
 "nbformat_minor": 2
}
