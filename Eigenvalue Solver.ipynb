{
 "cells": [
  {
   "cell_type": "markdown",
   "metadata": {},
   "source": [
    "# Eigenvalue problems (Unit 2.2) \n",
    "\n",
    "We solve the generalized eigenvalue problem\n",
    "$$A u=\\lambda M u$$,\n",
    "\n",
    "where A comes from $\\int \\nabla u \\nabla v$, and $M$ from $\\int uv$, on the space $H_0^1$"
   ]
  },
  {
   "cell_type": "code",
   "execution_count": 1,
   "metadata": {},
   "outputs": [],
   "source": [
    "import netgen.gui\n",
    "%gui tk\n",
    "from netgen.geom2d import unit_square\n",
    "from ngsolve import *\n",
    "from math import pi\n",
    "import scipy.linalg\n",
    "from scipy import random\n",
    "\n",
    "mesh = Mesh(unit_square.GenerateMesh(maxh=0.1))\n"
   ]
  },
  {
   "cell_type": "markdown",
   "metadata": {},
   "source": [
    "We setup a stiffness matrix A and a mass matrix M, and declare a preconditioner for A:"
   ]
  },
  {
   "cell_type": "code",
   "execution_count": 2,
   "metadata": {},
   "outputs": [],
   "source": [
    "fes = H1(mesh, order=4, dirichlet=[1,2,3,4])\n",
    "u = fes.TrialFunction()\n",
    "v = fes.TestFunction()\n",
    "\n",
    "a = BilinearForm(fes)\n",
    "a += SymbolicBFI(grad(u)*grad(v))\n",
    "pre = Preconditioner(a, \"multigrid\")\n",
    "\n",
    "m = BilinearForm(fes)\n",
    "m += SymbolicBFI(u*v)\n",
    "\n",
    "a.Assemble()\n",
    "m.Assemble()\n",
    "\n",
    "u = GridFunction(fes)"
   ]
  },
  {
   "cell_type": "markdown",
   "metadata": {},
   "source": [
    "The inverse iteration is\n",
    "$$u_{n+1}=A^{−1}Mu_n,$$\n",
    "\n",
    "where the Rayleigh quotient\n",
    "$$\\rho_n=\\frac{\\langle Au_n,u_n \\rangle}{\\langle Mu_n,u_n\\rangle}$$\n",
    "\n",
    "converges to the smallest eigen-value, with rate of convergence $\\lambda_1/\\lambda_2$.\n",
    "\n",
    "The preconditioned inverse iteration (PINVIT), see [Knyazef+Neymeyr], replaces $A^{−1}$\n",
    "by an approximate inverse $C^{−1}$\n",
    "\n",
    "$$\\rho_n=\\frac{\\langle Au_n,u_n\\rangle}{\\langle Mu_n,u_n\\rangle}$$\n",
    "\n",
    "$$w_n=C^{−1}(Au_n−\\rho Mu_n)$$\n",
    "$$u_{n+1}=u_n+\\alpha w_n$$\n",
    "\n",
    "The optimal step-size $\\alpha$ is found by minimizing the Rayleigh-quotient on a two-dimensional space:\n",
    "\n",
    "$$u_{n+1}=\\arg \\min_{v\\in \\lbrace u_n,w_n\\rbrace} \\frac{\\langle Av,v\\rangle}{\\langle Mv,v\\rangle}$$\n",
    "\n",
    "This minimization problem can be solved by a small eigenvalue problem\n",
    "$$ay=\\lambda my$$\n",
    "\n",
    "with matrices\n",
    "$$a = \\left(\n",
    "\\begin{array}[cc]\n",
    "\\ \\langle Au_n,u_n\\rangle & \\langle Au_n,w_n\\rangle\\\\\n",
    "\\langle Aw_n,u_n\\rangle & \\langle Aw_n,w_n\\rangle\n",
    "\\end{array}\n",
    "\\right) \\hspace{3em} m = \\left(\n",
    "\\begin{array}[cc]\n",
    "\\ \\langle Mu_n,u_n\\rangle & \\langle Mu_n,w_n\\rangle\\\\\n",
    "\\langle Mw_n,u_n\\rangle & \\langle Mw_n,w_n\\rangle\n",
    "\\end{array}\n",
    "\\right) $$\n",
    "\n",
    "Then, the new iterate is\n",
    "\n",
    "$$u_{n+1}=y_1 u_n+y_2 w_n$$\n",
    "\n",
    "where $y$ is the eigenvector corresponding to the smaller eigenvalue.\n",
    "### Implementation in NGSolve\n",
    "\n",
    "Create some help vectors:\n"
   ]
  },
  {
   "cell_type": "code",
   "execution_count": 3,
   "metadata": {},
   "outputs": [],
   "source": [
    "r = u.vec.CreateVector()\n",
    "w = u.vec.CreateVector()\n",
    "Mu = u.vec.CreateVector()\n",
    "Au = u.vec.CreateVector()\n",
    "Mw = u.vec.CreateVector()\n",
    "Aw = u.vec.CreateVector()\n"
   ]
  },
  {
   "cell_type": "markdown",
   "metadata": {},
   "source": [
    "random initial condition, zero on the boundary"
   ]
  },
  {
   "cell_type": "code",
   "execution_count": 4,
   "metadata": {},
   "outputs": [],
   "source": [
    "# Note how we can use numpy with NGSolve vectors!\n",
    "# FV stands for FlatVector\n",
    "r.FV().NumPy()[:] = random.rand(fes.ndof)\n",
    "# Linear operator projecting to true/false bits of BitArray\n",
    "# mask, depending on argument range\n",
    "# Also has a Project() method to project a vector inline\n",
    "u.vec.data = Projector(fes.FreeDofs(), range=True) * r\n",
    "\n",
    "# much better than the old way...\n",
    "#freedofs = fes.FreeDofs()    \n",
    "#for i in range(len(u.vec)):\n",
    "#    u.vec[i] = random() if freedofs[i] else 0   "
   ]
  },
  {
   "cell_type": "markdown",
   "metadata": {},
   "source": [
    "We solve the small generalized eigenvalue problem using eigh:\n",
    "\n",
    "Find eigenvalues w and optionally eigenvectors v of matrix `a`, where `a` and `b` are complex Hermitian or real symmetric matrices and `b` is positive definite\n"
   ]
  },
  {
   "cell_type": "code",
   "execution_count": 6,
   "metadata": {},
   "outputs": [
    {
     "name": "stdout",
     "output_type": "stream",
     "text": [
      "27.972629879022797\n",
      "2.0786451400176014\n",
      "2.0011792784626827\n",
      "2.0001619873036085\n",
      "2.000034831232633\n",
      "2.000008246631434\n",
      "2.0000019953397645\n",
      "2.0000004894520025\n",
      "2.000000120869217\n",
      "2.000000030054258\n",
      "2.0000000075235227\n",
      "2.0000000019135467\n",
      "2.000000000511369\n",
      "2.000000000160099\n",
      "2.000000000071894\n",
      "2.0000000000497096\n",
      "2.0000000000441225\n",
      "2.000000000042714\n",
      "2.0000000000423577\n",
      "2.000000000042268\n"
     ]
    }
   ],
   "source": [
    "for i in range(20):\n",
    "    Au.data = a.mat * u.vec\n",
    "    Mu.data = m.mat * u.vec\n",
    "    auu = InnerProduct(Au, u.vec)\n",
    "    muu = InnerProduct(Mu, u.vec)\n",
    "    # Rayleigh quotiont\n",
    "    rho = auu/muu\n",
    "    print (rho / (pi**2)) # I think for this problem, the eigenvalues turn out to be multiples of pi^2\n",
    "    # residual\n",
    "    r.data = Au - rho * Mu\n",
    "    w.data = pre.mat * r.data\n",
    "    w.data = 1/Norm(w) * w\n",
    "    Aw.data = a.mat * w\n",
    "    Mw.data = m.mat * w\n",
    "\n",
    "    # setup and solve 2x2 small eigenvalue problem\n",
    "    asmall = Matrix(2,2)\n",
    "    asmall[0,0] = auu\n",
    "    asmall[0,1] = asmall[1,0] = InnerProduct(Au, w)\n",
    "    asmall[1,1] = InnerProduct(Aw, w)\n",
    "    msmall = Matrix(2,2)\n",
    "    msmall[0,0] = muu\n",
    "    msmall[0,1] = msmall[1,0] = InnerProduct(Mu, w)\n",
    "    msmall[1,1] = InnerProduct(Mw, w)\n",
    "    # print (\"asmall =\", asmall, \", msmall = \", msmall)\n",
    "    \n",
    "    \n",
    "    eval,evec = scipy.linalg.eigh(a=asmall, b=msmall)\n",
    "    # print (eval, evec)\n",
    "    u.vec.data = float(evec[0,0]) * u.vec + float(evec[1,0]) * w\n",
    "    \n",
    "Draw (u)"
   ]
  },
  {
   "cell_type": "markdown",
   "metadata": {},
   "source": [
    "\n",
    "### Simultaneous iteration for several eigenvalues\n",
    "\n",
    "Declare GridFunction with multiple components to store several eigenvectors.\n"
   ]
  },
  {
   "cell_type": "code",
   "execution_count": 11,
   "metadata": {},
   "outputs": [],
   "source": [
    "num = 10\n",
    "u = GridFunction(fes, multidim=num)"
   ]
  },
  {
   "cell_type": "markdown",
   "metadata": {},
   "source": [
    "\n",
    "Create list of help vectors:\n"
   ]
  },
  {
   "cell_type": "code",
   "execution_count": 12,
   "metadata": {},
   "outputs": [],
   "source": [
    "r = u.vec.CreateVector()\n",
    "Av = u.vec.CreateVector()\n",
    "Mv = u.vec.CreateVector()\n",
    "\n",
    "vecs = []\n",
    "for i in range(2*num):\n",
    "    vecs.append (u.vec.CreateVector())\n",
    "\n",
    "for v in u.vecs:\n",
    "    r.FV().NumPy()[:] = random.rand(fes.ndof)\n",
    "    v.data = Projector(fes.FreeDofs(), True) * r\n",
    "\n",
    "# old way\n",
    "#freedofs = fes.FreeDofs()    \n",
    "#for v in u.vecs:\n",
    "#    for i in range(len(u.vec)):\n",
    "#        v[i] = random() if freedofs[i] else 0\n",
    "\n"
   ]
  },
  {
   "cell_type": "markdown",
   "metadata": {},
   "source": [
    "Compute $num$ residuals, and solve small eigenvalue problem on $2num$-dimensional space"
   ]
  },
  {
   "cell_type": "code",
   "execution_count": 13,
   "metadata": {},
   "outputs": [
    {
     "name": "stdout",
     "output_type": "stream",
     "text": [
      "0 : [9.707319064124958, 61.384253117110774, 66.17820958237785, 69.04094119858487, 84.73605522656003, 89.34325969621554, 91.68839867830556, 98.80839508826868, 109.91801400369201, 124.77011533297116]\n",
      "1 : [2.024324236790256, 5.458807306602363, 6.286163725215133, 10.738747007591671, 12.031042228536256, 14.91354228688427, 17.876052005882798, 20.659543931381272, 23.263073421993237, 35.535499988259275]\n",
      "2 : [2.001200106455104, 5.006450901113249, 5.028597732937264, 8.119732597601683, 10.111026822994479, 10.594547833277227, 13.163464205654073, 15.629715905774423, 18.390101604114673, 22.226228751010957]\n",
      "3 : [2.0002337026485892, 5.000503372971397, 5.001315769359331, 8.01048048456922, 10.009996680722088, 10.062674363097718, 13.033541471545037, 13.88180225549825, 17.39372785742104, 20.25243730229141]\n",
      "4 : [2.0000532064104313, 5.000087741811666, 5.000161928051458, 8.001118517518545, 10.001308177619594, 10.008423165846647, 13.00829666250324, 13.295113976507041, 17.131828952784893, 19.514856337170354]\n",
      "5 : [2.000012701322873, 5.000018141644535, 5.000031223056805, 8.000147038213084, 10.000230424256547, 10.00131334993928, 13.002128789713034, 13.099037916135673, 17.058390575049568, 18.95494415094274]\n",
      "6 : [2.0000030979184182, 5.0000039437720405, 5.000006619181336, 8.000023643626145, 10.000044617449452, 10.000225173620063, 13.00054472654083, 13.031690958517116, 17.034574975807395, 18.404036543140773]\n",
      "7 : [2.000000766473613, 5.0000008874336315, 5.000001456634519, 8.000004503607359, 10.000009100183927, 10.000042154127263, 13.000139518655361, 13.009632087659288, 17.02440460645805, 17.931169017119696]\n",
      "8 : [2.000000191524004, 5.000000205468564, 5.000000328930571, 8.000000973106163, 10.00000196341714, 10.000008661905847, 13.0000361324463, 13.00274583771006, 17.01866243574807, 17.572540520024038]\n",
      "9 : [2.000000048261198, 5.000000050929303, 5.000000078242766, 8.000000249701756, 10.000000514085086, 10.000002012017942, 13.00000972869311, 13.00075081018965, 17.014689782646524, 17.335426614593263]\n",
      "10 : [2.000000012259185, 5.000000015457934, 5.000000021691667, 8.0000000930373, 10.000000216736282, 10.000000595913999, 13.000002981432873, 13.000199798097796, 17.011682580732895, 17.190118749008008]\n",
      "11 : [2.0000000031543435, 5.0000000072569115, 5.000000008826579, 8.00000005818848, 10.000000154771827, 10.00000027664247, 13.000001252369826, 13.00005304395385, 17.009320849503112, 17.105909837618242]\n",
      "12 : [2.000000000838542, 5.000000005316798, 5.00000000591046, 8.000000050322958, 10.000000140213903, 10.000000202976818, 13.00000080826856, 13.00001442932416, 17.007440454264067, 17.058425701406843]\n",
      "13 : [2.0000000002468097, 5.000000004831028, 5.000000005270169, 8.00000004853214, 10.000000136068032, 10.000000186089006, 13.000000694004562, 13.000004265038704, 17.00593061856757, 17.03213351590709]\n",
      "14 : [2.0000000000949747, 5.0000000047111115, 5.00000000512923, 8.00000004812119, 10.000000134900928, 10.00000018213158, 13.000000664583997, 13.000001557804714, 17.004706936402577, 17.01770357016339]\n",
      "15 : [2.0000000000558757, 5.000000004681244, 5.00000000509699, 8.000000048027209, 10.000000134591945, 10.000000181171304, 13.000000656742559, 13.000000823782468, 17.003697003459116, 17.009845497858567]\n",
      "16 : [2.000000000045774, 5.000000004673951, 5.000000005089565, 8.000000048005573, 10.000000134511852, 10.000000180932522, 13.000000617738635, 13.000000657148407, 17.0028244646641, 17.00562658151548]\n",
      "17 : [2.000000000043156, 5.000000004672169, 5.000000005087577, 8.000000047999896, 10.000000134492076, 10.000000180872817, 13.000000560908223, 13.00000065556708, 17.00199890056105, 17.003471456980865]\n",
      "18 : [2.000000000042479, 5.000000004671203, 5.00000000508768, 8.000000047998855, 10.000000134485996, 10.000000180857723, 13.00000054411866, 13.000000655346607, 17.001245139047533, 17.002434166225683]\n",
      "19 : [2.0000000000423017, 5.000000004672204, 5.000000005087104, 8.000000047998974, 10.00000013448515, 10.00000018085404, 13.000000539096371, 13.000000655294981, 17.000714719446577, 17.001853601382898]\n"
     ]
    }
   ],
   "source": [
    "asmall = Matrix(2*num, 2*num)\n",
    "msmall = Matrix(2*num, 2*num)\n",
    "rhos = num * [1]\n",
    "\n",
    "for i in range(20):\n",
    "    \n",
    "    for j in range(num):\n",
    "        vecs[j].data = u.vecs[j]\n",
    "        r.data = a.mat * vecs[j] - rhos[j] * m.mat * vecs[j]\n",
    "        vecs[num+j].data = pre.mat * r\n",
    "\n",
    "    for j in range(2*num):\n",
    "        Av.data = a.mat * vecs[j]\n",
    "        Mv.data = m.mat * vecs[j]\n",
    "        for k in range(2*num):\n",
    "            asmall[j,k] = InnerProduct(Av, vecs[k])\n",
    "            msmall[j,k] = InnerProduct(Mv, vecs[k])\n",
    "\n",
    "    ev,evec = scipy.linalg.eigh(a=asmall, b=msmall)\n",
    "    rhos[:] = ev[0:num]\n",
    "    print (i, \":\", [rho/pi**2 for rho in rhos])\n",
    "    \n",
    "    for j in range(num):\n",
    "        u.vecs[j][:] = 0.0\n",
    "        for k in range(2*num):\n",
    "            u.vecs[j].data += float(evec[k,j]) * vecs[k]\n",
    "            \n",
    "Draw (u)"
   ]
  },
  {
   "cell_type": "markdown",
   "metadata": {},
   "source": [
    "The multidim-component select in the Visualization dialog box allows to switch between the components of the multidim-GridFunction."
   ]
  },
  {
   "cell_type": "code",
   "execution_count": null,
   "metadata": {
    "collapsed": true
   },
   "outputs": [],
   "source": []
  }
 ],
 "metadata": {
  "kernelspec": {
   "display_name": "Python 3",
   "language": "python",
   "name": "python3"
  },
  "language_info": {
   "codemirror_mode": {
    "name": "ipython",
    "version": 3
   },
   "file_extension": ".py",
   "mimetype": "text/x-python",
   "name": "python",
   "nbconvert_exporter": "python",
   "pygments_lexer": "ipython3",
   "version": "3.6.5"
  }
 },
 "nbformat": 4,
 "nbformat_minor": 2
}
