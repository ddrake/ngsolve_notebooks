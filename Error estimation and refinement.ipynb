{
 "cells": [
  {
   "cell_type": "markdown",
   "metadata": {},
   "source": [
    "# Error estimation & adaptive refinement (Unit 1.6)\n",
    "\n",
    "In this tutorial, we apply a Zienkiewicz-Zhu type error estimator and run an adaptive loop with these steps:\n",
    "\n",
    "Solve $\\rightarrow$ Estimate $\\rightarrow$ Mark $\\rightarrow$ Refine $\\rightarrow$ Solve $\\rightarrow \\dots$"
   ]
  },
  {
   "cell_type": "code",
   "execution_count": 2,
   "metadata": {},
   "outputs": [],
   "source": [
    "import netgen.gui\n",
    "%gui tk\n",
    "from ngsolve import *\n",
    "from netgen.geom2d import SplineGeometry"
   ]
  },
  {
   "cell_type": "markdown",
   "metadata": {},
   "source": [
    "\n",
    "### Geometry\n",
    "\n",
    "The following geometry represents a heating chip embedded in another material that conducts away the heat.\n"
   ]
  },
  {
   "cell_type": "code",
   "execution_count": 3,
   "metadata": {},
   "outputs": [],
   "source": [
    "#   point numbers 0, 1, ... 11\n",
    "#   sub-domain numbers (1), (2), (3)\n",
    "#  \n",
    "#\n",
    "#             7-------------6\n",
    "#             |             |\n",
    "#             |     (2)     |\n",
    "#             |             |\n",
    "#      3------4-------------5------2\n",
    "#      |                           |\n",
    "#      |             11            |\n",
    "#      |           /   \\           |\n",
    "#      |         10 (3) 9          |\n",
    "#      |           \\   /     (1)   |\n",
    "#      |             8             |\n",
    "#      |                           |\n",
    "#      0---------------------------1\n",
    "#\n",
    "\n",
    "def MakeGeometry():\n",
    "    geometry = SplineGeometry()\n",
    "    \n",
    "    # point coordinates ...\n",
    "    pnts = [ (0,0), (1,0), (1,0.6), (0,0.6), \\\n",
    "             (0.2,0.6), (0.8,0.6), (0.8,0.8), (0.2,0.8), \\\n",
    "             (0.5,0.15), (0.65,0.3), (0.5,0.45), (0.35,0.3) ]\n",
    "    pnums = [geometry.AppendPoint(*p) for p in pnts]\n",
    "    \n",
    "    # start-point, end-point, boundary-condition, domain on left side, domain on right side:\n",
    "    lines = [ (0,1,1,1,0), (1,2,2,1,0), (2,5,2,1,0), (5,4,2,1,2), (4,3,2,1,0), (3,0,2,1,0), \\\n",
    "              (5,6,2,2,0), (6,7,2,2,0), (7,4,2,2,0), \\\n",
    "              (8,9,2,3,1), (9,10,2,3,1), (10,11,2,3,1), (11,8,2,3,1) ]\n",
    "        \n",
    "    for p1,p2,bc,left,right in lines:\n",
    "        geometry.Append([\"line\", pnums[p1], pnums[p2]], bc=bc, leftdomain=left, rightdomain=right)\n",
    "\n",
    "    geometry.SetMaterial(1,\"base\")\n",
    "    geometry.SetMaterial(2,\"chip\")\n",
    "    geometry.SetMaterial(3,\"top\")    \n",
    "\n",
    "    return geometry\n",
    "\n",
    "mesh = Mesh(MakeGeometry().GenerateMesh(maxh=0.2))"
   ]
  },
  {
   "cell_type": "markdown",
   "metadata": {},
   "source": [
    "## Spaces & forms\n",
    "\n",
    "The problem is to find $u \\in H_{0,D}^1$ satisfying\n",
    "$$\\int_{\\Omega} \\lambda \\nabla u \\cdot \\nabla v = \\int_\\Omega f v$$\n",
    "for all $v$ in $H_{0,D}^1$. We expect the solution to have singularities due to the nonconvex re-enrant angles and discontinuities in $\\lambda$."
   ]
  },
  {
   "cell_type": "code",
   "execution_count": 4,
   "metadata": {},
   "outputs": [],
   "source": [
    "fes = H1(mesh, order=3, dirichlet=[1])\n",
    "u = fes.TrialFunction()\n",
    "v = fes.TestFunction()\n",
    "\n",
    "# one heat conductivity coefficient per sub-domain\n",
    "lam = CoefficientFunction([1, 1000, 10])\n",
    "a = BilinearForm(fes)\n",
    "a += SymbolicBFI(lam*grad(u)*grad(v))\n",
    "\n",
    "# heat-source in inner subdomain\n",
    "f = LinearForm(fes)\n",
    "f += SymbolicLFI(CoefficientFunction([0, 0, 1])*v)\n",
    "\n",
    "c = Preconditioner(a, type=\"multigrid\", flags= {\"inverse\" : \"sparsecholesky\" })\n",
    "\n",
    "gfu = GridFunction(fes)\n",
    "Draw (gfu)"
   ]
  },
  {
   "cell_type": "markdown",
   "metadata": {},
   "source": [
    "\n",
    "\n",
    "Note that the linear system is not yet assembled above.\n",
    "### Solve\n",
    "\n",
    "Since we must solve multiple times, we define a function to solve the boundary value problem, where assembly, update, and solve occurs.\n"
   ]
  },
  {
   "cell_type": "code",
   "execution_count": 7,
   "metadata": {},
   "outputs": [],
   "source": [
    "def SolveBVP():\n",
    "    fes.Update()\n",
    "    gfu.Update()\n",
    "    a.Assemble()\n",
    "    f.Assemble()\n",
    "    inv = CGSolver(a.mat, c.mat)\n",
    "    gfu.vec.data = inv * f.vec\n",
    "    Redraw (blocking=True)\n"
   ]
  },
  {
   "cell_type": "code",
   "execution_count": 8,
   "metadata": {},
   "outputs": [],
   "source": [
    "\n",
    "SolveBVP()\n"
   ]
  },
  {
   "cell_type": "markdown",
   "metadata": {},
   "source": [
    "\n",
    "### Estimate\n",
    "\n",
    "We implement a gradient-recovery-type error estimator. For this, we need an H(div) space for flux recovery. We must compute the flux of the computed solution and interpolate it into this H(div) space.\n"
   ]
  },
  {
   "cell_type": "code",
   "execution_count": 9,
   "metadata": {},
   "outputs": [],
   "source": [
    "space_flux = HDiv(mesh, order=2)\n",
    "gf_flux = GridFunction(space_flux, \"flux\")\n",
    "\n",
    "flux = lam * grad(gfu)\n",
    "gf_flux.Set(flux)\n"
   ]
  },
  {
   "cell_type": "code",
   "execution_count": 10,
   "metadata": {},
   "outputs": [],
   "source": [
    "err = 1/lam*(flux-gf_flux)*(flux-gf_flux)\n",
    "Draw(err, mesh, 'error_representation')"
   ]
  },
  {
   "cell_type": "markdown",
   "metadata": {},
   "source": [
    "Element-wise error estimator: On each element $T$, set\n",
    "$$\\eta_T^2 = \\int_T \\frac{1}{\\lambda} |\\lambda \\nabla u_h - I_h (\\lambda \\nabla u_h) |^2$$\n",
    "where $u_h$ is the computed solution gfu and $I_h$ is the interpolation performed by Set in NGSolve."
   ]
  },
  {
   "cell_type": "code",
   "execution_count": 11,
   "metadata": {},
   "outputs": [
    {
     "name": "stdout",
     "output_type": "stream",
     "text": [
      " 2.36461e-10\n",
      " 1.18698e-08\n",
      " 5.03613e-06\n",
      " 6.34682e-11\n",
      " 4.33101e-11\n",
      " 1.7484e-11\n",
      " 1.58609e-10\n",
      " 6.33751e-09\n",
      " 1.19293e-10\n",
      " 1.35243e-07\n",
      " 1.98437e-07\n",
      " 2.00923e-07\n",
      " 1.16473e-08\n",
      " 1.251e-07\n",
      " 2.2953e-07\n",
      " 5.73909e-09\n",
      " 3.385e-11\n",
      " 3.31297e-10\n",
      " 3.32684e-10\n",
      " 3.89806e-07\n",
      " 2.26934e-07\n",
      " 2.60348e-07\n",
      " 3.3506e-07\n",
      " 8.52564e-10\n",
      " 2.40196e-06\n",
      " 3.57631e-06\n",
      " 2.45321e-08\n",
      " 1.29118e-10\n",
      " 8.8645e-08\n",
      " 3.87456e-08\n",
      " 1.6248e-07\n",
      " 7.55763e-08\n",
      " 3.12331e-06\n",
      " 3.79783e-10\n",
      " 1.90566e-07\n",
      " 1.04137e-09\n",
      " 6.8768e-07\n",
      " 7.2601e-07\n",
      " 3.8487e-07\n",
      " 1.43514e-10\n",
      " 1.35152e-10\n",
      " 6.55815e-07\n",
      " 1.82416e-07\n",
      " 7.13649e-08\n",
      " 9.56596e-09\n",
      " 6.74125e-09\n",
      " 3.28339e-10\n",
      " 2.90424e-09\n",
      " 5.48405e-08\n",
      " 1.15509e-08\n",
      " 1.45004e-08\n",
      " 2.01172e-08\n",
      " 1.37504e-08\n",
      " 1.13422e-07\n",
      " 3.51327e-08\n",
      " 1.27836e-10\n",
      " 5.86447e-12\n",
      " 4.22009e-12\n",
      " 3.1807e-10\n",
      " 5.72781e-13\n",
      " 1.2421e-11\n",
      " 5.4183e-12\n",
      " 2.41244e-10\n",
      " 6.65466e-07\n",
      " 8.8388e-08\n",
      "\n"
     ]
    }
   ],
   "source": [
    "eta2 = Integrate(err, mesh, VOL, element_wise=True)\n",
    "print(eta2)\n"
   ]
  },
  {
   "cell_type": "markdown",
   "metadata": {},
   "source": [
    "\n",
    "\n",
    "The above values, one per element, lead us to identify elements which might have large error.\n",
    "### Mark\n",
    "\n",
    "We mark elements with large error estimator for refinement.\n"
   ]
  },
  {
   "cell_type": "code",
   "execution_count": 12,
   "metadata": {},
   "outputs": [
    {
     "name": "stdout",
     "output_type": "stream",
     "text": [
      "maxerr =  5.036125830812959e-06\n"
     ]
    }
   ],
   "source": [
    "maxerr = max(eta2)\n",
    "print (\"maxerr = \", maxerr)\n",
    "\n",
    "for el in mesh.Elements():\n",
    "    mesh.SetRefinementFlag(el, eta2[el.nr] > 0.25*maxerr)\n",
    "    \n",
    "Draw(gfu)"
   ]
  },
  {
   "cell_type": "markdown",
   "metadata": {},
   "source": [
    "\n",
    "### Refine & solve again\n",
    "\n",
    "Refine marked elements:\n"
   ]
  },
  {
   "cell_type": "code",
   "execution_count": 14,
   "metadata": {},
   "outputs": [],
   "source": [
    "mesh.Refine()\n",
    "SolveBVP()\n",
    "Redraw()"
   ]
  },
  {
   "cell_type": "markdown",
   "metadata": {},
   "source": [
    "### Automate the above steps"
   ]
  },
  {
   "cell_type": "code",
   "execution_count": 15,
   "metadata": {},
   "outputs": [],
   "source": [
    "l = []    # l = list of estimated total error\n",
    "\n",
    "def CalcError():\n",
    "\n",
    "    # compute the flux:\n",
    "    space_flux.Update()      \n",
    "    gf_flux.Update()\n",
    "    flux = lam * grad(gfu)        \n",
    "    gf_flux.Set(flux) \n",
    "    \n",
    "    # compute estimator:\n",
    "    err = 1/lam*(flux-gf_flux)*(flux-gf_flux)\n",
    "    eta2 = Integrate(err, mesh, VOL, element_wise=True)\n",
    "    maxerr = max(eta2)\n",
    "    l.append ((fes.ndof, sqrt(sum(eta2))))\n",
    "    print(\"ndof =\", fes.ndof, \" maxerr =\", maxerr)\n",
    "    \n",
    "    # mark for refinement:\n",
    "    for el in mesh.Elements():\n",
    "        mesh.SetRefinementFlag(el, eta2[el.nr] > 0.25*maxerr)"
   ]
  },
  {
   "cell_type": "code",
   "execution_count": 16,
   "metadata": {},
   "outputs": [
    {
     "name": "stdout",
     "output_type": "stream",
     "text": [
      "ndof = 445  maxerr = 2.5114456097254104e-06\n"
     ]
    }
   ],
   "source": [
    "CalcError()\n",
    "mesh.Refine()"
   ]
  },
  {
   "cell_type": "markdown",
   "metadata": {},
   "source": [
    "### Run the adaptive loop"
   ]
  },
  {
   "cell_type": "code",
   "execution_count": 17,
   "metadata": {},
   "outputs": [
    {
     "name": "stdout",
     "output_type": "stream",
     "text": [
      "ndof = 664  maxerr = 9.300425565028719e-07\n",
      "ndof = 1192  maxerr = 3.414646836905625e-07\n",
      "ndof = 1834  maxerr = 2.1472585059843005e-07\n",
      "ndof = 2167  maxerr = 9.835056165233464e-08\n",
      "ndof = 2839  maxerr = 4.9170401654459135e-08\n",
      "ndof = 3466  maxerr = 2.458740959860379e-08\n",
      "ndof = 3805  maxerr = 1.229469979216379e-08\n",
      "ndof = 4450  maxerr = 6.1459860513758e-09\n",
      "ndof = 5257  maxerr = 3.071914052554708e-09\n",
      "ndof = 5713  maxerr = 1.5353408223327529e-09\n",
      "ndof = 6475  maxerr = 7.673155137259582e-10\n",
      "ndof = 7165  maxerr = 3.8347357373646825e-10\n",
      "ndof = 7900  maxerr = 1.916453641484505e-10\n",
      "ndof = 8719  maxerr = 9.577670728641666e-11\n",
      "ndof = 9853  maxerr = 4.786748575679406e-11\n",
      "ndof = 10810  maxerr = 2.3923244276360537e-11\n",
      "ndof = 11884  maxerr = 1.1956352408646724e-11\n",
      "ndof = 13513  maxerr = 5.975487707176347e-12\n",
      "ndof = 15553  maxerr = 2.986452644630589e-12\n",
      "ndof = 17776  maxerr = 1.4925627796161685e-12\n",
      "ndof = 20404  maxerr = 7.459783254372299e-13\n",
      "ndof = 23653  maxerr = 3.7281573518364683e-13\n",
      "ndof = 27394  maxerr = 1.863284712953906e-13\n",
      "ndof = 31690  maxerr = 9.312791087212078e-14\n",
      "ndof = 36811  maxerr = 4.654337738987032e-14\n",
      "ndof = 42022  maxerr = 2.3263412628553778e-14\n",
      "ndof = 49306  maxerr = 1.162651561143021e-14\n",
      "ndof = 57589  maxerr = 5.811639018370055e-15\n"
     ]
    }
   ],
   "source": [
    "while fes.ndof < 50000:  \n",
    "    SolveBVP()\n",
    "    CalcError()\n",
    "    mesh.Refine()"
   ]
  },
  {
   "cell_type": "markdown",
   "metadata": {},
   "source": [
    "### Plot history of adaptive convergence"
   ]
  },
  {
   "cell_type": "code",
   "execution_count": 21,
   "metadata": {},
   "outputs": [
    {
     "data": {
      "image/png": "[encoded data removed]",
      "text/plain": [
       "<Figure size 432x288 with 1 Axes>"
      ]
     },
     "metadata": {},
     "output_type": "display_data"
    }
   ],
   "source": [
    "%matplotlib inline\n",
    "import matplotlib.pyplot as plt\n",
    "\n",
    "plt.yscale('log')\n",
    "plt.xscale('log')\n",
    "plt.xlabel(\"ndof\")\n",
    "plt.ylabel(\"H1 error-estimate\")\n",
    "ndof,err = zip(*l)\n",
    "plt.plot(ndof,err, \"-*\")\n",
    "\n",
    "plt.ion()\n",
    "plt.show()\n"
   ]
  },
  {
   "cell_type": "code",
   "execution_count": null,
   "metadata": {},
   "outputs": [],
   "source": []
  }
 ],
 "metadata": {
  "kernelspec": {
   "display_name": "Python 3",
   "language": "python",
   "name": "python3"
  },
  "language_info": {
   "codemirror_mode": {
    "name": "ipython",
    "version": 3
   },
   "file_extension": ".py",
   "mimetype": "text/x-python",
   "name": "python",
   "nbconvert_exporter": "python",
   "pygments_lexer": "ipython3",
   "version": "3.6.5"
  }
 },
 "nbformat": 4,
 "nbformat_minor": 2
}
