{
 "cells": [
  {
   "cell_type": "markdown",
   "metadata": {
    "slideshow": {
     "slide_type": "slide"
    }
   },
   "source": [
    "# A Nonlinear conservation law: the shallow water equation in 2D"
   ]
  },
  {
   "cell_type": "markdown",
   "metadata": {
    "slideshow": {
     "slide_type": "-"
    }
   },
   "source": [
    "We consider the shallow water equations as an example of a nonlinear conservation law, i.e. we consider\n",
    "\n",
    "$$\n",
    "  \\partial_t \\mathbf{U} + \\operatorname{div}(\\mathbf{F} (\\mathbf{U} )) = 0 \\qquad in \\qquad \\Omega \\times[0,T],\n",
    "$$\n",
    "with \n",
    "$$\n",
    "\\mathbf{U} = (h, \\mathbf{w}) = (h, hu, hv) = (\\mathbf{u}_1, \\mathbf{u}_2, \\mathbf{u}_3)\n",
    "$$\n",
    "and \n",
    "$$\n",
    "  \\mathbf{F}(\\mathbf{U}) = \\left( \\begin{array}{c@{}c@{\\qquad}c@{}c} h u & & h v & \\\\ h u^2 &+ \\frac12 g h^2 & h u v & \\\\ h u v &  & h v^2 & + \\frac12 g h^2 \\end{array} \\right) \n",
    "  = \\left( \\begin{array}{cc} \\mathbf{u}_2 & \\mathbf{u}_3 \\\\ \\frac{\\mathbf{u}_2^2}{\\mathbf{u}_1} + \\frac12 g \\mathbf{u}_1^2 & \\frac{\\mathbf{u}_2 \\mathbf{u}_3}{\\mathbf{u}_1} \\\\ \\frac{\\mathbf{u}_2 \\mathbf{u}_3}{\\mathbf{u}_1} & \\frac{\\mathbf{u}_3^2}{\\mathbf{u}_1} + \\frac12 g \\mathbf{u}_1^2 \\end{array} \\right)  \n",
    "  = \\left( \\begin{array}{cc} h \\mathbf{w}^T \\\\ h \\mathbf{w} \\otimes \\mathbf{w} + \\frac12 g h^2 \\mathbf{I} \\end{array} \\right)\n",
    "$$"
   ]
  },
  {
   "cell_type": "markdown",
   "metadata": {
    "slideshow": {
     "slide_type": "subslide"
    }
   },
   "source": [
    "## Jacobian of the flux for shallow water:\n",
    "\n",
    "$$\n",
    "\\begin{align*}\n",
    "\\mathbf{A}_1 & =\n",
    "\\left(\n",
    "      \\begin{array}{ccc}\n",
    "      0 & 1 & 0 \\\\\n",
    "      - \\frac{\\mathbf{u}_2^2}{\\mathbf{u}_1^2} + g \\mathbf{u}_1 & 2 \\frac{\\mathbf{u}_2}{\\mathbf{u}_1} & 0 \\\\\n",
    "      - \\frac{\\mathbf{u}_2 \\mathbf{u}_3}{\\mathbf{u}_1^2} & \\frac{\\mathbf{u}_3}{\\mathbf{u}_1} & \\frac{\\mathbf{u}_2}{\\mathbf{u}_1}\n",
    "      \\end{array}\n",
    "      \\right)\n",
    "=\n",
    "\\left(\n",
    "      \\begin{array}{ccc}\n",
    "      0 & 1 & 0 \\\\\n",
    "      - u^2 + g h & 2 u & 0 \\\\\n",
    "      - u v & v & u\n",
    "      \\end{array}\n",
    "      \\right) \\\\\n",
    "\\mathbf{A}_2 & =\n",
    "\\left(\n",
    "      \\begin{array}{ccc}\n",
    "      0 & 0 & 1 \\\\\n",
    "      - \\frac{\\mathbf{u}_2\\mathbf{u}_3}{\\mathbf{u}_1^2} & \\frac{\\mathbf{u}_3}{\\mathbf{u}_1} & \\frac{\\mathbf{u}_2}{\\mathbf{u}_1} \\\\\n",
    "      - \\frac{\\mathbf{u}_3^2}{\\mathbf{u}_1^2} + g \\mathbf{u}_1  & 0 & 2\\frac{\\mathbf{u}_3}{\\mathbf{u}_1}\n",
    "      \\end{array}\n",
    "      \\right)\n",
    "=\n",
    "\\left(\n",
    "      \\begin{array}{ccc}\n",
    "      0 & 0 & 1 \\\\\n",
    "      - uv & v & u \\\\\n",
    "      - v^2 + gh & 0 & 2 v\n",
    "      \\end{array}\n",
    "      \\right) \\\\\n",
    "\\mathbf{A}(\\mathbf{u}, \\mathbf{n}) & = n_1 \\mathbf{A}_1 + n_2 \\mathbf{A}_2 =\n",
    "\\left(\n",
    "      \\begin{array}{ccc}\n",
    "      0 & n_1 & n_2 \\\\\n",
    "      - u \\alpha - g h n_1  & \\alpha + u n_1 & u n_2 \\\\\n",
    "      - v \\alpha - g h n_2  & v n_1 & \\alpha + v n_2\n",
    "      \\end{array}\n",
    "      \\right), \\quad \\text{ with } \\alpha = (\\mathbf{u},\\mathbf{n}),\n",
    "\\end{align*}\n",
    "$$\n",
    "\n",
    "spectrum:\n",
    "\n",
    "$$\n",
    "\\rho( \\mathbf{A}(\\mathbf{u}, \\mathbf{n}) ) = \\{ \\alpha + \\sqrt{g h}, \\alpha, \\alpha - \\sqrt{g h} \\} \n",
    "$$\n"
   ]
  },
  {
   "cell_type": "markdown",
   "metadata": {},
   "source": [
    "### Notes:\n",
    "h seems to represent mass, since linear momentum is hvx, hvy (also represented as hu, hv)\n",
    "and velocity is vy, vy (also represented as vu, vv).  \n",
    "\n",
    "I don't see how h could be height, for example we see below: vx = hvx/h\n",
    "\n",
    "Basically we have two domains 1 and 2 with an overall boundary 'wall' and a boundary 'dam' that separates domains 1 and 2.  domain 1 is on the left, with material value 10.  domain 2 has material value 2."
   ]
  },
  {
   "cell_type": "code",
   "execution_count": 1,
   "metadata": {
    "slideshow": {
     "slide_type": "slide"
    }
   },
   "outputs": [],
   "source": [
    "from ngsolve import * # sloppy\n",
    "import netgen.gui\n",
    "%gui tk"
   ]
  },
  {
   "cell_type": "markdown",
   "metadata": {
    "slideshow": {
     "slide_type": "slide"
    }
   },
   "source": [
    "### The dam break problem (geometry)\n",
    "\n",
    "<center> ![alt](geomsketch.png) </center>"
   ]
  },
  {
   "cell_type": "code",
   "execution_count": 2,
   "metadata": {
    "slideshow": {
     "slide_type": "subslide"
    }
   },
   "outputs": [],
   "source": [
    "from netgen.geom2d import SplineGeometry\n",
    "geo = SplineGeometry()\n",
    "\n",
    "pnts =[ (-12,-5), (-7,-5), (-5,-5), (-3,-5), (-3,-3), \n",
    "        (-3,-1), (-1,-1), ( 0,-1), ( 1,-1), ( 3,-1), \n",
    "        ( 3,-3), ( 3,-5), ( 5,-5), ( 7,-5), ( 12,-5), \n",
    "        ( 12, 5), ( 7, 5), ( 5, 5), ( 3, 5), ( 3, 3), \n",
    "        ( 3, 1), ( 1, 1), ( 0, 1), (-1, 1), (-3, 1), \n",
    "        (-3, 3), (-3, 5), (-5, 5), (-7, 5), (-12, 5)]\n",
    "pnts = [geo.AppendPoint(*pnt) for pnt in pnts]"
   ]
  },
  {
   "cell_type": "code",
   "execution_count": 3,
   "metadata": {
    "slideshow": {
     "slide_type": "subslide"
    }
   },
   "outputs": [],
   "source": [
    "curves = [[[\"line\",0,1],\"wall\",1, 0], [[\"line\",1,2],\"wall\",1, 0],\n",
    "          [[\"spline3\",2,3,4],\"wall\",1, 0],[[\"spline3\",4,5,6],\"wall\",1, 0],[[\"line\",6,7],\"wall\",1, 0],\n",
    "          [[\"line\",7,22],\"dam\",1, 2],     # <--- dam interface\n",
    "          [[\"line\",7,8],\"wall\",2, 0],[[\"spline3\",8,9,10],\"wall\",2, 0],\n",
    "          [[\"spline3\",10,11,12],\"wall\",2, 0],[[\"line\",12,13],\"wall\",2, 0],[[\"line\",13,14],\"wall\",2, 0],\n",
    "          [[\"line\",14,15],\"wall\",2, 0], # <--- right boundary\n",
    "          [[\"line\",15,16],\"wall\",2, 0],[[\"line\",16,17],\"wall\",2, 0],\n",
    "          [[\"spline3\",17,18,19],\"wall\",2, 0],[[\"spline3\",19,20,21],\"wall\",2, 0],\n",
    "          [[\"line\",21,22],\"wall\",2, 0],[[\"line\",22,23],\"wall\",1, 0],\n",
    "          [[\"spline3\",23,24,25],\"wall\",1, 0],[[\"spline3\",25,26,27],\"wall\",1, 0],\n",
    "          [[\"line\",27,28],\"wall\",1, 0],[[\"line\",28,29],\"wall\",1, 0],\n",
    "          [[\"line\",29,0],\"wall\",1, 0]]   # <--- left boundary\n",
    "\n",
    "for c,bc,l,r in curves:\n",
    "    geo.Append(c,bc=bc,leftdomain=l, rightdomain=r) \n",
    "geo.SetMaterial(1,\"upperlevel\")\n",
    "geo.SetMaterial(2,\"lowerlevel\")    "
   ]
  },
  {
   "cell_type": "code",
   "execution_count": 4,
   "metadata": {
    "slideshow": {
     "slide_type": "subslide"
    }
   },
   "outputs": [],
   "source": [
    "mesh = Mesh(geo.GenerateMesh(maxh=2))\n",
    "mesh.Curve(3)\n",
    "Draw(mesh)"
   ]
  },
  {
   "cell_type": "markdown",
   "metadata": {
    "slideshow": {
     "slide_type": "slide"
    }
   },
   "source": [
    "### Approximation space"
   ]
  },
  {
   "cell_type": "code",
   "execution_count": 5,
   "metadata": {
    "slideshow": {
     "slide_type": "-"
    }
   },
   "outputs": [],
   "source": [
    "order = 2\n",
    "fes = L2(mesh,order=order,dim=3)"
   ]
  },
  {
   "cell_type": "markdown",
   "metadata": {
    "slideshow": {
     "slide_type": "slide"
    }
   },
   "source": [
    "### initial and boundary conditions"
   ]
  },
  {
   "cell_type": "code",
   "execution_count": 6,
   "metadata": {
    "slideshow": {
     "slide_type": "-"
    }
   },
   "outputs": [],
   "source": [
    "U,V = fes.TnT() # \"Trial\" and \"Test\" function\n",
    "h, hu, hv = U\n",
    "\n",
    "# initial conditions\n",
    "h0mat = {\"upperlevel\" : 10, \"lowerlevel\" : 2}\n",
    "U0 = CoefficientFunction((CoefficientFunction([h0mat[mat] for mat in mesh.GetMaterials()]),0,0))\n",
    "\n",
    "# boundary conditions\n",
    "hbndreg = CoefficientFunction([{\"wall\" : h, \"dam\" : 0}[rg] for rg in mesh.GetBoundaries()])\n",
    "hubndreg = CoefficientFunction([{\"wall\" : -hu, \"dam\" : 0}[rg] for rg in mesh.GetBoundaries()])\n",
    "hvbndreg = CoefficientFunction([{\"wall\" : -hv, \"dam\" : 0}[rg] for rg in mesh.GetBoundaries()])\n",
    "\n",
    "Ubnd = CoefficientFunction((hbndreg,hubndreg,hvbndreg))\n",
    "\n",
    "# constant for gravitational force\n",
    "g=1"
   ]
  },
  {
   "cell_type": "markdown",
   "metadata": {
    "slideshow": {
     "slide_type": "slide"
    }
   },
   "source": [
    "### Flux definition and numerical flux choice (Lax-Friedrich)"
   ]
  },
  {
   "cell_type": "markdown",
   "metadata": {
    "slideshow": {
     "slide_type": "subslide"
    }
   },
   "source": [
    "$$\n",
    "  \\mathbf{F}(\\mathbf{U}) = \\left( \\begin{array}{c@{}c@{\\qquad}c@{}c} h u & & h v & \\\\ h u^2 &+ \\frac12 g h^2 & h u v & \\\\ h u v &  & h v^2 & + \\frac12 g h^2 \\end{array} \\right) \n",
    "  = \\left( \\begin{array}{cc} \\mathbf{u}_2 & \\mathbf{u}_3 \\\\ \\frac{\\mathbf{u}_2^2}{\\mathbf{u}_1} + \\frac12 g \\mathbf{u}_1^2 & \\frac{\\mathbf{u}_2 \\mathbf{u}_3}{\\mathbf{u}_1} \\\\ \\frac{\\mathbf{u}_2 \\mathbf{u}_3}{\\mathbf{u}_1} & \\frac{\\mathbf{u}_3^2}{\\mathbf{u}_1} + \\frac12 g \\mathbf{u}_1^2 \\end{array} \\right)  \n",
    "  = \\left( \\begin{array}{cc} h \\mathbf{w}^T \\\\ h \\mathbf{w} \\otimes \\mathbf{w} + \\frac12 g h^2 \\mathbf{I} \\end{array} \\right)\n",
    "$$"
   ]
  },
  {
   "cell_type": "code",
   "execution_count": 7,
   "metadata": {
    "slideshow": {
     "slide_type": "-"
    }
   },
   "outputs": [],
   "source": [
    "def F(U):\n",
    "    h, hvx, hvy = U\n",
    "    vx = hvx/h\n",
    "    vy = hvy/h\n",
    "    return CoefficientFunction(((hvx,hvy),\n",
    "                                (hvx*vx + 0.5*g*h**2, hvx*vy),\n",
    "                                (hvx*vy, hvy*vy + 0.5*g*h**2)),dims=(3,2))"
   ]
  },
  {
   "cell_type": "markdown",
   "metadata": {
    "slideshow": {
     "slide_type": "subslide"
    }
   },
   "source": [
    "$$\n",
    "  \\hat{\\mathbf{F}}(\\mathbf{U}) \\cdot \\mathbf{n} = \\frac{(\\mathbf{F}(\\mathbf{U}^l)+\\mathbf{F}(\\mathbf{U}^r)}{2} \\cdot \\mathbf{n} + \\frac{|\\lambda|}{2} (\\mathbf{U}^l - \\mathbf{U}^r), \\quad (\\cdot^l: \\text{current element}, \\quad \\cdot^r: \\text{neighbor element})\n",
    "$$"
   ]
  },
  {
   "cell_type": "code",
   "execution_count": 8,
   "metadata": {
    "slideshow": {
     "slide_type": "-"
    }
   },
   "outputs": [],
   "source": [
    "n = specialcf.normal(mesh.dim)\n",
    "\n",
    "def Max(u,v):\n",
    "    return IfPos(u-v,u,v)\n",
    "def Fmax(A,B):\n",
    "    ha, hua, hva = A\n",
    "    hb, hub, hvb = B\n",
    "    vnorma = sqrt(hua**2+hva**2)/ha\n",
    "    vnormb = sqrt(hub**2+hvb**2)/hb\n",
    "    return Max(vnorma+sqrt(g*A[0]),vnormb+sqrt(g*B[0]))\n",
    "\n",
    "def Fhatn(U):\n",
    "    Uhat = U.Other(bnd=Ubnd)\n",
    "    return (0.5*F(U)+0.5*F(Uhat))*n + Fmax(U,Uhat)/2*(U-Uhat)"
   ]
  },
  {
   "cell_type": "markdown",
   "metadata": {
    "slideshow": {
     "slide_type": "slide"
    }
   },
   "source": [
    "### DG formulation"
   ]
  },
  {
   "cell_type": "code",
   "execution_count": 9,
   "metadata": {
    "slideshow": {
     "slide_type": "-"
    }
   },
   "outputs": [],
   "source": [
    "def DGBilinearForm(fes,F,Fhatn,Ubnd):\n",
    "    a = BilinearForm(fes, nonassemble=True)    \n",
    "    a += SymbolicBFI ( (- InnerProduct(F(U),grad(V).trans)).Compile())\n",
    "    a += SymbolicBFI ( (InnerProduct(Fhatn(U),V)).Compile(), element_boundary=True)\n",
    "    return a\n",
    "\n",
    "a = DGBilinearForm(fes,F,Fhatn,Ubnd)"
   ]
  },
  {
   "cell_type": "markdown",
   "metadata": {
    "slideshow": {
     "slide_type": "subslide"
    }
   },
   "source": [
    "#### Simple fix to deal with shocks: artificial diffusion:"
   ]
  },
  {
   "cell_type": "code",
   "execution_count": 10,
   "metadata": {
    "slideshow": {
     "slide_type": "-"
    }
   },
   "outputs": [
    {
     "ename": "ModuleNotFoundError",
     "evalue": "No module named 'DGdiffusion'",
     "output_type": "error",
     "traceback": [
      "\u001b[0;31m---------------------------------------------------------------------------\u001b[0m",
      "\u001b[0;31mModuleNotFoundError\u001b[0m                       Traceback (most recent call last)",
      "\u001b[0;32m<ipython-input-10-49882bfdd96b>\u001b[0m in \u001b[0;36m<module>\u001b[0;34m()\u001b[0m\n\u001b[0;32m----> 1\u001b[0;31m \u001b[0;32mfrom\u001b[0m \u001b[0mDGdiffusion\u001b[0m \u001b[0;32mimport\u001b[0m \u001b[0mAddArtificialDiffusion\u001b[0m\u001b[0;34m\u001b[0m\u001b[0m\n\u001b[0m\u001b[1;32m      2\u001b[0m \u001b[0;34m\u001b[0m\u001b[0m\n\u001b[1;32m      3\u001b[0m \u001b[0martvisc\u001b[0m \u001b[0;34m=\u001b[0m \u001b[0mParameter\u001b[0m\u001b[0;34m(\u001b[0m\u001b[0;36m1.0\u001b[0m\u001b[0;34m)\u001b[0m\u001b[0;34m\u001b[0m\u001b[0m\n\u001b[1;32m      4\u001b[0m \u001b[0;32mif\u001b[0m \u001b[0morder\u001b[0m \u001b[0;34m>\u001b[0m \u001b[0;36m0\u001b[0m\u001b[0;34m:\u001b[0m\u001b[0;34m\u001b[0m\u001b[0m\n\u001b[1;32m      5\u001b[0m     \u001b[0mAddArtificialDiffusion\u001b[0m\u001b[0;34m(\u001b[0m\u001b[0ma\u001b[0m\u001b[0;34m,\u001b[0m\u001b[0mUbnd\u001b[0m\u001b[0;34m,\u001b[0m\u001b[0martvisc\u001b[0m\u001b[0;34m,\u001b[0m\u001b[0mcompile\u001b[0m\u001b[0;34m=\u001b[0m\u001b[0;32mTrue\u001b[0m\u001b[0;34m)\u001b[0m\u001b[0;34m\u001b[0m\u001b[0m\n",
      "\u001b[0;31mModuleNotFoundError\u001b[0m: No module named 'DGdiffusion'"
     ]
    }
   ],
   "source": [
    "from DGdiffusion import AddArtificialDiffusion\n",
    "\n",
    "artvisc = Parameter(1.0)\n",
    "if order > 0:\n",
    "    AddArtificialDiffusion(a,Ubnd,artvisc,compile=True)"
   ]
  },
  {
   "cell_type": "markdown",
   "metadata": {
    "slideshow": {
     "slide_type": "subslide"
    }
   },
   "source": [
    "### Visualization of solution quantities"
   ]
  },
  {
   "cell_type": "code",
   "execution_count": 11,
   "metadata": {
    "slideshow": {
     "slide_type": "-"
    }
   },
   "outputs": [],
   "source": [
    "gfu = GridFunction(fes)\n",
    "gfh, gfhu, gfhv = gfu\n",
    "gfvu = gfhu/gfh\n",
    "gfvv = gfhv/gfh\n",
    "momentum = CoefficientFunction((gfhu,gfhv))\n",
    "velocity = CoefficientFunction((gfvu,gfvv))\n",
    "gfu.Set(U0)\n",
    "Draw(momentum,mesh,\"mom\")\n",
    "Draw(velocity,mesh,\"vel\")\n",
    "Draw(gfh,mesh,\"h\")"
   ]
  },
  {
   "cell_type": "markdown",
   "metadata": {
    "slideshow": {
     "slide_type": "slide"
    }
   },
   "source": [
    "### Implicit Euler time stepping"
   ]
  },
  {
   "cell_type": "code",
   "execution_count": 12,
   "metadata": {
    "slideshow": {
     "slide_type": "-"
    }
   },
   "outputs": [
    {
     "name": "stdout",
     "output_type": "stream",
     "text": [
      "t= 5.9779999999994075745 0.44240000000000856 0.4712000000000094 0.5580000000000038 0.6491999999999938 0.6783999999999906 0.7047999999999877 0.7319999999999847 0.78839999999997850.8435999999999724 1.019999999999953 1.1079999999999433 1.191599999999934 1.219999999999931 1.3579999999999157 1.3859999999999126 1.4135999999999096 1.4427999999999064 1.5399999999998957 1.61759999999988711.6979999999998783 1.7847999999998687 1.81239999999986572.15039999999982842.1787999999998253 2.2067999999998222 2.236799999999819 2.3843999999998027 2.453599999999795 2.4667999999997936 3.532799999999676 3.55919999999967333.7291999999996546 3.7851999999996484 3.841999999999642 3.8679999999996393 3.8979999999996363.924799999999633 3.95159999999963 3.979599999999627 4.000799999999625 4.481199999999572 4.695599999999549 4.753599999999542 4.784399999999539 4.812799999999536 4.8723999999995294.901599999999526 4.931199999999523 4.976799999999518 5.0047999999995145 5.033999999999511 5.088399999999505 5.4187999999994695.49879999999946 5.621199999999447 5.639999999999445 5.714799999999436 5.725599999999435 5.799199999999427"
     ]
    },
    {
     "ename": "KeyboardInterrupt",
     "evalue": "",
     "output_type": "error",
     "traceback": [
      "\u001b[0;31m---------------------------------------------------------------------------\u001b[0m",
      "\u001b[0;31mKeyboardInterrupt\u001b[0m                         Traceback (most recent call last)",
      "\u001b[0;32m<ipython-input-12-2b97828349a2>\u001b[0m in \u001b[0;36m<module>\u001b[0;34m()\u001b[0m\n\u001b[1;32m     17\u001b[0m             \u001b[0mprint\u001b[0m\u001b[0;34m(\u001b[0m\u001b[0;34m\"\\rt=\"\u001b[0m\u001b[0;34m,\u001b[0m\u001b[0mt\u001b[0m\u001b[0;34m,\u001b[0m\u001b[0mend\u001b[0m\u001b[0;34m=\u001b[0m\u001b[0;34m\"\"\u001b[0m\u001b[0;34m)\u001b[0m\u001b[0;34m\u001b[0m\u001b[0m\n\u001b[1;32m     18\u001b[0m     \u001b[0mRedraw\u001b[0m\u001b[0;34m(\u001b[0m\u001b[0;34m)\u001b[0m\u001b[0;34m\u001b[0m\u001b[0m\n\u001b[0;32m---> 19\u001b[0;31m \u001b[0mTimeLoop\u001b[0m\u001b[0;34m(\u001b[0m\u001b[0ma\u001b[0m\u001b[0;34m,\u001b[0m\u001b[0mgfu\u001b[0m\u001b[0;34m,\u001b[0m\u001b[0mdt\u001b[0m\u001b[0;34m=\u001b[0m\u001b[0;36m0.0004\u001b[0m\u001b[0;34m,\u001b[0m\u001b[0mT\u001b[0m\u001b[0;34m=\u001b[0m\u001b[0;36m10\u001b[0m\u001b[0;34m)\u001b[0m\u001b[0;34m\u001b[0m\u001b[0m\n\u001b[0m",
      "\u001b[0;32m<ipython-input-12-2b97828349a2>\u001b[0m in \u001b[0;36mTimeLoop\u001b[0;34m(a, gfu, dt, T, nsamplings)\u001b[0m\n\u001b[1;32m      8\u001b[0m     \u001b[0;32mwith\u001b[0m \u001b[0mTaskManager\u001b[0m\u001b[0;34m(\u001b[0m\u001b[0;34m)\u001b[0m\u001b[0;34m:\u001b[0m\u001b[0;34m\u001b[0m\u001b[0m\n\u001b[1;32m      9\u001b[0m         \u001b[0;32mwhile\u001b[0m \u001b[0mt\u001b[0m \u001b[0;34m<=\u001b[0m \u001b[0mT\u001b[0m \u001b[0;34m-\u001b[0m \u001b[0;36m0.5\u001b[0m\u001b[0;34m*\u001b[0m\u001b[0mdt\u001b[0m\u001b[0;34m:\u001b[0m\u001b[0;34m\u001b[0m\u001b[0m\n\u001b[0;32m---> 10\u001b[0;31m             \u001b[0ma\u001b[0m\u001b[0;34m.\u001b[0m\u001b[0mApply\u001b[0m\u001b[0;34m(\u001b[0m\u001b[0mgfu\u001b[0m\u001b[0;34m.\u001b[0m\u001b[0mvec\u001b[0m\u001b[0;34m,\u001b[0m \u001b[0mres\u001b[0m\u001b[0;34m)\u001b[0m\u001b[0;34m\u001b[0m\u001b[0m\n\u001b[0m\u001b[1;32m     11\u001b[0m             \u001b[0mfes\u001b[0m\u001b[0;34m.\u001b[0m\u001b[0mSolveM\u001b[0m\u001b[0;34m(\u001b[0m\u001b[0mrho\u001b[0m\u001b[0;34m=\u001b[0m\u001b[0mCoefficientFunction\u001b[0m\u001b[0;34m(\u001b[0m\u001b[0;36m1\u001b[0m\u001b[0;34m)\u001b[0m\u001b[0;34m,\u001b[0m\u001b[0mvec\u001b[0m\u001b[0;34m=\u001b[0m\u001b[0mres\u001b[0m\u001b[0;34m)\u001b[0m\u001b[0;34m\u001b[0m\u001b[0m\n\u001b[1;32m     12\u001b[0m             \u001b[0mgfu\u001b[0m\u001b[0;34m.\u001b[0m\u001b[0mvec\u001b[0m\u001b[0;34m.\u001b[0m\u001b[0mdata\u001b[0m \u001b[0;34m-=\u001b[0m \u001b[0mdt\u001b[0m \u001b[0;34m*\u001b[0m \u001b[0mres\u001b[0m\u001b[0;34m\u001b[0m\u001b[0m\n",
      "\u001b[0;31mKeyboardInterrupt\u001b[0m: "
     ]
    }
   ],
   "source": [
    "def TimeLoop(a,gfu,dt,T,nsamplings=100):\n",
    "    #gfu.Set(U0)\n",
    "    res = gfu.vec.CreateVector()\n",
    "    fes = a.space\n",
    "    t = 0\n",
    "    nsteps = int(ceil(T/dt))    \n",
    "    i = 0\n",
    "    with TaskManager():\n",
    "        while t <= T - 0.5*dt:\n",
    "            a.Apply(gfu.vec, res)\n",
    "            fes.SolveM(rho=CoefficientFunction(1),vec=res)\n",
    "            gfu.vec.data -= dt * res\n",
    "            t += dt\n",
    "            if (i+1) % int(nsteps/nsamplings) == 0:\n",
    "                Redraw(blocking=True)\n",
    "            i+=1\n",
    "            print(\"\\rt=\",t,end=\"\")\n",
    "    Redraw()     \n",
    "TimeLoop(a,gfu,dt=0.0004,T=5)"
   ]
  },
  {
   "cell_type": "markdown",
   "metadata": {},
   "source": [
    "### Notes:\n",
    "When I changed T from 5 to 10, the solution became unstable (infs everywhere).  Maybe this has to do with the shock referenced above.  It would be interesting to see if adding viscosity stabilizes the solution.  It seems the artificial diffusion parameter was removed from the TimeLoop function."
   ]
  },
  {
   "cell_type": "markdown",
   "metadata": {
    "slideshow": {
     "slide_type": "subslide"
    }
   },
   "source": [
    "You may play around with this example. \n",
    "* change the artificial diffusion parameter: How does it influence the solution\n",
    "* change boundary conditions: left boundary -> fixed height and non-reflecting\n",
    "* change the initial heights\n",
    "* introduce a (circular) obstacle below the dam\n",
    "* Generate output to create a video: To this end take a look at the final unit of this section."
   ]
  },
  {
   "cell_type": "code",
   "execution_count": null,
   "metadata": {
    "slideshow": {
     "slide_type": "subslide"
    }
   },
   "outputs": [],
   "source": [
    "%%HTML\n",
    "<video width=\"1000\" height=\"600\" controls>\n",
    "    <source src=\"shallow2D.mp4\" type=\"video/mp4\">\n",
    "    # <source src=\"shallow2D.mov\">    # Apple QuickTime \n",
    "</video>"
   ]
  },
  {
   "cell_type": "code",
   "execution_count": null,
   "metadata": {},
   "outputs": [],
   "source": []
  }
 ],
 "metadata": {
  "kernelspec": {
   "display_name": "Python 3",
   "language": "python",
   "name": "python3"
  },
  "language_info": {
   "codemirror_mode": {
    "name": "ipython",
    "version": 3
   },
   "file_extension": ".py",
   "mimetype": "text/x-python",
   "name": "python",
   "nbconvert_exporter": "python",
   "pygments_lexer": "ipython3",
   "version": "3.6.5"
  }
 },
 "nbformat": 4,
 "nbformat_minor": 2
}
