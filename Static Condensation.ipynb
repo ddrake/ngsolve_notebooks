{
 "cells": [
  {
   "cell_type": "code",
   "execution_count": 1,
   "metadata": {},
   "outputs": [],
   "source": [
    "import netgen.gui\n",
    "%gui tk\n",
    "from ngsolve import *\n",
    "from netgen.geom2d import unit_square\n"
   ]
  },
  {
   "cell_type": "code",
   "execution_count": 2,
   "metadata": {},
   "outputs": [],
   "source": [
    "mesh = Mesh(unit_square.GenerateMesh(maxh=0.4))\n",
    "fes = H1(mesh, order=4, dirichlet='right|bottom')\n",
    "u = fes.TrialFunction()\n",
    "v = fes.TestFunction()"
   ]
  },
  {
   "cell_type": "code",
   "execution_count": 4,
   "metadata": {},
   "outputs": [],
   "source": [
    "a = BilinearForm(fes, flags={\"eliminate_internal\":True})\n",
    "a += SymbolicBFI(grad(u)*grad(v))\n",
    "a.Assemble()\n",
    "\n",
    "f = LinearForm(fes)\n",
    "f += SymbolicLFI(1*v)\n",
    "f.Assemble()\n",
    "\n",
    "u = GridFunction(fes)"
   ]
  },
  {
   "cell_type": "code",
   "execution_count": 5,
   "metadata": {
    "collapsed": true
   },
   "outputs": [],
   "source": [
    "f.vec.data += a.harmonic_extension_trans * f.vec"
   ]
  },
  {
   "cell_type": "code",
   "execution_count": 6,
   "metadata": {
    "collapsed": true
   },
   "outputs": [],
   "source": [
    "u.vec.data = a.mat.Inverse(freedofs=fes.FreeDofs(coupling=True))*f.vec"
   ]
  },
  {
   "cell_type": "code",
   "execution_count": 8,
   "metadata": {},
   "outputs": [],
   "source": [
    "u.vec.data += a.inner_solve * f.vec"
   ]
  },
  {
   "cell_type": "code",
   "execution_count": 9,
   "metadata": {
    "collapsed": true
   },
   "outputs": [],
   "source": [
    "u.vec.data += a.harmonic_extension * u.vec"
   ]
  },
  {
   "cell_type": "code",
   "execution_count": 10,
   "metadata": {
    "collapsed": true
   },
   "outputs": [],
   "source": [
    "Draw(u)"
   ]
  },
  {
   "cell_type": "code",
   "execution_count": 11,
   "metadata": {},
   "outputs": [
    {
     "name": "stdout",
     "output_type": "stream",
     "text": [
      "COUPLING_TYPE.WIREBASKET_DOF\n",
      "COUPLING_TYPE.WIREBASKET_DOF\n",
      "COUPLING_TYPE.WIREBASKET_DOF\n",
      "COUPLING_TYPE.WIREBASKET_DOF\n",
      "COUPLING_TYPE.WIREBASKET_DOF\n",
      "COUPLING_TYPE.WIREBASKET_DOF\n",
      "COUPLING_TYPE.WIREBASKET_DOF\n",
      "COUPLING_TYPE.WIREBASKET_DOF\n",
      "COUPLING_TYPE.WIREBASKET_DOF\n",
      "COUPLING_TYPE.WIREBASKET_DOF\n",
      "COUPLING_TYPE.WIREBASKET_DOF\n",
      "COUPLING_TYPE.WIREBASKET_DOF\n",
      "COUPLING_TYPE.WIREBASKET_DOF\n",
      "COUPLING_TYPE.WIREBASKET_DOF\n",
      "COUPLING_TYPE.WIREBASKET_DOF\n",
      "COUPLING_TYPE.WIREBASKET_DOF\n",
      "COUPLING_TYPE.INTERFACE_DOF\n",
      "COUPLING_TYPE.INTERFACE_DOF\n",
      "COUPLING_TYPE.INTERFACE_DOF\n",
      "COUPLING_TYPE.INTERFACE_DOF\n",
      "COUPLING_TYPE.INTERFACE_DOF\n",
      "COUPLING_TYPE.INTERFACE_DOF\n",
      "COUPLING_TYPE.INTERFACE_DOF\n",
      "COUPLING_TYPE.INTERFACE_DOF\n",
      "COUPLING_TYPE.INTERFACE_DOF\n",
      "COUPLING_TYPE.INTERFACE_DOF\n",
      "COUPLING_TYPE.INTERFACE_DOF\n",
      "COUPLING_TYPE.INTERFACE_DOF\n",
      "COUPLING_TYPE.INTERFACE_DOF\n",
      "COUPLING_TYPE.INTERFACE_DOF\n",
      "COUPLING_TYPE.INTERFACE_DOF\n",
      "COUPLING_TYPE.INTERFACE_DOF\n",
      "COUPLING_TYPE.INTERFACE_DOF\n",
      "COUPLING_TYPE.INTERFACE_DOF\n",
      "COUPLING_TYPE.INTERFACE_DOF\n",
      "COUPLING_TYPE.INTERFACE_DOF\n",
      "COUPLING_TYPE.INTERFACE_DOF\n",
      "COUPLING_TYPE.INTERFACE_DOF\n",
      "COUPLING_TYPE.INTERFACE_DOF\n",
      "COUPLING_TYPE.INTERFACE_DOF\n",
      "COUPLING_TYPE.INTERFACE_DOF\n",
      "COUPLING_TYPE.INTERFACE_DOF\n",
      "COUPLING_TYPE.INTERFACE_DOF\n",
      "COUPLING_TYPE.INTERFACE_DOF\n",
      "COUPLING_TYPE.INTERFACE_DOF\n",
      "COUPLING_TYPE.INTERFACE_DOF\n",
      "COUPLING_TYPE.INTERFACE_DOF\n",
      "COUPLING_TYPE.INTERFACE_DOF\n",
      "COUPLING_TYPE.INTERFACE_DOF\n",
      "COUPLING_TYPE.INTERFACE_DOF\n",
      "COUPLING_TYPE.INTERFACE_DOF\n",
      "COUPLING_TYPE.INTERFACE_DOF\n",
      "COUPLING_TYPE.INTERFACE_DOF\n",
      "COUPLING_TYPE.INTERFACE_DOF\n",
      "COUPLING_TYPE.INTERFACE_DOF\n",
      "COUPLING_TYPE.INTERFACE_DOF\n",
      "COUPLING_TYPE.INTERFACE_DOF\n",
      "COUPLING_TYPE.INTERFACE_DOF\n",
      "COUPLING_TYPE.INTERFACE_DOF\n",
      "COUPLING_TYPE.INTERFACE_DOF\n",
      "COUPLING_TYPE.INTERFACE_DOF\n",
      "COUPLING_TYPE.INTERFACE_DOF\n",
      "COUPLING_TYPE.INTERFACE_DOF\n",
      "COUPLING_TYPE.INTERFACE_DOF\n",
      "COUPLING_TYPE.INTERFACE_DOF\n",
      "COUPLING_TYPE.INTERFACE_DOF\n",
      "COUPLING_TYPE.INTERFACE_DOF\n",
      "COUPLING_TYPE.INTERFACE_DOF\n",
      "COUPLING_TYPE.INTERFACE_DOF\n",
      "COUPLING_TYPE.INTERFACE_DOF\n",
      "COUPLING_TYPE.INTERFACE_DOF\n",
      "COUPLING_TYPE.INTERFACE_DOF\n",
      "COUPLING_TYPE.INTERFACE_DOF\n",
      "COUPLING_TYPE.INTERFACE_DOF\n",
      "COUPLING_TYPE.INTERFACE_DOF\n",
      "COUPLING_TYPE.INTERFACE_DOF\n",
      "COUPLING_TYPE.INTERFACE_DOF\n",
      "COUPLING_TYPE.INTERFACE_DOF\n",
      "COUPLING_TYPE.INTERFACE_DOF\n",
      "COUPLING_TYPE.INTERFACE_DOF\n",
      "COUPLING_TYPE.INTERFACE_DOF\n",
      "COUPLING_TYPE.INTERFACE_DOF\n",
      "COUPLING_TYPE.INTERFACE_DOF\n",
      "COUPLING_TYPE.INTERFACE_DOF\n",
      "COUPLING_TYPE.INTERFACE_DOF\n",
      "COUPLING_TYPE.INTERFACE_DOF\n",
      "COUPLING_TYPE.INTERFACE_DOF\n",
      "COUPLING_TYPE.INTERFACE_DOF\n",
      "COUPLING_TYPE.INTERFACE_DOF\n",
      "COUPLING_TYPE.INTERFACE_DOF\n",
      "COUPLING_TYPE.INTERFACE_DOF\n",
      "COUPLING_TYPE.INTERFACE_DOF\n",
      "COUPLING_TYPE.INTERFACE_DOF\n",
      "COUPLING_TYPE.INTERFACE_DOF\n",
      "COUPLING_TYPE.INTERFACE_DOF\n",
      "COUPLING_TYPE.INTERFACE_DOF\n",
      "COUPLING_TYPE.INTERFACE_DOF\n",
      "COUPLING_TYPE.INTERFACE_DOF\n",
      "COUPLING_TYPE.INTERFACE_DOF\n",
      "COUPLING_TYPE.INTERFACE_DOF\n",
      "COUPLING_TYPE.INTERFACE_DOF\n",
      "COUPLING_TYPE.INTERFACE_DOF\n",
      "COUPLING_TYPE.INTERFACE_DOF\n",
      "COUPLING_TYPE.INTERFACE_DOF\n",
      "COUPLING_TYPE.INTERFACE_DOF\n",
      "COUPLING_TYPE.INTERFACE_DOF\n",
      "COUPLING_TYPE.INTERFACE_DOF\n",
      "COUPLING_TYPE.INTERFACE_DOF\n",
      "COUPLING_TYPE.INTERFACE_DOF\n",
      "COUPLING_TYPE.INTERFACE_DOF\n",
      "COUPLING_TYPE.INTERFACE_DOF\n",
      "COUPLING_TYPE.INTERFACE_DOF\n",
      "COUPLING_TYPE.INTERFACE_DOF\n",
      "COUPLING_TYPE.INTERFACE_DOF\n",
      "COUPLING_TYPE.INTERFACE_DOF\n",
      "COUPLING_TYPE.LOCAL_DOF\n",
      "COUPLING_TYPE.LOCAL_DOF\n",
      "COUPLING_TYPE.LOCAL_DOF\n",
      "COUPLING_TYPE.LOCAL_DOF\n",
      "COUPLING_TYPE.LOCAL_DOF\n",
      "COUPLING_TYPE.LOCAL_DOF\n",
      "COUPLING_TYPE.LOCAL_DOF\n",
      "COUPLING_TYPE.LOCAL_DOF\n",
      "COUPLING_TYPE.LOCAL_DOF\n",
      "COUPLING_TYPE.LOCAL_DOF\n",
      "COUPLING_TYPE.LOCAL_DOF\n",
      "COUPLING_TYPE.LOCAL_DOF\n",
      "COUPLING_TYPE.LOCAL_DOF\n",
      "COUPLING_TYPE.LOCAL_DOF\n",
      "COUPLING_TYPE.LOCAL_DOF\n",
      "COUPLING_TYPE.LOCAL_DOF\n",
      "COUPLING_TYPE.LOCAL_DOF\n",
      "COUPLING_TYPE.LOCAL_DOF\n",
      "COUPLING_TYPE.LOCAL_DOF\n",
      "COUPLING_TYPE.LOCAL_DOF\n",
      "COUPLING_TYPE.LOCAL_DOF\n",
      "COUPLING_TYPE.LOCAL_DOF\n",
      "COUPLING_TYPE.LOCAL_DOF\n",
      "COUPLING_TYPE.LOCAL_DOF\n",
      "COUPLING_TYPE.LOCAL_DOF\n",
      "COUPLING_TYPE.LOCAL_DOF\n",
      "COUPLING_TYPE.LOCAL_DOF\n",
      "COUPLING_TYPE.LOCAL_DOF\n",
      "COUPLING_TYPE.LOCAL_DOF\n",
      "COUPLING_TYPE.LOCAL_DOF\n",
      "COUPLING_TYPE.LOCAL_DOF\n",
      "COUPLING_TYPE.LOCAL_DOF\n",
      "COUPLING_TYPE.LOCAL_DOF\n",
      "COUPLING_TYPE.LOCAL_DOF\n",
      "COUPLING_TYPE.LOCAL_DOF\n",
      "COUPLING_TYPE.LOCAL_DOF\n",
      "COUPLING_TYPE.LOCAL_DOF\n",
      "COUPLING_TYPE.LOCAL_DOF\n",
      "COUPLING_TYPE.LOCAL_DOF\n",
      "COUPLING_TYPE.LOCAL_DOF\n",
      "COUPLING_TYPE.LOCAL_DOF\n",
      "COUPLING_TYPE.LOCAL_DOF\n",
      "COUPLING_TYPE.LOCAL_DOF\n",
      "COUPLING_TYPE.LOCAL_DOF\n",
      "COUPLING_TYPE.LOCAL_DOF\n",
      "COUPLING_TYPE.LOCAL_DOF\n",
      "COUPLING_TYPE.LOCAL_DOF\n",
      "COUPLING_TYPE.LOCAL_DOF\n",
      "COUPLING_TYPE.LOCAL_DOF\n",
      "COUPLING_TYPE.LOCAL_DOF\n",
      "COUPLING_TYPE.LOCAL_DOF\n",
      "COUPLING_TYPE.LOCAL_DOF\n",
      "COUPLING_TYPE.LOCAL_DOF\n",
      "COUPLING_TYPE.LOCAL_DOF\n"
     ]
    }
   ],
   "source": [
    "for i in range(fes.ndof):\n",
    "    print(fes.CouplingType(i))"
   ]
  },
  {
   "cell_type": "code",
   "execution_count": 13,
   "metadata": {},
   "outputs": [
    {
     "data": {
      "text/plain": [
       "{COUPLING_TYPE.LOCAL_DOF: 54,\n",
       " COUPLING_TYPE.INTERFACE_DOF: 99,\n",
       " COUPLING_TYPE.WIREBASKET_DOF: 16}"
      ]
     },
     "execution_count": 13,
     "metadata": {},
     "output_type": "execute_result"
    }
   ],
   "source": [
    "doftypes = {}\n",
    "for i in range(fes.ndof):\n",
    "    type = fes.CouplingType(i)\n",
    "    if type in doftypes.keys():\n",
    "        doftypes[type] += 1\n",
    "    else:\n",
    "        doftypes[type] = 1\n",
    "doftypes"
   ]
  },
  {
   "cell_type": "code",
   "execution_count": null,
   "metadata": {
    "collapsed": true
   },
   "outputs": [],
   "source": []
  }
 ],
 "metadata": {
  "kernelspec": {
   "display_name": "Python 3",
   "language": "python",
   "name": "python3"
  },
  "language_info": {
   "codemirror_mode": {
    "name": "ipython",
    "version": 3
   },
   "file_extension": ".py",
   "mimetype": "text/x-python",
   "name": "python",
   "nbconvert_exporter": "python",
   "pygments_lexer": "ipython3",
   "version": "3.5.2"
  }
 },
 "nbformat": 4,
 "nbformat_minor": 2
}
