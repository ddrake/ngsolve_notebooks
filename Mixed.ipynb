{
 "cells": [
  {
   "cell_type": "markdown",
   "metadata": {},
   "source": [
    "# Mixed formulation for second order equations (Unit 2.5)\n",
    "## (requires NGSolve to be compiled with umfpack)\n",
    "We consider the diffusion equation\n",
    "\n",
    "\\begin{align*}\n",
    "−\\text{div}\\lambda \\nabla u &= f \\text{ in } \\Omega\\\\\n",
    "u &= u_D \\text{ on } \\Gamma_D\\\\\n",
    "\\lambda \\frac{\\partial u}{\\partial n} &= g \\text{ on } \\Gamma_N\n",
    "\\end{align*}\n",
    "\n",
    "\n",
    "### Primal variational formulation\n",
    "\n",
    "Find $u\\in H^1$, $u=u_D$ on $\\Gamma_D$\n",
    "\n",
    "such that\n",
    "$$ \\int_\\Omega \\lambda \\nabla u \\nabla v = \\int_\\Omega f v + \\int_{\\Gamma_N} g v, \\ \\forall v \\in H^1, v=0 \\text{ on } \\Gamma_D$$\n",
    "\n",
    "### First order system\n",
    "\n",
    "Find scalar $u$ and the flux $\\sigma$ such that\n",
    "\n",
    "$$\\lambda^{-1} \\sigma = \\nabla u, \\text{div } \\sigma = -f$$\n",
    "\n",
    "with boundary conditions\n",
    "$$\\sigma \\cdot n = g \\text{ on } \\Gamma_N, \\text{ and } u = u_D \\text{ on } \\Gamma_D$$\n",
    "\n",
    "### Mixed variational formulation\n",
    "\n",
    "Find $(\\sigma, u) \\in H(div) \\times L_2$ such that $\\sigma_n = g$ on $\\Gamma_N$ and\n",
    "\n",
    "$$\\int_\\Omega \\lambda^{-1} \\sigma \\tau + \\text{ div } \\sigma v = \\text{ div }\\tau u = - \\int_\\Omega fv + \\int_{\\Gamma_D} u_D \\tau_n$$\n",
    "\n",
    "\n",
    "for all test-functions $(\\tau, v) \\in H(div) \\times L_2$ with $\\tau_n = 0$.\n",
    "\n",
    "Here $\\sigma_n$ is the normal trace operator $\\sigma \\cdot n |_{\\Gamma_N}$, which is meaningful in $H(div)$."
   ]
  },
  {
   "cell_type": "code",
   "execution_count": 1,
   "metadata": {},
   "outputs": [],
   "source": [
    "from netgen.geom2d import unit_square\n",
    "from ngsolve import *\n",
    "import netgen.gui\n",
    "%gui tk\n",
    "\n",
    "mesh = Mesh(unit_square.GenerateMesh(maxh=0.1))"
   ]
  },
  {
   "cell_type": "code",
   "execution_count": 2,
   "metadata": {},
   "outputs": [],
   "source": [
    "source = sin(3.14*x)\n",
    "ud = CoefficientFunction(5)\n",
    "g = CoefficientFunction([y*(1-y) if bc==\"left\" else 0 for bc in mesh.GetBoundaries()])\n",
    "lam = 10"
   ]
  },
  {
   "cell_type": "markdown",
   "metadata": {},
   "source": [
    "Setup and solve primal problem:"
   ]
  },
  {
   "cell_type": "code",
   "execution_count": 3,
   "metadata": {},
   "outputs": [],
   "source": [
    "fesp = H1(mesh, order=4, dirichlet=\"bottom\")\n",
    "up = fesp.TrialFunction()\n",
    "vp = fesp.TestFunction()\n",
    "\n",
    "ap = BilinearForm(fesp)\n",
    "ap += SymbolicBFI(lam * grad(up) * grad(vp))\n",
    "ap.Assemble()\n",
    "\n",
    "fp = LinearForm(fesp)\n",
    "fp += SymbolicLFI(source * vp)\n",
    "fp += SymbolicLFI(g * vp, BND)\n",
    "fp.Assemble()\n",
    "\n",
    "gfup = GridFunction(fesp, \"u-primal\")\n",
    "gfup.Set(ud, BND)\n",
    "\n",
    "r = fp.vec.CreateVector()\n",
    "r.data = fp.vec - ap.mat * gfup.vec\n",
    "gfup.vec.data += ap.mat.Inverse(freedofs=fesp.FreeDofs()) * r\n",
    "Draw (gfup)\n",
    "Draw (lam * grad(gfup), mesh, \"flux-primal\")"
   ]
  },
  {
   "cell_type": "markdown",
   "metadata": {},
   "source": [
    "Define spaces for mixed problem. Note that essential boundary conditions are set to the H(div)-component on the opposite boundary. Creating a space from a list of spaces generates a product space:"
   ]
  },
  {
   "cell_type": "code",
   "execution_count": 4,
   "metadata": {},
   "outputs": [],
   "source": [
    "V = HDiv(mesh, order=4, dirichlet=\"right|top|left\")\n",
    "Q = L2(mesh, order=3)\n",
    "fesm = FESpace([V,Q])"
   ]
  },
  {
   "cell_type": "markdown",
   "metadata": {},
   "source": [
    "The space provides now a list of trial and test-functions:"
   ]
  },
  {
   "cell_type": "code",
   "execution_count": 5,
   "metadata": {},
   "outputs": [],
   "source": [
    "sigma, u = fesm.TrialFunction()\n",
    "tau, v = fesm.TestFunction()"
   ]
  },
  {
   "cell_type": "markdown",
   "metadata": {},
   "source": [
    "The normal vector is provided as a special coefficient function (which may be used only at the boundary). The orientation depends on the definition of the geometry. In 2D, it is the tangential vector rotated to the right, and is the outer vector in our case. Since every CoefficientFunction must know its vector-dimension, we have to provide the spatial dimension:"
   ]
  },
  {
   "cell_type": "code",
   "execution_count": 6,
   "metadata": {},
   "outputs": [
    {
     "name": "stdout",
     "output_type": "stream",
     "text": [
      "coef 14NormalVectorCFILi2EE, real, dim=2\n",
      "\n"
     ]
    }
   ],
   "source": [
    "normal = specialcf.normal(mesh.dim)\n",
    "print (normal)"
   ]
  },
  {
   "cell_type": "markdown",
   "metadata": {},
   "source": [
    "Define the forms on the product space. For the boundary term, we have to use the Trace operator, which provides the projection to normal direction."
   ]
  },
  {
   "cell_type": "code",
   "execution_count": 7,
   "metadata": {},
   "outputs": [],
   "source": [
    "am = BilinearForm(fesm)\n",
    "am += SymbolicBFI(1/lam * sigma * tau + div(sigma)*v + div(tau)* u)\n",
    "am.Assemble()\n",
    "fm = LinearForm(fesm)\n",
    "fm += SymbolicLFI(-source*v)\n",
    "fm += SymbolicLFI(ud * (tau.Trace()*normal), BND)\n",
    "fm.Assemble()\n",
    "\n",
    "gfm = GridFunction(fesm, name=\"gfmixed\")"
   ]
  },
  {
   "cell_type": "markdown",
   "metadata": {},
   "source": [
    "The proxy-functions used for the forms know to which component of the product space they belong to. To access components of the solution, we have to unpack its components. They don't have own coefficient vectors, but refer to ranges of the big coefficient vector."
   ]
  },
  {
   "cell_type": "code",
   "execution_count": 8,
   "metadata": {},
   "outputs": [],
   "source": [
    "gfsigma = gfm.components[0]\n",
    "gfu = gfm.components[1]"
   ]
  },
  {
   "cell_type": "markdown",
   "metadata": {},
   "source": [
    "Just to try something:"
   ]
  },
  {
   "cell_type": "code",
   "execution_count": 9,
   "metadata": {},
   "outputs": [],
   "source": [
    "gfsigma.Set(CoefficientFunction( (sin(10*x), sin(10*y)) ))\n",
    "gfu.Set (x)\n",
    "Draw (gfsigma, mesh, \"flux-mixed\")\n",
    "Draw (gfu, mesh, \"u-mixed\")\n"
   ]
  },
  {
   "cell_type": "markdown",
   "metadata": {},
   "source": [
    "Now set the essential boundary conditions for the flux part:"
   ]
  },
  {
   "cell_type": "code",
   "execution_count": 10,
   "metadata": {},
   "outputs": [],
   "source": [
    "gfsigma.Set(g*normal, BND)"
   ]
  },
  {
   "cell_type": "code",
   "execution_count": 11,
   "metadata": {},
   "outputs": [],
   "source": [
    "fm.vec.data -= am.mat * gfm.vec\n",
    "gfm.vec.data += am.mat.Inverse(freedofs=fesm.FreeDofs(), inverse=\"umfpack\") * fm.vec\n",
    "Redraw()\n"
   ]
  },
  {
   "cell_type": "markdown",
   "metadata": {},
   "source": [
    "Calculate the difference:"
   ]
  },
  {
   "cell_type": "code",
   "execution_count": 12,
   "metadata": {},
   "outputs": [
    {
     "name": "stdout",
     "output_type": "stream",
     "text": [
      "err-u:    3.9686871319361595e-08\n",
      "err-flux: 3.639053243656167e-05\n"
     ]
    }
   ],
   "source": [
    "print (\"err-u:   \", sqrt(Integrate( (gfup-gfu)*(gfup-gfu), mesh)))\n",
    "errflux = lam * grad(gfup) - gfsigma\n",
    "print (\"err-flux:\", sqrt(Integrate(errflux*errflux, mesh)))"
   ]
  },
  {
   "cell_type": "code",
   "execution_count": null,
   "metadata": {},
   "outputs": [],
   "source": []
  }
 ],
 "metadata": {
  "kernelspec": {
   "display_name": "Python 3",
   "language": "python",
   "name": "python3"
  },
  "language_info": {
   "codemirror_mode": {
    "name": "ipython",
    "version": 3
   },
   "file_extension": ".py",
   "mimetype": "text/x-python",
   "name": "python",
   "nbconvert_exporter": "python",
   "pygments_lexer": "ipython3",
   "version": "3.6.5"
  }
 },
 "nbformat": 4,
 "nbformat_minor": 2
}
