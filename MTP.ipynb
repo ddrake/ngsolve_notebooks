{
 "cells": [
  {
   "cell_type": "code",
   "execution_count": 2,
   "metadata": {
    "collapsed": true
   },
   "outputs": [],
   "source": [
    "#%gui tk\n",
    "#from netgen import gui\n",
    "from netgen.geom2d import unit_square\n",
    "from netgen import geom2d\n",
    "from netgen.meshing import *"
   ]
  },
  {
   "cell_type": "code",
   "execution_count": 3,
   "metadata": {
    "collapsed": true
   },
   "outputs": [],
   "source": [
    "# global mesh\n",
    "msh = unit_square.GenerateMesh(maxh=.2)"
   ]
  },
  {
   "cell_type": "code",
   "execution_count": 4,
   "metadata": {
    "collapsed": true
   },
   "outputs": [],
   "source": [
    "# map each vertex to a list of its adjacent elements\n",
    "def vmap(msh):\n",
    "    vs = {}\n",
    "    for e in msh.Elements2D():\n",
    "        for v in e.vertices:\n",
    "            es = vs.get(v.nr)\n",
    "            if es:\n",
    "                es.append(e)\n",
    "            else:\n",
    "                vs[v.nr] = [e]\n",
    "    return vs    "
   ]
  },
  {
   "cell_type": "code",
   "execution_count": 5,
   "metadata": {
    "collapsed": true
   },
   "outputs": [],
   "source": [
    "# return a set of the unique vertices for each vertex patch\n",
    "def vsets(vmap):\n",
    "    vsets_dict = {}\n",
    "    for v in vmap.keys():\n",
    "        vset = set([v1 for e in vmap[v] for v1 in e.vertices])\n",
    "        vsets_dict[v] = vset\n",
    "    return vsets_dict\n"
   ]
  },
  {
   "cell_type": "code",
   "execution_count": 6,
   "metadata": {
    "collapsed": true
   },
   "outputs": [],
   "source": [
    "# takes a list of points representing the boundary of the vertex patch\n",
    "# returns a geometry\n",
    "def make_geom(bnd):\n",
    "    geo = geom2d.SplineGeometry()\n",
    "    ps = [geo.AppendPoint(*v) for v in bnd]\n",
    "    for i in range(len(ps)-1):\n",
    "        geo.Append ([\"line\", ps[i],ps[i+1]])\n",
    "    geo.Append([\"line\", ps[-1],ps[0]])\n",
    "    return geo\n"
   ]
  },
  {
   "cell_type": "code",
   "execution_count": 7,
   "metadata": {
    "collapsed": true
   },
   "outputs": [],
   "source": [
    "# takes a list of 'elements' where each 'element' is an ordered list of vertex nrs\n",
    "# the first n-1 elements are triangles, the last is a polygon\n",
    "# returns an ordered list of boundary vertices (polygon)\n",
    "def make_boundary(els):\n",
    "    if len(els) == 0: raise ArgumentError(\"make_boundary\")\n",
    "    if len(els) == 1: return els[0]\n",
    "    poly = els.pop()\n",
    "    e, v1, v2, rest = find_common(poly, els)\n",
    "    merged = merge_two(poly,e,v1,v2)\n",
    "    rest.append(merged)\n",
    "    return make_boundary(rest)\n"
   ]
  },
  {
   "cell_type": "code",
   "execution_count": 8,
   "metadata": {
    "collapsed": true
   },
   "outputs": [],
   "source": [
    "# takes a polygon and a list of at least two triangles \n",
    "# and extracts the first triangle found which shares an edge with the polygon\n",
    "def find_common(poly, els):\n",
    "    e, v1, v2 = find_match(poly, els)\n",
    "    els.remove(e)\n",
    "    return e, v1, v2, els\n"
   ]
  },
  {
   "cell_type": "code",
   "execution_count": 9,
   "metadata": {
    "collapsed": true
   },
   "outputs": [],
   "source": [
    "# takes a polygon and a list of triangles, at least one of which has an edge in common with the given polygon\n",
    "# returns a matching triangle along with the two common vertices\n",
    "def find_match(poly, els):\n",
    "    n = len(poly)\n",
    "    for e in els:\n",
    "        for i in range(n-1):\n",
    "            if poly[i] in e and poly[i+1] in e:\n",
    "                return e, poly[i], poly[i+1]\n",
    "        if poly[0] in e and poly[-1] in e:\n",
    "            return e, poly[0], poly[-1]\n",
    "    raise ArgumentError(\"find_match\")\n",
    "  "
   ]
  },
  {
   "cell_type": "code",
   "execution_count": 10,
   "metadata": {
    "collapsed": true
   },
   "outputs": [],
   "source": [
    "# given two elements and their common vertices, \n",
    "# return a merged element representing the boundary of the pair\n",
    "def merge_two(poly, e, v1, v2):\n",
    "    i1 = poly.index(v1)\n",
    "    i2 = poly.index(v2)\n",
    "    e.remove(v1)\n",
    "    e.remove(v2)\n",
    "    if i2-i1 == 1: return poly[:i1+1]+e+poly[i2:]\n",
    "    elif i1-i2 == 1: return poly[:i2+1]+e+poly[i1:]\n",
    "    else: return poly + e\n"
   ]
  },
  {
   "cell_type": "code",
   "execution_count": 11,
   "metadata": {},
   "outputs": [],
   "source": [
    "# given a list of elements in a vertex patch, \n",
    "# a set of the indices of all vertices in the patch \n",
    "# and the sorted list of points for the mesh \n",
    "# construct a new geometry and mesh for the vertex patch\n",
    "def vpatch_mesh(els, vset, pts):\n",
    "    # first make a list of sublists, each of which contains the vertex indices of one element\n",
    "    vs = [[v.nr for v in el.vertices] for el in els]\n",
    "    # construct a boundary polygon from this list\n",
    "    bndnums = make_boundary(vs)\n",
    "    # map the vertex numbers of the polygon to 3D points\n",
    "    bndpts = [pts[v - 1] for v in bndnums]\n",
    "    # make the local geometry\n",
    "    geo = make_geom(bndpts)\n",
    "    # create the local mesh\n",
    "    msh2 = Mesh(dim=2)\n",
    "    msh2.SetGeometry(geo)\n",
    "    msh2.SetMaterial(1,\"mat\")\n",
    "    ptmap = {} \n",
    "    # map global vertex numbers to local ones, while adding points to the mesh\n",
    "    for v in vset:\n",
    "        x,y,z = pts[v.nr - 1].p\n",
    "        ptmap[v.nr] = msh2.Add(MeshPoint(Pnt(x,y,z)))\n",
    "    \n",
    "    for el in els:\n",
    "        # map the old vertices to the new ones\n",
    "        vs = [ptmap[v.nr] for v in el.vertices]\n",
    "        # add each element to the mesh\n",
    "        msh2.Add(Element2D(1, vs)) # crashes here\n",
    "    return msh2\n",
    "        "
   ]
  },
  {
   "cell_type": "code",
   "execution_count": 11,
   "metadata": {
    "collapsed": true
   },
   "outputs": [],
   "source": [
    "vm = vmap(msh)\n",
    "vs = vsets(vm)\n",
    "v = 13\n",
    "\n",
    "els = vm[v]\n",
    "vset = vs[v]\n",
    "pts = [p for p in msh.Points()]\n"
   ]
  },
  {
   "cell_type": "code",
   "execution_count": 12,
   "metadata": {},
   "outputs": [],
   "source": [
    "vs = [[v.nr for v in el.vertices] for el in els]\n",
    "bndnums = make_boundary(vs)\n",
    "bndpts = [pts[v - 1] for v in bndnums]\n",
    "bndpts2d = [(x,y) for (x,y,_) in bndpts]\n",
    "geo = make_geom(bndpts)\n",
    "msh2 = Mesh(dim=2)\n",
    "msh2.SetGeometry(geo)\n",
    "ptmap = {} \n",
    "# map global vertex numbers to local ones, while adding points to the mesh\n",
    "for v in vset:\n",
    "    x,y,z = pts[v.nr - 1].p\n",
    "    ptmap[v.nr] = msh2.Add(MeshPoint(Pnt(x,y,z)))\n"
   ]
  },
  {
   "cell_type": "code",
   "execution_count": null,
   "metadata": {},
   "outputs": [],
   "source": [
    "for el in els:\n",
    "    vs = [ptmap[v.nr] for v in el.vertices]\n",
    "    print(vs)\n",
    "for p in msh2.Points():\n",
    "     x,y,z = p.p\n",
    "     print (\"x = \", x, \"y = \", y)\n",
    "msh2.SetMaterial(1,\"mat\")\n",
    "msh2.Add(Element2D(1, [2,4,3]))\n"
   ]
  },
  {
   "cell_type": "code",
   "execution_count": null,
   "metadata": {
    "collapsed": true
   },
   "outputs": [],
   "source": [
    "for el in els:\n",
    "    # map the old vertices to the new ones\n",
    "    vs = [ptmap[v.nr] for v in el.vertices]\n",
    "    # add each element to the mesh\n",
    "    msh2.Add(Element2D(1, vs))\n"
   ]
  }
 ],
 "metadata": {
  "kernelspec": {
   "display_name": "Python 3",
   "language": "python",
   "name": "python3"
  },
  "language_info": {
   "codemirror_mode": {
    "name": "ipython",
    "version": 3
   },
   "file_extension": ".py",
   "mimetype": "text/x-python",
   "name": "python",
   "nbconvert_exporter": "python",
   "pygments_lexer": "ipython3",
   "version": "3.5.2"
  }
 },
 "nbformat": 4,
 "nbformat_minor": 2
}
