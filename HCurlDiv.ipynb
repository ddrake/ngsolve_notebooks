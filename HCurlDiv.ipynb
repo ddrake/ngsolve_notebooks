{
 "cells": [
  {
   "cell_type": "markdown",
   "metadata": {},
   "source": [
    "# H(curl) and H(div) function spaces\n",
    "\n",
    "Scalar and vectorial elements in NGSolve:\n",
    "\n",
    "Standard continuous $H^1$ elements:\n",
    "<img src='resources/nodalelement.png' width='100px' />\n",
    "\n",
    "Nedelec's tangentially-continuous $H(curl)$-conforming edge elements:\n",
    "<img src='resources/edgeelement.png'  width='100px' />\n",
    "\n",
    "Raviart-Thomas normally-continuous $H(div)$-conforming face elements:\n",
    "<img src='resources/faceelement.png'  width='100px' />\n",
    "\n",
    "Discontinuous $L_2$ elements:\n",
    "<img src='resources/l2element.png'  width='100px' />\n",
    "\n",
    "\n",
    "\n",
    "These vector-valued spaces allow to represent physical quantities which are either normally or tangentially continuous.\n",
    "\n",
    "The finite element spaces are related by the de Rham complex:\n",
    "\n",
    "$$\\begin{array}[ccccccc]\n",
    "\\ H^1 & \\underset{\\rightarrow}{\\text{grad}} & H(curl) & \\underset{\\rightarrow}{\\text{curl}} & H(div) & \\underset{\\rightarrow}{\\text{div}} & L_2\\\\\n",
    "\\bigcup & \\ & \\bigcup & \\ & \\bigcup & \\ & \\bigcup \\\\ \n",
    "W_h & \\underset{\\rightarrow}{\\text{grad}} & V_h & \\underset{\\rightarrow}{\\text{curl}} & Q_h & \\underset{\\rightarrow}{\\text{div}} & S_h\n",
    "\\end{array}$$\n",
    "NGSolve supports these elements of arbitrary order, on all common element shapes (trigs, quads, tets, prisms, pyramids, hexes). Elements may be curved."
   ]
  },
  {
   "cell_type": "code",
   "execution_count": 1,
   "metadata": {
    "collapsed": true
   },
   "outputs": [],
   "source": [
    "import netgen.gui\n",
    "%gui tk\n",
    "from ngsolve import *\n",
    "from netgen.geom2d import unit_square\n",
    "from netgen.csg import unit_cube\n",
    "mesh = Mesh(unit_square.GenerateMesh(maxh=0.3))\n"
   ]
  },
  {
   "cell_type": "markdown",
   "metadata": {},
   "source": [
    "Generate a higher order $H^1$ space. We first explore its different types of basis functions."
   ]
  },
  {
   "cell_type": "code",
   "execution_count": 2,
   "metadata": {
    "collapsed": true
   },
   "outputs": [],
   "source": [
    "order=3\n",
    "fes = H1(mesh, order=order)\n",
    "gfu = GridFunction(fes)\n",
    "Draw(gfu)"
   ]
  },
  {
   "cell_type": "markdown",
   "metadata": {},
   "source": [
    "The first #vertices basis functions are hat-functions. By setting the solution vector to a unit-vector, we may look at the individual basis functions:"
   ]
  },
  {
   "cell_type": "code",
   "execution_count": 3,
   "metadata": {
    "collapsed": true
   },
   "outputs": [],
   "source": [
    "SetVisualization(min=0, max=1)\n",
    "gfu.vec[:] = 0\n",
    "# vertex nr:\n",
    "gfu.vec[18] = 1\n",
    "Redraw()\n"
   ]
  },
  {
   "cell_type": "markdown",
   "metadata": {},
   "source": [
    "The next are edge-bubbles, where we have (order−1) basis functions per edge. A NodeId object refers to a particular vertex, edge, face or cell node in the mesh. We can ask for the degrees of freedom on a node:"
   ]
  },
  {
   "cell_type": "code",
   "execution_count": 4,
   "metadata": {},
   "outputs": [
    {
     "name": "stdout",
     "output_type": "stream",
     "text": [
      "edge_dofs = (44, 45)\n"
     ]
    }
   ],
   "source": [
    "# basis functions on edge nr:\n",
    "edge_dofs = fes.GetDofNrs(NodeId(EDGE,10))\n",
    "print(\"edge_dofs =\", edge_dofs)\n",
    "SetVisualization(min=-0.05, max=0.05)\n",
    "gfu.vec[:] = 0\n",
    "gfu.vec[edge_dofs[1]] = 1\n",
    "Redraw()\n"
   ]
  },
  {
   "cell_type": "markdown",
   "metadata": {},
   "source": [
    "Finally, we have $(p−1)(p−2)/2$\n",
    "inner basis functions on every triangle:"
   ]
  },
  {
   "cell_type": "code",
   "execution_count": 13,
   "metadata": {},
   "outputs": [
    {
     "name": "stdout",
     "output_type": "stream",
     "text": [
      "trig_dofs =  (130,)\n"
     ]
    }
   ],
   "source": [
    "trig_dofs = fes.GetDofNrs(NodeId(FACE,0))\n",
    "print(\"trig_dofs = \", trig_dofs)\n",
    "SetVisualization(min=0, max=0.03)\n",
    "gfu.vec[:] = 0\n",
    "gfu.vec[trig_dofs[0]] = 1\n",
    "Redraw()\n"
   ]
  },
  {
   "cell_type": "markdown",
   "metadata": {},
   "source": [
    "The FESpace also maintains information about local dofs, interface dofs and wire-basket dofs for the BDDC preconditioner:"
   ]
  },
  {
   "cell_type": "code",
   "execution_count": null,
   "metadata": {
    "collapsed": true
   },
   "outputs": [],
   "source": [
    "for i in range(fes.ndof):\n",
    "    print (i,\":\", fes.CouplingType(i))"
   ]
  },
  {
   "cell_type": "code",
   "execution_count": 14,
   "metadata": {
    "collapsed": true
   },
   "outputs": [],
   "source": [
    "fes = HCurl(mesh, order=2)\n",
    "uc = GridFunction(fes, name=\"uc\")\n",
    "Draw (uc)\n",
    "Draw (curl(uc), mesh, \"curl\")\n"
   ]
  },
  {
   "cell_type": "code",
   "execution_count": 18,
   "metadata": {},
   "outputs": [
    {
     "name": "stdout",
     "output_type": "stream",
     "text": [
      "edgedofs:  (10, 73, 74)\n"
     ]
    }
   ],
   "source": [
    "edge_dofs = fes.GetDofNrs(NodeId(EDGE,10))\n",
    "print (\"edgedofs: \", edge_dofs)\n",
    "uc.vec[:] = 0\n",
    "uc.vec[edge_dofs[1]] = 1\n",
    "SetVisualization(min=-0.8, max=0.8)\n",
    "# use visual to view vector function, and/or scalar functions and set limits\n",
    "Redraw()"
   ]
  },
  {
   "cell_type": "code",
   "execution_count": 21,
   "metadata": {},
   "outputs": [
    {
     "name": "stdout",
     "output_type": "stream",
     "text": [
      "facedofs:  (234, 235, 236)\n"
     ]
    }
   ],
   "source": [
    "face_dofs = fes.GetDofNrs(NodeId(FACE,10))\n",
    "print (\"facedofs: \", face_dofs)\n",
    "uc.vec[:] = 0\n",
    "uc.vec[face_dofs[2]] = 1\n",
    "Redraw()"
   ]
  },
  {
   "cell_type": "code",
   "execution_count": null,
   "metadata": {
    "collapsed": true
   },
   "outputs": [],
   "source": []
  }
 ],
 "metadata": {
  "kernelspec": {
   "display_name": "Python 3",
   "language": "python",
   "name": "python3"
  },
  "language_info": {
   "codemirror_mode": {
    "name": "ipython",
    "version": 3
   },
   "file_extension": ".py",
   "mimetype": "text/x-python",
   "name": "python",
   "nbconvert_exporter": "python",
   "pygments_lexer": "ipython3",
   "version": "3.5.2"
  }
 },
 "nbformat": 4,
 "nbformat_minor": 2
}
