{
 "cells": [
  {
   "cell_type": "code",
   "execution_count": 1,
   "metadata": {
    "collapsed": true
   },
   "outputs": [],
   "source": [
    "import netgen.gui\n",
    "%gui tk\n",
    "from ngsolve import *\n",
    "from netgen.geom2d import unit_square\n",
    "from netgen.csg import unit_cube\n",
    "mesh = Mesh(unit_square.GenerateMesh(maxh=0.3))\n"
   ]
  },
  {
   "cell_type": "code",
   "execution_count": 2,
   "metadata": {
    "collapsed": true
   },
   "outputs": [],
   "source": [
    "order=3\n",
    "fes = H1(mesh, order=order)\n",
    "gfu = GridFunction(fes)\n",
    "Draw(gfu)"
   ]
  },
  {
   "cell_type": "code",
   "execution_count": 3,
   "metadata": {
    "collapsed": true
   },
   "outputs": [],
   "source": [
    "SetVisualization(min=0, max=1)\n",
    "gfu.vec[:] = 0\n",
    "# vertex nr:\n",
    "gfu.vec[17] = 1\n",
    "Redraw()\n"
   ]
  },
  {
   "cell_type": "code",
   "execution_count": 4,
   "metadata": {},
   "outputs": [
    {
     "name": "stdout",
     "output_type": "stream",
     "text": [
      "edge_dofs = (40, 41)\n"
     ]
    }
   ],
   "source": [
    "# basis functions on edge nr:\n",
    "edge_dofs = fes.GetDofNrs(NodeId(EDGE,10))\n",
    "print(\"edge_dofs =\", edge_dofs)\n",
    "SetVisualization(min=-0.05, max=0.05)\n",
    "gfu.vec[:] = 0\n",
    "gfu.vec[edge_dofs[1]] = 1\n",
    "Redraw()\n"
   ]
  },
  {
   "cell_type": "code",
   "execution_count": 5,
   "metadata": {},
   "outputs": [
    {
     "name": "stdout",
     "output_type": "stream",
     "text": [
      "trig_dofs =  (102,)\n"
     ]
    }
   ],
   "source": [
    "trig_dofs = fes.GetDofNrs(NodeId(FACE,0))\n",
    "print(\"trig_dofs = \", trig_dofs)\n",
    "SetVisualization(min=0, max=0.03)\n",
    "gfu.vec[:] = 0\n",
    "gfu.vec[trig_dofs[0]] = 1\n",
    "Redraw()\n"
   ]
  },
  {
   "cell_type": "code",
   "execution_count": 6,
   "metadata": {
    "collapsed": true
   },
   "outputs": [],
   "source": [
    "fes = HCurl(mesh, order=2)\n",
    "uc = GridFunction(fes, name=\"uc\")\n",
    "Draw (uc)\n",
    "Draw (curl(uc), mesh, \"curl\")\n"
   ]
  },
  {
   "cell_type": "code",
   "execution_count": 7,
   "metadata": {},
   "outputs": [
    {
     "name": "stdout",
     "output_type": "stream",
     "text": [
      "edgedofs:  (10, 61, 62)\n"
     ]
    }
   ],
   "source": [
    "edge_dofs = fes.GetDofNrs(NodeId(EDGE,10))\n",
    "print (\"edgedofs: \", edge_dofs)\n",
    "uc.vec[:] = 0\n",
    "uc.vec[edge_dofs[1]] = 1\n",
    "SetVisualization(min=-0.8, max=0.8)\n",
    "# use visual to view vector function, and/or scalar functions and set limits\n",
    "Redraw()"
   ]
  },
  {
   "cell_type": "code",
   "execution_count": 8,
   "metadata": {},
   "outputs": [
    {
     "name": "stdout",
     "output_type": "stream",
     "text": [
      "facedofs:  (165, 166, 167)\n"
     ]
    }
   ],
   "source": [
    "face_dofs = fes.GetDofNrs(NodeId(FACE,10))\n",
    "print (\"facedofs: \", face_dofs)\n",
    "uc.vec[:] = 0\n",
    "uc.vec[face_dofs[1]] = 1\n",
    "Redraw()"
   ]
  }
 ],
 "metadata": {
  "kernelspec": {
   "display_name": "Python 3",
   "language": "python",
   "name": "python3"
  },
  "language_info": {
   "codemirror_mode": {
    "name": "ipython",
    "version": 3
   },
   "file_extension": ".py",
   "mimetype": "text/x-python",
   "name": "python",
   "nbconvert_exporter": "python",
   "pygments_lexer": "ipython3",
   "version": "3.5.2"
  }
 },
 "nbformat": 4,
 "nbformat_minor": 2
}
