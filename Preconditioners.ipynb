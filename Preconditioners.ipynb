{
 "cells": [
  {
   "cell_type": "markdown",
   "metadata": {},
   "source": [
    "\n",
    "# Preconditioners in NGSolve\n",
    "\n",
    "Preconditioners are approximative inverses which are used within iterative methods to solve linear or non-linear equations.\n",
    "\n",
    "Available preconditioners in NGSolve are\n",
    "\n",
    "- Jacobi and Block-Jacobi\n",
    "- Direct solvers, i.e. sparse factorization\n",
    "- Multigrid with different block-smoothers\n",
    "- p-version element-level BDDC\n",
    "\n"
   ]
  },
  {
   "cell_type": "code",
   "execution_count": 1,
   "metadata": {},
   "outputs": [],
   "source": [
    "from netgen.csg import unit_cube\n",
    "from netgen.geom2d import unit_square\n",
    "from ngsolve import *\n",
    "import netgen.gui\n",
    "%gui tk\n"
   ]
  },
  {
   "cell_type": "markdown",
   "metadata": {},
   "source": [
    "Define a standard Poisson problem, original mesh-size $h$, polynomial order $p$, refinement levels $l$, and give the name of a preconditioner as argument.\n",
    "\n",
    "Returns list of tuples of number of unknowns and iterations:\n",
    "\n"
   ]
  },
  {
   "cell_type": "code",
   "execution_count": 5,
   "metadata": {},
   "outputs": [],
   "source": [
    "def SolveProblem(h=0.5, p=1, levels=1, \n",
    "                 eliminate_internal = False,\n",
    "                 precond=\"local\"):\n",
    "    \n",
    "    mesh = Mesh(unit_square.GenerateMesh(maxh=h))\n",
    "    # mesh = Mesh(unit_cube.GenerateMesh(maxh=h))\n",
    "    fes = H1(mesh, order=p, dirichlet=\"bottom|left\")\n",
    "    \n",
    "    u = fes.TrialFunction()\n",
    "    v = fes.TestFunction()\n",
    "    a = BilinearForm(fes, flags = { \"eliminate_internal\" : eliminate_internal })\n",
    "    a += SymbolicBFI(grad(u)*(grad(v)))\n",
    "    f = LinearForm(fes)\n",
    "    f += SymbolicLFI(1*v)\n",
    "    gfu = GridFunction(fes)\n",
    "    Draw (gfu)\n",
    "    c = Preconditioner(a, precond)\n",
    "    steps = []\n",
    "    \n",
    "    for l in range(levels):\n",
    "        if l > 0: mesh.Refine()\n",
    "        fes.Update()\n",
    "        a.Assemble()\n",
    "        f.Assemble()\n",
    "        gfu.Update()\n",
    "        inv = CGSolver(a.mat, c.mat, maxsteps=1000)\n",
    "        if eliminate_internal:\n",
    "            f.vec.data += a.harmonic_extension_trans * f.vec\n",
    "        gfu.vec.data = inv * f.vec\n",
    "        if eliminate_internal:\n",
    "            gfu.vec.data += a.harmonic_extension * gfu.vec\n",
    "            gfu.vec.data += a.inner_solve * f.vec\n",
    "        steps.append ( (fes.ndof, inv.GetSteps()) )\n",
    "        Redraw ()\n",
    "    return steps"
   ]
  },
  {
   "cell_type": "markdown",
   "metadata": {},
   "source": [
    "The Preconditioner registers itself to the BilinearForm. Whenever the BilinearForm is re-assembled, the Preconditioner is updated as well."
   ]
  },
  {
   "cell_type": "code",
   "execution_count": 6,
   "metadata": {},
   "outputs": [
    {
     "data": {
      "text/plain": [
       "[(8, 4)]"
      ]
     },
     "execution_count": 6,
     "metadata": {},
     "output_type": "execute_result"
    }
   ],
   "source": [
    "\n",
    "SolveProblem(precond=\"local\")\n"
   ]
  },
  {
   "cell_type": "markdown",
   "metadata": {},
   "source": [
    "The number of CG-iterations with a local (i.e. Jacobi) preconditioner is proportional to $h^{−1} \\approx 2l$:"
   ]
  },
  {
   "cell_type": "code",
   "execution_count": 7,
   "metadata": {},
   "outputs": [
    {
     "data": {
      "text/plain": [
       "[(8, 4),\n",
       " (21, 9),\n",
       " (65, 25),\n",
       " (225, 51),\n",
       " (833, 103),\n",
       " (3201, 208),\n",
       " (12545, 418),\n",
       " (49665, 842)]"
      ]
     },
     "execution_count": 7,
     "metadata": {},
     "output_type": "execute_result"
    }
   ],
   "source": [
    "res_local = SolveProblem(levels=8, precond=\"local\")\n",
    "res_local\n"
   ]
  },
  {
   "cell_type": "markdown",
   "metadata": {},
   "source": [
    "A geometric multigrid Preconditioner uses the sequence of refined meshes to define a preconditioner of optimal iteration number (and complexity as well). It uses a direct solve on the coarsest level, and block Gauss-Seidel smoothers on the refined levels"
   ]
  },
  {
   "cell_type": "code",
   "execution_count": 9,
   "metadata": {},
   "outputs": [
    {
     "data": {
      "text/plain": [
       "[(8, 2),\n",
       " (21, 4),\n",
       " (65, 7),\n",
       " (225, 8),\n",
       " (833, 8),\n",
       " (3201, 8),\n",
       " (12545, 8),\n",
       " (49665, 8)]"
      ]
     },
     "execution_count": 9,
     "metadata": {},
     "output_type": "execute_result"
    }
   ],
   "source": [
    "res_mg = SolveProblem(levels=8, precond=\"multigrid\")\n",
    "res_mg\n"
   ]
  },
  {
   "cell_type": "code",
   "execution_count": 10,
   "metadata": {},
   "outputs": [
    {
     "data": {
      "image/png": "[encoded data removed]",
      "text/plain": [
       "<Figure size 432x288 with 1 Axes>"
      ]
     },
     "metadata": {},
     "output_type": "display_data"
    }
   ],
   "source": [
    "%matplotlib inline\n",
    "import matplotlib.pyplot as plt\n",
    "plt.xscale(\"log\")\n",
    "plt.yscale(\"log\")\n",
    "plt.plot(*zip(*res_local), \"-*\")\n",
    "plt.plot(*zip(*res_mg), \"-+\")\n",
    "plt.show()\n"
   ]
  },
  {
   "cell_type": "markdown",
   "metadata": {},
   "source": [
    "For high order elements we use hierarchical spaces, where the (small) sub-spaces $V_E$, $V_F$, and $V_C$\n",
    "\n",
    "are generated by basis functions associated with edges, faces, and cells:\n",
    "$$V_{hp}=V_p=1+\\sum_{edges\\ E} V_E + \\sum_{faces\\ F} V_F + \\sum_{cells\\ C} V_C$$\n",
    "\n",
    "The system matrix is stored as\n",
    "$$\n",
    "\\left(\n",
    "\\begin{array}[ccc]\n",
    "A_{VV} & A_{VE} & A_{VF} & A_{VC} \\\\\n",
    "A_{EV} & A_{EE} & A_{EF} & A_{EC} \\\\\n",
    "A_{FV} & A_{FE} & A_{FF} & A_{FC} \\\\\n",
    "A_{CV} & A_{CE} & A_{CF} & A_{CC} \\\\\n",
    "\\end{array}\n",
    "\\right)\n",
    "$$\n",
    "\n",
    "The $A_{VV}$-block is exactly the system matrix of a lowest order method.\n",
    "\n",
    "A multigrid for a high order method uses h-version multigrid for the lowest order block, and only local block-smoothing for the high order bubble basis functions."
   ]
  },
  {
   "cell_type": "code",
   "execution_count": 11,
   "metadata": {},
   "outputs": [
    {
     "name": "stdout",
     "output_type": "stream",
     "text": [
      "p = 1 , res = [(8, 2), (21, 4), (65, 7), (225, 8)]\n",
      "p = 2 , res = [(21, 5), (65, 6), (225, 8), (833, 8)]\n",
      "p = 3 , res = [(40, 9), (133, 12), (481, 12), (1825, 13)]\n",
      "p = 4 , res = [(65, 12), (225, 15), (833, 16), (3201, 16)]\n",
      "p = 5 , res = [(96, 14), (341, 19), (1281, 20), (4961, 20)]\n",
      "p = 6 , res = [(133, 16), (481, 23), (1825, 23), (7105, 23)]\n",
      "p = 7 , res = [(176, 18), (645, 25), (2465, 26), (9633, 26)]\n",
      "p = 8 , res = [(225, 19), (833, 27), (3201, 28), (12545, 28)]\n",
      "p = 9 , res = [(280, 20), (1045, 29), (4033, 30), (15841, 30)]\n"
     ]
    }
   ],
   "source": [
    "for p in range(1,10):\n",
    "    r = SolveProblem(h=0.5, p=p, levels=4, eliminate_internal=False, \n",
    "                     precond=\"multigrid\")\n",
    "    print (\"p =\",p,\", res =\",r)\n"
   ]
  },
  {
   "cell_type": "code",
   "execution_count": 12,
   "metadata": {},
   "outputs": [
    {
     "name": "stdout",
     "output_type": "stream",
     "text": [
      "p = 1 , res = [(8, 2), (21, 4), (65, 7), (225, 8)]\n",
      "p = 2 , res = [(21, 5), (65, 6), (225, 8), (833, 8)]\n",
      "p = 3 , res = [(40, 5), (133, 6), (481, 7), (1825, 8)]\n",
      "p = 4 , res = [(65, 5), (225, 6), (833, 7), (3201, 8)]\n",
      "p = 5 , res = [(96, 5), (341, 6), (1281, 7), (4961, 8)]\n",
      "p = 6 , res = [(133, 5), (481, 6), (1825, 7), (7105, 8)]\n",
      "p = 7 , res = [(176, 5), (645, 6), (2465, 7), (9633, 8)]\n",
      "p = 8 , res = [(225, 5), (833, 6), (3201, 7), (12545, 8)]\n",
      "p = 9 , res = [(280, 5), (1045, 6), (4033, 7), (15841, 8)]\n"
     ]
    }
   ],
   "source": [
    "for p in range(1,10):\n",
    "    r = SolveProblem(h=0.5, p=p, levels=4, eliminate_internal=True, \n",
    "                     precond=\"multigrid\")\n",
    "    print (\"p =\",p,\", res =\",r)\n"
   ]
  },
  {
   "cell_type": "markdown",
   "metadata": {},
   "source": [
    "For an element-wise BDDC (Balancing Domain Decomposition preconditioner with Constraints) one replaces the finite element space by a space connecting only element vertices, but leaving edge and face variables discontinuous. This allows a local elimination of edge and face variables, and thus a cheap global inverse of the replacement matrix. It is used as a preconditioner for the original system matrix:\n",
    "$$C_{BDDC}^{-1}=R\\tilde{A}^{−1}R^t$$\n",
    "\n",
    "Here, $R$ is the averaging operator for the discontinous edge- and face variables.\n",
    "\n",
    "In contrast to local or multigrid preconditioners, the BDDC - preconditioner needs access to the element matrices. This is exactly the reason why we register the preconditioner with the BilinearForm, and call the bfa.Assemble() later."
   ]
  },
  {
   "cell_type": "code",
   "execution_count": 13,
   "metadata": {},
   "outputs": [
    {
     "name": "stdout",
     "output_type": "stream",
     "text": [
      "p = 1 , res = [(27, 2), (89, 2), (321, 2)]\n",
      "p = 2 , res = [(89, 14), (321, 19), (1217, 20)]\n",
      "p = 3 , res = [(187, 18), (697, 23), (2689, 24)]\n",
      "p = 4 , res = [(321, 21), (1217, 28), (4737, 29)]\n",
      "p = 5 , res = [(491, 23), (1881, 31), (7361, 32)]\n",
      "p = 6 , res = [(697, 25), (2689, 34), (10561, 35)]\n",
      "p = 7 , res = [(939, 27), (3641, 36), (14337, 37)]\n",
      "p = 8 , res = [(1217, 28), (4737, 38), (18689, 40)]\n",
      "p = 9 , res = [(1531, 29), (5977, 39), (23617, 41)]\n"
     ]
    }
   ],
   "source": [
    "for p in range(1,10):\n",
    "    r = SolveProblem(h=0.25, p=p, levels=3, eliminate_internal=True, \n",
    "                     precond=\"bddc\")\n",
    "    print (\"p =\",p,\", res =\",r)\n"
   ]
  },
  {
   "cell_type": "markdown",
   "metadata": {},
   "source": [
    "\n",
    "The BDDC preconditioner needs more iterations, but the work per iteration is less, so performance is similar to multigrid. The BDDC works well in shared memory parallel as well as in distributed memory mode.\n"
   ]
  },
  {
   "cell_type": "code",
   "execution_count": null,
   "metadata": {},
   "outputs": [],
   "source": []
  }
 ],
 "metadata": {
  "kernelspec": {
   "display_name": "Python 3",
   "language": "python",
   "name": "python3"
  },
  "language_info": {
   "codemirror_mode": {
    "name": "ipython",
    "version": 3
   },
   "file_extension": ".py",
   "mimetype": "text/x-python",
   "name": "python",
   "nbconvert_exporter": "python",
   "pygments_lexer": "ipython3",
   "version": "3.6.5"
  }
 },
 "nbformat": 4,
 "nbformat_minor": 2
}
