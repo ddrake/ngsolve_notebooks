{
 "cells": [
  {
   "cell_type": "markdown",
   "metadata": {},
   "source": [
    "# FETI-DP in NGSolve I: Working with Point-Constraints\n",
    "\n",
    "We implement standard FETI-DP, using only point-constraints, for Poisson's equation, in 2D.\n",
    "\n",
    "This is easily done with NGS-Py, because:\n",
    " - We need access to sub-assembled matrices for each subdomain, which is exactly how matrices are stored in NGSolve.\n",
    " - In fact, we can just reuse these local matrices for the dual-primal space.\n",
    " - We do not need to concern ourselfs with finding any sort of global enumeration in the dual-primal space, because\n",
    "   NGSolve does not work with one. We only need ParallelDofs for the dual-primal space.\n",
    "   \n",
    "## Use the cells at the bottom of this file to experiment with bigger computations!\n"
   ]
  },
  {
   "cell_type": "code",
   "execution_count": null,
   "metadata": {},
   "outputs": [],
   "source": [
    "num_procs = '40'"
   ]
  },
  {
   "cell_type": "code",
   "execution_count": null,
   "metadata": {},
   "outputs": [],
   "source": [
    "from usrmeeting_jupyterstuff import *"
   ]
  },
  {
   "cell_type": "code",
   "execution_count": null,
   "metadata": {},
   "outputs": [],
   "source": [
    "stop_cluster()"
   ]
  },
  {
   "cell_type": "code",
   "execution_count": null,
   "metadata": {},
   "outputs": [],
   "source": [
    "start_cluster(num_procs)\n",
    "connect_cluster()"
   ]
  },
  {
   "cell_type": "code",
   "execution_count": null,
   "metadata": {},
   "outputs": [],
   "source": [
    "%%px\n",
    "from ngsolve import *\n",
    "import netgen.meshing as ngmeshing\n",
    "\n",
    "comm = MPI_Init()\n",
    "nref = 1\n",
    "\n",
    "ngmesh = ngmeshing.Mesh(dim=2)\n",
    "ngmesh.Load('squaref.vol')\n",
    "for l in range(nref):\n",
    "    ngmesh.Refine()\n",
    "mesh = Mesh(ngmesh)\n",
    "\n",
    "comm = MPI_Init()\n",
    "fes = H1(mesh, order=2, dirichlet='right|top')\n",
    "a = BilinearForm(fes)\n",
    "u,v = fes.TnT()\n",
    "a += SymbolicBFI(grad(u)*grad(v))\n",
    "a.Assemble()\n",
    "f = LinearForm(fes)\n",
    "f += SymbolicLFI(x*y*v)\n",
    "f.Assemble()\n",
    "avg_dof = comm.Sum(fes.ndof) / comm.size\n",
    "if comm.rank==0:\n",
    "    print('global,  ndof =', fes.ndofglobal, ', lodofs =', fes.lospace.ndofglobal)\n",
    "    print('avg DOFs per core: ', avg_dof)"
   ]
  },
  {
   "cell_type": "markdown",
   "metadata": {},
   "source": [
    "## Finding the primal DOFs\n",
    "\n",
    "First, we have to find out which DOFs sit on subdomain vertices. \n",
    "\n",
    "In 2 dimensions, those are just the ones that are shared between 3 or more ranks.\n",
    "\n",
    "Additionally, we only need to concern ourselfs with non-dirichlet DOFs.\n",
    "\n",
    "We simply construct a BitArray, which is True wherever we have a primal DOF, and else False."
   ]
  },
  {
   "cell_type": "code",
   "execution_count": null,
   "metadata": {},
   "outputs": [],
   "source": [
    "%%px\n",
    "primal_dofs = BitArray([len(fes.ParallelDofs().Dof2Proc(k))>1 for k in range(fes.ndof)]) & fes.FreeDofs()\n",
    "nprim = comm.Sum(sum([1 for k in range(fes.ndof) if primal_dofs[k] \\\n",
    "                      and comm.rank<fes.ParallelDofs().Dof2Proc(k)[0] ]))\n",
    "npmin = comm.Min(primal_dofs.NumSet() if comm.rank else nprim)\n",
    "npavg = comm.Sum(primal_dofs.NumSet())/comm.size\n",
    "npmax = comm.Max(primal_dofs.NumSet())\n",
    "if comm.rank==0:\n",
    "    print('# primal dofs global: ', nprim)  \n",
    "    print('min, avg, max per rank: ', npmin, npavg, npmax)"
   ]
  },
  {
   "cell_type": "markdown",
   "metadata": {},
   "source": [
    "## Setting up the Dual-Primal-Space Matrix\n",
    "\n",
    "We want to assemble the stiffness-matrix on the dual-primal space\n",
    "\n",
    "$$\n",
    "V_{\\scriptscriptstyle DP} = \\{u\\in W : u \\text{ is continuous at subdomain vertices} \\}\n",
    "$$\n",
    "\n",
    "This means that we need:\n",
    " - local stiffness matrices:\n",
    " - ParallelDofs\n",
    "\n",
    "If we restrict $V_{\\scriptscriptstyle DP}$ to some subdomain, we get the same space\n",
    "we get from restricting $V$, so the local matrices are the same!\n",
    "\n",
    "\n",
    "<table style=\"width:100%\">\n",
    "  <tr>\n",
    "      <th bgcolor=\"white\"><font size=3>The coupling of DOFs between the subdomains is now different. We need to construct new ParallelDofs <font></th>\n",
    "    <th bgcolor=\"white\"><img src=\"tix_fetidp_standalone.png\" alt=\"Drawing\" style=\"width: 300px;\"/></th>\n",
    "  </tr>\n",
    "<table>\n",
    "\n",
    "If we think of ParallelDofs as the connection between DOFs of different subdomains,\n",
    "the dual-primal ParallelDofs are simply a subset of the ones in the primal space."
   ]
  },
  {
   "cell_type": "code",
   "execution_count": null,
   "metadata": {},
   "outputs": [],
   "source": [
    "%%px\n",
    "dp_pardofs = fes.ParallelDofs().SubSet(primal_dofs)\n",
    "if comm.rank==0:\n",
    "    print('global ndof in original space   : ', fes.ParallelDofs().ndofglobal)\n",
    "    print('global ndof in dual-primal space: ', dp_pardofs.ndofglobal)    "
   ]
  },
  {
   "cell_type": "markdown",
   "metadata": {},
   "source": [
    "### The ParallelMatrix for the DP-Space\n",
    "\n",
    "A ParallelMatrix is just a local matrix + ParallelDofs.\n",
    "We have access to both."
   ]
  },
  {
   "cell_type": "code",
   "execution_count": null,
   "metadata": {},
   "outputs": [],
   "source": [
    "%%px\n",
    "from ngsolve.la import ParallelMatrix\n",
    "A_dp = ParallelMatrix(a.mat.local_mat, dp_pardofs)\n",
    "A_dp_inv = A_dp.Inverse(fes.FreeDofs(), inverse='mumps')  "
   ]
  },
  {
   "cell_type": "markdown",
   "metadata": {},
   "source": [
    "### The Jump-Operator $B$\n",
    "\n",
    "The Jump-operator is implemented on C++-side. The constraints are fully redundant.\n",
    "The jump operator builds constraints for **all** connections in the\n",
    "given ParallelDofs. In our case, we only need the constraints for the non-primal DOFs.\n",
    "\n",
    "In order for CreateRowVector to be properly defined,\n",
    "the jump-operator has to be told in which space the \"u-vectors\" live. \n",
    "\n",
    "This is done by setting \"u_pardofs\". If none are given, or they are explicitely \n",
    "given as \"None\", B assumes a fully discontinuous u-space."
   ]
  },
  {
   "cell_type": "code",
   "execution_count": null,
   "metadata": {},
   "outputs": [],
   "source": [
    "%%px\n",
    "from ngsolve.la import FETI_Jump\n",
    "dual_pardofs = fes.ParallelDofs().SubSet(BitArray(~primal_dofs & fes.FreeDofs()))\n",
    "B = FETI_Jump(dual_pardofs, u_pardofs=dp_pardofs)\n",
    "if comm.rank==0:\n",
    "    print('# of global multipliers = :', B.col_pardofs.ndofglobal)\n",
    "elif comm.rank<10:\n",
    "    print('rank', comm.rank, ', # of local multipliers = ', B.col_pardofs.ndoflocal)"
   ]
  },
  {
   "cell_type": "markdown",
   "metadata": {},
   "source": [
    "### Forming the Schur-Complement\n",
    "\n",
    "We can very easily define the (negative) Schur-Complement\n",
    "$ F = B~A_{\\scriptscriptstyle DP}^{-1}~B^T $\n",
    "with the \"@\"-operator.\n",
    "\n",
    "\"@\" can concatenate any operators of \"BaseMatrix\" type.\n",
    "They have to provide a Mult method as well as CreateRow/ColVector,\n",
    "which is needed to construct vectors to store intermediate vectors.\n"
   ]
  },
  {
   "cell_type": "code",
   "execution_count": null,
   "metadata": {},
   "outputs": [],
   "source": [
    "%%px \n",
    "F = B @ A_dp_inv @ B.T\n",
    "if comm.rank==0:\n",
    "    print('type F: ', type(F))"
   ]
  },
  {
   "cell_type": "markdown",
   "metadata": {},
   "source": [
    "### The Preconditioner"
   ]
  },
  {
   "cell_type": "markdown",
   "metadata": {},
   "source": [
    "The Dirichlet-Preconditioner can also be written down very easily.\n",
    "\n",
    "We have, with B standing for border DOFs, and I standing for inner DOFs,\n",
    "$$\n",
    "M^{-1} = B ~ (A_{BB} - A_{BI}A_{II}^{-1}A_{IB}) ~ B^T\n",
    "$$\n",
    "\n",
    "The inner part, the Dirichlet-to-Neumann Schur-Complement, can \n",
    "be implemented with a small trick:\n",
    "\n",
    "\\begin{align*}\n",
    "\\left(\\begin{matrix}\n",
    "A_{BB} & A_{BI} \\\\\n",
    "A_{IB} & A_{II}\n",
    "\\end{matrix}\\right)\n",
    "\\cdot\n",
    "\\left[\n",
    "\\left(\\begin{matrix}\n",
    "I & 0\\\\\n",
    "0 & I\n",
    "\\end{matrix}\\right)\n",
    "-\n",
    "\\left(\\begin{matrix}\n",
    "0 & 0\\\\\n",
    "0 & A_{II}^{-1}\n",
    "\\end{matrix}\\right)\n",
    "\\cdot\n",
    "\\left(\\begin{matrix}\n",
    "A_{BB} & A_{BI} \\\\\n",
    "A_{IB} & A_{II}\n",
    "\\end{matrix}\\right)\n",
    "\\right] \n",
    "&\n",
    "= \n",
    "\\left(\\begin{matrix}\n",
    "A_{BB} & A_{BI} \\\\\n",
    "A_{IB} & A_{II}\n",
    "\\end{matrix}\\right)\n",
    "\\cdot\n",
    "\\left[\n",
    "\\left(\\begin{matrix}\n",
    "I & 0\\\\\n",
    "0 & I\n",
    "\\end{matrix}\\right)\n",
    "-\n",
    "\\left(\\begin{matrix}\n",
    "0 & 0\\\\\n",
    "A_{II}^{-1}A_{IB} & I\n",
    "\\end{matrix}\\right)\n",
    "\\right]\n",
    " = \\\\ =\n",
    "\\left(\\begin{matrix}\n",
    "A_{BB} & A_{BI} \\\\\n",
    "A_{IB} & A_{II}\n",
    "\\end{matrix}\\right)\n",
    "\\cdot\n",
    "\\left(\\begin{matrix}\n",
    "I & 0\\\\\n",
    "-A_{II}^{-1}A_{IB} & 0\n",
    "\\end{matrix}\\right)\n",
    "&\n",
    "=\n",
    "\\left(\\begin{matrix}\n",
    "A_{BB} - A_{BI}A_{II}^{-1}A_{IB} & 0\\\\\n",
    "0 & 0\n",
    "\\end{matrix}\\right)\n",
    "\\end{align*}\n"
   ]
  },
  {
   "cell_type": "code",
   "execution_count": null,
   "metadata": {},
   "outputs": [],
   "source": [
    "%%px\n",
    "innerdofs = BitArray([len(fes.ParallelDofs().Dof2Proc(k))==0 for k in range(fes.ndof)]) & fes.FreeDofs()\n",
    "A = a.mat.local_mat\n",
    "Aiinv = A.Inverse(innerdofs, inverse='sparsecholesky')\n",
    "Fhat = B @ A @ (IdentityMatrix() - Aiinv @ A) @ B.T"
   ]
  },
  {
   "cell_type": "markdown",
   "metadata": {},
   "source": [
    "### Multiplicity Scaling\n",
    "\n",
    "The scaled Dirichlet-Preconditioner is just \n",
    "$$\n",
    "M_s^{-1} = B_s ~ (A_{BB} - A_{BI}A_{II}^{-1}A_{IB}) ~ B_s^T\n",
    "$$\n",
    "where \n",
    "$$\n",
    "B_s^T u = DB^Tu\n",
    "$$\n",
    "and $D = \\text{diag}([\\text{multiplicity of DOF }i\\text{ }: i=0\\ldots n-1])$.\n",
    "\n",
    "We can implement this without untroducing D as a matrix, and thus avoiding copying of entries."
   ]
  },
  {
   "cell_type": "code",
   "execution_count": null,
   "metadata": {},
   "outputs": [],
   "source": [
    "%%px\n",
    "class ScaledMat(BaseMatrix):\n",
    "    def __init__ (self, A, vals):\n",
    "        super(ScaledMat, self).__init__()\n",
    "        self.A = A\n",
    "        self.scaledofs = [k for k in enumerate(vals) if k[1]!=1.0]\n",
    "    def CreateRowVector(self):\n",
    "        return self.A.CreateRowVector()\n",
    "    def CreateColVector(self):\n",
    "        return self.A.CreateColVector()\n",
    "    def Mult(self, x, y):\n",
    "        y.data = self.A * x\n",
    "        for k in self.scaledofs:\n",
    "            y[k[0]] *= k[1]\n",
    "scaledA = ScaledMat(A, [1.0/(1+len(fes.ParallelDofs().Dof2Proc(k))) for k in range(fes.ndof)])\n",
    "scaledBT = ScaledMat(B.T, [1.0/(1+len(fes.ParallelDofs().Dof2Proc(k))) for k in range(fes.ndof)])\n",
    "Fhat2 = B @ scaledA @ (IdentityMatrix() - Aiinv @ A) @ scaledBT"
   ]
  },
  {
   "cell_type": "markdown",
   "metadata": {},
   "source": [
    "### Prepare RHS"
   ]
  },
  {
   "cell_type": "code",
   "execution_count": null,
   "metadata": {},
   "outputs": [],
   "source": [
    "%%px\n",
    "hv = B.CreateRowVector()\n",
    "rhs = B.CreateColVector()\n",
    "lam = B.CreateColVector()\n",
    "hv.data = A_dp_inv * f.vec\n",
    "rhs.data = B * hv"
   ]
  },
  {
   "cell_type": "markdown",
   "metadata": {},
   "source": [
    "### Solve for $\\lambda$ - without scaling"
   ]
  },
  {
   "cell_type": "code",
   "execution_count": null,
   "metadata": {},
   "outputs": [],
   "source": [
    "%%px\n",
    "tsolve1 = -comm.WTime()\n",
    "solvers.CG(mat=F, pre=Fhat, rhs=rhs, sol=lam, maxsteps=100, printrates=comm.rank==0, tol=1e-6)\n",
    "tsolve1 += comm.WTime()\n",
    "if comm.rank==0:\n",
    "    print('time to solve =', tsolve1)"
   ]
  },
  {
   "cell_type": "markdown",
   "metadata": {},
   "source": [
    "### Solve for $\\lambda$ - with scaling"
   ]
  },
  {
   "cell_type": "code",
   "execution_count": null,
   "metadata": {},
   "outputs": [],
   "source": [
    "%%px\n",
    "tsolve2 = -comm.WTime()\n",
    "solvers.MinRes(mat=F, pre=Fhat2, rhs=rhs, sol=lam, maxsteps=100, printrates=comm.rank==0, tol=1e-6)\n",
    "tsolve2 += comm.WTime()\n",
    "if comm.rank==0:\n",
    "    print('time to solve =', tsolve2)"
   ]
  },
  {
   "cell_type": "markdown",
   "metadata": {},
   "source": [
    "### A faster dual-primal Inverse\n",
    "\n",
    "We just inverted $A_{\\scriptscriptstyle DP}$ with MUMPS, and while this is\n",
    "faster than inverting $A$, in practice this is not scalable.\n",
    "\n",
    "MUMPS does not realize that it can eliminate all of the dual DOFs **locally**.\n",
    "\n",
    "We can implement a much faster, and more scalable, dual-primal\n",
    "inverse per hand. For that, we reduce the problem to the Schur-complement\n",
    "with resprect to the primal DOFs **using local sparse matrix factorization**, and\n",
    "then only invert the primal schur-complement $S_{\\pi\\pi}$ **globally**.\n",
    "\n",
    "In order to globally invert $S_{\\pi\\pi}$, we need its local sub-matrix as\n",
    "a sparse matrix, not as the expression\n",
    "\n",
    "         A @ (IdentityMatrix() - All_inv @ A)\n",
    "\n",
    "For that, we can just repeatedly multiply unit vectors."
   ]
  },
  {
   "cell_type": "code",
   "execution_count": null,
   "metadata": {},
   "outputs": [],
   "source": [
    "%%px\n",
    "from dd_toolbox import Op2SPM\n",
    "class LocGlobInverse(BaseMatrix):\n",
    "    def __init__ (self, Aglob, freedofs, invtype_loc='sparsecholesky',\\\n",
    "                  invtype_glob='masterinverse'):\n",
    "        super(LocGlobInverse, self).__init__()\n",
    "        self.Aglob = Aglob  \n",
    "        self.A = Aglob.local_mat  \n",
    "        pardofs = Aglob.col_pardofs \n",
    "        local_dofs = BitArray([len(pardofs.Dof2Proc(k))==0 for k in range(pardofs.ndoflocal)]) & freedofs\n",
    "        global_dofs = BitArray(~local_dofs & freedofs)\n",
    "        self.All_inv = self.A.Inverse(local_dofs, inverse=invtype_loc) \n",
    "        sp_loc_asmult = self.A @ (IdentityMatrix() - self.All_inv @ self.A)\n",
    "        sp_loc = Op2SPM(sp_loc_asmult, global_dofs, global_dofs)\n",
    "        sp = ParallelMatrix(sp_loc, pardofs)\n",
    "        self.Sp_inv = sp.Inverse(global_dofs, inverse=invtype_glob)\n",
    "        self.tv = self.Aglob.CreateRowVector()\n",
    "        self.btilde = self.Aglob.CreateRowVector()\n",
    "    def CreateRowVector(self):\n",
    "        return self.Aglob.CreateRowVector()\n",
    "    def CreateColVector(self):\n",
    "        return self.CreateRowVector()\n",
    "    def Mult(self, b, u):\n",
    "        self.tv.data = self.All_inv * b\n",
    "        b.Distribute()\n",
    "        self.btilde.data = b - self.A * self.tv\n",
    "        u.data = self.Sp_inv * self.btilde\n",
    "        self.tv.data =  b - self.A * u\n",
    "        u.data += self.All_inv * self.tv"
   ]
  },
  {
   "cell_type": "code",
   "execution_count": null,
   "metadata": {},
   "outputs": [],
   "source": [
    "%%px\n",
    "A_dp_inv2 = LocGlobInverse(A_dp, fes.FreeDofs(), \\\n",
    "                           'sparsecholesky', 'mumps')\n",
    "F2 = B @ A_dp_inv2 @ B.T"
   ]
  },
  {
   "cell_type": "markdown",
   "metadata": {},
   "source": [
    "### Solve for $\\lambda$"
   ]
  },
  {
   "cell_type": "code",
   "execution_count": null,
   "metadata": {},
   "outputs": [],
   "source": [
    "%%px\n",
    "\n",
    "tsolve1 = -comm.WTime()\n",
    "solvers.CG(mat=F, pre=Fhat, rhs=rhs, sol=lam, maxsteps=100, printrates=comm.rank==0, tol=1e-6)\n",
    "tsolve1 += comm.WTime()\n",
    "\n",
    "if comm.rank==0:\n",
    "    print('')\n",
    "    \n",
    "tsolve2 = -comm.WTime()\n",
    "solvers.CG(mat=F, pre=Fhat2, rhs=rhs, sol=lam, maxsteps=100, printrates=comm.rank==0, tol=1e-6)\n",
    "tsolve2 += comm.WTime()\n",
    "\n",
    "if comm.rank==0:\n",
    "    print('')\n",
    "\n",
    "tsolve3 = -comm.WTime()\n",
    "solvers.CG(mat=F2, pre=Fhat2, rhs=rhs, sol=lam, maxsteps=100, printrates=comm.rank==0, tol=1e-6)\n",
    "tsolve3 += comm.WTime()\n",
    "\n",
    "if comm.rank==0:\n",
    "    print('\\ntime solve v1: ', tsolve1)\n",
    "    print('time solve v2: ', tsolve2)\n",
    "    print('time solve v3: ', tsolve3)"
   ]
  },
  {
   "cell_type": "markdown",
   "metadata": {},
   "source": [
    "Not that the normal and scaled variants of the Dirichlet-Preconditioner\n",
    "are equivalent here, because all DOFs are either local, primal, or shared\n",
    "by **exactly two** ranks.\n",
    "\n",
    "\n",
    "\n",
    "### Reconstruct $u$"
   ]
  },
  {
   "cell_type": "code",
   "execution_count": null,
   "metadata": {},
   "outputs": [],
   "source": [
    "%%px\n",
    "\n",
    "gfu = GridFunction(fes)\n",
    "hv.data = f.vec - B.T * lam\n",
    "gfu.vec.data = A_dp_inv * hv\n",
    "\n",
    "jump = lam.CreateVector()\n",
    "jump.data = B * gfu.vec\n",
    "norm_jump = Norm(jump)\n",
    "if comm.rank==0:\n",
    "    print('norm jump u: ', norm_jump)"
   ]
  },
  {
   "cell_type": "code",
   "execution_count": null,
   "metadata": {},
   "outputs": [],
   "source": [
    "%%px --target 1\n",
    "for t in sorted(filter(lambda t:t['time']>0.5, Timers()), key=lambda t:t['time'], reverse=True):\n",
    "    print(t['name'], ':  ', t['time'])"
   ]
  },
  {
   "cell_type": "code",
   "execution_count": null,
   "metadata": {},
   "outputs": [],
   "source": [
    "%%px\n",
    "t_chol = filter(lambda t: t['name'] == 'SparseCholesky<d,d,d>::MultAdd', Timers()).__next__()\n",
    "maxt = comm.Max(t_chol['time']) \n",
    "if t_chol['time'] == maxt:\n",
    "    for t in sorted(filter(lambda t:t['time']>0.3*maxt, Timers()), key=lambda t:t['time'], reverse=True):\n",
    "        print(t['name'], ':  ', t['time'])"
   ]
  },
  {
   "cell_type": "code",
   "execution_count": null,
   "metadata": {},
   "outputs": [],
   "source": [
    "stop_cluster()"
   ]
  },
  {
   "cell_type": "markdown",
   "metadata": {},
   "source": [
    "# Experiment Below!"
   ]
  },
  {
   "cell_type": "code",
   "execution_count": null,
   "metadata": {},
   "outputs": [],
   "source": [
    "from usrmeeting_jupyterstuff import *\n",
    "num_procs = '80'\n",
    "start_cluster(num_procs)\n",
    "connect_cluster()"
   ]
  },
  {
   "cell_type": "code",
   "execution_count": null,
   "metadata": {},
   "outputs": [],
   "source": [
    "%%px\n",
    "from ngsolve import *\n",
    "import netgen.meshing as ngmeshing\n",
    "from ngsolve.la import ParallelMatrix, FETI_Jump\n",
    "from dd_toolbox import LocGlobInverse, ScaledMat\n",
    "\n",
    "def load_mesh(nref=0):\n",
    "    ngmesh = ngmeshing.Mesh(dim=2)\n",
    "    ngmesh.Load('squaref.vol')\n",
    "    for l in range(nref):\n",
    "        ngmesh.Refine()\n",
    "    return Mesh(ngmesh)\n",
    "\n",
    "def setup_space(mesh, order=1):\n",
    "    comm = MPI_Init()\n",
    "    fes = H1(mesh, order=order, dirichlet='right|top')\n",
    "    a = BilinearForm(fes)\n",
    "    u,v = fes.TnT()\n",
    "    a += SymbolicBFI(grad(u)*grad(v))\n",
    "    a.Assemble()\n",
    "    f = LinearForm(fes)\n",
    "    f += SymbolicLFI(x*y*v)\n",
    "    f.Assemble()\n",
    "    avg_dof = comm.Sum(fes.ndof) / comm.size\n",
    "    if comm.rank==0:\n",
    "        print('global,  ndof =', fes.ndofglobal, ', lodofs =', fes.lospace.ndofglobal)\n",
    "        print('avg DOFs per core: ', avg_dof)\n",
    "    return [fes, a, f]\n",
    "\n",
    "def setup_FETIDP(fes, a):\n",
    "    primal_dofs = BitArray([len(fes.ParallelDofs().Dof2Proc(k))>1 for k in range(fes.ndof)]) & fes.FreeDofs()\n",
    "    nprim = comm.Sum(sum([1 for k in range(fes.ndof) if primal_dofs[k] \\\n",
    "                          and comm.rank<fes.ParallelDofs().Dof2Proc(k)[0] ]))\n",
    "    if comm.rank==0:\n",
    "        print('# primal dofs global: ', nprim)  \n",
    "    dp_pardofs = fes.ParallelDofs().SubSet(primal_dofs)\n",
    "    A_dp = ParallelMatrix(a.mat.local_mat, dp_pardofs)\n",
    "    A_dp_inv = A_dp.Inverse(fes.FreeDofs(), inverse='mumps')  \n",
    "    dual_pardofs = fes.ParallelDofs().SubSet(BitArray(~primal_dofs & fes.FreeDofs()))\n",
    "    B = FETI_Jump(dual_pardofs, u_pardofs=dp_pardofs)\n",
    "    if comm.rank==0:\n",
    "        print('# of global multipliers = :', B.col_pardofs.ndofglobal)\n",
    "    F = B @ A_dp_inv @ B.T\n",
    "    A_dp_inv2 = LocGlobInverse(A_dp, fes.FreeDofs(), \\\n",
    "                               invtype_loc='sparsecholesky',\\\n",
    "                               invtype_glob='masterinverse')\n",
    "    F2 = B @ A_dp_inv2 @ B.T\n",
    "    innerdofs = BitArray([len(fes.ParallelDofs().Dof2Proc(k))==0 for k in range(fes.ndof)]) & fes.FreeDofs()\n",
    "    A = a.mat.local_mat\n",
    "    Aiinv = A.Inverse(innerdofs, inverse='sparsecholesky')\n",
    "    Fhat = B @ A @ (IdentityMatrix() - Aiinv @ A) @ B.T\n",
    "    scaledA = ScaledMat(A, [1.0/(1+len(fes.ParallelDofs().Dof2Proc(k))) for k in range(fes.ndof)])\n",
    "    scaledBT = ScaledMat(B.T, [1.0/(1+len(fes.ParallelDofs().Dof2Proc(k))) for k in range(fes.ndof)])\n",
    "    Fhat2 = B @ scaledA @ (IdentityMatrix() - Aiinv @ A) @ scaledBT\n",
    "    return [A_dp, A_dp_inv, A_dp_inv2, F, F2, Fhat, Fhat2, B, scaledA, scaledBT]\n",
    "    \n",
    "def prep(B, Ainv, f):\n",
    "    rhs.data = (B @ Ainv) * f.vec\n",
    "    return rhs\n",
    "\n",
    "def solve(mat, pre, rhs, sol):\n",
    "    t = comm.WTime()\n",
    "    solvers.CG(mat=mat, pre=pre, rhs=rhs, sol=sol, \\\n",
    "               maxsteps=100, printrates=comm.rank==0, tol=1e-6)\n",
    "    return comm.WTime() - t\n",
    "    \n",
    "def post(B, Ainv, gfu, lam):\n",
    "    hv = B.CreateRowVector()\n",
    "    hv.data = f.vec - B.T * lam\n",
    "    gfu.vec.data = Ainv * hv\n",
    "    jump = lam.CreateVector()\n",
    "    jump.data = B * gfu.vec\n",
    "    norm_jump = Norm(jump)\n",
    "    if comm.rank==0:\n",
    "        print('norm jump u: ', norm_jump)   "
   ]
  },
  {
   "cell_type": "code",
   "execution_count": null,
   "metadata": {},
   "outputs": [],
   "source": [
    "%%px\n",
    "comm = MPI_Init()\n",
    "mesh = load_mesh(nref=1)\n",
    "fes, a, f = setup_space(mesh, order=2)\n",
    "A_dp, A_dp_inv, A_dp_inv2, F, F2, Fhat, Fhat2, B, scaledA, scaledBT = setup_FETIDP(fes, a)\n",
    "rhs = B.CreateColVector()\n",
    "lam = B.CreateColVector()\n",
    "prep(B, A_dp_inv2, f)\n",
    "if comm.rank==0:\n",
    "    print('')\n",
    "t1 = solve(F,  Fhat,  rhs, lam)\n",
    "if comm.rank==0:\n",
    "    print('')\n",
    "t2 = solve(F,  Fhat2, rhs, lam)\n",
    "if comm.rank==0:\n",
    "    print('')\n",
    "t3 = solve(F2, Fhat2, rhs, lam)\n",
    "if comm.rank==0:\n",
    "    print('\\ntime solve v1: ', t1)\n",
    "    print('time solve v2: ', t2)\n",
    "    print('time solve v3: ', t3)\n",
    "gfu = GridFunction(fes)\n",
    "post(B, A_dp_inv2, gfu, lam)"
   ]
  },
  {
   "cell_type": "code",
   "execution_count": null,
   "metadata": {},
   "outputs": [],
   "source": [
    "%%px --target 1\n",
    "for t in sorted(filter(lambda t:t['time']>0.5, Timers()), key=lambda t:t['time'], reverse=True):\n",
    "    print(t['name'], ':  ', t['time'])"
   ]
  },
  {
   "cell_type": "code",
   "execution_count": null,
   "metadata": {},
   "outputs": [],
   "source": [
    "%%px\n",
    "t_chol = filter(lambda t: t['name'] == 'SparseCholesky<d,d,d>::MultAdd', Timers()).__next__()\n",
    "maxt = comm.Max(t_chol['time']) \n",
    "if t_chol['time'] == maxt:\n",
    "    print('timers from rank ', comm.rank, ':')\n",
    "    for t in sorted(filter(lambda t:t['time']>min(0.3*maxt, 0.5), Timers()), key=lambda t:t['time'], reverse=True):\n",
    "        print(t['name'], ':  ', t['time'])"
   ]
  },
  {
   "cell_type": "code",
   "execution_count": null,
   "metadata": {},
   "outputs": [],
   "source": [
    "stop_cluster()"
   ]
  }
 ],
 "metadata": {
  "kernelspec": {
   "display_name": "Python 3",
   "language": "python",
   "name": "python3"
  },
  "language_info": {
   "codemirror_mode": {
    "name": "ipython",
    "version": 3
   },
   "file_extension": ".py",
   "mimetype": "text/x-python",
   "name": "python",
   "nbconvert_exporter": "python",
   "pygments_lexer": "ipython3",
   "version": "3.6.0"
  }
 },
 "nbformat": 4,
 "nbformat_minor": 2
}
