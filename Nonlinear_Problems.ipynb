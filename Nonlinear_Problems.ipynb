{
 "cells": [
  {
   "cell_type": "markdown",
   "metadata": {},
   "source": [
    "\n",
    "# Nonlinear problems (Unit 3.7)\n",
    "\n",
    "We want to solve a nonlinear PDE.\n",
    "## A simple scalar PDE\n",
    "\n",
    "We consider the simple PDE\n",
    "$$−\\Delta u + 3 u^3 = 1 \\text{ in } \\Omega$$\n",
    "on the unit square $\\Omega =(0,1)^2$. We note that this PDE can also be formulated as a nonlinear minimization problem (cf. unit 3.8 ).\n",
    "\n",
    "DD: not stated here but u is assumed to be zero on the boundary."
   ]
  },
  {
   "cell_type": "code",
   "execution_count": 1,
   "metadata": {},
   "outputs": [],
   "source": [
    "import netgen.gui\n",
    "%gui tk\n",
    "import tkinter\n",
    "from netgen.geom2d import unit_square\n",
    "from ngsolve import *\n",
    "\n",
    "mesh = Mesh (unit_square.GenerateMesh(maxh=0.3))\n"
   ]
  },
  {
   "cell_type": "markdown",
   "metadata": {},
   "source": [
    "\n",
    "In NGSolve we can solve the PDE conveniently using the linearization feature of SymbolicBFI.\n",
    "\n",
    "The \"BilinearForm\" (which is not bilinear!) needed in the weak formulation is\n",
    "$$A(u,v)=\\int_Ω \\nabla u \\nabla v + 3 u^3 v - 1v dx \\hspace{2em} (=0 \\ \\forall v \\in H_0^1)$$"
   ]
  },
  {
   "cell_type": "code",
   "execution_count": 2,
   "metadata": {},
   "outputs": [],
   "source": [
    "V = H1(mesh, order=3, dirichlet=[1,2,3,4])\n",
    "u,v = V.TnT()\n",
    "a = BilinearForm(V)\n",
    "# Note: the updated tutorial had left the old function 5u^2 v\n",
    "a += SymbolicBFI( grad(u) * grad(v) + 3*u**3*v - 1 * v)"
   ]
  },
  {
   "cell_type": "markdown",
   "metadata": {},
   "source": [
    "### Newton's method\n",
    "\n",
    "We use Newton's method and make the loop:\n",
    "\n",
    "- Given an initial guess $u_0$\n",
    "\n",
    "- loop over $i=0,\\dots$ until convergence:\n",
    "\n",
    "   - Compute linearization: $A(u^i)+\\delta A(u^i)\\Delta u^i=0$\n",
    "\n",
    "       - $f^i=A(u^i)$\n",
    "       - $B^i=\\delta A(u^i)$\n",
    "       - Solve $B^i\\Delta u^i=−f^i$\n",
    "\n",
    "    - Update $u^{i+1}=u^i+\\Delta u^i$\n",
    "\n",
    "    - Evaluate stopping criteria\n",
    "\n",
    "- Evaluate $E(u^{i+1})$\n",
    "\n",
    "As a stopping criteria we take $\\langle Au^i,\\Delta u^i\\rangle=\\langle Au^i,Au^i\\rangle_{(B^i)^{−1}} < \\epsilon$\n",
    "\n",
    ".\n",
    "\n"
   ]
  },
  {
   "cell_type": "code",
   "execution_count": 3,
   "metadata": {},
   "outputs": [],
   "source": [
    "def SimpleNewtonSolve(gfu,a,tol=1e-13,maxits=25):\n",
    "    res = gfu.vec.CreateVector()\n",
    "    du = gfu.vec.CreateVector()\n",
    "    fes = gfu.space # just so we don't have to pass it in explicitly\n",
    "    for it in range(maxits):\n",
    "        print (\"Iteration {:3}  \".format(it),end=\"\")\n",
    "        a.Apply(gfu.vec, res)\n",
    "        a.AssembleLinearization(gfu.vec) # linearize at u^i, a.mat now represents delta A(u^i)\n",
    "        du.data = a.mat.Inverse(fes.FreeDofs()) * res\n",
    "        gfu.vec.data -= du\n",
    "\n",
    "        #stopping criteria\n",
    "        stopcritval = sqrt(abs(InnerProduct(du,res)))\n",
    "        print (\"<A u\",it,\", A u\",it,\">_{-1}^0.5 = \", stopcritval)\n",
    "        if stopcritval < tol:\n",
    "            break    "
   ]
  },
  {
   "cell_type": "code",
   "execution_count": 4,
   "metadata": {},
   "outputs": [
    {
     "name": "stdout",
     "output_type": "stream",
     "text": [
      "Iteration   0  <A u 0 , A u 0 >_{-1}^0.5 =  0.18745474302207427\n",
      "Iteration   1  <A u 1 , A u 1 >_{-1}^0.5 =  9.417689979256573e-05\n",
      "Iteration   2  <A u 2 , A u 2 >_{-1}^0.5 =  8.541958907560332e-11\n",
      "Iteration   3  <A u 3 , A u 3 >_{-1}^0.5 =  2.850975276745901e-17\n"
     ]
    }
   ],
   "source": [
    "gfu = GridFunction(V)\n",
    "Draw(gfu,mesh,\"u\")\n",
    "SimpleNewtonSolve(gfu,a)"
   ]
  },
  {
   "cell_type": "markdown",
   "metadata": {},
   "source": [
    "## A trivial problem:\n",
    "\n",
    "$$\n",
    "  5 u^2 = 1, \\qquad u \\in \\mathbb{R}.\n",
    "$$"
   ]
  },
  {
   "cell_type": "markdown",
   "metadata": {},
   "source": [
    "I think NumberSpace is just what it sounds like, a space of numbers (not functions) \n",
    "\n",
    "For more on NumberSpace, see [This forum thread](https://ngsolve.org/forum/ngspy-forum/86-solving-pde-with-non-trivial-null-space)"
   ]
  },
  {
   "cell_type": "code",
   "execution_count": 5,
   "metadata": {
    "scrolled": true
   },
   "outputs": [
    {
     "name": "stdout",
     "output_type": "stream",
     "text": [
      "Iteration   0  <A u 0 , A u 0 >_{-1}^0.5 =  1.264911064067352\n",
      "Iteration   1  <A u 1 , A u 1 >_{-1}^0.5 =  0.3265986323710903\n",
      "Iteration   2  <A u 2 , A u 2 >_{-1}^0.5 =  0.04114755998989123\n",
      "Iteration   3  <A u 3 , A u 3 >_{-1}^0.5 =  0.000857426926869178\n",
      "Iteration   4  <A u 4 , A u 4 >_{-1}^0.5 =  3.8832745226099987e-07\n",
      "Iteration   5  <A u 5 , A u 5 >_{-1}^0.5 =  7.979879233426057e-14\n",
      "\n",
      "scalar solution 0.4472135954999579 (exact:  0.4472135954999579 )\n"
     ]
    }
   ],
   "source": [
    "V = NumberSpace(mesh)\n",
    "u,v = V.TnT()\n",
    "a = BilinearForm(V)\n",
    "a += SymbolicBFI( 5*u*u*v - 1 * v)\n",
    "gfu = GridFunction(V)\n",
    "gfu.vec[:] = 1\n",
    "SimpleNewtonSolve(gfu,a)\n",
    "\n",
    "print(\"\\nscalar solution\", gfu.vec[0], \"(exact: \", sqrt(0.2), \")\")"
   ]
  },
  {
   "cell_type": "markdown",
   "metadata": {},
   "source": [
    "## Another example: Stationary Navier-Stokes:\n",
    "Find $\\mathbf{u} \\in \\mathbf{V}$, $p \\in Q$, $\\lambda \\in \\mathbb{R}$ so that\n",
    "\\begin{align}\n",
    "\\int_{\\Omega} \\nu \\nabla \\mathbf{u} : \\nabla \\mathbf{v} + (\\mathbf{u} \\cdot \\nabla) \\mathbf{u} \\cdot \\mathbf{v}& - \\int_{\\Omega} \\operatorname{div}(\\mathbf{v}) p & &= \\int \\mathbf{f}  \\cdot \\mathbf{v}  && \\forall \\mathbf{v} \\in \\mathbf{V}, \\\\ \n",
    "- \\int_{\\Omega} \\operatorname{div}(\\mathbf{u}) q & & \n",
    "+ \\int_{\\Omega} \\lambda q\n",
    "&= 0 && \\forall q \\in Q, \\\\\n",
    "& \\int_{\\Omega} \\mu p & &= 0 && \\forall \\mu \\in \\mathbb{R}.\n",
    "\\end{align}\n"
   ]
  },
  {
   "cell_type": "code",
   "execution_count": 8,
   "metadata": {},
   "outputs": [],
   "source": [
    "mesh = Mesh (unit_square.GenerateMesh(maxh=0.05))\n",
    "V = VectorH1(mesh,order=3, dirichlet=\"bottom|right|top|left\")\n",
    "Q = H1(mesh,order=2)\n",
    "N = NumberSpace(mesh)\n",
    "X = FESpace([V,Q,N])\n",
    "(u,p,lam), (v,q,mu) = X.TnT()\n",
    "a = BilinearForm(X)\n",
    "nu = Parameter(1)\n",
    "# Note: grad(u) is a matrix where each row is the gradient of one of the components\n",
    "a += SymbolicBFI(nu*InnerProduct(grad(u),grad(v))+InnerProduct(grad(u)*u,v)-div(u)*q-div(v)*p-lam*q-mu*p)\n",
    "gfu = GridFunction(X)\n",
    "# Interpolate a velocity function along the top edge\n",
    "gfu.components[0].Set(CoefficientFunction((4*x*(1-x),0)),definedon=mesh.Boundaries(\"top\"))"
   ]
  },
  {
   "cell_type": "code",
   "execution_count": 9,
   "metadata": {},
   "outputs": [
    {
     "name": "stdout",
     "output_type": "stream",
     "text": [
      "Iteration   0  <A u 0 , A u 0 >_{-1}^0.5 =  2.803070373102593\n",
      "Iteration   1  <A u 1 , A u 1 >_{-1}^0.5 =  0.007950162870585377\n",
      "Iteration   2  <A u 2 , A u 2 >_{-1}^0.5 =  6.526630117647601e-08\n",
      "Iteration   3  <A u 3 , A u 3 >_{-1}^0.5 =  1.0046507136493525e-15\n"
     ]
    }
   ],
   "source": [
    "SimpleNewtonSolve(gfu,a)\n",
    "Draw(gfu.components[1],mesh,\"p\")\n",
    "Draw(gfu.components[0],mesh,\"u\")"
   ]
  },
  {
   "cell_type": "code",
   "execution_count": 10,
   "metadata": {},
   "outputs": [
    {
     "name": "stdout",
     "output_type": "stream",
     "text": [
      "Iteration   0  <A u 0 , A u 0 >_{-1}^0.5 =  0.08811927351272117\n",
      "Iteration   1  <A u 1 , A u 1 >_{-1}^0.5 =  0.008271023230528704\n",
      "Iteration   2  <A u 2 , A u 2 >_{-1}^0.5 =  0.0001063894118075951\n",
      "Iteration   3  <A u 3 , A u 3 >_{-1}^0.5 =  1.9401619253335152e-08\n",
      "Iteration   4  <A u 4 , A u 4 >_{-1}^0.5 =  5.712580424841747e-16\n"
     ]
    }
   ],
   "source": [
    "nu.Set(0.01)\n",
    "SimpleNewtonSolve(gfu,a)\n",
    "Redraw()"
   ]
  },
  {
   "cell_type": "code",
   "execution_count": null,
   "metadata": {},
   "outputs": [],
   "source": []
  }
 ],
 "metadata": {
  "kernelspec": {
   "display_name": "Python 3",
   "language": "python",
   "name": "python3"
  },
  "language_info": {
   "codemirror_mode": {
    "name": "ipython",
    "version": 3
   },
   "file_extension": ".py",
   "mimetype": "text/x-python",
   "name": "python",
   "nbconvert_exporter": "python",
   "pygments_lexer": "ipython3",
   "version": "3.6.5"
  }
 },
 "nbformat": 4,
 "nbformat_minor": 2
}
