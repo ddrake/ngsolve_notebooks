{
 "cells": [
  {
   "cell_type": "code",
   "execution_count": 1,
   "metadata": {
    "collapsed": true
   },
   "outputs": [],
   "source": [
    "from netgen.meshing import *\n",
    "%gui tk\n",
    "from netgen import gui"
   ]
  },
  {
   "cell_type": "code",
   "execution_count": 2,
   "metadata": {
    "collapsed": true
   },
   "outputs": [],
   "source": [
    "from netgen.csg import unit_cube"
   ]
  },
  {
   "cell_type": "code",
   "execution_count": 3,
   "metadata": {
    "collapsed": true
   },
   "outputs": [],
   "source": [
    "def GenerateCubeMesh (n):\n",
    "    \n",
    "    mesh = Mesh()\n",
    "\n",
    "    n = 10\n",
    "\n",
    "    pids = []\n",
    "    for i in range(n+1):\n",
    "        for j in range(n+1):\n",
    "            for k in range(n+1):\n",
    "                pids.append (mesh.Add (MeshPoint(Pnt(i/n, j/n, k/n))))\n",
    "            \n",
    "    for i in range(n):\n",
    "        for j in range(n):\n",
    "            for k in range(n):\n",
    "                base = i * (n+1)*(n+1) + j*(n+1) + k\n",
    "                baseup = base+(n+1)*(n+1)\n",
    "                pnum = [base,base+1,base+(n+1)+1,base+(n+1),\n",
    "                        baseup, baseup+1, baseup+(n+1)+1, baseup+(n+1)]\n",
    "                elpids = [pids[p] for p in pnum]\n",
    "                mesh.Add (Element3D(1,elpids))\n",
    "\n",
    "    def AddSurfEls (p1, dx, dy, facenr):\n",
    "        for i in range(n):\n",
    "            for j in range(n):\n",
    "                base = p1 + i*dx+j*dy\n",
    "                pnum = [base, base+dx, base+dx+dy, base+dy]\n",
    "                elpids = [pids[p] for p in pnum]\n",
    "                mesh.Add (Element2D(facenr,elpids))\n",
    "                        \n",
    "    mesh.Add (FaceDescriptor(surfnr=1,domin=1,bc=1))\n",
    "    AddSurfEls (0, 1, n+1, facenr=1)\n",
    "\n",
    "    mesh.Add (FaceDescriptor(surfnr=2,domin=1,bc=2))\n",
    "    AddSurfEls (0, (n+1)*(n+1), 1, facenr=2)\n",
    "\n",
    "    mesh.Add (FaceDescriptor(surfnr=3,domin=1,bc=3))\n",
    "    AddSurfEls (0, n+1, (n+1)*(n+1), facenr=3)\n",
    "\n",
    "    mesh.Add (FaceDescriptor(surfnr=4,domin=1,bc=4))\n",
    "    AddSurfEls ((n+1)**3-1, -(n+1), -1, facenr=1)\n",
    "\n",
    "    mesh.Add (FaceDescriptor(surfnr=5,domin=1,bc=5))\n",
    "    AddSurfEls ((n+1)**3-1, -(n+1)*(n+1), -(n+1), facenr=1)\n",
    "\n",
    "    mesh.Add (FaceDescriptor(surfnr=6,domin=1,bc=6))\n",
    "    AddSurfEls ((n+1)**3-1, -1, -(n+1)*(n+1), facenr=1)\n",
    "\n",
    "    return mesh\n",
    "\n",
    "\n",
    "\n",
    "\n",
    "mesh = GenerateCubeMesh(10)\n",
    "mesh.Save (\"cubemesh.vol\")\n",
    "\n",
    "import ngsolve\n",
    "ngsolve.Draw (ngsolve.Mesh(mesh))\n",
    "\n"
   ]
  },
  {
   "cell_type": "code",
   "execution_count": 4,
   "metadata": {},
   "outputs": [
    {
     "name": "stdout",
     "output_type": "stream",
     "text": [
      "Help on class Element2D in module netgen.libngpy._meshing:\n",
      "\n",
      "class Element2D(pybind11_builtins.pybind11_object_48)\n",
      " |  Method resolution order:\n",
      " |      Element2D\n",
      " |      pybind11_builtins.pybind11_object_48\n",
      " |      builtins.object\n",
      " |  \n",
      " |  Methods defined here:\n",
      " |  \n",
      " |  __init__(...)\n",
      " |      __init__(self: netgen.libngpy._meshing.Element2D, index: int=1, vertices: list) -> None\n",
      " |      \n",
      " |      create surface element\n",
      " |  \n",
      " |  ----------------------------------------------------------------------\n",
      " |  Data descriptors defined here:\n",
      " |  \n",
      " |  index\n",
      " |  \n",
      " |  points\n",
      " |  \n",
      " |  vertices\n",
      " |  \n",
      " |  ----------------------------------------------------------------------\n",
      " |  Methods inherited from pybind11_builtins.pybind11_object_48:\n",
      " |  \n",
      " |  __new__(*args, **kwargs) from pybind11_builtins.pybind11_type\n",
      " |      Create and return a new object.  See help(type) for accurate signature.\n",
      "\n"
     ]
    }
   ],
   "source": [
    "help(Element2D)"
   ]
  }
 ],
 "metadata": {
  "kernelspec": {
   "display_name": "Python 3",
   "language": "python",
   "name": "python3"
  },
  "language_info": {
   "codemirror_mode": {
    "name": "ipython",
    "version": 3
   },
   "file_extension": ".py",
   "mimetype": "text/x-python",
   "name": "python",
   "nbconvert_exporter": "python",
   "pygments_lexer": "ipython3",
   "version": "3.5.2"
  }
 },
 "nbformat": 4,
 "nbformat_minor": 2
}
