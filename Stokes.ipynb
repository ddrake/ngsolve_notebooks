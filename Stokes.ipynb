{
 "cells": [
  {
   "cell_type": "markdown",
   "metadata": {},
   "source": [
    "# Stokes equation (Unit 2.6)\n",
    "\n",
    "Find $u\\in [H_D^1]^2$ and $p \\in L_2$ such that\n",
    "\\begin{align*}\n",
    "\\int \\nabla u : \\nabla v - \\int \\text{div } v p &=  \\int f v \\ \\forall v \\\\\n",
    "-\\int \\text{div } u q &=  0 \\ \\forall q\n",
    "\\end{align*}\n",
    "\n",
    "## Note: \n",
    "I changed the signs of the div v p terms everywhere in this tutorial.  This change did not affect the output.  It was done for correctness and for consistency with the Navier Stokes tutorial.  In the Navier Stokes problem, the sign error would give the wrong pressure values.\n",
    "\n",
    "Define channel geometry and mesh it:\n"
   ]
  },
  {
   "cell_type": "markdown",
   "metadata": {},
   "source": [
    "### Notes from web:\n",
    "A natural choice of the pressure space is $L_2$ since \n",
    "$$ \\int_\\Omega \\text{div} v dx = \\int_{\\partial \\Omega} v\\cdot n ds = 0 $$\n",
    "\n",
    "due  to  the  boundary  condition.   Thus the  div  operator  will  map $H_0^1(\\Omega)$ into the subspace $L_{2,0}(\\Omega)$, in which the pressure satisfying the Stokes equations is unique. But in $L_2(\\Omega)$, it is unique only up to a constant.\n"
   ]
  },
  {
   "cell_type": "code",
   "execution_count": 1,
   "metadata": {},
   "outputs": [
    {
     "name": "stdout",
     "output_type": "stream",
     "text": [
      "('wall', 'outlet', 'wall', 'inlet', 'cyl', 'cyl', 'cyl', 'cyl')\n"
     ]
    }
   ],
   "source": [
    "from ngsolve import *\n",
    "import netgen.gui\n",
    "%gui tk\n",
    "\n",
    "from netgen.geom2d import SplineGeometry\n",
    "geo = SplineGeometry()\n",
    "geo.AddRectangle( (0, 0), (2, 0.41), bcs = (\"wall\", \"outlet\", \"wall\", \"inlet\"))\n",
    "geo.AddCircle ( (0.2, 0.2), r=0.05, leftdomain=0, rightdomain=1, bc=\"cyl\")\n",
    "mesh = Mesh( geo.GenerateMesh(maxh=0.05))\n",
    "mesh.Curve(3)\n",
    "Draw (mesh)\n",
    "print(mesh.GetBoundaries())"
   ]
  },
  {
   "cell_type": "markdown",
   "metadata": {},
   "source": [
    "Use Taylor Hood finite element pairing: Continuous $\\mathcal{P}^2$ elements for velocity, and continuous $\\mathcal{P}^1$ for pressure:\n",
    "\n",
    "one can show the pair $(\\mathcal{P}^k,\\mathcal{P}^{k-1})$ for $k \\ge 2$ satisfy the div stability.  This is known as Taylor-Hood (or Hood-Taylor) elements."
   ]
  },
  {
   "cell_type": "code",
   "execution_count": 2,
   "metadata": {},
   "outputs": [],
   "source": [
    "V = H1(mesh, order=2, dirichlet=\"wall|inlet|cyl\")\n",
    "Q = H1(mesh, order=1)\n",
    "X = FESpace([V,V,Q])"
   ]
  },
  {
   "cell_type": "markdown",
   "metadata": {},
   "source": [
    "### Note:\n",
    "We said we were looking for $p$ in $L_2$.  But first we are going to require $H^1$.  Later we'll try some other stuff..."
   ]
  },
  {
   "cell_type": "markdown",
   "metadata": {},
   "source": [
    "Setup bilinear-form for Stokes. We give names for all scalar field components. The divergence is constructed from partial derivatives of the velocity components."
   ]
  },
  {
   "cell_type": "code",
   "execution_count": 3,
   "metadata": {},
   "outputs": [],
   "source": [
    "ux,uy,p = X.TrialFunction()\n",
    "vx,vy,q = X.TestFunction()\n",
    "\n",
    "div_u = grad(ux)[0]+grad(uy)[1]\n",
    "div_v = grad(vx)[0]+grad(vy)[1]\n",
    "\n",
    "a = BilinearForm(X)\n",
    "a += SymbolicBFI(grad(ux)*grad(vx)+grad(uy)*grad(vy) - div_u*q - div_v*p)\n",
    "a.Assemble()"
   ]
  },
  {
   "cell_type": "markdown",
   "metadata": {},
   "source": [
    "Set inhomogeneous Dirichlet boundary condition only on inlet boundary:"
   ]
  },
  {
   "cell_type": "code",
   "execution_count": 4,
   "metadata": {},
   "outputs": [],
   "source": [
    "gfu = GridFunction(X)\n",
    "uin = 1.5*4*y*(0.41-y)/(0.41*0.41)\n",
    "gfu.components[0].Set(uin, definedon=mesh.Boundaries(\"inlet\"))\n",
    "velocity = CoefficientFunction(gfu.components[0:2])\n",
    "Draw(velocity, mesh, \"vel\")\n",
    "SetVisualization(max=2)\n"
   ]
  },
  {
   "cell_type": "markdown",
   "metadata": {},
   "source": [
    "Solve equation:"
   ]
  },
  {
   "cell_type": "code",
   "execution_count": 5,
   "metadata": {},
   "outputs": [],
   "source": [
    "res = gfu.vec.CreateVector()\n",
    "res.data = -a.mat * gfu.vec\n",
    "inv = a.mat.Inverse(freedofs=X.FreeDofs(), inverse=\"umfpack\")\n",
    "gfu.vec.data += inv * res\n",
    "Redraw()\n"
   ]
  },
  {
   "cell_type": "markdown",
   "metadata": {},
   "source": [
    "## Testing different velocity-pressure pairs\n",
    "Now we define a Stokes setup function to test different spaces:"
   ]
  },
  {
   "cell_type": "code",
   "execution_count": 6,
   "metadata": {},
   "outputs": [],
   "source": [
    "def SolveStokes(X):\n",
    "    ux,uy,p = X.TrialFunction()\n",
    "    vx,vy,q = X.TestFunction()\n",
    "\n",
    "    div_u = grad(ux)[0]+grad(uy)[1]\n",
    "    div_v = grad(vx)[0]+grad(vy)[1]\n",
    "\n",
    "    a = BilinearForm(X)\n",
    "    a += SymbolicBFI(grad(ux)*grad(vx)+grad(uy)*grad(vy) - div_u*q - div_v*p)\n",
    "    a.Assemble()\n",
    "\n",
    "    gfu = GridFunction(X)\n",
    "    uin = 1.5*4*y*(0.41-y)/(0.41*0.41)\n",
    "    gfu.components[0].Set(uin, definedon=mesh.Boundaries(\"inlet\"))\n",
    "\n",
    "    res = gfu.vec.CreateVector()\n",
    "    res.data = -a.mat * gfu.vec\n",
    "    inv = a.mat.Inverse(freedofs=X.FreeDofs(), inverse=\"umfpack\")\n",
    "    gfu.vec.data += inv * res\n",
    "    \n",
    "    velocity = CoefficientFunction(gfu.components[0:2])\n",
    "    Draw(velocity, mesh, \"vel\")\n",
    "    Draw(Norm(velocity), mesh, \"|vel|\")\n",
    "    SetVisualization(max=2)    \n",
    "\n",
    "    \n",
    "    return gfu\n",
    " "
   ]
  },
  {
   "cell_type": "markdown",
   "metadata": {},
   "source": [
    "Higher order Taylor-Hood elements:"
   ]
  },
  {
   "cell_type": "code",
   "execution_count": 7,
   "metadata": {},
   "outputs": [],
   "source": [
    "V = H1(mesh, order=4, dirichlet=\"wall|inlet|cyl\")\n",
    "Q = H1(mesh, order=3)\n",
    "X = FESpace([V,V,Q])\n",
    "\n",
    "gfu = SolveStokes(X)\n"
   ]
  },
  {
   "cell_type": "markdown",
   "metadata": {},
   "source": [
    "Discontinuous pressure elements:"
   ]
  },
  {
   "cell_type": "code",
   "execution_count": 8,
   "metadata": {},
   "outputs": [
    {
     "name": "stdout",
     "output_type": "stream",
     "text": [
      "V.ndof = 1702 , Q.ndof = 2382\n",
      "UmfpackInverse: Numeric factorization failed.\n"
     ]
    }
   ],
   "source": [
    "V = H1(mesh, order=2, dirichlet=\"wall|inlet|cyl\")\n",
    "Q = L2(mesh, order=1)\n",
    "print (\"V.ndof =\", V.ndof, \", Q.ndof =\", Q.ndof)\n",
    "X = FESpace([V,V,Q])\n",
    "\n",
    "try:\n",
    "    gfu = SolveStokes(X)\n",
    "except RuntimeError as a:\n",
    "    print(a)\n",
    "\n",
    "velocity = CoefficientFunction(gfu.components[0:2])\n",
    "Draw(velocity, mesh, \"vel\")"
   ]
  },
  {
   "cell_type": "markdown",
   "metadata": {},
   "source": [
    "$P^{2,+} \\times P^{1,dc}$ elements:"
   ]
  },
  {
   "cell_type": "code",
   "execution_count": 9,
   "metadata": {},
   "outputs": [
    {
     "name": "stdout",
     "output_type": "stream",
     "text": [
      "V.ndof = 1702 , Q.ndof = 2382\n"
     ]
    }
   ],
   "source": [
    "V = H1(mesh, order=2, dirichlet=\"wall|inlet|cyl\")\n",
    "V.SetOrder(element_type=TRIG, order=3)\n",
    "print (\"V.ndof =\", V.ndof, \", Q.ndof =\", Q.ndof)\n",
    "Q = L2(mesh, order=1)\n",
    "X = FESpace([V,V,Q])\n",
    "\n",
    "#try:\n",
    "#    gfu = SolveStokes(X)\n",
    "#except RuntimeError as a:\n",
    "#    print(a)\n",
    "\n",
    "\n",
    "gfu = SolveStokes(X)\n"
   ]
  },
  {
   "cell_type": "markdown",
   "metadata": {},
   "source": [
    "the mini element:"
   ]
  },
  {
   "cell_type": "code",
   "execution_count": 10,
   "metadata": {},
   "outputs": [],
   "source": [
    "V = H1(mesh, order=1, dirichlet=\"wall|inlet|cyl\")\n",
    "V.SetOrder(element_type=TRIG, order=3)\n",
    "Q = H1(mesh, order=1)\n",
    "X = FESpace([V,V,Q])\n",
    "\n",
    "gfu = SolveStokes(X)\n"
   ]
  },
  {
   "cell_type": "markdown",
   "metadata": {},
   "source": [
    "## Vector H1\n",
    "A vector-valued $H^1$-space: Less to type and more possibilities to explore structure and optimize."
   ]
  },
  {
   "cell_type": "code",
   "execution_count": 12,
   "metadata": {},
   "outputs": [],
   "source": [
    "V = VectorH1( mesh, order=2, dirichlet=\"wall|inlet|cyl\")\n",
    "V.SetOrder(TRIG,3)\n",
    "V.Update()\n",
    "Q = H1(mesh, order=1)\n",
    "X = FESpace([V,Q])\n",
    "\n",
    "u,p = X.TrialFunction()\n",
    "v,q = X.TestFunction()\n",
    "\n",
    "a = BilinearForm(X)\n",
    "a += SymbolicBFI(InnerProduct(grad(u),grad(v))-div(u)*q-div(v)*p)\n",
    "a.Assemble()\n",
    "\n",
    "gfu = GridFunction(X)\n",
    "uin = CoefficientFunction( (1.5*4*y*(0.41-y)/(0.41*0.41),0) )\n",
    "gfu.components[0].Set(uin, definedon=mesh.Boundaries(\"inlet\"))\n",
    "\n",
    "res = gfu.vec.CreateVector()\n",
    "res.data = -a.mat * gfu.vec\n",
    "inv = a.mat.Inverse(freedofs=X.FreeDofs(), inverse=\"umfpack\")\n",
    "gfu.vec.data += inv * res\n",
    "Draw(gfu.components[0], mesh, \"vel\")\n",
    "Draw(Norm(gfu.components[0]), mesh, \"|vel|\")\n",
    "SetVisualization(max=2)\n"
   ]
  },
  {
   "cell_type": "markdown",
   "metadata": {
    "collapsed": true
   },
   "source": [
    "\n",
    "## Stokes as a block-system\n",
    "\n",
    "We can now define separate bilinear-form and matrices for A and B, and combine them to a block-system:\n"
   ]
  },
  {
   "cell_type": "code",
   "execution_count": 12,
   "metadata": {},
   "outputs": [],
   "source": [
    "V = VectorH1(mesh, order=3, dirichlet=\"wall|inlet|cyl\")\n",
    "Q = H1(mesh, order=2)\n",
    "\n",
    "u,v = V.TnT()\n",
    "p,q = Q.TnT()\n",
    "\n",
    "a = BilinearForm(V)\n",
    "a += SymbolicBFI(InnerProduct(grad(u),grad(v)))\n",
    "\n",
    "b = BilinearForm(trialspace=V, testspace=Q)\n",
    "b += SymbolicBFI(div(u)*q)\n",
    "\n",
    "a.Assemble()\n",
    "b.Assemble()\n"
   ]
  },
  {
   "cell_type": "markdown",
   "metadata": {},
   "source": [
    "\n",
    "Needed as preconditioner for the pressure:"
   ]
  },
  {
   "cell_type": "code",
   "execution_count": 13,
   "metadata": {},
   "outputs": [],
   "source": [
    "mp = BilinearForm(Q)\n",
    "mp += SymbolicBFI(p*q)\n",
    "mp.Assemble()"
   ]
  },
  {
   "cell_type": "markdown",
   "metadata": {},
   "source": [
    "Two right hand sides for the two spaces:"
   ]
  },
  {
   "cell_type": "code",
   "execution_count": 14,
   "metadata": {},
   "outputs": [],
   "source": [
    "f = LinearForm(V)\n",
    "f += SymbolicLFI( CoefficientFunction( (0,x-0.5)) * v)\n",
    "f.Assemble()\n",
    "\n",
    "g = LinearForm(Q)\n",
    "g.Assemble()\n"
   ]
  },
  {
   "cell_type": "markdown",
   "metadata": {},
   "source": [
    "Two GridFunctions for velocity and pressure:"
   ]
  },
  {
   "cell_type": "code",
   "execution_count": 15,
   "metadata": {},
   "outputs": [],
   "source": [
    "gfu = GridFunction(V, name=\"u\")\n",
    "gfp = GridFunction(Q, name=\"p\")\n",
    "uin = CoefficientFunction( (1.5*4*y*(0.41-y)/(0.41*0.41), 0) )\n",
    "gfu.Set(uin, definedon=mesh.Boundaries(\"inlet\"))\n"
   ]
  },
  {
   "cell_type": "markdown",
   "metadata": {},
   "source": [
    "\n",
    "Combine everything to a block-system. BlockMatrix and BlockVector store references to the original matrices and vectors, no new large matrices are allocated. The same for the transpose matrix b.mat.T. It stores a wrapper for the original matrix, and replaces the call of the Mult function by MultTrans.\n"
   ]
  },
  {
   "cell_type": "code",
   "execution_count": 16,
   "metadata": {},
   "outputs": [
    {
     "name": "stdout",
     "output_type": "stream",
     "text": [
      "it =  0  err =  4.577250004746686\n",
      "it =  1  err =  2.3137027107825414\n",
      "it =  2  err =  1.9474651703872594\n",
      "it =  3  err =  1.5362811821422822\n",
      "it =  4  err =  1.4908987431987535\n",
      "it =  5  err =  1.2778519418052083\n",
      "it =  6  err =  1.2368943183327368\n",
      "it =  7  err =  1.0832164597336902\n",
      "it =  8  err =  0.9954867877973884\n",
      "it =  9  err =  0.8694764391752643\n",
      "it =  10  err =  0.8164294710037525\n",
      "it =  11  err =  0.7270898498125967\n",
      "it =  12  err =  0.7062300357748235\n",
      "it =  13  err =  0.6435150710144975\n",
      "it =  14  err =  0.626033687438103\n",
      "it =  15  err =  0.5919107714934518\n",
      "it =  16  err =  0.577362791217988\n",
      "it =  17  err =  0.5490895491963523\n",
      "it =  18  err =  0.5299584240359972\n",
      "it =  19  err =  0.5045877707546177\n",
      "it =  20  err =  0.49457479308095637\n",
      "it =  21  err =  0.4784524273891663\n",
      "it =  22  err =  0.46049192930430594\n",
      "it =  23  err =  0.4367980978458536\n",
      "it =  24  err =  0.41255367261723785\n",
      "it =  25  err =  0.3804089983536725\n",
      "it =  26  err =  0.344900547868597\n",
      "it =  27  err =  0.2985421196154585\n",
      "it =  28  err =  0.25271737964565194\n",
      "it =  29  err =  0.17951963386511544\n",
      "it =  30  err =  0.14701867167186738\n",
      "it =  31  err =  0.10086316225425584\n",
      "it =  32  err =  0.08594125971646027\n",
      "it =  33  err =  0.04953571032335675\n",
      "it =  34  err =  0.04880618304698519\n",
      "it =  35  err =  0.025962616020406587\n",
      "it =  36  err =  0.025723086935980178\n",
      "it =  37  err =  0.01628165309575325\n",
      "it =  38  err =  0.016250227228761627\n",
      "it =  39  err =  0.011879675741014336\n",
      "it =  40  err =  0.011459122649480187\n",
      "it =  41  err =  0.00770881487053669\n",
      "it =  42  err =  0.00766923287618054\n",
      "it =  43  err =  0.004762438082252552\n",
      "it =  44  err =  0.004740273752225266\n",
      "it =  45  err =  0.0024617452306958925\n",
      "it =  46  err =  0.0024449544535019795\n",
      "it =  47  err =  0.0015421225878975342\n",
      "it =  48  err =  0.0014860456371277393\n",
      "it =  49  err =  0.001074469203377325\n",
      "it =  50  err =  0.0010244043188850597\n",
      "it =  51  err =  0.0006385557996682348\n",
      "it =  52  err =  0.0006291811667501968\n",
      "it =  53  err =  0.0002990274926768359\n",
      "it =  54  err =  0.00029880617578275997\n",
      "it =  55  err =  0.00011824139621184469\n",
      "it =  56  err =  0.00011462936306190636\n",
      "it =  57  err =  5.755195930065711e-05\n",
      "it =  58  err =  5.5695168387252046e-05\n",
      "it =  59  err =  2.470512175523138e-05\n",
      "it =  60  err =  2.4704800852686144e-05\n",
      "it =  61  err =  1.6824109227256058e-05\n",
      "it =  62  err =  1.657242254377128e-05\n",
      "it =  63  err =  1.3163266925044677e-05\n",
      "it =  64  err =  1.2897753939694171e-05\n",
      "it =  65  err =  9.293568917609948e-06\n",
      "it =  66  err =  9.155757412038442e-06\n",
      "it =  67  err =  4.022673678035517e-06\n",
      "it =  68  err =  4.021710787405614e-06\n",
      "it =  69  err =  1.3784244536598394e-06\n",
      "it =  70  err =  1.377553514552387e-06\n",
      "it =  71  err =  6.003552147429967e-07\n",
      "it =  72  err =  5.882429968007867e-07\n",
      "it =  73  err =  2.4024447119482976e-07\n",
      "it =  74  err =  2.3576449515647546e-07\n",
      "it =  75  err =  1.0050977490270394e-07\n",
      "it =  76  err =  9.696630215704182e-08\n",
      "Warning: MinRes did not converge to TOL\n"
     ]
    },
    {
     "data": {
      "text/plain": [
       "basevector"
      ]
     },
     "execution_count": 16,
     "metadata": {},
     "output_type": "execute_result"
    }
   ],
   "source": [
    "K = BlockMatrix( [ [a.mat, b.mat.T], [b.mat, None] ] )\n",
    "C = BlockMatrix( [ [a.mat.Inverse(V.FreeDofs()), None], [None, mp.mat.Inverse()] ] )\n",
    "\n",
    "rhs = BlockVector ( [f.vec, g.vec] )\n",
    "sol = BlockVector( [gfu.vec, gfp.vec] )\n",
    "\n",
    "solvers.MinRes (mat=K, pre=C, rhs=rhs, sol=sol, initialize=False)"
   ]
  },
  {
   "cell_type": "code",
   "execution_count": 17,
   "metadata": {},
   "outputs": [],
   "source": [
    "Draw (gfu)"
   ]
  }
 ],
 "metadata": {
  "kernelspec": {
   "display_name": "Python 3",
   "language": "python",
   "name": "python3"
  },
  "language_info": {
   "codemirror_mode": {
    "name": "ipython",
    "version": 3
   },
   "file_extension": ".py",
   "mimetype": "text/x-python",
   "name": "python",
   "nbconvert_exporter": "python",
   "pygments_lexer": "ipython3",
   "version": "3.6.5"
  }
 },
 "nbformat": 4,
 "nbformat_minor": 2
}
