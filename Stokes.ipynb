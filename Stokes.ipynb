{
 "cells": [
  {
   "cell_type": "code",
   "execution_count": 1,
   "metadata": {
    "collapsed": true
   },
   "outputs": [],
   "source": [
    "from ngsolve import *\n",
    "import netgen.gui\n",
    "%gui tk\n",
    "\n",
    "from netgen.geom2d import SplineGeometry\n",
    "geo = SplineGeometry()\n",
    "geo.AddRectangle( (0, 0), (2, 0.41), bcs = (\"wall\", \"outlet\", \"wall\", \"inlet\"))\n",
    "geo.AddCircle ( (0.2, 0.2), r=0.05, leftdomain=0, rightdomain=1, bc=\"cyl\")\n",
    "mesh = Mesh( geo.GenerateMesh(maxh=0.05))\n",
    "mesh.Curve(3)\n",
    "Draw (mesh)"
   ]
  },
  {
   "cell_type": "code",
   "execution_count": 2,
   "metadata": {
    "collapsed": true
   },
   "outputs": [],
   "source": [
    "def SolveStokes(X):\n",
    "    ux,uy,p = X.TrialFunction()\n",
    "    vx,vy,q = X.TestFunction()\n",
    "\n",
    "    div_u = grad(ux)[0]+grad(uy)[1]\n",
    "    div_v = grad(vx)[0]+grad(vy)[1]\n",
    "\n",
    "    a = BilinearForm(X)\n",
    "    a += SymbolicBFI(grad(ux)*grad(vx)+grad(uy)*grad(vy) - div_u*q - div_v*p)\n",
    "    a.Assemble()\n",
    "\n",
    "    gfu = GridFunction(X)\n",
    "    uin = 1.5*4*y*(0.41-y)/(0.41*0.41)\n",
    "    gfu.components[0].Set(uin, definedon=mesh.Boundaries(\"inlet\"))\n",
    "\n",
    "    res = gfu.vec.CreateVector()\n",
    "    res.data = -a.mat * gfu.vec\n",
    "    inv = a.mat.Inverse(freedofs=X.FreeDofs(), inverse=\"umfpack\")\n",
    "    gfu.vec.data += inv * res\n",
    "    return gfu\n",
    " "
   ]
  },
  {
   "cell_type": "code",
   "execution_count": 3,
   "metadata": {
    "collapsed": true
   },
   "outputs": [],
   "source": [
    "def TestSpace(X):\n",
    "    gfu = SolveStokes(X)\n",
    "    velocity = CoefficientFunction(gfu.components[0:2])\n",
    "    pressure = CoefficientFunction(gfu.components[2])\n",
    "    Draw(pressure, mesh, \"press\")\n",
    "    Draw(velocity, mesh, \"vel\") "
   ]
  },
  {
   "cell_type": "code",
   "execution_count": 4,
   "metadata": {},
   "outputs": [],
   "source": [
    "V = H1(mesh, order=2, dirichlet=\"wall|inlet|cyl\")\n",
    "Q = H1(mesh, order=1)\n",
    "X = FESpace([V,V,Q])\n",
    "#TestSpace(X) # why doesn't this work? The velocity field is messed up!\n",
    "# Maybe because pvelocity and pressure go out of scope when the function\n",
    "# returns -- that may reset their memory to garbage...\n",
    "try:\n",
    "    gfu = SolveStokes(X)\n",
    "except RuntimeError as a:\n",
    "    print(\"test1: \", a)\n",
    "\n",
    "velocity = CoefficientFunction(gfu.components[0:2])\n",
    "pressure = CoefficientFunction(gfu.components[2])\n",
    "Draw(pressure, mesh, \"press\")\n",
    "Draw(velocity, mesh, \"vel\") "
   ]
  },
  {
   "cell_type": "code",
   "execution_count": 5,
   "metadata": {
    "collapsed": true
   },
   "outputs": [],
   "source": [
    "V = H1(mesh, order=4, dirichlet=\"wall|inlet|cyl\")\n",
    "Q = H1(mesh, order=3)\n",
    "X = FESpace([V,V,Q])\n",
    "\n",
    "try:\n",
    "    gfu = SolveStokes(X)\n",
    "except RuntimeError as a:\n",
    "    print(\"test2: \",a)\n",
    "    \n",
    "velocity = CoefficientFunction(gfu.components[0:2])\n",
    "pressure = CoefficientFunction(gfu.components[2])\n",
    "Draw(pressure, mesh, \"press\")\n",
    "Draw(velocity, mesh, \"vel\") "
   ]
  },
  {
   "cell_type": "code",
   "execution_count": 6,
   "metadata": {},
   "outputs": [
    {
     "name": "stdout",
     "output_type": "stream",
     "text": [
      "V.ndof = 1690 , Q.ndof = 2364\n",
      "test3:  UmfpackInverse: Numeric factorization failed.\n"
     ]
    }
   ],
   "source": [
    "V = H1(mesh, order=2, dirichlet=\"wall|inlet|cyl\")\n",
    "Q = L2(mesh, order=1)\n",
    "print (\"V.ndof =\", V.ndof, \", Q.ndof =\", Q.ndof)\n",
    "X = FESpace([V,V,Q])\n",
    "\n",
    "try:\n",
    "    gfu = SolveStokes(X)\n",
    "except RuntimeError as a:\n",
    "    print(\"test3: \",a)\n",
    "\n",
    "velocity = CoefficientFunction(gfu.components[0:2])\n",
    "pressure = CoefficientFunction(gfu.components[2])\n",
    "Draw(pressure, mesh, \"press\")\n",
    "Draw(velocity, mesh, \"vel\")\n"
   ]
  },
  {
   "cell_type": "code",
   "execution_count": 7,
   "metadata": {},
   "outputs": [
    {
     "name": "stdout",
     "output_type": "stream",
     "text": [
      "V.ndof = 2478 , Q.ndof = 2364\n"
     ]
    }
   ],
   "source": [
    "V = H1(mesh, order=2, dirichlet=\"wall|inlet|cyl\")\n",
    "V.order[TRIG]=3\n",
    "print (\"V.ndof =\", V.ndof, \", Q.ndof =\", Q.ndof)\n",
    "Q = L2(mesh, order=1)\n",
    "X = FESpace([V,V,Q])\n",
    "\n",
    "try:\n",
    "    gfu = SolveStokes(X)\n",
    "except RuntimeError as a:\n",
    "    print(\"test4: \",a)\n",
    "\n",
    "velocity = CoefficientFunction(gfu.components[0:2])\n",
    "pressure = CoefficientFunction(gfu.components[2])\n",
    "Draw(pressure, mesh, \"press\")\n",
    "Draw(velocity, mesh, \"vel\")\n"
   ]
  },
  {
   "cell_type": "code",
   "execution_count": 11,
   "metadata": {
    "collapsed": true
   },
   "outputs": [],
   "source": [
    "# this one returns no error, but the pressure looks very weird!\n",
    "V = H1(mesh, order=1, dirichlet=\"wall|inlet|cyl\")\n",
    "V.order[TRIG]=3\n",
    "Q = H1(mesh, order=1)\n",
    "X = FESpace([V,V,Q])\n",
    "\n",
    "try:\n",
    "    gfu = SolveStokes(X)\n",
    "except RuntimeError as a:\n",
    "    print(\"test5: \",a)\n",
    "\n",
    "velocity = CoefficientFunction(gfu.components[0:2])\n",
    "pressure = CoefficientFunction(gfu.components[2])\n",
    "Draw(pressure, mesh, \"press\")\n",
    "Draw(velocity, mesh, \"vel\")\n"
   ]
  },
  {
   "cell_type": "code",
   "execution_count": 13,
   "metadata": {},
   "outputs": [],
   "source": [
    "V = FESpace(\"VectorH1\", mesh, order=3, dirichlet=\"wall|inlet|cyl\")\n",
    "Q = H1(mesh, order=2)\n",
    "X = FESpace([V,Q])\n",
    "\n",
    "u,p = X.TrialFunction()\n",
    "v,q = X.TestFunction()\n",
    "\n",
    "a = BilinearForm(X)\n",
    "a += SymbolicBFI(InnerProduct(grad(u),grad(v))-div(u)*q-div(v)*p)\n",
    "a.Assemble()\n",
    "\n",
    "gfu = GridFunction(X)\n",
    "uin = 1.5*4*y*(0.41-y)/(0.41*0.41)\n",
    "gfu.components[0].components[0].Set(uin, definedon=mesh.Boundaries(\"inlet\"))\n",
    "\n",
    "res = gfu.vec.CreateVector()\n",
    "res.data = -a.mat * gfu.vec\n",
    "inv = a.mat.Inverse(freedofs=X.FreeDofs(), inverse=\"umfpack\")\n",
    "gfu.vec.data += inv * res\n",
    "velocity = CoefficientFunction(gfu.components[0])\n",
    "pressure = CoefficientFunction(gfu.components[1])\n",
    "Draw(pressure, mesh, \"press\")\n",
    "Draw(velocity, mesh, \"vel\")\n"
   ]
  },
  {
   "cell_type": "code",
   "execution_count": null,
   "metadata": {
    "collapsed": true
   },
   "outputs": [],
   "source": []
  }
 ],
 "metadata": {
  "kernelspec": {
   "display_name": "Python 3",
   "language": "python",
   "name": "python3"
  },
  "language_info": {
   "codemirror_mode": {
    "name": "ipython",
    "version": 3
   },
   "file_extension": ".py",
   "mimetype": "text/x-python",
   "name": "python",
   "nbconvert_exporter": "python",
   "pygments_lexer": "ipython3",
   "version": "3.5.2"
  }
 },
 "nbformat": 4,
 "nbformat_minor": 2
}
