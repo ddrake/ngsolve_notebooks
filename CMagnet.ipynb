{
 "cells": [
  {
   "cell_type": "code",
   "execution_count": 1,
   "metadata": {
    "collapsed": true
   },
   "outputs": [],
   "source": [
    "import netgen.gui\n",
    "%gui tk\n",
    "from netgen.csg import *\n",
    "from ngsolve import *\n",
    "\n"
   ]
  },
  {
   "cell_type": "code",
   "execution_count": 2,
   "metadata": {
    "collapsed": true
   },
   "outputs": [],
   "source": [
    "def MakeGeometry():\n",
    "    geometry = CSGeometry()\n",
    "    box = OrthoBrick(Pnt(-1,-1,-1),Pnt(2,1,2)).bc(\"outer\")\n",
    "\n",
    "    core = OrthoBrick(Pnt(0,-0.05,0),Pnt(0.8,0.05,1))- \\\n",
    "           OrthoBrick(Pnt(0.1,-1,0.1),Pnt(0.7,1,0.9))- \\\n",
    "           OrthoBrick(Pnt(0.5,-1,0.4),Pnt(1,1,0.6)).maxh(0.2).mat(\"core\")\n",
    "    \n",
    "    coil = (Cylinder(Pnt(0.05,0,0), Pnt(0.05,0,1), 0.3) - \\\n",
    "            Cylinder(Pnt(0.05,0,0), Pnt(0.05,0,1), 0.15)) * \\\n",
    "            OrthoBrick (Pnt(-1,-1,0.3),Pnt(1,1,0.7)).maxh(0.2).mat(\"coil\")\n",
    "    \n",
    "    geometry.Add ((box-core-coil).mat(\"air\"))\n",
    "    geometry.Add (core)\n",
    "    geometry.Add (coil)\n",
    "    return geometry\n",
    "\n"
   ]
  },
  {
   "cell_type": "code",
   "execution_count": 3,
   "metadata": {
    "collapsed": true
   },
   "outputs": [],
   "source": [
    "ngmesh = MakeGeometry().GenerateMesh(maxh=0.5)\n",
    "ngmesh.Save(\"coil.vol\")\n",
    "mesh = Mesh(ngmesh)\n",
    "\n",
    "# curve elements for geometry approximation\n",
    "mesh.Curve(5)\n",
    "\n",
    "ngsglobals.msg_level = 5\n"
   ]
  },
  {
   "cell_type": "code",
   "execution_count": 4,
   "metadata": {},
   "outputs": [
    {
     "name": "stdout",
     "output_type": "stream",
     "text": [
      "nu_coef= [795544.9482895783, 795.5449482895783, 795544.9482895783]\n"
     ]
    }
   ],
   "source": [
    "fes = HCurl(mesh, order=4, dirichlet=\"outer\", nograds=True)\n",
    "\n",
    "# u and v refer to trial and test-functions in the definition of forms below\n",
    "u = fes.TrialFunction()\n",
    "v = fes.TestFunction()\n",
    "\n",
    "mur = { \"core\" : 1000, \"coil\" : 1, \"air\" : 1 }\n",
    "mu0 = 1.257e-6\n",
    "nu_coef = [ 1/(mu0*mur[mat]) for mat in mesh.GetMaterials() ]\n",
    "print (\"nu_coef=\", nu_coef)\n",
    "\n",
    "nu = CoefficientFunction(nu_coef)\n",
    "a = BilinearForm(fes, symmetric=True)\n",
    "a += SymbolicBFI(nu*curl(u)*curl(v) + 1e-6*nu*u*v)\n",
    "\n",
    "c = Preconditioner(a, type=\"bddc\")\n",
    "# c = Preconditioner(a, type=\"multigrid\", smoother=\"block\" } )\n",
    "\n",
    "f = LinearForm(fes)\n",
    "f += SymbolicLFI(CoefficientFunction((y,0.05-x,0)) * v, definedon=mesh.Materials(\"coil\"))\n",
    "\n",
    "u = GridFunction(fes)\n",
    "\n",
    "\n",
    "with TaskManager():\n",
    "    a.Assemble()\n",
    "    f.Assemble()\n",
    "    solver = CGSolver(mat=a.mat, pre=c.mat)\n",
    "    u.vec.data = solver * f.vec\n",
    "\n",
    "\n",
    "Draw (u.Deriv(), mesh, \"B-field\", draw_surf=False)"
   ]
  },
  {
   "cell_type": "code",
   "execution_count": null,
   "metadata": {
    "collapsed": true
   },
   "outputs": [],
   "source": []
  }
 ],
 "metadata": {
  "kernelspec": {
   "display_name": "Python 3",
   "language": "python",
   "name": "python3"
  },
  "language_info": {
   "codemirror_mode": {
    "name": "ipython",
    "version": 3
   },
   "file_extension": ".py",
   "mimetype": "text/x-python",
   "name": "python",
   "nbconvert_exporter": "python",
   "pygments_lexer": "ipython3",
   "version": "3.6.5"
  }
 },
 "nbformat": 4,
 "nbformat_minor": 2
}
