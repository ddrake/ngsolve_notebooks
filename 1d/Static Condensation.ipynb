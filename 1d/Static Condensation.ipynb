{
 "cells": [
  {
   "cell_type": "markdown",
   "metadata": {},
   "source": [
    "\n",
    "# 1-D Static Condensation (Unit 1.4)\n",
    "\n",
    "Static condensation refers to the process of eliminating unknowns that are internal to elements from the global linear system. They are useful in standard methods and critical in methods like the HDG method. NGSolve automates static condensation across a variety of methods via a classification of degrees of freedom.\n"
   ]
  },
  {
   "cell_type": "code",
   "execution_count": 10,
   "metadata": {
    "collapsed": true
   },
   "outputs": [],
   "source": [
    "import netgen.gui\n",
    "%gui tk\n",
    "from ngsolve import *\n",
    "import ngsolve.internal as ngint\n",
    "ngint.viewoptions.drawedges = 1\n",
    "from mesh_util import uniform_1d_mesh\n",
    "from matplotlib import pyplot as plt\n",
    "from numpy import linspace"
   ]
  },
  {
   "cell_type": "code",
   "execution_count": 2,
   "metadata": {
    "collapsed": true
   },
   "outputs": [],
   "source": [
    "mesh = Mesh(uniform_1d_mesh())\n",
    "fes = H1(mesh, order=4, dirichlet='right')\n",
    "u = fes.TrialFunction()\n",
    "v = fes.TestFunction()"
   ]
  },
  {
   "cell_type": "markdown",
   "metadata": {},
   "source": [
    "### Asking BilinearForm to condense"
   ]
  },
  {
   "cell_type": "code",
   "execution_count": 3,
   "metadata": {
    "collapsed": true
   },
   "outputs": [],
   "source": [
    "a = BilinearForm(fes, eliminate_internal=True)\n",
    "a += SymbolicBFI(grad(u)*grad(v))\n",
    "a.Assemble()\n",
    "\n",
    "f = LinearForm(fes)\n",
    "f += SymbolicLFI(1*v)\n",
    "f.Assemble()\n",
    "\n",
    "u = GridFunction(fes)"
   ]
  },
  {
   "cell_type": "markdown",
   "metadata": {},
   "source": [
    "The assembled matrix $A=$ a.mat can be block partitioned into\n",
    "$$A=\\left(\n",
    "\\begin{array}{cc}\n",
    "A_{LL}& A_{LE}\\\\\n",
    "A_{EL} & A_{EE}\n",
    "\\end{array}\\right)\n",
    "$$\n",
    "where $L$ denotes the set of *local or internal* degrees of freedom and $E$ denotes the set of *interface* degrees of freedom.\n",
    "\n",
    "In our current example $E$ consists of edge and vertex dofs while L consists of triangle dofs. (Note that in practice, $L$ and $E$ may not be ordered contiguously and $L$ need not appear before $E$, but such details are immaterial for our discussion here.)\n",
    "\n",
    "The condensed system is known as the Schur complement:\n",
    "$$S=A_{EL}−A_{EL}A_{LL}^{−1} A_{LE}.$$\n",
    "\n",
    "When eliminate_internal is set to True in $a$, the statement a.Assemble actually assembles $S$\n",
    "\n",
    "    .\n",
    "\n",
    "### A factorization\n",
    "- NGSolve provides\n",
    "   - a.harmonic_extension_trans =$\\left( \\begin{smallmatrix} 0 & 0 \\\\ −A_{EI}A_{LL}^{−1} & 0 \\end{smallmatrix} \\right)$\n",
    "\n",
    "   - a.harmonic_extension =$\\left( \\begin{smallmatrix} 0 & −A_{LL}^{−1}A_{LI} \\\\ 0 & 0 \\end{smallmatrix} \\right)$\n",
    "   \n",
    "   - a.inner_solve =$\\left( \\begin{smallmatrix} A_{LL}^{−1} & 0 \\\\ 0 & 0 \\end{smallmatrix} \\right).$\n",
    "\n",
    "- To solve\n",
    "$$\\left(\\begin{array}{cc}A_{LL} & A_{LE}\\\\ A_{EL} & A_{EE}\\end{array}\\right)\\left(\\begin{array}{cc}u_L\\\\u_E\\end{array}\\right)=\\left(\\begin{array}{cc}f_L\\\\f_E\\end{array}\\right)$$\n",
    "\n",
    "we use a factorization of $A^{−1}$ that uses $S^{−1}$. Namely, we use the following identity:\n",
    "\n",
    "$$\\left(\\begin{array}{c}u_L\\\\u_E\\end{array}\\right)=\n",
    "\\left(\\begin{array}{cc}I & −A^{−1}_{LL}A_{LE}\\\\0 & I\\end{array}\\right)\n",
    "\\left(\\begin{array}{cc}A_{LL}^{-1} & 0\\\\ 0 & S^{-1} \\end{array}\\right)\n",
    "\\underbrace{\\left(\\begin{array}{cc}I & 0\\\\-A_{EL}A_{LL}^{-1}& I \\end{array}\\right)\n",
    "\\left(\\begin{array}{c}f_L\\\\f_E\\end{array}\\right)}_{\\left(\\begin{smallmatrix}f'_L\\\\f'_E\\end{smallmatrix}\\right)}$$\n",
    "\n",
    "We implement this formula step by step, starting with the computation of $f'_L$ and $f'_E$.\n",
    "### Steps to compute the solution\n",
    "\n",
    "- The following step implements\n",
    "$$\\left(\\begin{array}{c}f'_L\\\\f'_E\\end{array}\\right) =\n",
    "\\left(\\begin{array}{cc}I & 0\\\\-A_{EL}A_{LL}^{-1}& I \\end{array}\\right)\n",
    "\\left(\\begin{array}{c}f_L\\\\f_E\\end{array}\\right)$$"
   ]
  },
  {
   "cell_type": "code",
   "execution_count": 4,
   "metadata": {
    "collapsed": true
   },
   "outputs": [],
   "source": [
    "f.vec.data += a.harmonic_extension_trans * f.vec"
   ]
  },
  {
   "cell_type": "markdown",
   "metadata": {},
   "source": [
    "- The next step implements part of the next matrix application in the formula. \n",
    "$$\\left(\\begin{array}{c}0\\\\u_E\\end{array}\\right) =\n",
    "\\left(\\begin{array}{cc}0 & 0\\\\0 & S^{-1} \\end{array}\\right)\n",
    "\\left(\\begin{array}{c}f'_L\\\\f'_E\\end{array}\\right)$$"
   ]
  },
  {
   "cell_type": "code",
   "execution_count": 5,
   "metadata": {
    "collapsed": true
   },
   "outputs": [],
   "source": [
    "u.vec.data = a.mat.Inverse(freedofs=fes.FreeDofs(coupling=True))*f.vec"
   ]
  },
  {
   "cell_type": "markdown",
   "metadata": {},
   "source": [
    "- Note:\n",
    "\n",
    "   - Because we set eliminate_internal in a, the inverse a.mat.Inverse actually computes $S^{−1}$\n",
    "\n",
    "   - Note that instead of the usual fes.FreeDofs(), we have used fes.FreeDofs(coupling=True) or simply fes.FreeDofs(True) to specify that only the degrees of freedom that are *not local* and *not Dirichlet* should participate in the inverse computations. (The underlying assumption is that Dirichlet dofs cannot be local dofs.)\n",
    "\n",
    "   - Next, we compute\n",
    "   \n",
    "$$\\left(\\begin{array}{c}u'_L\\\\u_E\\end{array}\\right) =\n",
    "\\left(\\begin{array}{c}0\\\\u_E\\end{array}\\right) +\n",
    "\\left(\\begin{array}{cc}A_{LL}& 0\\\\0 & 0 \\end{array}\\right)\n",
    "\\left(\\begin{array}{c}f'_L\\\\f'_E\\end{array}\\right).$$\n"
   ]
  },
  {
   "cell_type": "code",
   "execution_count": 6,
   "metadata": {
    "collapsed": true
   },
   "outputs": [],
   "source": [
    "u.vec.data += a.inner_solve * f.vec"
   ]
  },
  {
   "cell_type": "markdown",
   "metadata": {},
   "source": [
    "Finally: \n",
    "$$\\left(\\begin{array}{c}u_L\\\\u_E\\end{array}\\right) =\n",
    "\\left(\\begin{array}{cc}I & -A_{LL}^{-1}A_{LE}\\\\0 & I \\end{array}\\right)\n",
    "\\left(\\begin{array}{c}u'_L\\\\u_E\\end{array}\\right)$$"
   ]
  },
  {
   "cell_type": "code",
   "execution_count": 7,
   "metadata": {
    "collapsed": true
   },
   "outputs": [],
   "source": [
    "u.vec.data += a.harmonic_extension * u.vec"
   ]
  },
  {
   "cell_type": "code",
   "execution_count": 11,
   "metadata": {},
   "outputs": [
    {
     "data": {
      "text/plain": [
       "[<matplotlib.lines.Line2D at 0x7f36940daba8>]"
      ]
     },
     "execution_count": 11,
     "metadata": {},
     "output_type": "execute_result"
    },
    {
     "data": {
      "image/png": "[encoded data removed]",
      "text/plain": [
       "<Figure size 432x288 with 1 Axes>"
      ]
     },
     "metadata": {},
     "output_type": "display_data"
    }
   ],
   "source": [
    "Draw(u)\n",
    "xs = linspace(0,1,100)\n",
    "plt.plot(xs, [u(x) for x in xs])"
   ]
  },
  {
   "cell_type": "markdown",
   "metadata": {},
   "source": [
    "\n",
    "### Behind the scenes: CouplingType\n",
    "\n",
    "How does NGSolve know what is in the index sets $L$ and $E$?\n",
    "\n",
    "- Look at fes.CouplingType to see a classification of degrees of freedom.\n"
   ]
  },
  {
   "cell_type": "code",
   "execution_count": 12,
   "metadata": {},
   "outputs": [
    {
     "name": "stdout",
     "output_type": "stream",
     "text": [
      "COUPLING_TYPE.WIREBASKET_DOF\n",
      "COUPLING_TYPE.WIREBASKET_DOF\n",
      "COUPLING_TYPE.WIREBASKET_DOF\n",
      "COUPLING_TYPE.WIREBASKET_DOF\n",
      "COUPLING_TYPE.WIREBASKET_DOF\n",
      "COUPLING_TYPE.WIREBASKET_DOF\n",
      "COUPLING_TYPE.WIREBASKET_DOF\n",
      "COUPLING_TYPE.WIREBASKET_DOF\n",
      "COUPLING_TYPE.WIREBASKET_DOF\n",
      "COUPLING_TYPE.WIREBASKET_DOF\n",
      "COUPLING_TYPE.WIREBASKET_DOF\n",
      "COUPLING_TYPE.LOCAL_DOF\n",
      "COUPLING_TYPE.LOCAL_DOF\n",
      "COUPLING_TYPE.LOCAL_DOF\n",
      "COUPLING_TYPE.LOCAL_DOF\n",
      "COUPLING_TYPE.LOCAL_DOF\n",
      "COUPLING_TYPE.LOCAL_DOF\n",
      "COUPLING_TYPE.LOCAL_DOF\n",
      "COUPLING_TYPE.LOCAL_DOF\n",
      "COUPLING_TYPE.LOCAL_DOF\n",
      "COUPLING_TYPE.LOCAL_DOF\n",
      "COUPLING_TYPE.LOCAL_DOF\n",
      "COUPLING_TYPE.LOCAL_DOF\n",
      "COUPLING_TYPE.LOCAL_DOF\n",
      "COUPLING_TYPE.LOCAL_DOF\n",
      "COUPLING_TYPE.LOCAL_DOF\n",
      "COUPLING_TYPE.LOCAL_DOF\n",
      "COUPLING_TYPE.LOCAL_DOF\n",
      "COUPLING_TYPE.LOCAL_DOF\n",
      "COUPLING_TYPE.LOCAL_DOF\n",
      "COUPLING_TYPE.LOCAL_DOF\n",
      "COUPLING_TYPE.LOCAL_DOF\n",
      "COUPLING_TYPE.LOCAL_DOF\n",
      "COUPLING_TYPE.LOCAL_DOF\n",
      "COUPLING_TYPE.LOCAL_DOF\n",
      "COUPLING_TYPE.LOCAL_DOF\n",
      "COUPLING_TYPE.LOCAL_DOF\n",
      "COUPLING_TYPE.LOCAL_DOF\n",
      "COUPLING_TYPE.LOCAL_DOF\n",
      "COUPLING_TYPE.LOCAL_DOF\n",
      "COUPLING_TYPE.LOCAL_DOF\n"
     ]
    }
   ],
   "source": [
    "for i in range(fes.ndof):\n",
    "    print(fes.CouplingType(i))"
   ]
  },
  {
   "cell_type": "code",
   "execution_count": 13,
   "metadata": {},
   "outputs": [
    {
     "data": {
      "text/plain": [
       "{COUPLING_TYPE.WIREBASKET_DOF: 11, COUPLING_TYPE.LOCAL_DOF: 30}"
      ]
     },
     "execution_count": 13,
     "metadata": {},
     "output_type": "execute_result"
    }
   ],
   "source": [
    "doftypes = {}\n",
    "for i in range(fes.ndof):\n",
    "    type = fes.CouplingType(i)\n",
    "    if type in doftypes.keys():\n",
    "        doftypes[type] += 1\n",
    "    else:\n",
    "        doftypes[type] = 1\n",
    "doftypes"
   ]
  },
  {
   "cell_type": "markdown",
   "metadata": {
    "collapsed": true
   },
   "source": [
    "The LOCAL_DOF forms the set $L$ and the remainder forms the set $E$. All finite element spaces in NGSolve have such dof classification.\n",
    "\n",
    "Through this classification a bilinear form is able to automatically compute the Schur complement and the accompanying extension operators. Users need only specify the flag eliminate_internal. (Of course users should also make sure their method has an invertible $A_LL$!)\n",
    "### Inhomogeneous Dirichlet boundary conditions\n",
    "\n",
    "In case of inhomogeneous Dirichlet boundary conditions we must combine the technique of Dirichlet data extension in a previous tutorial with static condensation:\n"
   ]
  },
  {
   "cell_type": "code",
   "execution_count": 14,
   "metadata": {},
   "outputs": [
    {
     "data": {
      "text/plain": [
       "3.0716043106192853e-16"
      ]
     },
     "execution_count": 14,
     "metadata": {},
     "output_type": "execute_result"
    }
   ],
   "source": [
    "U = x*x        # U = manufactured solution\n",
    "DeltaU = CoefficientFunction(2) # Source: DeltaU = ∆U\n",
    "\n",
    "f = LinearForm(fes)\n",
    "f += SymbolicLFI(-DeltaU*v)\n",
    "f.Assemble()\n",
    "\n",
    "u = GridFunction(fes)\n",
    "u.Set(U, BND)               # Dirichlet b.c: u = U\n",
    "\n",
    "# Modify source per Dirichlet extension technique:\n",
    "r = f.vec.CreateVector()\n",
    "r.data = f.vec - a.mat * u.vec\n",
    "r.data += a.harmonic_extension_trans * r\n",
    "\n",
    "# Apply the static condensation technique:\n",
    "u.vec.data += a.mat.Inverse(fes.FreeDofs(True)) * r\n",
    "u.vec.data += a.harmonic_extension * u.vec\n",
    "u.vec.data += a.inner_solve * r\n",
    "\n",
    "sqrt(Integrate((U-u)*(U-u),mesh))  # Compute error\n"
   ]
  },
  {
   "cell_type": "code",
   "execution_count": null,
   "metadata": {
    "collapsed": true
   },
   "outputs": [],
   "source": []
  }
 ],
 "metadata": {
  "kernelspec": {
   "display_name": "Python 3",
   "language": "python",
   "name": "python3"
  },
  "language_info": {
   "codemirror_mode": {
    "name": "ipython",
    "version": 3
   },
   "file_extension": ".py",
   "mimetype": "text/x-python",
   "name": "python",
   "nbconvert_exporter": "python",
   "pygments_lexer": "ipython3",
   "version": "3.5.2"
  }
 },
 "nbformat": 4,
 "nbformat_minor": 2
}
