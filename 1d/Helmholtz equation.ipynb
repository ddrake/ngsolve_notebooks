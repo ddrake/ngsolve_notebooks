{
 "cells": [
  {
   "cell_type": "markdown",
   "metadata": {},
   "source": [
    "# Complex-valued waves (Unit 1.7)\n",
    "\n",
    "In NGSolve finite element spaces can be built and linear systems can be solved over the complex field. This tutorial shows how to compute the solution of the Helmholtz equation with impedance boundary conditions in complex arithmetic. The boundary value problem is to find u\n",
    "satisfying\n",
    "$$−\\Delta u − \\omega^2 u=f \\hspace{2em} \\in \\Omega$$\n",
    "together with the impedance (outgoing) boundary condition\n",
    "$$\\frac{\\partial u}{\\partial n} − i\\omega u = 0 \\hspace{2em}  \\text{ on } \\partial \\Omega$$\n",
    "where $i=1j$ is the imaginary unit."
   ]
  },
  {
   "cell_type": "code",
   "execution_count": 1,
   "metadata": {
    "collapsed": true
   },
   "outputs": [],
   "source": [
    "import netgen.gui\n",
    "%gui tk\n",
    "from ngsolve import *\n",
    "import ngsolve.internal as ngint\n",
    "ngint.viewoptions.drawedges = 1"
   ]
  },
  {
   "cell_type": "code",
   "execution_count": 2,
   "metadata": {
    "collapsed": true
   },
   "outputs": [],
   "source": [
    "import netgen.meshing as msh\n",
    "def MakeMesh1D():\n",
    "    a=0\n",
    "    b=1\n",
    "    nel=10 \n",
    "    m = msh.Mesh()\n",
    "    m.dim = 1\n",
    "    pnums = []\n",
    "\n",
    "    for i in range(nel+1):\n",
    "        pnums.append(m.Add (msh.MeshPoint(msh.Pnt(a+(b-a)*i/nel, 0, 0))))\n",
    "\n",
    "    for i in range(6):\n",
    "        m.Add (msh.Element1D([pnums[i], pnums[i+1]],index=1))\n",
    "    for i in range(6,8):\n",
    "        m.Add (msh.Element1D([pnums[i], pnums[i+1]],index=2))\n",
    "    for i in range(8,nel):\n",
    "        m.Add (msh.Element1D([pnums[i], pnums[i+1]],index=1))\n",
    "\n",
    "    m.SetMaterial(1,'air')\n",
    "    m.SetMaterial(2,'metal')\n",
    "\n",
    "    # add points\n",
    "    m.Add (msh.Element0D (pnums[0], index=1))\n",
    "    m.Add (msh.Element0D (pnums[6], index=2))\n",
    "    m.Add (msh.Element0D (pnums[8], index=2))\n",
    "    m.Add (msh.Element0D (pnums[nel], index=1))\n",
    "    \n",
    "    # set boundary condition names\n",
    "    m.SetBCName(0,'outer')\n",
    "    m.SetBCName(1,'scat')\n",
    "\n",
    "    \n",
    "    m.Save('temp.vol')\n",
    "    return m\n",
    "\n",
    "mesh = Mesh(MakeMesh1D())\n"
   ]
  },
  {
   "cell_type": "markdown",
   "metadata": {},
   "source": [
    "## Declare a complex finite element space"
   ]
  },
  {
   "cell_type": "code",
   "execution_count": 3,
   "metadata": {
    "collapsed": true
   },
   "outputs": [],
   "source": [
    "fes = H1(mesh, order=5, complex=True)\n",
    "u = fes.TrialFunction()\n",
    "v = fes.TestFunction()\n"
   ]
  },
  {
   "cell_type": "code",
   "execution_count": 4,
   "metadata": {
    "collapsed": true
   },
   "outputs": [],
   "source": [
    "# Wavenumber & source\n",
    "omega = 100\n",
    "pulse = 1e3*exp(-(100**2)*(x-0.5)*(x-0.5))\n",
    "Draw(pulse, mesh, 'pulse')\n"
   ]
  },
  {
   "cell_type": "markdown",
   "metadata": {},
   "source": [
    "## Forming the system\n",
    "\n",
    "The weak form for $u \\in H^1$:\n",
    "$$ \\int_\\Omega [\\nabla u \\cdot \\nabla \\bar{v} - \\omega^2 u \\bar{v}] dx - i \\omega \\int_{\\partial \\Omega} u \\bar{v}\\ ds = \\int_\\Omega f \\bar{v}$$ for all $v$ in $H^1$."
   ]
  },
  {
   "cell_type": "code",
   "execution_count": 5,
   "metadata": {
    "collapsed": true
   },
   "outputs": [],
   "source": [
    "# Forms\n",
    "a = BilinearForm(fes)\n",
    "a += SymbolicBFI(grad(u)*grad(v)-omega**2*u*v)\n",
    "a += SymbolicBFI(-omega*1j*u*v, definedon=mesh.Boundaries(\"outer\"))\n",
    "a.Assemble()\n",
    "\n",
    "f = LinearForm(fes)\n",
    "f += SymbolicLFI(pulse * v)\n",
    "f.Assemble()"
   ]
  },
  {
   "cell_type": "markdown",
   "metadata": {},
   "source": [
    "### Solve"
   ]
  },
  {
   "cell_type": "code",
   "execution_count": 6,
   "metadata": {
    "collapsed": true
   },
   "outputs": [],
   "source": [
    "gfu = GridFunction(fes, name=\"u\")\n",
    "gfu.vec.data = a.mat.Inverse() * f.vec\n",
    "Draw(gfu)"
   ]
  },
  {
   "cell_type": "markdown",
   "metadata": {},
   "source": [
    "\n",
    "\n",
    "Explore the GUI's menu options in Visual tab:\n",
    "\n",
    "- Increase subdivisions (works)\n",
    "- Real and imaginary parts (works)\n",
    "- View absolute value (works)\n",
    "- Turn off Autoscale (doesn't do anything in 1-D)\n",
    "- Turn on Deformation (seems to just scale the output not the same effect as in 2-D)\n",
    "- Turn on Periodic Animation (doesn't work in 1-D)\n",
    "\n"
   ]
  },
  {
   "cell_type": "code",
   "execution_count": null,
   "metadata": {
    "collapsed": true
   },
   "outputs": [],
   "source": []
  }
 ],
 "metadata": {
  "kernelspec": {
   "display_name": "Python 3",
   "language": "python",
   "name": "python3"
  },
  "language_info": {
   "codemirror_mode": {
    "name": "ipython",
    "version": 3
   },
   "file_extension": ".py",
   "mimetype": "text/x-python",
   "name": "python",
   "nbconvert_exporter": "python",
   "pygments_lexer": "ipython3",
   "version": "3.5.2"
  }
 },
 "nbformat": 4,
 "nbformat_minor": 2
}
