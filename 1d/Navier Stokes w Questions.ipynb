{
 "cells": [
  {
   "cell_type": "markdown",
   "metadata": {},
   "source": [
    "# Incompressible Navier Stokes Equations (Unit 3.2)\n",
    "\n",
    "### Note: NGSolve must be compiled with umfpack for this to work right\n",
    "There are some bugs in the current (July 2, 2018) version of this tutorial, especially in the first part.  The pressure and velocity include infs and nans, unless umfpack is enabled.  The sign of pressure is not consistent with the navier stokes demo tutorial. \n",
    "See this forum post for more https://ngsolve.org/forum/ngspy-forum/17-navier-stokes-itutorial\n",
    "\n",
    "We are solving the unsteady Navier Stokes Equations\n",
    "\n",
    "$$u_t + (u \\cdot \\nabla)u + \\frac{1}{\\rho}\\nabla p = \\nu \\Delta u \\ \\text{where} \\ div(u) = 0$$\n",
    "\n",
    "which, since u is a vector valued function, is the following system in 2D:\n",
    "\n",
    "$$u^i_t + (u^i \\cdot \\nabla)u^i + \\frac{1}{\\rho}p_x = \\nu \\Delta u^i \\hspace{3em} \\text{for i = 1,2}$$\n",
    "\n",
    "I'm not sure how to obtain this variational form, probably using Green's theorem:\n",
    "\n",
    "Find $(u,p):[0,T]\\rightarrow(H_{0,D}^1)^d\\times L^2$, s.t.\n",
    "\n",
    "$$\\int_\\Omega \\partial_t uv + \\nu \\nabla v : \\nabla u + u \\cdot \\nabla uv - \\int_\\Omega div(v)\\cdot p = \\int fv \\hspace{3em} \\forall v \\in (H_{0,D}^1)^d$$\n",
    "\n",
    "d is the dimension of the space (d = 2).  Changed from dot to frobenius inner product above.\n",
    "\n",
    "$$-\\int_\\Omega div(u)q = 0  \\hspace{3em} \\forall q \\in L^2$$\n",
    "\n",
    "$$u(t = 0) = u_0$$\n"
   ]
  },
  {
   "cell_type": "code",
   "execution_count": 1,
   "metadata": {},
   "outputs": [],
   "source": [
    "import netgen.gui\n",
    "%gui tk\n",
    "import tkinter\n",
    "from math import pi # do we need this?\n",
    "from ngsolve import *\n",
    "from netgen.geom2d import SplineGeometry"
   ]
  },
  {
   "cell_type": "markdown",
   "metadata": {},
   "source": [
    "We again consider the benchmark example from the [DFG Benchmark Site](http://www.featflow.de/en/benchmarks/cfdbenchmarking/flow/dfg_benchmark2_re100.html).  The geometry is a 2D channel with a circular obstacle which is positioned (only slightly) off the center of the channel.  The geometry:\n",
    "![geometry.png](resources/geometry.png)\n",
    "\n",
    "The left part (red) is the inflow boundary\n",
    "\n",
    "The right part (green) is the outflow boundary\n",
    "\n",
    "The viscosity is set to $\\nu = 10^{-3}$"
   ]
  },
  {
   "cell_type": "code",
   "execution_count": 2,
   "metadata": {},
   "outputs": [],
   "source": [
    "#from netgen.geom2d import SplineGeometry\n",
    "geo = SplineGeometry()\n",
    "geo.AddRectangle( (0, 0), (2, 0.41), \n",
    "                 bcs = (\"wall\", \"outlet\", \"wall\", \"inlet\"))\n",
    "geo.AddCircle ( (0.2, 0.2), r=0.05, \n",
    "               leftdomain=0, rightdomain=1, bc=\"cyl\")\n",
    "mesh = Mesh( geo.GenerateMesh(maxh=0.08))\n",
    "mesh.Curve(3)  # curve the mesh around the circle with a third order (spline?)\n",
    "\n",
    "# viscosity\n",
    "nu = 0.001"
   ]
  },
  {
   "cell_type": "markdown",
   "metadata": {},
   "source": [
    "We use a Taylor-Hood discretization of degree k.  The finite element space for the velocity components $u_x$ and $u_y$ and the pressure is:\n",
    "\n",
    "$$u_x, u_y \\in V = \\{v \\in H^1(\\Omega) \\  | \\ v|_T \\in \\mathcal{P}^K(T)\\}$$\n",
    "\n",
    "$$p \\in Q = \\{q \\in H^1(\\Omega) \\ | \\ q_T \\in \\mathcal{P}^{K-1}(T)\\}$$\n",
    "\n"
   ]
  },
  {
   "cell_type": "code",
   "execution_count": 3,
   "metadata": {},
   "outputs": [],
   "source": [
    "k = 3\n",
    "V = H1(mesh,order=k, dirichlet=\"wall|cyl|inlet\")\n",
    "Q = H1(mesh,order=k-1)\n",
    "\n",
    "X = FESpace([V,V,Q])"
   ]
  },
  {
   "cell_type": "markdown",
   "metadata": {},
   "source": [
    "As initial data, we use the solution to the Stokes problem:\n",
    "\n",
    "Find $u = (u_x, u_y) \\in V \\times V, P \\in Q$ so that\n",
    "\n",
    "$$\\int_\\Omega \\nu \\nabla v \\cdot \\nabla u - \\int_\\Omega div(v) p = \\int fv \\hspace{3em} \\forall v \\in V \\times V$$\n",
    "\n",
    "$$-\\int_\\Omega div(u)q = 0  \\hspace{3em} \\forall q \\in Q$$\n",
    "\n",
    "with boundary conditions\n",
    "\n",
    "* the inflow boundary data (\"inlet\") with mean value 1\n",
    "$$u_x(0,y)=6y(0.41−y)/(0.41)^2,\\int_0^{0.41}u_x(0,y)dy=1$$\n",
    "* \"do-nothing\" boundary conditions on the outflow ('outlet') and\n",
    "* homogeneous Dirichlet conditions on all other boundaries ('wall').\n",
    "\n"
   ]
  },
  {
   "cell_type": "code",
   "execution_count": 4,
   "metadata": {
    "scrolled": true
   },
   "outputs": [
    {
     "data": {
      "image/png": "[encoded data removed]",
      "text/plain": [
       "<Figure size 432x288 with 1 Axes>"
      ]
     },
     "metadata": {},
     "output_type": "display_data"
    }
   ],
   "source": [
    "u = GridFunction(X)\n",
    "\n",
    "# parabolic inflow at bc=1:\n",
    "uin = 1.5*4*y*(0.41-y)/(0.41*0.41)\n",
    "u.components[0].Set(uin, definedon=mesh.Boundaries(\"inlet\"))\n",
    "\n",
    "# a sketch of the inflow profile:\n",
    "import matplotlib\n",
    "import numpy as np\n",
    "import matplotlib.pyplot as plt\n",
    "%matplotlib inline  \n",
    "\n",
    "s = np.arange(0.0, 0.42, 0.01)\n",
    "bvs = 6*s*(0.41-s)/(0.41)**2 \n",
    "plt.plot(s, bvs)\n",
    "\n",
    "plt.xlabel('y')\n",
    "plt.ylabel('$u_x(0,y)$')\n",
    "plt.title('inflow profile')\n",
    "plt.grid(True)\n",
    "plt.show()"
   ]
  },
  {
   "cell_type": "markdown",
   "metadata": {},
   "source": [
    "To solve the Stokes (and later the Navier-Stokes) problem, we introduce the bilinear form:\n",
    "$$a((u,p),(b,q)) := \\int_\\Omega \\nu \\nabla u : \\nabla v - div(v)p - div(u)q$$\n",
    "\n",
    "Again changed dot to Frobenius"
   ]
  },
  {
   "cell_type": "code",
   "execution_count": 7,
   "metadata": {},
   "outputs": [],
   "source": [
    "# code from website seems buggy. Solution vector with infs and nans\n",
    "ux,uy,p = X.TrialFunction()\n",
    "vx,vy,q = X.TestFunction()\n",
    "\n",
    "div_u = grad(ux)[0]+grad(uy)[1]\n",
    "div_v = grad(vx)[0]+grad(vy)[1]\n",
    "\n",
    "stokes = nu*grad(ux)*grad(vx)+nu*grad(uy)*grad(vy) \\\n",
    "         -div_u*q-div_v*p\n",
    "        \n",
    "a = BilinearForm(X)\n",
    "a += SymbolicBFI(stokes)\n",
    "a.Assemble()\n",
    "\n",
    "f = LinearForm(X)   \n",
    "f.Assemble()\n",
    "\n",
    "inv_stokes = a.mat.Inverse(X.FreeDofs())\n",
    "\n",
    "res = f.vec.CreateVector()\n",
    "res.data = f.vec - a.mat*u.vec\n",
    "u.vec.data += inv_stokes * res\n",
    "\n",
    "Draw(u.components[1], mesh, 'p')\n",
    "Redraw() "
   ]
  },
  {
   "cell_type": "code",
   "execution_count": 6,
   "metadata": {},
   "outputs": [],
   "source": [
    "# this modified code requires umfpack\n",
    "ux,uy,p = X.TrialFunction()\n",
    "vx,vy,q = X.TestFunction()\n",
    "\n",
    "div_u = grad(ux)[0]+grad(uy)[1]\n",
    "div_v = grad(vx)[0]+grad(vy)[1]\n",
    "\n",
    "# without the small p*q term, the matrix is not invertible.\n",
    "stokes = nu*grad(ux)*grad(vx)+nu*grad(uy)*grad(vy)-div_u*q-div_v*p - 1.0e-10*p*q\n",
    "        \n",
    "a = BilinearForm(X)\n",
    "a += SymbolicBFI(stokes)\n",
    "a.Assemble()\n",
    "# print(a.mat)   #gives reasonable values a.mat is a SparseMatrixD\n",
    "f = LinearForm(X)   \n",
    "# note: no rhs to integrate (I think this means assume rhs is zero)\n",
    "f.Assemble()\n",
    "\n",
    "# dd: edited to add the type of inverse\n",
    "inv_stokes = a.mat.Inverse(X.FreeDofs(), inverse=\"umfpack\")  # a BaseMatrix - kernel crash if I try to print\n",
    "\n",
    "res = f.vec.CreateVector()\n",
    "res.data = f.vec - a.mat*u.vec\n",
    "# note f.vec is all zeros, so don't need to explicitly add...\n",
    "\n",
    "# this doesn't make sense to me.  \n",
    "# since f.vec is all zeros, it seems that we are just going doing u = u-a*a^-1*u or u = u-u = 0\n",
    "u.vec.data += inv_stokes * res\n",
    "# print(u.vec) gives lots of nan, infs unless we specify umfpack inverse \n"
   ]
  },
  {
   "cell_type": "code",
   "execution_count": 7,
   "metadata": {},
   "outputs": [],
   "source": [
    "Draw(u.components[1], mesh, 'p')"
   ]
  },
  {
   "cell_type": "markdown",
   "metadata": {},
   "source": [
    "For the time integration we consider an semi-implicit Euler method (IMEX) where the convection is treated only explicitly and the remaining part implicitly:\n",
    "\n",
    "Find $(u^{n+1}, p^{n+1}) \\in X = V \\times V \\times Q$, s.t. for all $(v,q) \\in X$<br>\n",
    "$$m(u^{n+1},v) + \\Delta t \\cdot a((u^{n+1},p^{n+1}),(v,q)) = m(u^n,v) - \\Delta tc(u^n; u^n, v)$$\n",
    "\n",
    "where we define $M^*$ to be the l.h.s with \n",
    "\n",
    "$$m(u,v) = \\int u \\cdot v$$\n",
    "\n",
    "and \n",
    "\n",
    "$$ c(w,u,v) = \\int w \\cdot \\nabla u \\cdot v$$\n",
    "\n",
    "We prefer the incremental form (as it homogenizes the boundary conditions):\n",
    "$$m(\\Delta u^{n+1}, v) + \\Delta t \\cdot a((\\Delta u^{n+1}, p^{n+1}),(v,q)) = \\Delta t(-a((u^n,p^n),(v,q)) - c(u^n; u^n, v))$$\n",
    "\n",
    "I don't understand this notation with the semicolon.  Is c the convection part?  I think so.  Where is this in the original equation?\n",
    "\n"
   ]
  },
  {
   "cell_type": "code",
   "execution_count": 8,
   "metadata": {},
   "outputs": [],
   "source": [
    "dt = 0.001\n",
    "# matrix for implicit Euler \n",
    "mstar = BilinearForm(X)\n",
    "mstar += SymbolicBFI(ux*vx+uy*vy + dt*stokes)\n",
    "mstar.Assemble()\n",
    "inv = mstar.mat.Inverse(X.FreeDofs())\n",
    "\n",
    "velocity = CoefficientFunction (u.components[0:2])\n",
    "\n",
    "conv = LinearForm(X)\n",
    "conv += SymbolicLFI(velocity*grad(u.components[0])*vx)\n",
    "conv += SymbolicLFI(velocity*grad(u.components[1])*vy)\n",
    "\n",
    "# for visualization\n",
    "velocity = CoefficientFunction (u.components[0:2])\n",
    "Draw(u.components[2],mesh,\"p\")\n",
    "Draw(Norm(velocity),mesh,\"velocity\", sd=3)\n"
   ]
  },
  {
   "cell_type": "code",
   "execution_count": 9,
   "metadata": {},
   "outputs": [],
   "source": [
    "t = 0\n",
    "tend = 0"
   ]
  },
  {
   "cell_type": "code",
   "execution_count": 10,
   "metadata": {},
   "outputs": [
    {
     "name": "stdout",
     "output_type": "stream",
     "text": [
      "t= 0.999000000000000876"
     ]
    }
   ],
   "source": [
    "# implicit Euler/explicit Euler splitting method:\n",
    "tend += 1\n",
    "while t < tend-0.5*dt:\n",
    "    print (\"\\rt=\", t, end=\"\")\n",
    "\n",
    "    conv.Assemble()\n",
    "    res.data = a.mat * u.vec + conv.vec\n",
    "    u.vec.data -= dt * inv * res    \n",
    "\n",
    "    t = t + dt\n",
    "    Redraw()\n"
   ]
  },
  {
   "cell_type": "markdown",
   "metadata": {},
   "source": [
    "## Supplementary 1: Computing stresses\n",
    "\n",
    "In the previously used benchmark the stresses on the obstacle are evaluated, the so-called drag and lift coefficients.\n",
    "\n",
    "The force acting on the obstacle is\n",
    "$$F_\\circ =(FD,FL)= \\int_{\\Gamma_{cyl}} \\sigma n = \\int_{\\Gamma_{cyl}} (\\nu \\frac{\\partial u}{\\partial n} + pI) \\cdot n$$ \n",
    "\n",
    "The drag/lift coefficients are\n",
    "$$c_D=\\frac{2}{\\bar{u}L} F_D, \\hspace{2em} c_L=\\frac{2}{\\bar{u}L} F_L.$$\n",
    "where $\\bar{u}=1$ is the mean inflow velocity and $L=0.41$ is the channel width.\n",
    "\n",
    "We use the residual of our discretization to compute the forces. On the boundary degrees of freedoms of the disk we overwrote the equation by prescribing the (homogeneous) boundary conditions. The equations related to these dofs describe the force (im)balance at this boundary.\n",
    "\n",
    "Testing the residual (functional) with the characteristic function on that boundary (in the x- or y-direction) we obtain the integrated stresses (in the x- or y-direction):\n",
    "\n",
    "We define the functions which are characteristic functions (in terms of boundary evaluations)"
   ]
  },
  {
   "cell_type": "code",
   "execution_count": 11,
   "metadata": {},
   "outputs": [],
   "source": [
    "drag_x_test = GridFunction(X)\n",
    "drag_x_test.components[0].Set(CoefficientFunction(-20.0), definedon=mesh.Boundaries(\"cyl\"))\n",
    "drag_y_test = GridFunction(X)\n",
    "drag_y_test.components[1].Set(CoefficientFunction(-20.0), definedon=mesh.Boundaries(\"cyl\"))"
   ]
  },
  {
   "cell_type": "markdown",
   "metadata": {},
   "source": [
    "We will collect drag and lift forces over time and therefore create empty arrays\n",
    "\n",
    "and reset initial data (and time)\n"
   ]
  },
  {
   "cell_type": "code",
   "execution_count": 12,
   "metadata": {},
   "outputs": [],
   "source": [
    "time_vals = []\n",
    "drag_x_vals = []\n",
    "drag_y_vals = []"
   ]
  },
  {
   "cell_type": "code",
   "execution_count": 13,
   "metadata": {},
   "outputs": [],
   "source": [
    "# restoring initial data\n",
    "res.data = f.vec - a.mat*u.vec\n",
    "u.vec.data += inv_stokes * res\n",
    "Redraw()\n",
    "\n",
    "t = 0\n",
    "tend = 0\n"
   ]
  },
  {
   "cell_type": "markdown",
   "metadata": {},
   "source": [
    "\n",
    "With the same discretization as before.\n",
    "\n",
    "Remarks:\n",
    "\n",
    "- you can call the following block several times to continue a simulation and collect more data\n",
    "- note that you can reset the array without rerunning the simulation\n",
    "- below you can plot the gathered drag and lift values\n",
    "\n"
   ]
  },
  {
   "cell_type": "code",
   "execution_count": 14,
   "metadata": {},
   "outputs": [
    {
     "name": "stdout",
     "output_type": "stream",
     "text": [
      "t= 0.999000000000000876"
     ]
    }
   ],
   "source": [
    "# implicit Euler/explicit Euler splitting method:\n",
    "tend += 1\n",
    "while t < tend-0.5*dt:\n",
    "    print (\"\\rt=\", t, end=\"\")\n",
    "\n",
    "    conv.Assemble()\n",
    "    res.data = a.mat * u.vec + conv.vec\n",
    "    u.vec.data -= dt * inv * res    \n",
    "\n",
    "    t = t + dt\n",
    "    Redraw()\n",
    "   \n",
    "    time_vals.append( t )\n",
    "    drag_x_vals.append(InnerProduct(res, drag_x_test.vec) )\n",
    "    drag_y_vals.append(InnerProduct(res, drag_y_test.vec) )\n",
    "    #print(drag)  "
   ]
  },
  {
   "cell_type": "code",
   "execution_count": 15,
   "metadata": {},
   "outputs": [
    {
     "data": {
      "image/png": "[encoded data removed]",
      "text/plain": [
       "<Figure size 432x288 with 1 Axes>"
      ]
     },
     "metadata": {},
     "output_type": "display_data"
    },
    {
     "data": {
      "image/png": "[encoded data removed]",
      "text/plain": [
       "<Figure size 432x288 with 1 Axes>"
      ]
     },
     "metadata": {},
     "output_type": "display_data"
    }
   ],
   "source": [
    "# Plot drag/lift forces over time\n",
    "\n",
    "import matplotlib\n",
    "import numpy as np\n",
    "import matplotlib.pyplot as plt\n",
    "%matplotlib inline  \n",
    "\n",
    "plt.plot(time_vals, drag_x_vals)\n",
    "plt.xlabel('time')\n",
    "plt.ylabel('drag')\n",
    "plt.title('drag')\n",
    "plt.grid(True)\n",
    "plt.show()    \n",
    "\n",
    "plt.plot(time_vals, drag_y_vals)\n",
    "plt.xlabel('time')\n",
    "plt.ylabel('lift')\n",
    "plt.title('lift')\n",
    "plt.grid(True)\n",
    "plt.show()    "
   ]
  },
  {
   "cell_type": "code",
   "execution_count": null,
   "metadata": {},
   "outputs": [],
   "source": []
  }
 ],
 "metadata": {
  "kernelspec": {
   "display_name": "Python 3",
   "language": "python",
   "name": "python3"
  },
  "language_info": {
   "codemirror_mode": {
    "name": "ipython",
    "version": 3
   },
   "file_extension": ".py",
   "mimetype": "text/x-python",
   "name": "python",
   "nbconvert_exporter": "python",
   "pygments_lexer": "ipython3",
   "version": "3.6.5"
  }
 },
 "nbformat": 4,
 "nbformat_minor": 2
}
