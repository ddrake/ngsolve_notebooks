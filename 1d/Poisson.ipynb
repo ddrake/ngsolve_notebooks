{
 "cells": [
  {
   "cell_type": "markdown",
   "metadata": {},
   "source": [
    "# First NGSolve example (Unit 1.1)\n",
    "\n",
    "Let us solve the Poisson problem.\n",
    "$$\\text{find: } u \\in H_{0,D}^1 \\int_{\\Omega} \\nabla u \\nabla v = \\int_\\Omega f v \\hspace{2em} \\forall v \\in H_{0,D}^1.$$\n"
   ]
  },
  {
   "cell_type": "code",
   "execution_count": 1,
   "metadata": {},
   "outputs": [],
   "source": [
    "import netgen.gui\n",
    "%gui tk\n",
    "from ngsolve import *\n",
    "from mesh_util import uniform_1d_mesh"
   ]
  },
  {
   "cell_type": "markdown",
   "metadata": {},
   "source": [
    "**Note (DD):** to generate a regular mesh with the boundary condition names set correctly\n",
    " just remove the maxh value from unit_square.GenerateMesh, then in Netgen refine it a couple times and save it.\n",
    " \n",
    " **Note (DD):** We can load geometry files but I'm not sure how to save them."
   ]
  },
  {
   "cell_type": "code",
   "execution_count": 2,
   "metadata": {},
   "outputs": [],
   "source": [
    "\n",
    "mesh = Mesh(uniform_1d_mesh())"
   ]
  },
  {
   "cell_type": "code",
   "execution_count": 3,
   "metadata": {},
   "outputs": [
    {
     "data": {
      "text/plain": [
       "(11, 10)"
      ]
     },
     "execution_count": 3,
     "metadata": {},
     "output_type": "execute_result"
    }
   ],
   "source": [
    "mesh.nv, mesh.ne"
   ]
  },
  {
   "cell_type": "code",
   "execution_count": 4,
   "metadata": {},
   "outputs": [
    {
     "data": {
      "text/plain": [
       "11"
      ]
     },
     "execution_count": 4,
     "metadata": {},
     "output_type": "execute_result"
    }
   ],
   "source": [
    "\n",
    "fes = H1(mesh, order=1, dirichlet=\"bottom|top|left|right\")\n",
    "fes.ndof  # number of unknowns in this space\n"
   ]
  },
  {
   "cell_type": "code",
   "execution_count": 5,
   "metadata": {},
   "outputs": [],
   "source": [
    "u = fes.TrialFunction()  # symbolic object\n",
    "v = fes.TestFunction()   # symbolic object\n",
    "gfu = GridFunction(fes)  # solution "
   ]
  },
  {
   "cell_type": "code",
   "execution_count": 6,
   "metadata": {},
   "outputs": [],
   "source": [
    "a = BilinearForm(fes, symmetric=True)\n",
    "a += SymbolicBFI(grad(u)*grad(v))\n",
    "a.Assemble()\n",
    "\n",
    "f = LinearForm(fes)\n",
    "f += SymbolicLFI(x*v)\n",
    "f.Assemble()\n"
   ]
  },
  {
   "cell_type": "code",
   "execution_count": 7,
   "metadata": {},
   "outputs": [
    {
     "name": "stdout",
     "output_type": "stream",
     "text": [
      "Row 0:   0: 10\n",
      "Row 1:   0: -10   1: 20\n",
      "Row 2:   1: -10   2: 20\n",
      "Row 3:   2: -10   3: 20\n",
      "Row 4:   3: -10   4: 20\n",
      "Row 5:   4: -10   5: 20\n",
      "Row 6:   5: -10   6: 20\n",
      "Row 7:   6: -10   7: 20\n",
      "Row 8:   7: -10   8: 20\n",
      "Row 9:   8: -10   9: 20\n",
      "Row 10:   9: -10   10: 10\n",
      "\n"
     ]
    }
   ],
   "source": [
    "print(a.mat)"
   ]
  },
  {
   "cell_type": "markdown",
   "metadata": {},
   "source": [
    "I tried to get NGSolve to generate a matrix similar to the one in Claes Johnson 1.4, but it always puts in rows for the boundary elements and the diagonal elements have a different pattern.  \n",
    "\n",
    "This is because the matrix in Claes Johnson doesn't include elements corresponding to Dirichlet boundary conditions, whereas NGSolve assumes Neumann boundary conditions when constructing the matrix.  The boundary constraints are taken into account by the Inverse (FreeDofs())"
   ]
  },
  {
   "cell_type": "markdown",
   "metadata": {},
   "source": [
    "#### 6. Solve the system:"
   ]
  },
  {
   "cell_type": "code",
   "execution_count": 8,
   "metadata": {},
   "outputs": [],
   "source": [
    "#gfu.vec.data = a.mat.Inverse(freedofs=fes.FreeDofs(), inverse='umfpack')*f.vec\n",
    "#gfu.vec.data = a.mat.Inverse(freedofs=fes.FreeDofs(), inverse='sparsecholesky')*f.vec\n",
    "gfu.vec.data = a.mat.Inverse(freedofs=fes.FreeDofs()) * f.vec\n",
    "Draw(gfu)"
   ]
  },
  {
   "cell_type": "markdown",
   "metadata": {},
   "source": [
    "To be able to visualize one-dimensional meshes and solution activate Show edges in the menu View > Viewing options > Mesh.\n",
    "\n",
    "The Dirichlet boundary condition constrains some degrees of freedom. The argument ```fes.FreeDofs()``` indicates that only the remaining \"free\" degrees of freedom should participate in the linear solve.  We always need to specify it if we have Dirichlet boundary conditions.\n",
    "\n",
    "You can examine the coefficient vector of solution if needed:\n"
   ]
  },
  {
   "cell_type": "code",
   "execution_count": 9,
   "metadata": {},
   "outputs": [
    {
     "data": {
      "text/plain": [
       "[<matplotlib.lines.Line2D at 0x7f0b9099a710>]"
      ]
     },
     "execution_count": 9,
     "metadata": {},
     "output_type": "execute_result"
    }
   ],
   "source": [
    "import matplotlib.pyplot as plt\n",
    "plt.plot(gfu.vec)"
   ]
  },
  {
   "cell_type": "code",
   "execution_count": null,
   "metadata": {},
   "outputs": [],
   "source": []
  }
 ],
 "metadata": {
  "kernelspec": {
   "display_name": "Python 3",
   "language": "python",
   "name": "python3"
  },
  "language_info": {
   "codemirror_mode": {
    "name": "ipython",
    "version": 3
   },
   "file_extension": ".py",
   "mimetype": "text/x-python",
   "name": "python",
   "nbconvert_exporter": "python",
   "pygments_lexer": "ipython3",
   "version": "3.6.5"
  }
 },
 "nbformat": 4,
 "nbformat_minor": 2
}
