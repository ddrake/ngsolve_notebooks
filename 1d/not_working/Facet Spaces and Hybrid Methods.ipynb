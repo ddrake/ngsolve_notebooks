{
 "cells": [
  {
   "cell_type": "markdown",
   "metadata": {},
   "source": [
    "# 1-D Facet spaces and hybrid methods (Unit 2.7)\n",
    "# Won't work (no H(div))\n",
    "\n",
    "Mixed methods for second order problems lead to saddle point problems, and indefinite matrices. By hybridization one obtains a positive definite system again. It's structure is similar to the non-conforming $\\mathcal{P}^1$ method, but hybridization works for any order. See text-book by Brezzi and Fortin.\n",
    "\n",
    "One skips the normal-continuity of the $H(div)$ variable, and reinforces it by a Lagrange parameter. This leads to the following discrete system:\n",
    "\n",
    "Find $\\sigma, u, \\hat{u} \\in \\Sigma_h \\times V_h \\times F_h$:\n",
    "\n",
    "$$\\int \\lambda^{-1} \\sigma \\tau + \\sum_T \\int_T \\text{ div } \\tau u + \\sum_F \\int_F [\\tau n] \\hat{u} = 0 \\ \\ \\forall \\tau \\in \\Sigma_h$$\n",
    "\n",
    "$$\\int \\text{div } \\sigma v = \\int fv \\ \\ \\forall v \\in V_h$$\n",
    "\n",
    "$$\\int [\\sigma n] \\hat{v} = \\int_{\\Gamma_n} g \\hat{v} \\ \\ \\forall \\hat{v} \\in F_h $$ \n",
    "\n",
    "where $\\Sigma_h$ is a discontinuous $H(div)$ finite element space, $V_h$ a sub-space of $L_2$, and $F_h$ consists of polynomials on every edge."
   ]
  },
  {
   "cell_type": "markdown",
   "metadata": {},
   "source": [
    "### Notes: \n",
    "I think $F_h$ stands for Facet\n",
    "\n",
    "What is the problem we're trying to solve here?  I think it's exactly the diffusion problem in Mixed. The main difference is that now we have $\\hat{u}$ (edge polynomials) and $\\sigma$ can be discontinous.  Open the Mixed notebook and compare!\n",
    "\n",
    "We can use the 'discontinuous' keyword for a finite element space to specify whether a space is discontinuous.  Read on..."
   ]
  },
  {
   "cell_type": "code",
   "execution_count": 1,
   "metadata": {
    "collapsed": true
   },
   "outputs": [],
   "source": [
    "from netgen.geom2d import unit_square\n",
    "from ngsolve import *\n",
    "import netgen.gui\n",
    "%gui tk\n",
    "mesh = Mesh(unit_square.GenerateMesh(maxh=0.2))\n"
   ]
  },
  {
   "cell_type": "markdown",
   "metadata": {},
   "source": [
    "same example as in 'mixed':"
   ]
  },
  {
   "cell_type": "code",
   "execution_count": 2,
   "metadata": {
    "collapsed": true
   },
   "outputs": [],
   "source": [
    "source = sin(3.14*x)\n",
    "ud = CoefficientFunction(5)\n",
    "g = CoefficientFunction([y*(1-y) if bc==\"left\" else 0 for bc in mesh.GetBoundaries()])\n",
    "lam = 10"
   ]
  },
  {
   "cell_type": "markdown",
   "metadata": {},
   "source": [
    "define spaces:\n",
    "\n",
    "- The discontinuous flag generates an element-wise $H(Div)$-space\n",
    "- FacetFESpace lives only on facets (i.e. faces in 3D, edges in 2D, points in 1D)\n",
    "\n",
    "Boundary conditions are now posed for the facet-space"
   ]
  },
  {
   "cell_type": "code",
   "execution_count": 3,
   "metadata": {
    "collapsed": true
   },
   "outputs": [],
   "source": [
    "order = 3\n",
    "V = HDiv(mesh, order=order, discontinuous = True)\n",
    "Q = L2(mesh, order=order-1)\n",
    "F = FacetFESpace(mesh, order=order, dirichlet=\"bottom\")\n",
    "X = FESpace([V,Q,F])\n"
   ]
  },
  {
   "cell_type": "markdown",
   "metadata": {},
   "source": [
    "Assemble forms. The jump-term is rewritten as\n",
    "\n",
    "$$\\sum_F \\int_F [\\sigma_n] v = \\sum_T \\int_{\\partial T} \\sigma_n v$$\n"
   ]
  },
  {
   "cell_type": "markdown",
   "metadata": {},
   "source": [
    "Ok, so sum of integrals of jumps on facets equals sum of integrals over element boundaries... \n",
    "\n",
    "Is the jump term $[\\sigma_n]=\\sigma_{n_{left}}−\\sigma_{n_{right}}$?"
   ]
  },
  {
   "cell_type": "code",
   "execution_count": 4,
   "metadata": {},
   "outputs": [
    {
     "ename": "RuntimeError",
     "evalue": "cannot evaluate facet-fe inside element, add trans simdin Assemble LinearForm\n",
     "output_type": "error",
     "traceback": [
      "\u001b[0;31m---------------------------------------------------------------------------\u001b[0m",
      "\u001b[0;31mRuntimeError\u001b[0m                              Traceback (most recent call last)",
      "\u001b[0;32m<ipython-input-4-143693ab738f>\u001b[0m in \u001b[0;36m<module>\u001b[0;34m()\u001b[0m\n\u001b[1;32m     16\u001b[0m \u001b[0mf\u001b[0m \u001b[0;34m+=\u001b[0m \u001b[0mSymbolicLFI\u001b[0m\u001b[0;34m(\u001b[0m\u001b[0;34m-\u001b[0m\u001b[0msource\u001b[0m\u001b[0;34m*\u001b[0m\u001b[0mv\u001b[0m\u001b[0;34m)\u001b[0m\u001b[0;34m\u001b[0m\u001b[0m\n\u001b[1;32m     17\u001b[0m \u001b[0mf\u001b[0m \u001b[0;34m+=\u001b[0m \u001b[0mSymbolicLFI\u001b[0m\u001b[0;34m(\u001b[0m\u001b[0mg\u001b[0m\u001b[0;34m*\u001b[0m\u001b[0mvhat\u001b[0m\u001b[0;34m,\u001b[0m \u001b[0mBND\u001b[0m\u001b[0;34m)\u001b[0m\u001b[0;34m\u001b[0m\u001b[0m\n\u001b[0;32m---> 18\u001b[0;31m \u001b[0mf\u001b[0m\u001b[0;34m.\u001b[0m\u001b[0mAssemble\u001b[0m\u001b[0;34m(\u001b[0m\u001b[0;34m)\u001b[0m\u001b[0;34m\u001b[0m\u001b[0m\n\u001b[0m\u001b[1;32m     19\u001b[0m \u001b[0;34m\u001b[0m\u001b[0m\n\u001b[1;32m     20\u001b[0m \u001b[0;31m# Compare with mixed!\u001b[0m\u001b[0;34m\u001b[0m\u001b[0;34m\u001b[0m\u001b[0m\n",
      "\u001b[0;31mRuntimeError\u001b[0m: cannot evaluate facet-fe inside element, add trans simdin Assemble LinearForm\n"
     ]
    }
   ],
   "source": [
    "sigma,u,uhat = X.TrialFunction()\n",
    "tau,v,vhat = X.TestFunction()\n",
    "\n",
    "a = BilinearForm(X)\n",
    "a += SymbolicBFI(1/lam * sigma*tau + div(sigma)*v + div(tau)*u)\n",
    "n = specialcf.normal(mesh.dim)\n",
    "a += SymbolicBFI(sigma*n*vhat+tau*n*uhat, element_boundary=True)\n",
    "a.Assemble()\n",
    "\n",
    "# Compare with mixed!\n",
    "# am = BilinearForm(fesm)\n",
    "# am += SymbolicBFI(1/lam * sigma * tau + div(sigma)*v + div(tau)* u)\n",
    "# am.Assemble()\n",
    "\n",
    "f = LinearForm(X)\n",
    "f += SymbolicLFI(-source*v)\n",
    "f += SymbolicLFI(g*vhat, BND)\n",
    "f.Assemble()\n",
    "\n",
    "# Compare with mixed!\n",
    "# fm = LinearForm(fesm)\n",
    "# fm += SymbolicLFI(-source*v)\n",
    "# normal = specialcf.normal(mesh.dim)\n",
    "# fm += SymbolicLFI(ud * (tau.Trace()*normal), BND)\n",
    "# fm.Assemble()\n",
    "\n"
   ]
  },
  {
   "cell_type": "markdown",
   "metadata": {},
   "source": [
    "Solve system. Leave everything to the sparse direct solver."
   ]
  },
  {
   "cell_type": "code",
   "execution_count": null,
   "metadata": {
    "collapsed": true
   },
   "outputs": [],
   "source": [
    "gfu = GridFunction(X)\n",
    "inv = a.mat.Inverse(freedofs=X.FreeDofs())\n",
    "gfu.vec.data = inv * f.vec\n"
   ]
  },
  {
   "cell_type": "code",
   "execution_count": null,
   "metadata": {
    "collapsed": true
   },
   "outputs": [],
   "source": [
    "Draw (gfu.components[0], mesh, \"sigma\")\n",
    "Draw (gfu.components[1], mesh, \"u\")"
   ]
  }
 ],
 "metadata": {
  "kernelspec": {
   "display_name": "Python 3",
   "language": "python",
   "name": "python3"
  },
  "language_info": {
   "codemirror_mode": {
    "name": "ipython",
    "version": 3
   },
   "file_extension": ".py",
   "mimetype": "text/x-python",
   "name": "python",
   "nbconvert_exporter": "python",
   "pygments_lexer": "ipython3",
   "version": "3.5.2"
  }
 },
 "nbformat": 4,
 "nbformat_minor": 2
}
