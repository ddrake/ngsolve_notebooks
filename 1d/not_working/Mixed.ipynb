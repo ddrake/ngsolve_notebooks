{
 "cells": [
  {
   "cell_type": "markdown",
   "metadata": {},
   "source": [
    "# 1-D Mixed formulation for second order equations (Unit 2.5)\n",
    "## Not possible - HDiv not supported for 1-D\n",
    "## (requires NGSolve to be compiled with umfpack)\n",
    "We consider the diffusion equation\n",
    "\n",
    "\\begin{align*}\n",
    "−\\text{div}\\lambda \\nabla u &= f \\text{ in } \\Omega\\\\\n",
    "u &= u_D \\text{ on } \\Gamma_D \\text{  (Dirichlet)}\\\\\n",
    "\\lambda \\frac{\\partial u}{\\partial n} &= g \\text{ on } \\Gamma_N  \\text{  (Neumann)}\n",
    "\\end{align*}\n",
    "\n",
    "\n",
    "### Primal variational formulation\n",
    "\n",
    "Find $u\\in H^1$, $u=u_D$ on $\\Gamma_D$\n",
    "\n",
    "such that\n",
    "$$ \\int_\\Omega \\lambda \\nabla u \\nabla v = \\int_\\Omega f v + \\int_{\\Gamma_N} g v, \\ \\forall v \\in H^1, v=0 \\text{ on } \\Gamma_D$$\n",
    "\n",
    "### First order system\n",
    "\n",
    "Find scalar $u$ and the flux $\\sigma$ such that\n",
    "\n",
    "$$\\lambda^{-1} \\sigma = \\nabla u, \\text{div } \\sigma = -f$$\n",
    "\n",
    "with boundary conditions\n",
    "$$\\sigma \\cdot n = g \\text{ on } \\Gamma_N, \\text{ and } u = u_D \\text{ on } \\Gamma_D$$\n",
    "\n",
    "### Mixed variational formulation\n",
    "\n",
    "Find $(\\sigma, u) \\in H(div) \\times L_2$ such that $\\sigma_n = g$ on $\\Gamma_N$ and\n",
    "\n",
    "$$\\int_\\Omega \\lambda^{-1} \\sigma \\tau + \\text{ div } \\sigma v + \\text{ div }\\tau u = - \\int_\\Omega fv + \\int_{\\Gamma_D} u_D \\tau_n$$\n",
    "\n",
    "\n",
    "for all test-functions $(\\tau, v) \\in H(div) \\times L_2$ with $\\tau_n = 0$.\n",
    "\n",
    "Here $\\sigma_n$ is the normal trace operator $\\sigma \\cdot n |_{\\Gamma_N}$, which is meaningful in $H(div)$."
   ]
  },
  {
   "cell_type": "markdown",
   "metadata": {},
   "source": [
    "### Notes:\n",
    "Question: is $\\lambda$ a Lagrange parameter? - as mentioned in the facet spaces and hybrid methods tutorial?  I don't quite get this...\n",
    "\n",
    "From Arnold: For some problems, such as the Stokes problem, primal-based methods are impractical.  For such problems the mixed methods are the simplest and most direct alternative and are widely used.  For the other examples, however, the most basic methods are primal-based.  A commonly stated reason to prefer mixed methods in these cases is that the dual variable (stress or elasticity, flux for thermal problems, moments for plate bending) is often the variable\n",
    "of most interest.  For primal-based methods this variable is not a fundamental unknown and must be obtained a posteriori by differentiation, which entails a loss of accuracy.  For the mixed methods, however, the dual variable is computed as a fundamental unknown. Of course, this argument is only heuristic.  Its correctness depends on the available mixed finite  element  spaces  and  primal  finite  element  spaces,  the  accuracy  they  offer,  and  the computational work they require to solve the corresponding discrete problems. Another  common  motivation  for  the  use  of  mixed  methods  is  the  avoidance  of $C^1$ elements for plate bending and other fourth order problems.  This is because the mixed functional for plate bending involves no more than two derivatives in any term and hence, after a suitable integration by parts, may be evaluated on finite element spaces with merely continuous elements.  The primal variational functional, however, requires the use of $C^1$ elements (or non-conforming elements).\n",
    "\n",
    "From Advanced FE lecture notes, Eric Sonnendrucker, Ahmed Ratnani:\n",
    "The $H(div)$ space consists of vector fields.  Each element has n components in n\n",
    "dimensions.  Vector fields have a continuous normal component and a discontinuous tangential component. According to Jay, $$H(div) = \\lbrace q \\in L_2 : \\text{div}\\ q \\in L_2 \\rbrace$$  \n",
    "If $u \\in H(div)$ and $v \\in L_2$, the variational form for a problem in $H(div)$ space is:\n",
    "$$\\int_{\\Omega} (\\text{div} u) v \\equiv \\int_{\\Omega} (\\nabla \\cdot u) v = -\\int_{\\Omega} u \\cdot \\nabla v + \\int_{\\partial \\Omega} (u \\cdot n) v $$ "
   ]
  },
  {
   "cell_type": "code",
   "execution_count": 1,
   "metadata": {
    "collapsed": true
   },
   "outputs": [],
   "source": [
    "from netgen.geom2d import unit_square\n",
    "from ngsolve import *\n",
    "import netgen.gui\n",
    "%gui tk\n",
    "\n",
    "mesh = Mesh(unit_square.GenerateMesh(maxh=0.1))"
   ]
  },
  {
   "cell_type": "code",
   "execution_count": 10,
   "metadata": {
    "collapsed": true
   },
   "outputs": [],
   "source": [
    "source = sin(3.14*x)\n",
    "ud = CoefficientFunction(5)\n",
    "g = CoefficientFunction([y*(1-y) if bc==\"left\" else 0 for bc in mesh.GetBoundaries()])\n",
    "lam = 10"
   ]
  },
  {
   "cell_type": "markdown",
   "metadata": {},
   "source": [
    "We will demonstrate that the primal and mixed problems give approximately the same solutions for $u$ and flux $\\nabla u$.\n"
   ]
  },
  {
   "cell_type": "markdown",
   "metadata": {},
   "source": [
    "Setup and solve primal problem:"
   ]
  },
  {
   "cell_type": "code",
   "execution_count": 11,
   "metadata": {
    "collapsed": true
   },
   "outputs": [],
   "source": [
    "fesp = H1(mesh, order=4, dirichlet=\"bottom\")\n",
    "up = fesp.TrialFunction()\n",
    "vp = fesp.TestFunction()\n",
    "\n",
    "ap = BilinearForm(fesp)\n",
    "ap += SymbolicBFI(lam * grad(up) * grad(vp))\n",
    "ap.Assemble()\n",
    "\n",
    "fp = LinearForm(fesp)\n",
    "fp += SymbolicLFI(source * vp)\n",
    "fp += SymbolicLFI(g * vp, BND)\n",
    "fp.Assemble()\n",
    "\n",
    "gfup = GridFunction(fesp, \"u-primal\")\n",
    "gfup.Set(ud, BND)\n",
    "\n",
    "# Solve the boundary value problem\n",
    "#r = fp.vec.CreateVector()\n",
    "#r.data = fp.vec - ap.mat * gfup.vec\n",
    "#gfup.vec.data += ap.mat.Inverse(freedofs=fesp.FreeDofs()) * r\n",
    "fp.vec.data -= ap.mat * gfup.vec\n",
    "gfup.vec.data += ap.mat.Inverse(freedofs=fesp.FreeDofs()) * fp.vec\n",
    "Draw (gfup)\n",
    "Draw (lam * grad(gfup), mesh, \"flux-primal\")"
   ]
  },
  {
   "cell_type": "markdown",
   "metadata": {},
   "source": [
    "### Notes: \n",
    "If $\\lambda = 1$, to satisfy the boundary condition, the value of $\\frac{\\partial u}{\\partial n} \\equiv \\nabla u \\cdot n$ on the left boundary must equal $y(1-y)$.  This function is zero at $y=0$ and $y=1$ with max value $1/4$ at $y = 1/2$.  We can see that the solution is reasonable since at the bottom left, the magnitude of the gradient is large, but its direction is vertically upward.  At the top left, the direction of the gradient is outward, but its magnitude approaches zero.  On the top and right edges, we see also that the normal derivative is zero.\n",
    "\n",
    "It's interesting that changing lambda doesn't affect the character of the solution at all, it only scales u.  The larger the value of $\\lambda$, the 'flatter' the solution.  For example, if $\\lambda = 10$, the min and max values of u are $5$ and $5.04$, if $\\lambda = 0.1$, the min and max values of $u$ are $5.1$ and $9.2$ and if $\\lambda = .001$, the min and max values of $u$ are $22$ and $430$.  The direction of the gradient is unchanged."
   ]
  },
  {
   "cell_type": "markdown",
   "metadata": {},
   "source": [
    "Define spaces for mixed problem. Note that essential boundary conditions are set to the H(div)-component on the opposite boundary. Creating a space from a list of spaces generates a product space:"
   ]
  },
  {
   "cell_type": "code",
   "execution_count": 12,
   "metadata": {
    "collapsed": true
   },
   "outputs": [],
   "source": [
    "V = HDiv(mesh, order=4, dirichlet=\"right|top|left\")\n",
    "Q = L2(mesh, order=3)\n",
    "fesm = FESpace([V,Q])"
   ]
  },
  {
   "cell_type": "markdown",
   "metadata": {},
   "source": [
    "The space provides now a list of trial and test-functions:"
   ]
  },
  {
   "cell_type": "code",
   "execution_count": 13,
   "metadata": {
    "collapsed": true
   },
   "outputs": [],
   "source": [
    "sigma, u = fesm.TrialFunction()\n",
    "tau, v = fesm.TestFunction()"
   ]
  },
  {
   "cell_type": "markdown",
   "metadata": {},
   "source": [
    "The normal vector is provided as a special coefficient function (which may be used only at the boundary). The orientation depends on the definition of the geometry. In 2D, it is the tangential vector rotated to the right, and is the outer vector in our case. Since every CoefficientFunction must know its vector-dimension, we have to provide the spatial dimension:"
   ]
  },
  {
   "cell_type": "code",
   "execution_count": 14,
   "metadata": {},
   "outputs": [
    {
     "name": "stdout",
     "output_type": "stream",
     "text": [
      "coef 14NormalVectorCFILi2EE, real, dim=2\n",
      "\n"
     ]
    }
   ],
   "source": [
    "normal = specialcf.normal(mesh.dim)\n",
    "print (normal)"
   ]
  },
  {
   "cell_type": "markdown",
   "metadata": {},
   "source": [
    "Define the forms on the product space. For the boundary term, we have to use the Trace operator, which provides the projection to normal direction."
   ]
  },
  {
   "cell_type": "code",
   "execution_count": 7,
   "metadata": {
    "collapsed": true
   },
   "outputs": [],
   "source": [
    "am = BilinearForm(fesm)\n",
    "am += SymbolicBFI(1/lam * sigma * tau + div(sigma)*v + div(tau)* u)\n",
    "am.Assemble()\n",
    "fm = LinearForm(fesm)\n",
    "fm += SymbolicLFI(-source*v)\n",
    "fm += SymbolicLFI(ud * (tau.Trace()*normal), BND)\n",
    "fm.Assemble()\n",
    "\n",
    "gfm = GridFunction(fesm, name=\"gfmixed\")"
   ]
  },
  {
   "cell_type": "markdown",
   "metadata": {},
   "source": [
    "The proxy-functions used for the forms know which component of the product space they belong to. To access components of the solution, we have to unpack its components. They don't have their own coefficient vectors, but refer to ranges of the big coefficient vector."
   ]
  },
  {
   "cell_type": "code",
   "execution_count": 8,
   "metadata": {
    "collapsed": true
   },
   "outputs": [],
   "source": [
    "gfsigma = gfm.components[0]\n",
    "gfu = gfm.components[1]"
   ]
  },
  {
   "cell_type": "markdown",
   "metadata": {},
   "source": [
    "Just to try something:"
   ]
  },
  {
   "cell_type": "code",
   "execution_count": 9,
   "metadata": {
    "collapsed": true
   },
   "outputs": [],
   "source": [
    "gfsigma.Set(CoefficientFunction( (sin(10*x), sin(10*y)) ))\n",
    "gfu.Set (x)\n",
    "Draw (gfsigma, mesh, \"flux-mixed\")\n",
    "Draw (gfu, mesh, \"u-mixed\")\n"
   ]
  },
  {
   "cell_type": "markdown",
   "metadata": {},
   "source": [
    "Now set the essential boundary conditions for the flux part:"
   ]
  },
  {
   "cell_type": "code",
   "execution_count": 10,
   "metadata": {
    "collapsed": true
   },
   "outputs": [],
   "source": [
    "gfsigma.Set(g*normal, BND)"
   ]
  },
  {
   "cell_type": "code",
   "execution_count": 11,
   "metadata": {
    "collapsed": true
   },
   "outputs": [],
   "source": [
    "fm.vec.data -= am.mat * gfm.vec\n",
    "gfm.vec.data += am.mat.Inverse(freedofs=fesm.FreeDofs(), inverse=\"umfpack\") * fm.vec\n",
    "Redraw()\n"
   ]
  },
  {
   "cell_type": "markdown",
   "metadata": {},
   "source": [
    "Calculate the difference:"
   ]
  },
  {
   "cell_type": "code",
   "execution_count": 12,
   "metadata": {},
   "outputs": [
    {
     "name": "stdout",
     "output_type": "stream",
     "text": [
      "err-u:    3.9686871319361595e-08\n",
      "err-flux: 3.639053243656167e-05\n"
     ]
    }
   ],
   "source": [
    "print (\"err-u:   \", sqrt(Integrate( (gfup-gfu)*(gfup-gfu), mesh)))\n",
    "errflux = lam * grad(gfup) - gfsigma\n",
    "print (\"err-flux:\", sqrt(Integrate(errflux*errflux, mesh)))"
   ]
  },
  {
   "cell_type": "code",
   "execution_count": null,
   "metadata": {
    "collapsed": true
   },
   "outputs": [],
   "source": []
  }
 ],
 "metadata": {
  "kernelspec": {
   "display_name": "Python 3",
   "language": "python",
   "name": "python3"
  },
  "language_info": {
   "codemirror_mode": {
    "name": "ipython",
    "version": 3
   },
   "file_extension": ".py",
   "mimetype": "text/x-python",
   "name": "python",
   "nbconvert_exporter": "python",
   "pygments_lexer": "ipython3",
   "version": "3.5.2"
  }
 },
 "nbformat": 4,
 "nbformat_minor": 2
}
