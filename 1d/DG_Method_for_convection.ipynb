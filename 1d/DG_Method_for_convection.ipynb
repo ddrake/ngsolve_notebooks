{
 "cells": [
  {
   "cell_type": "markdown",
   "metadata": {},
   "source": [
    "# 1-D Discontinuous Galerkin Discretizations (Unit 3.3)\n",
    "We are solving the scalar linear transport problem\n",
    "\n",
    "Find $u : [0,T] \\rightarrow V_D := \\{u \\in L^2(\\Omega), \\ b \\cdot \\nabla u \\in L^2(\\Omega), u|_{\\Gamma_{in}} = u_D\\}$ s.t.\n",
    "$$\\int_\\Omega (\\partial_t u)v + (b \\cdot \\nabla u)v = \\int_\\Omega fv \\hspace{3em} \\forall v \\in V_0  := \\{u \\in L^2(\\Omega), b \\cdot \\nabla u \\in L^2(\\Omega), u|_{\\Gamma_{in}} = 0\\}$$"
   ]
  },
  {
   "cell_type": "code",
   "execution_count": 1,
   "metadata": {
    "collapsed": true
   },
   "outputs": [],
   "source": [
    "import netgen.gui\n",
    "%gui tk\n",
    "import tkinter\n",
    "from math import pi\n",
    "from ngsolve import *\n",
    "import ngsolve.internal as ngint\n",
    "ngint.viewoptions.drawedges = 1\n",
    "from mesh_util import uniform_1d_mesh"
   ]
  },
  {
   "cell_type": "markdown",
   "metadata": {},
   "source": [
    "As a first example, we consider the unit square $(0,1)^2$ and the advection velocity $b=(1,2)$. Accordingly the inflow boundary is $\\Gamma_{in}=\\lbrace x \\cdot y=0 \\rbrace.$"
   ]
  },
  {
   "cell_type": "code",
   "execution_count": 2,
   "metadata": {
    "collapsed": true
   },
   "outputs": [],
   "source": [
    "mesh = Mesh( uniform_1d_mesh() )\n"
   ]
  },
  {
   "cell_type": "markdown",
   "metadata": {},
   "source": [
    "We consider an Upwind DG discretization (in space):\n",
    "\n",
    "Find $u:[0,T]\\rightarrow V_h:=\\oplus_{T \\in \\mathcal{T_h}}\\mathcal{P}^k(T)$ so that\n",
    "\n",
    "$$\\sum_T \\int_T \\partial_t uv + b \\cdot \\nabla uv + \\int_{\\partial T} b_n(\\hat{u} - u)v = \\int_\\Omega fv, \\hspace{2em}\\forall v \\in V_h.$$\n",
    "\n",
    "Here $\\hat{u}$ is the Upwind flux, i.e. $\\hat{u} = u$ on the outflow boundary part $\\partial T_{out} = \\lbrace x \\in \\partial T\\ |\\  b(x) \\cdot n_{T}(x) \\ge 0 \\rbrace$ of $T$ and $\\hat{u} = u_{other}$ else, with $u_{other}$ the value from the neighboring element.\n",
    "\n",
    "There is quite a difference in the computational costs (compared to a standard DG formulation) depending on the question if the solution of linear systems is involved or only operator evaluations (explicit method). We treat both cases separately:\n",
    "\n",
    "- Solution of the time-dependent problem by explicit time stepping\n",
    "- Solution of the stationary problem\n",
    "\n",
    "## Explicit time stepping with a DG formulation\n",
    "\n",
    "Explicit Euler:\n",
    "$$\\sum_T \\int_T u^{n+1}v = \\sum_T \\int_T u^{n}v - \\Delta t \\sum_T \\int_T \\left\\lbrace b \\cdot \\nabla uv + \\int_{\\partial T} b_n (\\hat{u} - u)v - \\int_\\Omega fv \\right\\rbrace, \\hspace{2em} \\forall v \\in V_h$$\n",
    "\n",
    "$$M u^{n+1} = M u^n -\\Delta t C u^n + \\Delta t f$$\n",
    "\n",
    "In our first example we set $u_0=f=0$\n",
    "\n",
    "\n",
    "### Computing convection applications $Cu^n$\n",
    "\n",
    "We compute $Cu^n$ and define the corresponding bilinear form $C$\n",
    "\n",
    ". Some remarks on that:\n",
    "\n",
    "- We can define the bilinear form without setting up a matrix. The operator application is the only thing we want to use from the bilinear form\n",
    "- We require integrals on element boundaries. We use the keyword \"element_boundary\" to obtain quadrature rules for this.\n",
    "- To distinguish inflow from outflow we take compute $b\\cdot n$ Here the normal $n$ is available as a specialcf which has meaningful values on the skeleton, element boundaries or domain boundaries.\n",
    "- To make cases with coefficient functions we use the IfPos CoefficientFunction which has three arguments:\n",
    "\n",
    "   1. CF argument that decides on the evaluation. If expression is positive evaluate 2. otherwise 3.\n",
    "   2. CF that is evaluated in the positive case\n",
    "   3. CF that is evaluated in the negative case\n",
    "\n",
    "To access the neighbor variables we can use **u.Other()**\n",
    "To incorporate boundary conditions ($\\hat{u}$ on inflow boundaries), we set up a BilinearForm which is technically not bilinear, but only affine linear in the first argument. For operator application this behaves as desired, for setting up matrices this does not make sense!"
   ]
  },
  {
   "cell_type": "code",
   "execution_count": 3,
   "metadata": {
    "collapsed": true
   },
   "outputs": [],
   "source": [
    "b = CoefficientFunction(2)\n",
    "n = specialcf.normal(mesh.dim)\n",
    "ubnd = IfPos(x,1,0)\n",
    "\n",
    "V = L2(mesh,order=2)\n",
    "u,v = V.TrialFunction(), V.TestFunction()\n",
    "\n",
    "c = BilinearForm(V)\n",
    "c += SymbolicBFI( b * grad(u) * v)\n",
    "c += SymbolicBFI( IfPos( (b*n), 0, (b*n) * (u.Other(ubnd)-u)) * v, element_boundary=True)\n",
    "\n",
    "gfu_expl = GridFunction(V)\n",
    "Draw(gfu_expl,mesh,\"u_explicit\")\n",
    "\n",
    "res = gfu_expl.vec.CreateVector()\n",
    "c.Apply(gfu_expl.vec,res)\n"
   ]
  },
  {
   "cell_type": "markdown",
   "metadata": {},
   "source": [
    "### Solving mass matrix problems\n",
    "\n",
    "To implement the explicit Euler method we now only need to invert the mass matrix. For DG methods the mass matrix is block diagonal, often even diagonal. Instead of setting up a matrix and inverting it, in NGSolve the FESpace provides a routine SolveM which realizes the operation $M^{−1}u$. Note that this function might only be implemented for some spaces (e.g. $L_2$)."
   ]
  },
  {
   "cell_type": "code",
   "execution_count": 5,
   "metadata": {
    "collapsed": true
   },
   "outputs": [],
   "source": [
    "t = 0\n",
    "dt = 0.001\n",
    "tend = 1\n",
    "\n",
    "while t < tend-0.5*dt:\n",
    "    c.Apply(gfu_expl.vec,res)\n",
    "    V.SolveM(res, CoefficientFunction(1.0))\n",
    "    gfu_expl.vec.data -= dt * res\n",
    "    t += dt\n",
    "    Redraw(blocking=True)\n"
   ]
  },
  {
   "cell_type": "markdown",
   "metadata": {},
   "source": [
    "### Notes:\n",
    "I guess that since our space is already L2, we don't need to specify the distcontinuous flag as we did in Facet Spaces and Hybrid Methods.\n",
    "\n",
    "I guess we didn't need to specify dgjumps for the space to allocate storage since we didn't assemble the bilinear form.  Hey I was right! read on...\n",
    "\n",
    "Below we check the sparsity pattern for a **zero** order L2 space.  I think the basis consists of constant values with no overlap.  If you set order 0 for an H1 space (which doesn't really make sense), I think you actually get order 1 (the sparsity patterns are the same)\n"
   ]
  },
  {
   "cell_type": "markdown",
   "metadata": {},
   "source": [
    "\n",
    "## Solving linear systems with a DG formulation\n",
    "\n",
    "(This is partially a repitition of unit-2.8. If you are an expert on this already, you may skip the remainder of this unit)\n",
    "\n",
    "When it comes to solving linear systems with a DG formulation we have to change the way the sparsity pattern is typically constructed.\n",
    "### Sparsity patterns in NGSolve\n",
    "\n",
    "The sparsity pattern of a standard FEM matrix and the pattern of a DG matrix is different due to the different couplings. We briefly explain how these cases are handled in NGSolve. In NGSolve the sparsity pattern is set up whenever a bilinear form is created, i.e. the sparsity pattern is generated based on the finite element space only (and not the integrators!).\n",
    "\n",
    "There are two cases:\n",
    "#### 1. Standard formulation\n",
    "\n",
    "In a standard formulation dofs (degrees of freedom) only couple (have a nonzero entry) if the support of the corresponding basis functions overlap. In NGSolve this sparsity pattern is achieved by associating all elements to a dof where the basis function is supported. Finally, for all dofs that are on elements associated with a dof a nonzero entry is reserved in the matrix. This work fine for all types of finite element spaces (H1, L2, Hdiv, Hcurl, etc..) and only depends on the 'GetDofNrs' function of a finite element space.\n",
    "\n",
    "The idea is sketched here for one dof:\n",
    "\n",
    "dof $\\rightarrow$ elements of dof = $[\\text{el}_1,\\dots,\\text{el}_n] \\rightarrow$ dofs of $(\\text{el}_1)$ $\\cup\\dots\\cup$ dofs of $(\\text{el}_n)$.\n",
    "#### 2. DG formulation ('dgjumps')\n",
    "\n",
    "In a DG formulation couplings (nonzero entries) are introduced also for basis functions which do not have overlapping support. Therefore a different mechanism (keyword: 'dgjumps') has been introduced to determine the sparsity pattern. This can be activated by adding the 'dgjumps' flags to the FESpace. Note that we do not need the flag if we do not set up matrices (explicit time stepping).\n",
    "\n",
    "In a dgjumps-formulation additional couplings are introduced by introducing couplings through facets. All dofs of the neighboring elements of a facet are associated with a facet and then for all dofs that are associated to facets associated with a dof a nonzero entry is reserved in a matrix.\n",
    "\n",
    "The idea is sketched here for one dof:\n",
    "\n",
    "dof $\\rightarrow$ facets of dof = $[\\text{fac}_1,\\dots,\\text{fac}_n] \\rightarrow$  dofs of $(\\text{fac}_1) \\cup\\dots\\cup$ dofs of $(\\text{fac}_n)$.\n",
    "\n",
    "Note that 'dofs of facet $F$' is always larger than 'dofs of element $T$' if $F\\subset\\partial T$.\n",
    "\n",
    "We want to demonstrate the difference in the sparsity pattern with a simple comparison in the next block\n",
    "\n",
    "(you need matplotlib/scipy for this block - but can ignore it otherwise)\n"
   ]
  },
  {
   "cell_type": "code",
   "execution_count": 6,
   "metadata": {},
   "outputs": [
    {
     "data": {
      "image/png": "[encoded data removed]",
      "text/plain": [
       "<matplotlib.figure.Figure at 0x7ff7f36e8c18>"
      ]
     },
     "metadata": {},
     "output_type": "display_data"
    }
   ],
   "source": [
    "%matplotlib inline\n",
    "V1 = L2(mesh,order=0)\n",
    "a1 = BilinearForm(V1)\n",
    "a1.Assemble()\n",
    "\n",
    "V2 = L2(mesh,order=0, dgjumps=True)\n",
    "a2 = BilinearForm(V2)\n",
    "a2.Assemble()\n",
    "\n",
    "import scipy.sparse as sp\n",
    "import matplotlib.pylab as plt\n",
    "plt.rcParams['figure.figsize'] = (12, 12)\n",
    "\n",
    "a1.mat.AsVector()[:] = 1 # set every entry to 1\n",
    "rows,cols,vals = a1.mat.COO()\n",
    "A1 = sp.csr_matrix((vals,(rows,cols)))\n",
    "a2.mat.AsVector()[:] = 1 # set every entry to 1\n",
    "rows,cols,vals = a2.mat.COO()\n",
    "A2 = sp.csr_matrix((vals,(rows,cols)))\n",
    "fig = plt.figure()\n",
    "ax1 = fig.add_subplot(121)\n",
    "ax2 = fig.add_subplot(122)\n",
    "ax1.spy(A1) # sparsity pattern of a sparse array - can be called direclty from pyplot\n",
    "ax2.spy(A2)\n",
    "plt.show()"
   ]
  },
  {
   "cell_type": "markdown",
   "metadata": {},
   "source": [
    "Note that now, when setting up the system we require linear and bilinear forms separately to implement the boundary conditions."
   ]
  },
  {
   "cell_type": "code",
   "execution_count": 8,
   "metadata": {},
   "outputs": [],
   "source": [
    "b = CoefficientFunction(2)\n",
    "n = specialcf.normal(mesh.dim)\n",
    "ubnd = IfPos(x,1,0)\n",
    "\n",
    "V = L2(mesh,order=2, dgjumps=True)\n",
    "a = BilinearForm(V)\n",
    "u,v = V.TrialFunction(), V.TestFunction()\n",
    "a += SymbolicBFI( b * grad(u) * v)\n",
    "a += SymbolicBFI( IfPos( (b*n), 0, (b*n) * (u.Other()-u)) * v, element_boundary=True)\n",
    "a.Assemble()\n",
    "\n",
    "f = LinearForm(V)\n",
    "f += SymbolicLFI( (b*n) * IfPos( (b*n), 0, -ubnd) * v, BND, skeleton=True)\n",
    "f.Assemble()"
   ]
  },
  {
   "cell_type": "code",
   "execution_count": 9,
   "metadata": {
    "collapsed": true
   },
   "outputs": [],
   "source": [
    "gfu_impl = GridFunction(V)\n",
    "gfu_impl.vec.data = a.mat.Inverse() * f.vec\n",
    "Draw(gfu_impl,mesh,\"u_implicit\")\n"
   ]
  },
  {
   "cell_type": "markdown",
   "metadata": {},
   "source": [
    "**Note (DD):** the solution $u_{implicit}$ is mostly infs and nans - why?  Is the matrix not invertible?  Why are we computing it if it doesn't make sense?"
   ]
  },
  {
   "cell_type": "markdown",
   "metadata": {},
   "source": [
    "\n",
    "### Remarks on sparsity pattern in NGSolve\n",
    "#### Remark 1: The sparsity pattern is set up a-priorily\n",
    "\n",
    "The sparsity pattern of a sparse matrix in NGSolve is independent of its entries (it's set up before matrix assembly). It can happen that some of the entries remain zero after assembly. Below we show the reserved memory for the sparse matrix and the (numerically) non-zero entries in this sparse matrix.\n",
    "\n",
    "(you need matplotlib/scipy for this block - but can ignore it otherwise)\n"
   ]
  },
  {
   "cell_type": "code",
   "execution_count": 10,
   "metadata": {},
   "outputs": [
    {
     "data": {
      "image/png": "[encoded data removed]",
      "text/plain": [
       "<matplotlib.figure.Figure at 0x7ff7f36d9320>"
      ]
     },
     "metadata": {},
     "output_type": "display_data"
    }
   ],
   "source": [
    "import scipy.sparse as sp\n",
    "import matplotlib.pylab as plt\n",
    "plt.rcParams['figure.figsize'] = (12, 12)\n",
    "rows,cols,vals = a.mat.COO()\n",
    "A1 = sp.csr_matrix((vals,(rows,cols)))\n",
    "A2 = A1.copy()\n",
    "A2.data[:] = 1\n",
    "fig = plt.figure()\n",
    "ax1 = fig.add_subplot(121); ax2 = fig.add_subplot(122)\n",
    "ax1.set_xlabel(\"numerically non-zero\")\n",
    "ax1.spy(A1)\n",
    "ax2.set_xlabel(\"reserved entries (potentially non-zero)\")\n",
    "ax2.spy(A2)\n",
    "plt.show()\n"
   ]
  },
  {
   "cell_type": "markdown",
   "metadata": {},
   "source": [
    "\n",
    "#### Remark 2: Dof numbering of higher order FESpaces\n",
    "\n",
    "In NGSolve FESpaces typically have a numbering where the first block of dofs corresponds to a low order subspace (which is convenient for iterative solvers). For L2 this means that the first dofs correspond to the constants on elements.\n",
    "\n",
    "You can turn this behavior of for some spaces, e.g. for L2 by adding the flag \"all_dofs_together\".\n",
    "\n",
    "We demonstrate this in the next comparison:\n",
    "\n",
    "(you need matplotlib/scipy for this block - but can ignore it otherwise)\n"
   ]
  },
  {
   "cell_type": "code",
   "execution_count": 11,
   "metadata": {},
   "outputs": [
    {
     "data": {
      "image/png": "[encoded data removed]",
      "text/plain": [
       "<matplotlib.figure.Figure at 0x7ff7f0b7d470>"
      ]
     },
     "metadata": {},
     "output_type": "display_data"
    }
   ],
   "source": [
    "V0 = L2(mesh,order=0, dgjumps=True)\n",
    "a0 = BilinearForm(V0)\n",
    "a0.Assemble()\n",
    "\n",
    "V1 = L2(mesh,order=1, dgjumps=True)\n",
    "a1 = BilinearForm(V1)\n",
    "a1.Assemble()\n",
    "\n",
    "V2 = L2(mesh,order=1, dgjumps=True, all_dofs_together=True)\n",
    "a2 = BilinearForm(V2)\n",
    "a2.Assemble()\n",
    "\n",
    "import scipy.sparse as sp\n",
    "import matplotlib.pylab as plt\n",
    "plt.rcParams['figure.figsize'] = (15, 15)\n",
    "\n",
    "a0.mat.AsVector()[:] = 1 # set every entry to 1\n",
    "rows,cols,vals = a0.mat.COO()\n",
    "A0 = sp.csr_matrix((vals,(rows,cols)))\n",
    "a1.mat.AsVector()[:] = 1 # set every entry to 1\n",
    "rows,cols,vals = a1.mat.COO()\n",
    "A1 = sp.csr_matrix((vals,(rows,cols)))\n",
    "a2.mat.AsVector()[:] = 1 # set every entry to 1\n",
    "rows,cols,vals = a2.mat.COO()\n",
    "A2 = sp.csr_matrix((vals,(rows,cols)))\n",
    "fig = plt.figure()\n",
    "ax1 = fig.add_subplot(131)\n",
    "ax2 = fig.add_subplot(132)\n",
    "ax3 = fig.add_subplot(133)\n",
    "ax1.set_xlabel(\"non-zeros (p=0)\")\n",
    "ax1.spy(A0,markersize=3)\n",
    "ax2.set_xlabel(\"non-zeros (p=1, low order + high order)\")\n",
    "ax2.spy(A1,markersize=1)\n",
    "ax3.set_xlabel(\"non-zeros (p=1, all_dofs_together)\")\n",
    "ax3.spy(A2,markersize=1)\n",
    "plt.show()"
   ]
  },
  {
   "cell_type": "code",
   "execution_count": null,
   "metadata": {
    "collapsed": true
   },
   "outputs": [],
   "source": []
  }
 ],
 "metadata": {
  "kernelspec": {
   "display_name": "Python 3",
   "language": "python",
   "name": "python3"
  },
  "language_info": {
   "codemirror_mode": {
    "name": "ipython",
    "version": 3
   },
   "file_extension": ".py",
   "mimetype": "text/x-python",
   "name": "python",
   "nbconvert_exporter": "python",
   "pygments_lexer": "ipython3",
   "version": "3.5.2"
  }
 },
 "nbformat": 4,
 "nbformat_minor": 2
}
