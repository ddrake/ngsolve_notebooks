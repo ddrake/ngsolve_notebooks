{
 "cells": [
  {
   "cell_type": "code",
   "execution_count": 1,
   "metadata": {
    "collapsed": true
   },
   "outputs": [],
   "source": [
    "import netgen.gui\n",
    "%gui tk\n",
    "from ngsolve import *\n",
    "from netgen.geom2d import SplineGeometry\n"
   ]
  },
  {
   "cell_type": "code",
   "execution_count": 2,
   "metadata": {
    "collapsed": true
   },
   "outputs": [],
   "source": [
    "def MakeGeometry():\n",
    "    geometry = SplineGeometry()\n",
    "    \n",
    "    # point coordinates ...\n",
    "    pnts = [ (0,0), (1,0), (1,0.6), (0,0.6), \\\n",
    "             (0.2,0.6), (0.8,0.6), (0.8,0.8), (0.2,0.8), \\\n",
    "             (0.5,0.15), (0.65,0.3), (0.5,0.45), (0.35,0.3) ]\n",
    "    pnums = [geometry.AppendPoint(*p) for p in pnts]\n",
    "    \n",
    "    # start-point, end-point, boundary-condition, domain on left side, domain on right side:\n",
    "    lines = [ (0,1,1,1,0), (1,2,2,1,0), (2,5,2,1,0), (5,4,2,1,2), (4,3,2,1,0), (3,0,2,1,0), \\\n",
    "              (5,6,2,2,0), (6,7,2,2,0), (7,4,2,2,0), \\\n",
    "              (8,9,2,3,1), (9,10,2,3,1), (10,11,2,3,1), (11,8,2,3,1) ]\n",
    "        \n",
    "    for p1,p2,bc,left,right in lines:\n",
    "        geometry.Append([\"line\", pnums[p1], pnums[p2]], bc=bc, leftdomain=left, rightdomain=right)\n",
    "\n",
    "    geometry.SetMaterial(1,\"base\")\n",
    "    geometry.SetMaterial(2,\"chip\")\n",
    "    geometry.SetMaterial(3,\"top\")    \n",
    "\n",
    "    return geometry\n",
    "\n",
    "mesh = Mesh(MakeGeometry().GenerateMesh(maxh=0.2))\n"
   ]
  },
  {
   "cell_type": "code",
   "execution_count": 3,
   "metadata": {
    "collapsed": true
   },
   "outputs": [],
   "source": [
    "fes = H1(mesh, order=3, dirichlet=[1])\n",
    "u = fes.TrialFunction()\n",
    "v = fes.TestFunction()\n",
    "\n",
    "# one heat conductivity coefficient per sub-domain\n",
    "lam = CoefficientFunction([1, 1000, 10])\n",
    "a = BilinearForm(fes)\n",
    "a += SymbolicBFI(lam*grad(u)*grad(v))\n",
    "\n",
    "# heat-source in inner subdomain\n",
    "f = LinearForm(fes)\n",
    "f += SymbolicLFI(CoefficientFunction([0, 0, 1])*v)\n",
    "\n",
    "c = Preconditioner(a, type=\"multigrid\", flags= {\"inverse\" : \"sparsecholesky\" })\n",
    "\n",
    "gfu = GridFunction(fes)\n",
    "Draw (gfu)"
   ]
  },
  {
   "cell_type": "code",
   "execution_count": 4,
   "metadata": {
    "collapsed": true
   },
   "outputs": [],
   "source": [
    "def SolveBVP():\n",
    "    fes.Update()\n",
    "    gfu.Update()\n",
    "    a.Assemble()\n",
    "    f.Assemble()\n",
    "    inv = CGSolver(a.mat, c.mat)\n",
    "    gfu.vec.data = inv * f.vec\n",
    "    Redraw (blocking=True)"
   ]
  },
  {
   "cell_type": "code",
   "execution_count": 5,
   "metadata": {
    "collapsed": true
   },
   "outputs": [],
   "source": [
    "SolveBVP()"
   ]
  },
  {
   "cell_type": "code",
   "execution_count": 7,
   "metadata": {},
   "outputs": [],
   "source": [
    "space_flux = HDiv(mesh, order=2)\n",
    "gf_flux = GridFunction(space_flux, \"flux\")\n",
    "\n",
    "flux = lam * grad(gfu)\n",
    "gf_flux.Set(flux)\n",
    "\n"
   ]
  },
  {
   "cell_type": "code",
   "execution_count": 8,
   "metadata": {
    "collapsed": true
   },
   "outputs": [],
   "source": [
    "err = 1/lam*(flux-gf_flux)*(flux-gf_flux)\n",
    "Draw(err, mesh, 'error_representation')"
   ]
  },
  {
   "cell_type": "code",
   "execution_count": 9,
   "metadata": {},
   "outputs": [
    {
     "name": "stdout",
     "output_type": "stream",
     "text": [
      " 8.29527e-11\n",
      " 2.76102e-08\n",
      " 4.30874e-06\n",
      " 5.51056e-11\n",
      " 9.9237e-11\n",
      " 1.04389e-07\n",
      " 6.71168e-08\n",
      " 2.05491e-07\n",
      " 2.01376e-07\n",
      " 9.10162e-09\n",
      " 1.38102e-07\n",
      " 2.59032e-07\n",
      " 4.1139e-09\n",
      " 6.38089e-11\n",
      " 1.11165e-10\n",
      " 1.93678e-07\n",
      " 1.95124e-07\n",
      " 2.19639e-07\n",
      " 3.33617e-07\n",
      " 1.9476e-10\n",
      " 2.75099e-06\n",
      " 2.82018e-06\n",
      " 1.94308e-08\n",
      " 7.23036e-11\n",
      " 4.16706e-07\n",
      " 3.51813e-09\n",
      " 1.46782e-07\n",
      " 7.35986e-08\n",
      " 7.36518e-08\n",
      " 2.54649e-06\n",
      " 2.85403e-10\n",
      " 2.37665e-10\n",
      " 2.68309e-10\n",
      " 8.94199e-10\n",
      " 8.25576e-07\n",
      " 5.43572e-07\n",
      " 7.69331e-07\n",
      " 4.0351e-07\n",
      " 1.92988e-07\n",
      " 2.0307e-07\n",
      " 3.83832e-06\n",
      " 9.16969e-10\n",
      " 1.92183e-08\n",
      " 7.10309e-09\n",
      " 5.94227e-10\n",
      " 1.7884e-09\n",
      " 1.91099e-08\n",
      " 1.66791e-08\n",
      " 5.31563e-08\n",
      " 1.36593e-08\n",
      " 1.14483e-07\n",
      " 3.58083e-08\n",
      " 1.34567e-09\n",
      " 1.56066e-10\n",
      " 5.68704e-12\n",
      " 4.02048e-12\n",
      " 3.4852e-10\n",
      " 5.74364e-13\n",
      " 1.45869e-11\n",
      " 5.91522e-12\n",
      " 2.60765e-10\n",
      " 7.07655e-07\n",
      " 9.39162e-08\n",
      "\n"
     ]
    }
   ],
   "source": [
    "eta2 = Integrate(err, mesh, VOL, element_wise=True)\n",
    "print(eta2)\n"
   ]
  },
  {
   "cell_type": "code",
   "execution_count": 10,
   "metadata": {},
   "outputs": [
    {
     "name": "stdout",
     "output_type": "stream",
     "text": [
      "maxerr =  4.308744822522446e-06\n"
     ]
    }
   ],
   "source": [
    "maxerr = max(eta2)\n",
    "print (\"maxerr = \", maxerr)\n",
    "\n",
    "for el in mesh.Elements():\n",
    "    mesh.SetRefinementFlag(el, eta2[el.nr] > 0.25*maxerr)\n",
    "    \n",
    "Draw(gfu)\n"
   ]
  },
  {
   "cell_type": "code",
   "execution_count": 11,
   "metadata": {
    "collapsed": true
   },
   "outputs": [],
   "source": [
    "mesh.Refine()\n",
    "SolveBVP()\n",
    "Redraw()"
   ]
  },
  {
   "cell_type": "code",
   "execution_count": 12,
   "metadata": {
    "collapsed": true
   },
   "outputs": [],
   "source": [
    "l = []    # l = list of estimated total error\n",
    "\n",
    "def CalcError():\n",
    "\n",
    "    # compute the flux:\n",
    "    space_flux.Update()      \n",
    "    gf_flux.Update()\n",
    "    flux = lam * grad(gfu)        \n",
    "    gf_flux.Set(flux) \n",
    "    \n",
    "    # compute estimator:\n",
    "    err = 1/lam*(flux-gf_flux)*(flux-gf_flux)\n",
    "    eta2 = Integrate(err, mesh, VOL, element_wise=True)\n",
    "    maxerr = max(eta2)\n",
    "    l.append ((fes.ndof, sqrt(sum(eta2))))\n",
    "    print(\"ndof =\", fes.ndof, \" maxerr =\", maxerr)\n",
    "    \n",
    "    # mark for refinement:\n",
    "    for el in mesh.Elements():\n",
    "        mesh.SetRefinementFlag(el, eta2[el.nr] > 0.25*maxerr)"
   ]
  },
  {
   "cell_type": "code",
   "execution_count": 13,
   "metadata": {},
   "outputs": [
    {
     "name": "stdout",
     "output_type": "stream",
     "text": [
      "ndof = 490  maxerr = 2.5726475549350393e-06\n"
     ]
    }
   ],
   "source": [
    "CalcError()\n",
    "mesh.Refine()"
   ]
  },
  {
   "cell_type": "code",
   "execution_count": 14,
   "metadata": {},
   "outputs": [
    {
     "name": "stdout",
     "output_type": "stream",
     "text": [
      "ndof = 673  maxerr = 8.406009902856825e-07\n",
      "ndof = 1240  maxerr = 3.0420776446828125e-07\n",
      "ndof = 1945  maxerr = 2.459663354103721e-07\n",
      "ndof = 2251  maxerr = 1.1238786235985826e-07\n",
      "ndof = 2950  maxerr = 5.611243002086969e-08\n",
      "ndof = 3361  maxerr = 2.8053935690242824e-08\n",
      "ndof = 3889  maxerr = 1.4026565195114548e-08\n",
      "ndof = 4606  maxerr = 7.01099346840072e-09\n",
      "ndof = 5053  maxerr = 3.5040192671386635e-09\n",
      "ndof = 5545  maxerr = 1.7512046128196403e-09\n",
      "ndof = 6199  maxerr = 8.751503839528462e-10\n",
      "ndof = 6739  maxerr = 4.373422760795708e-10\n",
      "ndof = 7321  maxerr = 2.1855393469262913e-10\n",
      "ndof = 8494  maxerr = 1.0921739030000271e-10\n",
      "ndof = 9364  maxerr = 5.458316569881939e-11\n",
      "ndof = 10201  maxerr = 2.7279569236942492e-11\n",
      "ndof = 11521  maxerr = 1.3633641668854877e-11\n",
      "ndof = 13318  maxerr = 6.813882297638386e-12\n",
      "ndof = 14689  maxerr = 3.405288040284465e-12\n",
      "ndof = 16651  maxerr = 1.701953485229202e-12\n",
      "ndof = 19699  maxerr = 8.506338086619101e-13\n",
      "ndof = 22459  maxerr = 4.25096378543791e-13\n",
      "ndof = 26224  maxerr = 2.1245255589141234e-13\n",
      "ndof = 30262  maxerr = 1.0617824019985059e-13\n",
      "ndof = 35428  maxerr = 5.306666749622081e-14\n",
      "ndof = 40648  maxerr = 2.6522082000685407e-14\n",
      "ndof = 47422  maxerr = 1.3255043726335023e-14\n",
      "ndof = 55963  maxerr = 6.624988640142978e-15\n"
     ]
    }
   ],
   "source": [
    "while fes.ndof < 50000:  \n",
    "    SolveBVP()\n",
    "    CalcError()\n",
    "    mesh.Refine()"
   ]
  },
  {
   "cell_type": "code",
   "execution_count": 15,
   "metadata": {},
   "outputs": [
    {
     "data": {
      "image/png": "[encoded data removed]",
      "text/plain": [
       "<matplotlib.figure.Figure at 0x7ff257500908>"
      ]
     },
     "metadata": {},
     "output_type": "display_data"
    }
   ],
   "source": [
    "import matplotlib.pyplot as plt\n",
    "\n",
    "plt.yscale('log')\n",
    "plt.xscale('log')\n",
    "plt.xlabel(\"ndof\")\n",
    "plt.ylabel(\"H1 error-estimate\")\n",
    "ndof,err = zip(*l)\n",
    "plt.plot(ndof,err, \"-*\")\n",
    "\n",
    "plt.ion()\n",
    "plt.show()"
   ]
  },
  {
   "cell_type": "code",
   "execution_count": null,
   "metadata": {
    "collapsed": true
   },
   "outputs": [],
   "source": []
  }
 ],
 "metadata": {
  "kernelspec": {
   "display_name": "Python 3",
   "language": "python",
   "name": "python3"
  },
  "language_info": {
   "codemirror_mode": {
    "name": "ipython",
    "version": 3
   },
   "file_extension": ".py",
   "mimetype": "text/x-python",
   "name": "python",
   "nbconvert_exporter": "python",
   "pygments_lexer": "ipython3",
   "version": "3.5.2"
  }
 },
 "nbformat": 4,
 "nbformat_minor": 2
}
