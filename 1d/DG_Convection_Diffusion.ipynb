{
 "cells": [
  {
   "cell_type": "markdown",
   "metadata": {},
   "source": [
    "# Discontinuous Galerkin for 1D Convection-Diffusion Equation\n",
    "\n",
    "We consider the general equation\n",
    "$$\\partial_t \\phi + \\underbrace{\\nabla(\\beta \\phi)}_{\\text{convection}} + \n",
    "\\underbrace{\\nabla(\\gamma \\nabla \\phi)}_{\\text{diffusion}} = 0$$\n",
    "Multiplying through by a test function $\\psi$ and integrating the first and third terms by parts gives:\n",
    "$$\\partial_t \\int_{\\Omega} \\phi\\psi + \\int_{\\Omega} \\nabla (\\beta \\phi) \\psi - \\int_{\\Omega}(\\gamma \\nabla \\phi)\\nabla \\psi + \\int_{\\partial \\Omega}\\gamma \\nabla \\phi \\psi = 0$$\n",
    "The Discontinous Galerkin formulation is then\n",
    "$$\\sum_T\\int_T \\partial_t (\\phi \\psi) + \\sum_T\\int_T ( \\nabla \\beta \\phi) \\psi + \\sum_T\\int_{\\partial T} \\beta_n (\\hat{\\phi}-\\phi)\\psi - \\sum_T\\int_T \\nabla(\\gamma \\phi)\\nabla \\psi$$ \n",
    "$$ - \\frac{1}{2} \\sum_F\\int_F \\lbrace n\\nabla\\phi\\rbrace [\\phi] - \\frac{1}{2}\\sum_F\\int_F\\lbrace n \\nabla\\phi \\rbrace [\\psi] + \\frac{\\alpha p^2}{h} \\sum_F \\int_F [\\phi][\\psi]$$\n",
    "In the case when $\\beta$ and $\\gamma$ are constants and the dimension of $\\Omega$ is 1, we get:\n",
    "$$\\sum_T\\int_T \\dot{(\\phi \\psi)} + \\beta \\sum_T\\int_T \\phi' \\psi + \\beta \\sum_T\\int_{\\partial T} (\\hat{\\phi}-\\phi)\\psi - \\gamma \\sum_T\\int_T \\phi' \\psi'$$ \n",
    "$$ - \\frac{\\gamma}{2} \\sum_F\\int_F \\lbrace n\\nabla\\phi\\rbrace [\\phi] - \\frac{\\gamma}{2}\\sum_F\\int_F\\lbrace n \\nabla\\phi \\rbrace [\\psi] + \\frac{\\gamma \\alpha p^2}{h} \\sum_F \\int_F [\\phi][\\psi]$$"
   ]
  },
  {
   "cell_type": "code",
   "execution_count": 1,
   "metadata": {
    "collapsed": true
   },
   "outputs": [],
   "source": [
    "import netgen.gui\n",
    "%gui tk\n",
    "from mesh_util import uniform_1d_mesh\n",
    "from ngsolve import *\n",
    "import ngsolve.internal as ngint\n",
    "ngint.viewoptions.drawedges = 1\n",
    "\n",
    "mesh = Mesh(uniform_1d_mesh())\n"
   ]
  },
  {
   "cell_type": "markdown",
   "metadata": {},
   "source": [
    "The space is responsible for allocating the matrix graph. Tell it that it should reserve entries for the coupling terms:"
   ]
  },
  {
   "cell_type": "code",
   "execution_count": 4,
   "metadata": {
    "collapsed": true
   },
   "outputs": [],
   "source": [
    "order=4\n",
    "fes = L2(mesh, order=order, dgjumps = True)\n",
    "u,v = fes.TnT()\n"
   ]
  },
  {
   "cell_type": "markdown",
   "metadata": {},
   "source": [
    "Every facet has a master element. The value from the other element is referred to via the Other() operator:"
   ]
  },
  {
   "cell_type": "code",
   "execution_count": 5,
   "metadata": {
    "collapsed": true
   },
   "outputs": [],
   "source": [
    "jump_u = u-u.Other()\n",
    "jump_v = v-v.Other()\n",
    "n = specialcf.normal(1)\n",
    "mean_dudn = 0.5*n * (grad(u)+grad(u.Other()))\n",
    "mean_dvdn = 0.5*n * (grad(v)+grad(v.Other()))"
   ]
  },
  {
   "cell_type": "markdown",
   "metadata": {},
   "source": [
    "Integrals on facets are computed by setting skeleton=True. This iterates over all internal facets. Additionally setting BND iterates only over boundary facets:\n"
   ]
  },
  {
   "cell_type": "code",
   "execution_count": 7,
   "metadata": {},
   "outputs": [],
   "source": [
    "alpha = 4\n",
    "h = specialcf.mesh_size\n",
    "acd = BilinearForm(fes)\n",
    "acd += SymbolicBFI(grad(u)*grad(v))\n",
    "acd += SymbolicBFI(alpha*order**2/h*jump_u*jump_v, skeleton=True)\n",
    "acd += SymbolicBFI(alpha*order**2/h*u*v, BND, skeleton=True)\n",
    "acd += SymbolicBFI(-mean_dudn*jump_v -mean_dvdn*jump_u, skeleton=True)\n",
    "acd += SymbolicBFI(-n*grad(u)*v-n*grad(v)*u, BND, skeleton=True)\n"
   ]
  },
  {
   "cell_type": "markdown",
   "metadata": {},
   "source": [
    "The IfPos checks whether the first argument is positive. Then it returns the second one, else the third one. This is used to define the upwind flux. The check is performed in every integration-point on the skeleton:"
   ]
  },
  {
   "cell_type": "code",
   "execution_count": 8,
   "metadata": {
    "collapsed": true
   },
   "outputs": [],
   "source": [
    "b = CoefficientFunction( 20 )                     # scalar\n",
    "acd += SymbolicBFI(-b * u * grad(v))              # term 1 in second equation above\n",
    "uup = IfPos(b*n, u, u.Other())                    # u_upwind (upwind flux)\n",
    "acd += SymbolicBFI(b*n*uup*jump_v, skeleton=True) # term 2 in second equation above"
   ]
  },
  {
   "cell_type": "code",
   "execution_count": 9,
   "metadata": {
    "collapsed": true
   },
   "outputs": [],
   "source": [
    "acd.Assemble()"
   ]
  },
  {
   "cell_type": "code",
   "execution_count": 11,
   "metadata": {
    "collapsed": true
   },
   "outputs": [],
   "source": [
    "f = LinearForm(fes)\n",
    "f += SymbolicLFI(1*v)\n",
    "f.Assemble()"
   ]
  },
  {
   "cell_type": "code",
   "execution_count": 12,
   "metadata": {},
   "outputs": [],
   "source": [
    "gfu = GridFunction(fes)\n",
    "gfu.vec.data = acd.mat.Inverse(freedofs=fes.FreeDofs(),inverse=\"umfpack\") * f.vec\n",
    "Draw (gfu)"
   ]
  },
  {
   "cell_type": "markdown",
   "metadata": {},
   "source": [
    "## Explicit time stepping with a DG formulation\n",
    "\n",
    "Explicit Euler:\n",
    "\n",
    "$$\\sum_T \\int_T \\phi^{n+1}\\psi = \\sum_T \\int_T \\phi^{n}\\psi$$ \n",
    "$$ - \\Delta t \\left\\lbrace \\sum_T \\int_T \\beta \\cdot \\nabla \\phi \\psi + \\int_{\\partial T} \\beta_n (\\hat{\\phi} - \\phi)\\psi + \\int_T \\nabla(\\gamma \\phi)\\nabla \\psi + \\frac{1}{2} \\sum_F\\int_F \\lbrace n\\nabla\\phi\\rbrace [\\phi] + \\frac{1}{2}\\int_F\\lbrace n \\nabla\\phi \\rbrace [\\psi] - \\frac{\\alpha p^2}{h} \\int_F [\\phi][\\psi] \\right\\rbrace, \\hspace{2em} \\forall \\psi \\in V_h$$\n",
    "\n",
    "$$M \\phi^{n+1} = M \\phi^n -\\Delta t C \\phi^n$$\n",
    "\n",
    "Letting $u\\equiv\\phi$ and $v\\equiv\\psi$\n",
    "$$\\sum_T \\int_T u^{n+1}v = \\sum_T \\int_T u^{n}v$$ \n",
    "$$ - \\Delta t \\left\\lbrace \\sum_T \\int_T \\beta \\cdot \\nabla u v + \\int_{\\partial T} \\beta_n (\\hat{u} - u)v + \\int_T \\nabla(\\gamma u)\\nabla v + \\frac{1}{2} \\sum_F\\int_F \\lbrace n\\nabla u \\rbrace [u] + \\frac{1}{2}\\int_F\\lbrace n \\nabla u \\rbrace [v] - \\frac{\\alpha p^2}{h} \\int_F [u][v] \\right\\rbrace, \\hspace{2em} \\forall v \\in V_h$$\n",
    "\n",
    "$$M u^{n+1} = M u^n -\\Delta t C u^n$$\n",
    "\n",
    "In our first example we set $u_0=f=0$\n",
    "\n",
    "\n",
    "### Computing convection applications $Cu^n$\n",
    "\n",
    "We compute $Cu^n$ and define the corresponding bilinear form $C$\n",
    "\n",
    ". Some remarks on that:\n",
    "\n",
    "- We can define the bilinear form without setting up a matrix. The operator application is the only thing we want to use from the bilinear form\n",
    "- We require integrals on element boundaries. We use the keyword \"element_boundary\" to obtain quadrature rules for this.\n",
    "- To distinguish inflow from outflow we take compute $b\\cdot n$ Here the normal $n$ is available as a specialcf which has meaningful values on the skeleton, element boundaries or domain boundaries.\n",
    "- To make cases with coefficient functions we use the IfPos CoefficientFunction which has three arguments:\n",
    "\n",
    "   1. CF argument that decides on the evaluation. If expression is positive evaluate 2. otherwise 3.\n",
    "   2. CF that is evaluated in the positive case\n",
    "   3. CF that is evaluated in the negative case\n",
    "\n",
    "To access the neighbor variables we can use **u.Other()**\n",
    "To incorporate boundary conditions ($\\hat{u}$ on inflow boundaries), we set up a BilinearForm which is technically not bilinear, but only affine linear in the first argument. For operator application this behaves as desired, for setting up matrices this does not make sense!"
   ]
  },
  {
   "cell_type": "code",
   "execution_count": null,
   "metadata": {
    "collapsed": true
   },
   "outputs": [],
   "source": []
  }
 ],
 "metadata": {
  "kernelspec": {
   "display_name": "Python 3",
   "language": "python",
   "name": "python3"
  },
  "language_info": {
   "codemirror_mode": {
    "name": "ipython",
    "version": 3
   },
   "file_extension": ".py",
   "mimetype": "text/x-python",
   "name": "python",
   "nbconvert_exporter": "python",
   "pygments_lexer": "ipython3",
   "version": "3.5.2"
  }
 },
 "nbformat": 4,
 "nbformat_minor": 2
}
