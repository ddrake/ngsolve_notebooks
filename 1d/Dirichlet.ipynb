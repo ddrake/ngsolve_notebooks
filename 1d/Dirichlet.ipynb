{
 "cells": [
  {
   "cell_type": "markdown",
   "metadata": {},
   "source": [
    "# 1-D Dirichlet boundary conditions (Unit 1.3)\n",
    "\n",
    "This section shows how to solve the Dirichlet problem\n",
    "$$−\\Delta u=f \\text{ in } \\Omega$$\n",
    "\n",
    "with a nonhomogeneous Dirichlet boundary condition $u|_{\\Gamma_D}=g$ on a boundary part $\\Gamma_D$, (and no constraint on any other boundary parts).\n",
    "#### The extension technique\n",
    "\n",
    "We use the standard technique of reducing a problem with essential non-homogeneous boundary conditions to one with homogeneous boundary condition using an extension. The solution $u$ in $H^1$ satisfies\n",
    "$$u|_{\\Gamma_D}=g$$ and \n",
    "$$\\int_\\Omega \\nabla u \\cdot \\nabla v_0 = \\int_\\Omega f v_0$$ \n",
    "for all $v_0 \\in H_{0,D}^1=\\lbrace v \\in H^1:v_|\\Gamma_D=0\\rbrace.$\n",
    "\n",
    "Split the solution\n",
    "$$u=u_0+u_D$$\n",
    "where $u_D$ is an extension of $g$ into $\\Omega$. Then we only need to find $u_0$ in $H_{0,D}^1$ satisfying the homogeneous Dirichlet problem\n",
    "$$\\int_\\Omega \\nabla u_0 \\cdot \\nabla v_0 = \\int_\\Omega f v_0 - \\int_\\Omega \\nabla u_D \\cdot \\nabla v_0$$\n",
    "for all $v_0$ in $H_{0,D}^1$.\n",
    "\n",
    "#### Issues to consider\n",
    "\n",
    "- How to define an extension $u_D$ in the finite element space?\n",
    "- How to form and solve the system for $u_0$?\n"
   ]
  },
  {
   "cell_type": "code",
   "execution_count": 1,
   "metadata": {
    "collapsed": true
   },
   "outputs": [],
   "source": [
    "import netgen.gui\n",
    "%gui tk\n",
    "from ngsolve import *\n",
    "import ngsolve.internal as ngint\n",
    "ngint.viewoptions.drawedges = 1\n",
    "from mesh_util import uniform_1d_mesh\n",
    "from matplotlib import pyplot as plt\n",
    "from numpy import linspace"
   ]
  },
  {
   "cell_type": "code",
   "execution_count": 2,
   "metadata": {},
   "outputs": [
    {
     "data": {
      "text/plain": [
       "('left', 'right')"
      ]
     },
     "execution_count": 2,
     "metadata": {},
     "output_type": "execute_result"
    }
   ],
   "source": [
    "mesh = Mesh(uniform_1d_mesh())\n",
    "mesh.GetBoundaries()"
   ]
  },
  {
   "cell_type": "markdown",
   "metadata": {},
   "source": [
    "The unit_square has its boundaries marked as left and right. Suppose we want non-homogeneous Dirichlet boundary conditions on\n",
    "$$ \\Gamma_{right}.$$\n",
    "Then, we set the space as follows:"
   ]
  },
  {
   "cell_type": "code",
   "execution_count": 3,
   "metadata": {
    "collapsed": true
   },
   "outputs": [],
   "source": [
    "fes = H1(mesh, order=2, dirichlet='right')"
   ]
  },
  {
   "cell_type": "code",
   "execution_count": 4,
   "metadata": {
    "collapsed": true
   },
   "outputs": [],
   "source": [
    "fs2 = H1(mesh, order=2)"
   ]
  },
  {
   "cell_type": "code",
   "execution_count": 5,
   "metadata": {},
   "outputs": [
    {
     "data": {
      "text/plain": [
       "(21, 21)"
      ]
     },
     "execution_count": 5,
     "metadata": {},
     "output_type": "execute_result"
    }
   ],
   "source": [
    "fes.ndof, fs2.ndof"
   ]
  },
  {
   "cell_type": "markdown",
   "metadata": {},
   "source": [
    "Thus, the dirichlet flag did not change ndof. In NGSolve the unknowns are split into two groups:\n",
    "\n",
    "- dirichlet dofs (or constrained dofs),\n",
    "- free dofs.\n",
    "\n",
    "The facility FreeDofs gives a BitArray such that FreeDofs $[\\text{dof}]$ is True iff dof is a free degree of freedom.\n"
   ]
  },
  {
   "cell_type": "code",
   "execution_count": 6,
   "metadata": {},
   "outputs": [
    {
     "name": "stdout",
     "output_type": "stream",
     "text": [
      "fs2 free dofs:  0: 111111111111111111111\n",
      "fes free dofs:  0: 111111111101111111111\n"
     ]
    }
   ],
   "source": [
    "print(\"fs2 free dofs: \", fs2.FreeDofs())\n",
    "print(\"fes free dofs: \", fes.FreeDofs())"
   ]
  },
  {
   "cell_type": "markdown",
   "metadata": {},
   "source": [
    "\n",
    "- The space fs2 without dirichlet flag has only free dofs (no dirichlet dofs).\n",
    "\n",
    "- The other space fes has one dofs marked as not free. This is the dof that are located on the boundary region we marked as dirichlet.\n",
    "\n",
    "### Forms and assembly\n",
    "\n",
    "In NGSolve, bilinear and linear forms are defined independently of the dirichlet flags. Matrices and vectors are set up with respect to all unknowns (free or constrained) so they may be restricted to any group of unknowns later.\n",
    "\n"
   ]
  },
  {
   "cell_type": "code",
   "execution_count": 7,
   "metadata": {
    "collapsed": true
   },
   "outputs": [],
   "source": [
    "u = fes.TrialFunction()\n",
    "v = fes.TestFunction()\n",
    "\n",
    "a = BilinearForm(fes, symmetric=True)\n",
    "a += SymbolicBFI(grad(u)*grad(v))\n",
    "a.Assemble()\n"
   ]
  },
  {
   "cell_type": "markdown",
   "metadata": {},
   "source": [
    "If $A$= a.mat is the matrix just assembled, then we want to solve for\n",
    "$$ A(u_0+u_D)=f \\rightarrow Au_0=f−Au_D$$\n",
    "or\n",
    "$$\n",
    "\\left(\n",
    "\\begin{array}[cc]\n",
    "\\ A_{FF} & A_{FD} \\\\\n",
    "A_{DF} & A_{DD}\n",
    "\\end{array}\n",
    "\\right)\n",
    "\\left(\n",
    "\\begin{array}[c]\n",
    "\\ u_{0,F} \\\\\n",
    "0\n",
    "\\end{array}\n",
    "\\right)\n",
    "=\n",
    "\\left(\n",
    "\\begin{array}[c]\n",
    "\\ f_F \\\\\n",
    "f_D\n",
    "\\end{array}\n",
    "\\right)\n",
    "-\n",
    "\\left(\n",
    "\\begin{array}[cc]\n",
    "\\ A_{FF} & A_{FD} \\\\\n",
    "A_{DF} & A_{DD}\n",
    "\\end{array}\n",
    "\\right)\n",
    "\\left(\n",
    "\\begin{array}[c]\n",
    "\\ u_{D,F} \\\\\n",
    "u_{D,D}\n",
    "\\end{array}\n",
    "\\right)\n",
    "$$\n",
    "\n",
    "where we have block partitioned using free dofs (F) and dirichlet dofs (D) as if they were numbered consecutively (which is typically not true). The first row gives\n",
    "$$A_{FF}u_{0,F}=f_F−[Au_D]_F.$$\n",
    "\n",
    "Hence, we need to:\n",
    "\n",
    "- Construct $u_D$ from $g$.\n",
    "- Set up the right hand side from $f$ and $u_D$.\n",
    "- Solve a linear system which involves only $A_{FF}$.\n",
    "- Add solution: $u=u_0+u_D$.\n",
    "\n",
    "\n",
    "### Extending the boundary values\n",
    "\n",
    "Suppose we are given that\n",
    "$$g=3 \\text{ on }\\Gamma_D.$$"
   ]
  },
  {
   "cell_type": "code",
   "execution_count": 8,
   "metadata": {
    "collapsed": true
   },
   "outputs": [],
   "source": [
    "g = CoefficientFunction(3)"
   ]
  },
  {
   "cell_type": "markdown",
   "metadata": {},
   "source": [
    "We interpolate $g$ on the boundary of the domain and extend trivially to $\\Omega$ as follows:"
   ]
  },
  {
   "cell_type": "code",
   "execution_count": 9,
   "metadata": {
    "scrolled": true
   },
   "outputs": [
    {
     "data": {
      "text/plain": [
       "[<matplotlib.lines.Line2D at 0x7ff296e47160>]"
      ]
     },
     "execution_count": 9,
     "metadata": {},
     "output_type": "execute_result"
    },
    {
     "data": {
      "image/png": "[encoded data removed]",
      "text/plain": [
       "<Figure size 432x288 with 1 Axes>"
      ]
     },
     "metadata": {},
     "output_type": "display_data"
    }
   ],
   "source": [
    "gfu = GridFunction(fes)\n",
    "gfu.Set(g,BND)\n",
    "Draw(gfu)\n",
    "xs = linspace(0,1,100)\n",
    "plt.plot(xs,[gfu(x) for x in xs])"
   ]
  },
  {
   "cell_type": "code",
   "execution_count": 10,
   "metadata": {},
   "outputs": [
    {
     "name": "stdout",
     "output_type": "stream",
     "text": [
      "Row 0:   0: 10\n",
      "Row 1:   0: -10   1: 20\n",
      "Row 2:   1: -10   2: 20\n",
      "Row 3:   2: -10   3: 20\n",
      "Row 4:   3: -10   4: 20\n",
      "Row 5:   4: -10   5: 20\n",
      "Row 6:   5: -10   6: 20\n",
      "Row 7:   6: -10   7: 20\n",
      "Row 8:   7: -10   8: 20\n",
      "Row 9:   8: -10   9: 20\n",
      "Row 10:   9: -10   10: 10\n",
      "Row 11:   0: 0   1: 0   11: 0.833333\n",
      "Row 12:   1: 0   2: 0   12: 0.833333\n",
      "Row 13:   2: 0   3: 0   13: 0.833333\n",
      "Row 14:   3: 0   4: 0   14: 0.833333\n",
      "Row 15:   4: 0   5: 0   15: 0.833333\n",
      "Row 16:   5: 0   6: 0   16: 0.833333\n",
      "Row 17:   6: 0   7: 0   17: 0.833333\n",
      "Row 18:   7: 0   8: 0   18: 0.833333\n",
      "Row 19:   8: 0   9: 0   19: 0.833333\n",
      "Row 20:   9: 0   10: 0   20: 0.833333\n",
      "\n"
     ]
    }
   ],
   "source": [
    "print(a.mat)"
   ]
  },
  {
   "cell_type": "markdown",
   "metadata": {},
   "source": [
    "\n",
    "The keyword BND tells Set that $g$ need only be interpolated on those parts of the boundary that are marked dirichlet.\n",
    "### Solve for the free dofs\n",
    "\n",
    "We need to assemble the right hand side of $A_{FF}u_{0,F} = f_F−[Au_D]_F,$ namely\n",
    "$$r=f−Au_D.$$"
   ]
  },
  {
   "cell_type": "code",
   "execution_count": 11,
   "metadata": {
    "collapsed": true
   },
   "outputs": [],
   "source": [
    "forcing = CoefficientFunction(1)\n",
    "f = LinearForm(fes)\n",
    "f += SymbolicLFI(forcing*v)\n",
    "f.Assemble()\n",
    "\n",
    "r = f.vec.CreateVector()\n",
    "r.data = f.vec - a.mat * gfu.vec"
   ]
  },
  {
   "cell_type": "markdown",
   "metadata": {},
   "source": [
    "The implementation of\n",
    "$$\n",
    "u=u_D + \\left(\n",
    "\\begin{array}[cc]\n",
    "\\ A_{FF}^{−1} & 0 \\\\\n",
    "\\ 0 & 0\n",
    "\\end{array}\n",
    "\\right) r\n",
    "$$\n",
    "by sparse solvers is achieved by the following:"
   ]
  },
  {
   "cell_type": "code",
   "execution_count": 12,
   "metadata": {},
   "outputs": [
    {
     "data": {
      "text/plain": [
       "[<matplotlib.lines.Line2D at 0x7ff296dd6a58>]"
      ]
     },
     "execution_count": 12,
     "metadata": {},
     "output_type": "execute_result"
    },
    {
     "data": {
      "image/png": "[encoded data removed]",
      "text/plain": [
       "<Figure size 432x288 with 1 Axes>"
      ]
     },
     "metadata": {},
     "output_type": "display_data"
    }
   ],
   "source": [
    "gfu.vec.data += a.mat.Inverse(freedofs=fes.FreeDofs()) * r\n",
    "Redraw()\n",
    "xs = linspace(0,1,100)\n",
    "plt.plot(xs,[gfu(x) for x in xs])"
   ]
  },
  {
   "cell_type": "markdown",
   "metadata": {},
   "source": [
    "Using BVP\n",
    "\n",
    "NGSolve also provides a BVP facility, within which the above steps are performed automatically. You provide $A$, $f$, a grid function gfu with the boundary condition, and a preconditioner. Then BVP solves the problem with non-homogeneous Dirichlet boundary condition and overwrites gfu with the solution."
   ]
  },
  {
   "cell_type": "code",
   "execution_count": 13,
   "metadata": {},
   "outputs": [
    {
     "data": {
      "text/plain": [
       "[<matplotlib.lines.Line2D at 0x7ff294d2fc88>]"
      ]
     },
     "execution_count": 13,
     "metadata": {},
     "output_type": "execute_result"
    },
    {
     "data": {
      "image/png": "[encoded data removed]",
      "text/plain": [
       "<Figure size 432x288 with 1 Axes>"
      ]
     },
     "metadata": {},
     "output_type": "display_data"
    }
   ],
   "source": [
    "c = Preconditioner(a,\"local\")   #<- Jacobi preconditioner\n",
    "#c = Preconditioner(a,\"direct\") #<- sparse direct solver\n",
    "c.Update()\n",
    "BVP(bf=a,lf=f,gf=gfu,pre=c).Do()\n",
    "Redraw()\n",
    "xs = linspace(0,1,100)\n",
    "plt.plot(xs,[gfu(x) for x in xs])"
   ]
  },
  {
   "cell_type": "code",
   "execution_count": null,
   "metadata": {
    "collapsed": true
   },
   "outputs": [],
   "source": []
  }
 ],
 "metadata": {
  "kernelspec": {
   "display_name": "Python 3",
   "language": "python",
   "name": "python3"
  },
  "language_info": {
   "codemirror_mode": {
    "name": "ipython",
    "version": 3
   },
   "file_extension": ".py",
   "mimetype": "text/x-python",
   "name": "python",
   "nbconvert_exporter": "python",
   "pygments_lexer": "ipython3",
   "version": "3.5.2"
  }
 },
 "nbformat": 4,
 "nbformat_minor": 2
}
