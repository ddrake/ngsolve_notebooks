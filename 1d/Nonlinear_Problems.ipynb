{
 "cells": [
  {
   "cell_type": "markdown",
   "metadata": {},
   "source": [
    "\n",
    "# Nonlinear problems (Unit 3.5)\n",
    "\n",
    "We want to solve a nonlinear PDE.\n",
    "## A simple scalar PDE\n",
    "\n",
    "We consider the simple PDE\n",
    "$$−\\Delta u + 5 u^2 = 1 \\text{ in } \\Omega$$\n",
    "on the unit square $\\Omega =(0,1)^2$. We note that this PDE can also be formulated as a nonlinear minimization problem (cf. unit 3.6 )."
   ]
  },
  {
   "cell_type": "code",
   "execution_count": 1,
   "metadata": {},
   "outputs": [],
   "source": [
    "import netgen.gui\n",
    "%gui tk\n",
    "import tkinter\n",
    "from netgen.geom2d import unit_square\n",
    "from ngsolve import *\n",
    "\n",
    "mesh = Mesh (unit_square.GenerateMesh(maxh=0.3))\n"
   ]
  },
  {
   "cell_type": "markdown",
   "metadata": {},
   "source": [
    "\n",
    "In NGSolve we can solve the PDE conveniently using the linearization feature of SymbolicBFI.\n",
    "\n",
    "The \"BilinearForm\" (which is not bilinear!) needed in the weak formulation is\n",
    "$$A(u,v)=\\int_Ω \\nabla u \\nabla v + 5 u^2 v - 1v dx \\hspace{2em} (=0 \\ \\forall v \\in H_0^1)$$"
   ]
  },
  {
   "cell_type": "code",
   "execution_count": 2,
   "metadata": {},
   "outputs": [],
   "source": [
    "V = H1(mesh, order=3, dirichlet=[1,2,3,4])\n",
    "u = V.TrialFunction()\n",
    "v = V.TestFunction()\n",
    "\n",
    "a = BilinearForm(V)\n",
    "a += SymbolicBFI( grad(u) * grad(v) + 5*u*u*v- 1 * v)"
   ]
  },
  {
   "cell_type": "markdown",
   "metadata": {},
   "source": [
    "We use Newton's method and make the loop:\n",
    "\n",
    "- Given an initial guess $u_0$\n",
    "\n",
    "- loop over $i=0,\\dots$ until convergence:\n",
    "\n",
    "   - Compute linearization: $A(u^i)+\\delta A(u^i)\\Delta u^i=0$:\n",
    "\n",
    "       - $f^i=A(u^i)$\n",
    "       - $B^i=\\delta A(u^i)$\n",
    "       - Solve $B^i\\Delta u^i=−f^i$\n",
    "\n",
    "    - Update $u^{i+1}=u^i+\\Delta u^i$\n",
    "\n",
    "    - Evaluate stopping criteria\n",
    "\n",
    "- Evaluate $E(u^{i+1})$\n",
    "\n",
    "As a stopping criteria we take $\\langle A(u^i),\\Delta u^i\\rangle=\\langle A(u^i),A(u^i)\\rangle_{(B^i)^{−1}} < \\epsilon$\n",
    "\n",
    ".\n",
    "\n"
   ]
  },
  {
   "cell_type": "code",
   "execution_count": 3,
   "metadata": {},
   "outputs": [
    {
     "name": "stdout",
     "output_type": "stream",
     "text": [
      "Iteration 0\n",
      "<A u 0 , A u 0 >_{-1}^0.5 =  0.18745474302207427\n",
      "Iteration 1\n",
      "<A u 1 , A u 1 >_{-1}^0.5 =  0.0025714366697813665\n",
      "Iteration 2\n",
      "<A u 2 , A u 2 >_{-1}^0.5 =  5.326881678242572e-07\n",
      "Iteration 3\n",
      "<A u 3 , A u 3 >_{-1}^0.5 =  2.3075515513437533e-14\n"
     ]
    }
   ],
   "source": [
    "u = GridFunction(V)\n",
    "Draw(u,mesh,\"u\")\n",
    "\n",
    "res = u.vec.CreateVector()\n",
    "du = u.vec.CreateVector()\n",
    "\n",
    "for it in range(25):\n",
    "    print (\"Iteration\",it)\n",
    "    a.Apply(u.vec, res)\n",
    "    a.AssembleLinearization(u.vec)\n",
    "    #a.Assemble()\n",
    "    \n",
    "    du.data = a.mat.Inverse(V.FreeDofs()) * res\n",
    "    u.vec.data -= du\n",
    "    \n",
    "    #stopping criteria\n",
    "    stopcritval = sqrt(abs(InnerProduct(du,res)))\n",
    "    print (\"<A u\",it,\", A u\",it,\">_{-1}^0.5 = \", \n",
    "           stopcritval)\n",
    "    if stopcritval < 1e-13:\n",
    "        break\n",
    "    "
   ]
  }
 ],
 "metadata": {
  "kernelspec": {
   "display_name": "Python 3",
   "language": "python",
   "name": "python3"
  },
  "language_info": {
   "codemirror_mode": {
    "name": "ipython",
    "version": 3
   },
   "file_extension": ".py",
   "mimetype": "text/x-python",
   "name": "python",
   "nbconvert_exporter": "python",
   "pygments_lexer": "ipython3",
   "version": "3.6.5"
  }
 },
 "nbformat": 4,
 "nbformat_minor": 2
}
