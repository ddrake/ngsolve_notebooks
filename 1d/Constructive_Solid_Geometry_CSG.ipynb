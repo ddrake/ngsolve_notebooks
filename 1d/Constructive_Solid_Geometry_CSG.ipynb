{
 "cells": [
  {
   "cell_type": "markdown",
   "metadata": {},
   "source": [
    "# Constructive Solid Geometry (CSG) (Unit 4.2)\n",
    "\n",
    "These geometries are bases on primitives (e.g. sphere, cylinder, plane) which are used to build solids by performing boolean operations. Netgen offers the following primitives\n",
    "\n",
    "<table width=\"80%\" style=\"border-collapse: collapse\">\n",
    "<tr>\n",
    "    <th style=\"border: 1px solid black; text-align: left;\">primitive</th>\n",
    "    <th style=\"border: 1px solid black; text-align: left;\">csg syntax</th>\n",
    "    <th style=\"border: 1px solid black; text-align: left;\">meaning</th>\n",
    "</tr>\n",
    "<tr> \t \t\n",
    "    <td style=\"border: 1px solid black; text-align: left;\">half-space</td>\n",
    "    <td style=\"border: 1px solid black; text-align: left;\">Plane(Pnt a,Vec n)</td>\n",
    "    <td style=\"border: 1px solid black; text-align: left;\">point p in plane, normal vector</td>\n",
    "</tr>\n",
    "<tr>\n",
    "   <td style=\"border: 1px solid black; text-align: left;\">sphere</td>\n",
    "    <td style=\"border: 1px solid black; text-align: left;\">Sphere(Pnt c,float r)</td>\n",
    "    <td style=\"border: 1px solid black; text-align: left;\">sphere with center c and radius r</td>\n",
    "</tr>\n",
    "<tr>\n",
    "    <td style=\"border: 1px solid black; text-align: left;\">cylinder</td>\n",
    "    <td style=\"border: 1px solid black; text-align: left;\">Cylinder(Pnt a, Pnt b, float r)</td>\n",
    "    <td style=\"border: 1px solid black; text-align: left;\">points a and b define the axes of a infinite cylinder of radius r</td>\n",
    "</tr>\n",
    "<tr>\n",
    "    <td style=\"border: 1px solid black; text-align: left;\">brick </td>\n",
    "    <td style=\"border: 1px solid black; text-align: left;\">OrthoBrick (Pnt a, Pnt b)</td>\n",
    "    <td style=\"border: 1px solid black; text-align: left;\">axes parallel brick with minimal coordinates a and maximal coordinates b</td>\n",
    "</tr>\n",
    "</table>\n",
    "\n",
    "and the boolean operators\n",
    "<table width=\"40%\" style=\"border-collapse: collapse\">\n",
    "<tr>\n",
    "    <th style=\"border: 1px solid black; text-align: center;\">operator</th>\n",
    "    <th style=\"border: 1px solid black; text-align: center;\">set operation</th>\n",
    "</tr>\n",
    "<tr>\n",
    "    <td style=\"border: 1px solid black; text-align: center;\">*</td>\n",
    "    <td style=\"border: 1px solid black; text-align: center;\">intersection</td>\n",
    "</tr>\n",
    "<tr>\n",
    "    <td style=\"border: 1px solid black; text-align: center;\">+</td>\n",
    "    <td style=\"border: 1px solid black; text-align: center;\">union</td>\n",
    "</tr>\n",
    "<tr>\n",
    "    <td style=\"border: 1px solid black; text-align: center;\">-</td>\n",
    "    <td style=\"border: 1px solid black; text-align: center;\">intersection with complement</td>\n",
    "</tr>\n",
    "</table>"
   ]
  },
  {
   "cell_type": "code",
   "execution_count": 2,
   "metadata": {},
   "outputs": [],
   "source": [
    "import netgen.gui\n",
    "%gui tk\n",
    "from ngsolve.solve import Draw, Redraw # just for visualization\n"
   ]
  },
  {
   "cell_type": "markdown",
   "metadata": {},
   "source": [
    "Using these primitives and operations, we can easily construct a cube. First we import the netgen.csg module, create 6 planes and intersect them to get the solid cube."
   ]
  },
  {
   "cell_type": "code",
   "execution_count": 2,
   "metadata": {},
   "outputs": [],
   "source": [
    "from netgen.csg import *\n",
    "\n",
    "left  = Plane (Pnt(0,0,0), Vec(-1,0,0) )\n",
    "right = Plane (Pnt(1,1,1), Vec( 1,0,0) )\n",
    "front = Plane (Pnt(0,0,0), Vec(0,-1,0) )\n",
    "back  = Plane (Pnt(1,1,1), Vec(0, 1,0) )\n",
    "bot   = Plane (Pnt(0,0,0), Vec(0,0,-1) )\n",
    "top   = Plane (Pnt(1,1,1), Vec(0,0, 1) )\n",
    "\n",
    "cube = left * right * front * back * bot * top"
   ]
  },
  {
   "cell_type": "markdown",
   "metadata": {},
   "source": [
    "Then we create a CSGeometry object and add the solid."
   ]
  },
  {
   "cell_type": "code",
   "execution_count": 3,
   "metadata": {},
   "outputs": [],
   "source": [
    "geo = CSGeometry()\n",
    "geo.Add (cube)\n",
    "\n",
    "mesh = geo.GenerateMesh(maxh=0.25)\n",
    "Redraw()\n",
    "# mesh.Save(\"cube.vol\")\n"
   ]
  },
  {
   "cell_type": "code",
   "execution_count": 4,
   "metadata": {},
   "outputs": [],
   "source": [
    "from netgen.csg import *\n",
    "\n",
    "cube = OrthoBrick( Pnt(0,0,0), Pnt(1,1,1) )\n",
    "hole = Cylinder ( Pnt(0.5, 0.5, 0), Pnt(0.5, 0.5, 1), 0.2)\n",
    "\n",
    "geo = CSGeometry()\n",
    "geo.Add (cube-hole.maxh(0.05))\n",
    "mesh = geo.GenerateMesh(maxh=0.1)\n",
    "Redraw()"
   ]
  },
  {
   "cell_type": "markdown",
   "metadata": {},
   "source": [
    "\n",
    "## Setting properties of solids\n",
    "\n",
    "A solid has members which we can set to define the desired properties.\n"
   ]
  },
  {
   "cell_type": "code",
   "execution_count": 5,
   "metadata": {},
   "outputs": [],
   "source": [
    "sphere = Sphere(Pnt(0,0,0),1)"
   ]
  },
  {
   "cell_type": "markdown",
   "metadata": {},
   "source": [
    "Now we can set a boundary name and a maximal mesh size on the surface of this sphere"
   ]
  },
  {
   "cell_type": "code",
   "execution_count": 6,
   "metadata": {},
   "outputs": [
    {
     "data": {
      "text/plain": [
       "<netgen.libngpy._csg.Solid at 0x7fdc000aa998>"
      ]
     },
     "execution_count": 6,
     "metadata": {},
     "output_type": "execute_result"
    }
   ],
   "source": [
    "sphere.bc(\"sphere\").maxh(0.25)"
   ]
  },
  {
   "cell_type": "markdown",
   "metadata": {},
   "source": [
    "and define a material for the volume"
   ]
  },
  {
   "cell_type": "code",
   "execution_count": 7,
   "metadata": {},
   "outputs": [
    {
     "data": {
      "text/plain": [
       "<netgen.libngpy._csg.Solid at 0x7fdc000aa998>"
      ]
     },
     "execution_count": 7,
     "metadata": {},
     "output_type": "execute_result"
    }
   ],
   "source": [
    "sphere.mat(\"iron\")"
   ]
  },
  {
   "cell_type": "markdown",
   "metadata": {},
   "source": [
    "In case we want to visualize the geometry we can define the color (using rgb values) and transparency of the solid."
   ]
  },
  {
   "cell_type": "code",
   "execution_count": 8,
   "metadata": {},
   "outputs": [
    {
     "data": {
      "text/plain": [
       "<netgen.libngpy._csg.Solid at 0x7fdc000aa998>"
      ]
     },
     "execution_count": 8,
     "metadata": {},
     "output_type": "execute_result"
    }
   ],
   "source": [
    "sphere.col([1,0,0])#.transp()"
   ]
  },
  {
   "cell_type": "code",
   "execution_count": 9,
   "metadata": {},
   "outputs": [],
   "source": [
    "geo = CSGeometry()\n",
    "geo.Add(sphere)\n",
    "geo.Draw()\n",
    "Redraw()\n",
    "\n"
   ]
  },
  {
   "cell_type": "code",
   "execution_count": 10,
   "metadata": {},
   "outputs": [
    {
     "name": "stdout",
     "output_type": "stream",
     "text": [
      "<class 'netgen.libngpy._meshing.Mesh'>\n"
     ]
    }
   ],
   "source": [
    "ngmesh = geo.GenerateMesh()\n",
    "print(type(ngmesh))\n",
    "Redraw()"
   ]
  },
  {
   "cell_type": "markdown",
   "metadata": {},
   "source": [
    "To improve the approximation of curved geometries it is possible to use curved elements. This can be done within NGSolve. Thus we have to convert the Netgen mesh to a NGSolve mesh before curving it."
   ]
  },
  {
   "cell_type": "code",
   "execution_count": 11,
   "metadata": {},
   "outputs": [
    {
     "name": "stdout",
     "output_type": "stream",
     "text": [
      "<class 'ngsolve.comp.Mesh'>\n"
     ]
    }
   ],
   "source": [
    "from ngsolve.comp import Mesh\n",
    "mesh = Mesh(ngmesh)\n",
    "print(type(mesh))\n",
    "Redraw()"
   ]
  },
  {
   "cell_type": "code",
   "execution_count": 12,
   "metadata": {},
   "outputs": [],
   "source": [
    "mesh.Curve(3)\n",
    "Draw(mesh)"
   ]
  },
  {
   "cell_type": "markdown",
   "metadata": {},
   "source": [
    "\n",
    "## Setting the mesh size\n",
    "\n",
    "There are the following options to set the mesh size:\n",
    "\n",
    "- globally as argument maxh of GenerateMesh\n",
    "- to the surface of one solid (maxh property as above mentioned)\n",
    "- for the volume of a solid as optional argument when adding it to the geometry Add(...,bc)\n",
    "- restrict the mesh size for one point using RestrictH\n",
    "- use CloseSurfaces to generate anisotropic meshes\n",
    "\n",
    "### Global mesh size\n",
    "\n",
    "The global mesh size can be set with the named argument maxh. The following two versions are equivalent since all arguments of the of the GenerateMesh function are parsed to the MeshingParameters if no named argument mp is given.\n"
   ]
  },
  {
   "cell_type": "code",
   "execution_count": 13,
   "metadata": {},
   "outputs": [
    {
     "data": {
      "text/plain": [
       "<netgen.libngpy._meshing.Mesh at 0x7fdc000c2928>"
      ]
     },
     "execution_count": 13,
     "metadata": {},
     "output_type": "execute_result"
    }
   ],
   "source": [
    "unit_cube.GenerateMesh(maxh=0.4)\n"
   ]
  },
  {
   "cell_type": "code",
   "execution_count": 14,
   "metadata": {},
   "outputs": [
    {
     "data": {
      "text/plain": [
       "<netgen.libngpy._meshing.Mesh at 0x7fdc000bb5e0>"
      ]
     },
     "execution_count": 14,
     "metadata": {},
     "output_type": "execute_result"
    }
   ],
   "source": [
    "mp = MeshingParameters(maxh=0.4)\n",
    "unit_cube.GenerateMesh(mp = mp)"
   ]
  },
  {
   "cell_type": "markdown",
   "metadata": {},
   "source": [
    "\n",
    "### Mesh size for one solid\n",
    "\n",
    "To set the mesh size for one domain of the mesh we have to add the desired maxh as argument when adding the solid to the geometry\n"
   ]
  },
  {
   "cell_type": "code",
   "execution_count": 15,
   "metadata": {},
   "outputs": [],
   "source": [
    "geo = CSGeometry()\n",
    "\n",
    "brick = OrthoBrick(Pnt(-2,-2,-2),Pnt(2,2,2))\n",
    "sphere = Sphere(Pnt(0,0,0),1)\n",
    "\n",
    "geo.Add(brick-sphere)\n",
    "geo.Add(sphere,maxh=0.1)\n",
    "ngmesh = geo.GenerateMesh(maxh=0.4)"
   ]
  },
  {
   "cell_type": "markdown",
   "metadata": {},
   "source": [
    "\n",
    "### Mesh size on a surface\n",
    "\n",
    "If we want to refine just on a surface we define it as property of the solid.\n"
   ]
  },
  {
   "cell_type": "code",
   "execution_count": 16,
   "metadata": {},
   "outputs": [],
   "source": [
    "geo = CSGeometry()\n",
    "\n",
    "brick = OrthoBrick(Pnt(-2,-2,-2),Pnt(2,2,2))\n",
    "sphere = Sphere(Pnt(0,0,0),1)\n",
    "\n",
    "geo.Add(brick-sphere)\n",
    "geo.Add(sphere.maxh(0.1))\n",
    "ngmesh = geo.GenerateMesh()"
   ]
  },
  {
   "cell_type": "markdown",
   "metadata": {},
   "source": [
    "\n",
    "### Mesh size in points\n",
    "\n",
    "This can be done with the MeshingParameters. Using RestrictH we can define the mesh size in an arbitrary point.\n"
   ]
  },
  {
   "cell_type": "code",
   "execution_count": 17,
   "metadata": {},
   "outputs": [],
   "source": [
    "geo = CSGeometry()\n",
    "\n",
    "brick = OrthoBrick(Pnt(-2,-2,-2),Pnt(2,2,2))\n",
    "sphere = Sphere(Pnt(0,0,0),1)\n",
    "\n",
    "mp = MeshingParameters(maxh=0.4)\n",
    "mp.RestrictH (x=0, y=0, z=1, h=0.025)\n",
    "        \n",
    "geo.Add(brick-sphere)\n",
    "geo.Add(sphere)\n",
    "ngmesh = geo.GenerateMesh(mp = mp)\n"
   ]
  },
  {
   "cell_type": "markdown",
   "metadata": {},
   "source": [
    "\n",
    "### Anisotropic meshes\n",
    "\n",
    "If the geometry contains thin layers we can use CloseSurfaces to avoid elements with small angles.\n"
   ]
  },
  {
   "cell_type": "code",
   "execution_count": 18,
   "metadata": {},
   "outputs": [],
   "source": [
    "from netgen.csg import *\n",
    "\n",
    "geo = CSGeometry()\n",
    "\n",
    "box = OrthoBrick(Pnt(0,0,0),Pnt(1,1,1))\n",
    "top = Plane(Pnt(0,0,0.52),Vec(0,0,1))\n",
    "bot = Plane(Pnt(0,0,0.48),Vec(0,0,-1))\n",
    "plate = box * top * bot\n",
    "\n",
    "geo.Add((box-top).mat(\"air\"))\n",
    "geo.Add(plate.mat(\"plate\"))\n",
    "geo.Add((box-bot).mat(\"air\"))\n",
    "\n",
    "slices = [2**(-i) for i in reversed(range(1,6))]\n",
    "# define the close surfaces\n",
    "geo.CloseSurfaces(bot,top)#,slices)\n",
    "nmesh = geo.GenerateMesh(maxh=0.3)\n",
    "# refine the mesh between the close surfaces\n",
    "# ZRefinement(nmesh,geo)\n",
    "\n"
   ]
  },
  {
   "cell_type": "markdown",
   "metadata": {},
   "source": [
    "\n",
    "## Setting boundary conditions\n",
    "### Boundary condition on the surface of a solid\n",
    "\n",
    "Setting a boundary condition on the whole surface of solid can be achieved by adding it as property to the solid.\n"
   ]
  },
  {
   "cell_type": "code",
   "execution_count": 19,
   "metadata": {},
   "outputs": [],
   "source": [
    "brick = OrthoBrick(Pnt(-2,-2,-2),Pnt(2,2,2)).bc('outer')\n",
    "sphere = Sphere(Pnt(0,0,0),1).bc('sphere')"
   ]
  },
  {
   "cell_type": "markdown",
   "metadata": {},
   "source": [
    "\n",
    "### Modify boundary between two solids\n",
    "\n",
    "This can be done by adding the named argument bcmod when adding the solid to the geometry. Here we change the boundary condition on the surface between the halfsphere and the already added box.\n"
   ]
  },
  {
   "cell_type": "code",
   "execution_count": 20,
   "metadata": {},
   "outputs": [],
   "source": [
    "halfsphere = sphere * Plane(Pnt(0,0,0),Vec(1,0,0)).bc('plane')\n",
    "box = brick-sphere\n",
    "geo = CSGeometry()\n",
    "geo.Add(box.col([1,0,0]).transp())\n",
    "geo.Add(halfsphere.col([0,0,1]),bcmod=[(box,\"halfsphere\")])\n",
    "geo.Draw()"
   ]
  },
  {
   "cell_type": "code",
   "execution_count": 21,
   "metadata": {},
   "outputs": [
    {
     "data": {
      "text/plain": [
       "('outer',\n",
       " 'outer',\n",
       " 'outer',\n",
       " 'outer',\n",
       " 'outer',\n",
       " 'outer',\n",
       " 'sphere',\n",
       " 'halfsphere',\n",
       " 'plane')"
      ]
     },
     "execution_count": 21,
     "metadata": {},
     "output_type": "execute_result"
    }
   ],
   "source": [
    "ngmesh = geo.GenerateMesh()\n",
    "mesh = Mesh(ngmesh)\n",
    "mesh.GetBoundaries()"
   ]
  },
  {
   "cell_type": "markdown",
   "metadata": {},
   "source": [
    "## Notes\n",
    "- It seems that a cylinder in NGSolve has infinite length, even though we specified two points and a radius.  If we just try to mesh it it will fail after using all the memory, but if we intersect it with an orthobrick of the same length, it works.  The points are just to give it an orientation, not a finite length.\n",
    "- It seems that NGSolve has difficulty with intersecting solids when the region of intersection consists of too few points.  For example, intersecting a cylinder with an orthobox is fine, but intersecting two cylinders of the same radius with perpendicular axes fails.  If we make the radius of one cylinder slightly larger, it works."
   ]
  },
  {
   "cell_type": "markdown",
   "metadata": {},
   "source": [
    "## Undocumented Features from Forum\n",
    "It is possible to rotate a solid like this:"
   ]
  },
  {
   "cell_type": "code",
   "execution_count": 1,
   "metadata": {},
   "outputs": [
    {
     "name": "stdout",
     "output_type": "stream",
     "text": [
      "Pnt(1,0,0) =  (3, 1, 0)\n",
      "Vec(0,0,1) =  (1, 0, 0)\n"
     ]
    }
   ],
   "source": [
    "from netgen.meshing import *\n",
    "from netgen.csg import *\n",
    "\n",
    "def MakeCylinder(a, b, r):\n",
    "    cyl = Cylinder(a, b, r)\n",
    "    top = Plane(b, b-a)\n",
    "    bot = Plane(a, a-b)\n",
    "    return cyl*top*bot\n",
    "\n",
    "geom = CSGeometry()\n",
    "\n",
    "cyl1 = MakeCylinder(Pnt(0,0,0), Pnt(1,0,0), 0.5)\n",
    "\n",
    "# define coordinate system with origin and unit vectors ex, ey, ez \n",
    "SetTransformation(Pnt(3,0,0), Vec(0,1,0), Vec(0,0,1), Vec(1,0,0))\n",
    "\n",
    "cyl2 = MakeCylinder(Pnt(0,0,0), Pnt(1,0,0), 0.5)\n",
    "\n",
    "geom.Add(cyl1+cyl2)\n",
    "geom.Draw()\n",
    "\n",
    "print (\"Pnt(1,0,0) = \", Pnt(1,0,0))\n",
    "print (\"Vec(0,0,1) = \", Vec(0,0,1))\n",
    "\n",
    "\n"
   ]
  },
  {
   "cell_type": "code",
   "execution_count": null,
   "metadata": {},
   "outputs": [],
   "source": []
  }
 ],
 "metadata": {
  "kernelspec": {
   "display_name": "Python 3",
   "language": "python",
   "name": "python3"
  },
  "language_info": {
   "codemirror_mode": {
    "name": "ipython",
    "version": 3
   },
   "file_extension": ".py",
   "mimetype": "text/x-python",
   "name": "python",
   "nbconvert_exporter": "python",
   "pygments_lexer": "ipython3",
   "version": "3.6.5"
  }
 },
 "nbformat": 4,
 "nbformat_minor": 2
}
