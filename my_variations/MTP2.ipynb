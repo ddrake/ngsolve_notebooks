{
 "cells": [
  {
   "cell_type": "code",
   "execution_count": 1,
   "metadata": {
    "collapsed": true
   },
   "outputs": [],
   "source": [
    "%gui tk\n",
    "from netgen import gui\n",
    "#from netgen.geom2d import unit_square\n",
    "from netgen import geom2d\n",
    "from netgen.meshing import *"
   ]
  },
  {
   "cell_type": "code",
   "execution_count": 2,
   "metadata": {},
   "outputs": [],
   "source": [
    "# global mesh\n",
    "geo = geom2d.SplineGeometry()\n",
    "p1,p2,p3,p4 = [ geo.AppendPoint(x,y) for x,y in [(0,0), (1,0), (1,1), (0,1)] ]\n",
    "geo.Append ([\"line\", p1, p2], leftdomain=1, rightdomain=0)\n",
    "geo.Append ([\"line\", p2, p3], leftdomain=1, rightdomain=0)\n",
    "geo.Append ([\"line\", p3, p4], leftdomain=1, rightdomain=0)\n",
    "geo.Append ([\"line\", p4, p1], leftdomain=1, rightdomain=0)\n"
   ]
  },
  {
   "cell_type": "code",
   "execution_count": 7,
   "metadata": {
    "collapsed": true
   },
   "outputs": [],
   "source": [
    "msh = geo.GenerateMesh(maxh=.2)"
   ]
  },
  {
   "cell_type": "code",
   "execution_count": 3,
   "metadata": {
    "collapsed": true
   },
   "outputs": [],
   "source": [
    "# map each vertex to a list of its adjacent elements\n",
    "def vmap(msh):\n",
    "    vs = {}\n",
    "    for e in msh.Elements2D():\n",
    "        for v in e.vertices:\n",
    "            es = vs.get(v.nr)\n",
    "            if es:\n",
    "                es.append(e)\n",
    "            else:\n",
    "                vs[v.nr] = [e]\n",
    "    return vs   \n",
    "\n",
    "# return a set of the unique vertices for each vertex patch\n",
    "def vsets(vmap):\n",
    "    vsets_dict = {}\n",
    "    for v in vmap.keys():\n",
    "        vset = set([v1 for e in vmap[v] for v1 in e.vertices])\n",
    "        vsets_dict[v] = vset\n",
    "    return vsets_dict\n"
   ]
  },
  {
   "cell_type": "code",
   "execution_count": 4,
   "metadata": {
    "collapsed": true
   },
   "outputs": [],
   "source": [
    "# takes a list of points representing the boundary of the vertex patch\n",
    "# returns a geometry\n",
    "def add_bnd_to_geom(bnd, geo):\n",
    "    ps = [geo.AppendPoint(*v) for v in bnd]\n",
    "    for i in range(len(ps)-1):\n",
    "        geo.Append ([\"line\", ps[i],ps[i+1]], leftdomain=2, rightdomain = 1)\n",
    "    geo.Append([\"line\", ps[-1],ps[0]], leftdomain=2, rightdomain = 1)\n",
    "\n",
    "\n",
    "# takes a list of 'elements' where each 'element' is an ordered list of vertex nrs\n",
    "# the first n-1 elements are triangles, the last is a polygon\n",
    "# returns an ordered list of boundary vertices (polygon)\n",
    "def make_boundary(els, center):\n",
    "    if len(els) == 0: raise ArgumentError(\"make_boundary\")\n",
    "    if len(els) == 1: return els[0]\n",
    "    poly = els.pop()\n",
    "    e, v1, v2, rest = find_common(poly, els)\n",
    "    if v1 == None:\n",
    "        poly.remove(center)\n",
    "        return poly\n",
    "    \n",
    "    merged = merge_two(poly,e,v1,v2)\n",
    "    rest.append(merged)\n",
    "    return make_boundary(rest, center)\n",
    "\n",
    "\n",
    "# takes a polygon and a list of at least two triangles \n",
    "# and extracts the first triangle found which shares an edge with the polygon\n",
    "def find_common(poly, els):\n",
    "    e, v1, v2 = find_match(poly, els)\n",
    "    els.remove(e)\n",
    "    return e, v1, v2, els\n",
    "\n",
    "# takes a polygon and a list of triangles, at least one of which has an edge in common with the given polygon\n",
    "# returns a matching triangle along with the two common vertices\n",
    "def find_match(poly, els):\n",
    "    for e in els:\n",
    "        if e[0] in poly and e[1] in poly and e[2] in poly:\n",
    "            return e, None, None\n",
    "        if e[0] in poly and e[1] in poly:\n",
    "            return e, e[0],e[1]\n",
    "        if e[0] in poly and e[2] in poly:\n",
    "            return e, e[0],e[2]\n",
    "        if e[1] in poly and e[2] in poly:\n",
    "            return e, e[1],e[2]\n",
    "    raise ArgumentError(\"find_match\")\n",
    "    \n",
    "# given two elements and their common vertices, \n",
    "# return a merged element representing the boundary of the pair\n",
    "def merge_two(poly, e, v1, v2):\n",
    "    i1 = poly.index(v1)\n",
    "    i2 = poly.index(v2)\n",
    "    e.remove(v1)\n",
    "    e.remove(v2)\n",
    "    if i2-i1 == 1: return poly[:i1+1]+e+poly[i2:]\n",
    "    elif i1-i2 == 1: return poly[:i2+1]+e+poly[i1:]\n",
    "    else: return poly + e"
   ]
  },
  {
   "cell_type": "code",
   "execution_count": 5,
   "metadata": {
    "scrolled": true
   },
   "outputs": [
    {
     "data": {
      "text/plain": [
       "[[34, 37, 35],\n",
       " [32, 34, 35],\n",
       " [26, 27, 35],\n",
       " [27, 32, 35],\n",
       " [26, 35, 31],\n",
       " [31, 35, 36],\n",
       " [35, 37, 36]]"
      ]
     },
     "execution_count": 5,
     "metadata": {},
     "output_type": "execute_result"
    }
   ],
   "source": [
    "# generate dict mapping vertices to adjoining elements\n",
    "vm = vmap(msh)\n",
    "# generate dict mapping each vertex to the set of vertices in the patch\n",
    "vs = vsets(vm)\n",
    "# the current vertex number\n",
    "v = 35\n",
    "\n",
    "# elements for the current vertex\n",
    "els = vm[v]\n",
    "\n",
    "# vertex set for the current vertex\n",
    "vset = vs[v]\n",
    "# ordered list of points in the global mesh\n",
    "pts = [p for p in msh.Points()]\n",
    "\n",
    "# first make a list of sublists, each of which contains the vertex indices of one element\n",
    "vs = [[v.nr for v in el.vertices] for el in els]\n",
    "vs"
   ]
  },
  {
   "cell_type": "code",
   "execution_count": 6,
   "metadata": {},
   "outputs": [],
   "source": [
    "# construct a boundary polygon from this list\n",
    "bndnums = make_boundary(vs, v)\n",
    "# map the vertex numbers of the polygon to 3D points\n",
    "bndpts = [pts[v - 1] for v in bndnums]\n",
    "vs,bndnums\n",
    "# make the local geometry\n",
    "add_bnd_to_geom(bndpts, geo)\n",
    "msh.SetGeometry(geo)\n"
   ]
  }
 ],
 "metadata": {
  "kernelspec": {
   "display_name": "Python 3",
   "language": "python",
   "name": "python3"
  },
  "language_info": {
   "codemirror_mode": {
    "name": "ipython",
    "version": 3
   },
   "file_extension": ".py",
   "mimetype": "text/x-python",
   "name": "python",
   "nbconvert_exporter": "python",
   "pygments_lexer": "ipython3",
   "version": "3.5.2"
  }
 },
 "nbformat": 4,
 "nbformat_minor": 2
}
