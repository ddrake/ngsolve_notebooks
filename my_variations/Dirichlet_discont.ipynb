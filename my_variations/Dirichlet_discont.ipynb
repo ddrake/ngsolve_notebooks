{
 "cells": [
  {
   "cell_type": "markdown",
   "metadata": {},
   "source": [
    "# Dirichlet boundary conditions (Unit 1.3)\n",
    "\n",
    "This section shows how to solve the Dirichlet problem\n",
    "$$−\\Delta u=f \\text{ in } \\Omega$$\n",
    "\n",
    "with a nonhomogeneous Dirichlet boundary condition $u|_{\\Gamma_D}=g$ on a boundary part $\\Gamma_D$.\n",
    "#### The extension technique\n",
    "\n",
    "We use the standard technique of reducing a problem with essential non-homogeneous boundary conditions to one with homogeneous boundary condition using an extension. The solution $u$ in $H^1$ satisfies\n",
    "$$u|_{\\Gamma_D}=g$$ and \n",
    "$$\\int_\\Omega \\nabla u \\cdot \\nabla v_0 = \\int_\\Omega f v_0$$ \n",
    "for all $v_0 \\in H_{0,D}^1=\\lbrace v \\in H^1:v_|\\Gamma_D=0\\rbrace.$\n",
    "\n",
    "Split the solution\n",
    "$$u=u_0+u_D$$\n",
    "where $u_D$ is an extension of $g$ into $\\Omega$. Then we only need to find $u_0$ in $H_{0,D}^1$ satisfying the homogeneous Dirichlet problem\n",
    "$$\\int_\\Omega \\nabla u_0 \\cdot \\nabla v_0 = \\int_\\Omega f v_0 - \\int_\\Omega \\nabla u_D \\cdot \\nabla v_0$$\n",
    "for all $v_0$ in $H_{0,D}^1$.\n",
    "\n",
    "#### Issues to consider\n",
    "\n",
    "- How to define an extension $u_D$ in the finite element space?\n",
    "- How to form and solve the system for $u_0$?\n"
   ]
  },
  {
   "cell_type": "code",
   "execution_count": 1,
   "metadata": {},
   "outputs": [],
   "source": [
    "import netgen.gui\n",
    "%gui tk\n",
    "from ngsolve import *\n",
    "from netgen.geom2d import unit_square"
   ]
  },
  {
   "cell_type": "code",
   "execution_count": 2,
   "metadata": {},
   "outputs": [
    {
     "data": {
      "text/plain": [
       "('bottom', 'right', 'top', 'left')"
      ]
     },
     "execution_count": 2,
     "metadata": {},
     "output_type": "execute_result"
    }
   ],
   "source": [
    "mesh = Mesh(unit_square.GenerateMesh(maxh=0.2))\n",
    "mesh.GetBoundaries()"
   ]
  },
  {
   "cell_type": "markdown",
   "metadata": {},
   "source": [
    "The unit_square has its boundaries marked as left, right, top and bottom. Suppose we want non-homogeneous Dirichlet boundary conditions on\n",
    "$$ \\Gamma_D = \\Gamma_{left} \\cup \\Gamma_{right}\\cup \\Gamma_{top}.$$\n",
    "Then, we set the space as follows:"
   ]
  },
  {
   "cell_type": "code",
   "execution_count": 44,
   "metadata": {},
   "outputs": [],
   "source": [
    "fes = H1(mesh, order=3, dirichlet='left|top|right')"
   ]
  },
  {
   "cell_type": "code",
   "execution_count": 18,
   "metadata": {},
   "outputs": [],
   "source": [
    "fs2 = H1(mesh, order=2)"
   ]
  },
  {
   "cell_type": "code",
   "execution_count": 19,
   "metadata": {},
   "outputs": [
    {
     "data": {
      "text/plain": [
       "(388, 180)"
      ]
     },
     "execution_count": 19,
     "metadata": {},
     "output_type": "execute_result"
    }
   ],
   "source": [
    "fes.ndof, fs2.ndof"
   ]
  },
  {
   "cell_type": "markdown",
   "metadata": {},
   "source": [
    "Thus, the dirichlet flag did not change ndof. In NGSolve the unknowns are split into two groups:\n",
    "\n",
    "- dirichlet dofs (or constrained dofs),\n",
    "- free dofs.\n",
    "\n",
    "The facility FreeDofs gives a BitArray such that FreeDofs $[\\text{dof}]$ is True iff dof is a free degree of freedom.\n"
   ]
  },
  {
   "cell_type": "code",
   "execution_count": 20,
   "metadata": {},
   "outputs": [
    {
     "name": "stdout",
     "output_type": "stream",
     "text": [
      "fs2 free dofs:  0: 11111111111111111111111111111111111111111111111111\n",
      "50: 11111111111111111111111111111111111111111111111111\n",
      "100: 11111111111111111111111111111111111111111111111111\n",
      "150: 111111111111111111111111111111\n",
      "fes free dofs:  0: 00001111000000000000111111111111111111111111111101\n",
      "50: 11100110011000000001111111111111111111111001111001\n",
      "100: 11100110011110011110011110011110011111111111111111\n",
      "150: 11111111111111111111111111111111111111111111111111\n",
      "200: 11111111111111111111111111111111100001111111111111\n",
      "250: 11111111111111111111111111111111111111111111111111\n",
      "300: 11111111111111111111111111111111111111111111111111\n",
      "350: 11111111111111111111111111111111111111\n"
     ]
    }
   ],
   "source": [
    "print(\"fs2 free dofs: \", fs2.FreeDofs())\n",
    "print(\"fes free dofs: \", fes.FreeDofs())"
   ]
  },
  {
   "cell_type": "markdown",
   "metadata": {},
   "source": [
    "\n",
    "- The space fs2 without dirichlet flag has only free dofs (no dirichlet dofs).\n",
    "\n",
    "- The other space fes has a few dofs that are marked as not free. These are the dofs that are located on the boundary regions we marked as dirichlet.\n",
    "\n",
    "### Forms and assembly\n",
    "\n",
    "In NGSolve, bilinear and linear forms are defined independently of the dirichlet flags. Matrices and vectors are set up with respect to all unknowns (free or constrained) so they may be restricted to any group of unknowns later.\n",
    "\n"
   ]
  },
  {
   "cell_type": "code",
   "execution_count": 45,
   "metadata": {},
   "outputs": [],
   "source": [
    "u = fes.TrialFunction()\n",
    "v = fes.TestFunction()\n",
    "\n",
    "a = BilinearForm(fes, symmetric=True)\n",
    "a += SymbolicBFI(grad(u)*grad(v))\n",
    "a.Assemble()\n"
   ]
  },
  {
   "cell_type": "markdown",
   "metadata": {},
   "source": [
    "If $A$= a.mat is the matrix just assembled, then we want to solve for\n",
    "$$ A(u_0+u_D)=f \\rightarrow Au_0=f−Au_D$$\n",
    "or\n",
    "$$\n",
    "\\left(\n",
    "\\begin{array}[cc]\n",
    "\\ A_{FF} & A_{FD} \\\\\n",
    "A_{DF} & A_{DD}\n",
    "\\end{array}\n",
    "\\right)\n",
    "\\left(\n",
    "\\begin{array}[c]\n",
    "\\ u_{0,F} \\\\\n",
    "0\n",
    "\\end{array}\n",
    "\\right)\n",
    "=\n",
    "\\left(\n",
    "\\begin{array}[c]\n",
    "\\ f_F \\\\\n",
    "f_D\n",
    "\\end{array}\n",
    "\\right)\n",
    "-\n",
    "\\left(\n",
    "\\begin{array}[cc]\n",
    "\\ A_{FF} & A_{FD} \\\\\n",
    "A_{DF} & A_{DD}\n",
    "\\end{array}\n",
    "\\right)\n",
    "\\left(\n",
    "\\begin{array}[c]\n",
    "\\ u_{D,F} \\\\\n",
    "u_{D,D}\n",
    "\\end{array}\n",
    "\\right)\n",
    "$$\n",
    "\n",
    "where we have block partitioned using free dofs (F) and dirichlet dofs (D) as if they were numbered consecutively (which is typically not true). The first row gives\n",
    "$$A_{FF}u_{0,F}=f_F−[Au_D]_F.$$\n",
    "\n",
    "Hence, we need to:\n",
    "\n",
    "- Construct $u_D$ from $g$.\n",
    "- Set up the right hand side from $f$ and $u_D$.\n",
    "- Solve a linear system which involves only $A_{FF}$.\n",
    "- Add solution: $u=u_0+u_D$.\n",
    "\n",
    "\n",
    "### Extending the boundary values\n",
    "\n",
    "Suppose we are given that\n",
    "$$g=sin(y) \\text{ on }\\Gamma_D.$$"
   ]
  },
  {
   "cell_type": "code",
   "execution_count": 46,
   "metadata": {},
   "outputs": [],
   "source": [
    "g = IfPos(y-0.9999999,1,-1)"
   ]
  },
  {
   "cell_type": "markdown",
   "metadata": {},
   "source": [
    "We interpolate $g$ on the boundary of the domain and extend trivially to $\\Omega$ as follows:"
   ]
  },
  {
   "cell_type": "code",
   "execution_count": 47,
   "metadata": {},
   "outputs": [],
   "source": [
    "gfu = GridFunction(fes)\n",
    "gfu.Set(g,BND)\n",
    "Draw(gfu)"
   ]
  },
  {
   "cell_type": "markdown",
   "metadata": {},
   "source": [
    "\n",
    "The keyword BND tells Set that $g$ need only be interpolated on those parts of the boundary that are marked dirichlet.\n",
    "### Solve for the free dofs\n",
    "\n",
    "We need to assemble the right hand side of $A_{FF}u_{0,F} = f_F−[Au_D]_F,$ namely\n",
    "$$r=f−Au_D.$$"
   ]
  },
  {
   "cell_type": "code",
   "execution_count": 48,
   "metadata": {},
   "outputs": [],
   "source": [
    "f = LinearForm(fes)\n",
    "f += SymbolicLFI(1*v)\n",
    "f.Assemble()\n",
    "\n",
    "r = f.vec.CreateVector()\n",
    "r.data = f.vec - a.mat * gfu.vec"
   ]
  },
  {
   "cell_type": "markdown",
   "metadata": {},
   "source": [
    "The implementation of\n",
    "$$\n",
    "u=u_D + \\left(\n",
    "\\begin{array}[cc]\n",
    "\\ A_{FF}^{−1} & 0 \\\\\n",
    "\\ 0 & 0\n",
    "\\end{array}\n",
    "\\right) r\n",
    "$$\n",
    "by sparse solvers is achieved by the following:"
   ]
  },
  {
   "cell_type": "code",
   "execution_count": 49,
   "metadata": {},
   "outputs": [],
   "source": [
    "gfu.vec.data += a.mat.Inverse(freedofs=fes.FreeDofs()) * r\n",
    "Redraw()"
   ]
  },
  {
   "cell_type": "code",
   "execution_count": 50,
   "metadata": {},
   "outputs": [],
   "source": [
    "space_flux = HDiv(mesh, order=2)\n",
    "gf_flux = GridFunction(space_flux, \"flux\")\n",
    "\n",
    "flux = grad(gfu)\n",
    "gf_flux.Set(flux)\n"
   ]
  },
  {
   "cell_type": "code",
   "execution_count": 51,
   "metadata": {},
   "outputs": [],
   "source": [
    "err = (flux-gf_flux)*(flux-gf_flux)\n",
    "Draw(err, mesh, 'error_representation')"
   ]
  },
  {
   "cell_type": "code",
   "execution_count": 52,
   "metadata": {},
   "outputs": [
    {
     "name": "stdout",
     "output_type": "stream",
     "text": [
      " 2.86272e-08\n",
      " 1.435e-07\n",
      " 2.3303e-08\n",
      " 2.91578e-07\n",
      " 7.76849e-09\n",
      " 5.80117e-08\n",
      " 3.22946e-09\n",
      " 1.08722e-08\n",
      " 5.49743e-09\n",
      " 2.6235e-07\n",
      " 6.31922e-08\n",
      " 1.04817e-06\n",
      " 6.08755e-07\n",
      " 1.02563e-07\n",
      " 5.44409e-07\n",
      " 0.00590546\n",
      " 9.21339e-09\n",
      " 7.19263e-07\n",
      " 4.16108e-06\n",
      " 1.38125e-07\n",
      " 3.55434e-06\n",
      " 0.0092701\n",
      " 2.27523e-08\n",
      " 0.00875281\n",
      " 3.29507e-07\n",
      " 1.06443e-06\n",
      " 2.81435e-07\n",
      " 6.24018e-08\n",
      " 7.22527e-08\n",
      " 2.01753e-07\n",
      " 2.73412e-07\n",
      " 4.28509e-08\n",
      " 4.65276e-07\n",
      " 7.65455e-08\n",
      " 4.60008e-07\n",
      " 4.82798e-08\n",
      " 1.05917e-07\n",
      " 6.19638e-07\n",
      " 9.07101e-08\n",
      " 1.30149e-07\n",
      " 5.71779e-07\n",
      " 2.89304e-07\n",
      " 3.23891e-06\n",
      " 3.06831e-06\n",
      " 9.13855e-07\n",
      " 3.20079e-07\n",
      " 1.08255e-06\n",
      " 1.30541e-07\n",
      " 1.42279e-07\n",
      " 4.00908e-08\n",
      " 1.00542e-07\n",
      " 6.68447e-07\n",
      " 1.30131e-07\n",
      " 1.71746e-06\n",
      " 5.17123e-06\n",
      " 5.31868e-07\n",
      " 3.96054e-08\n",
      " 2.26547e-07\n",
      " 1.75912e-07\n",
      " 0.00590478\n",
      " 1.31627e-06\n",
      " 2.91656e-07\n",
      " 1.8997e-07\n",
      " 1.64111e-07\n",
      " 5.87892e-07\n",
      " 3.45172e-07\n",
      " 3.72792e-07\n",
      " 8.38847e-09\n",
      " 1.85925e-06\n",
      " 1.77937e-07\n",
      " 7.78936e-07\n",
      " 1.74569e-06\n",
      " 3.97895e-08\n",
      " 1.80083e-06\n",
      " 3.29574e-08\n",
      " 2.09632e-07\n",
      " 1.60785e-07\n",
      " 5.51377e-09\n",
      " 4.03045e-08\n",
      " 7.98664e-09\n",
      " 1.26557e-07\n",
      " 1.07373e-06\n",
      " 6.83992e-08\n",
      " 1.01982e-08\n",
      " 5.62524e-08\n",
      " 7.31978e-07\n",
      " 5.64014e-08\n",
      " 1.72901e-07\n",
      " 8.92414e-08\n",
      " 2.62197e-07\n",
      " 4.06338e-07\n",
      " 7.82664e-08\n",
      " 2.55386e-05\n",
      " 1.56974e-08\n",
      " 4.10327e-07\n",
      " 2.33131e-06\n",
      " 6.68136e-07\n",
      " 7.70534e-09\n",
      " 7.46557e-07\n",
      " 1.69132e-06\n",
      " 1.30315e-08\n",
      " 6.32011e-07\n",
      " 1.93494e-07\n",
      " 2.04977e-08\n",
      " 9.89428e-08\n",
      " 1.13916e-06\n",
      " 4.94758e-07\n",
      " 8.1102e-08\n",
      " 3.20707e-07\n",
      " 4.05023e-07\n",
      " 4.08913e-08\n",
      " 6.35239e-07\n",
      " 1.15078e-07\n",
      " 5.25805e-05\n",
      " 1.82034e-07\n",
      " 7.97867e-08\n",
      " 7.38553e-08\n",
      " 6.74691e-08\n",
      " 3.11126e-08\n",
      " 1.60293e-07\n",
      " 7.58685e-09\n",
      " 1.20269e-06\n",
      " 3.45576e-07\n",
      " 2.11473e-08\n",
      " 6.75933e-08\n",
      " 7.29347e-07\n",
      " 7.40456e-08\n",
      " 1.47509e-07\n",
      " 1.14442e-08\n",
      " 2.36804e-07\n",
      " 5.31293e-08\n",
      " 8.57142e-08\n",
      " 1.60569e-07\n",
      " 4.14363e-07\n",
      " 1.17493e-06\n",
      " 2.22868e-07\n",
      " 1.42693e-07\n",
      " 5.00268e-09\n",
      " 1.92517e-05\n",
      " 1.81391e-08\n",
      " 2.03126e-08\n",
      " 3.10669e-07\n",
      " 8.51809e-08\n",
      " 5.41868e-07\n",
      " 2.47526e-07\n",
      " 1.22874e-05\n",
      " 0.000326673\n",
      " 8.20678e-08\n",
      " 1.1501e-06\n",
      " 5.26003e-05\n",
      " 1.67755e-06\n",
      " 1.17234e-07\n",
      " 3.21668e-07\n",
      " 0.00979671\n",
      " 0.00919805\n",
      " 4.78747e-07\n",
      " 4.56975e-07\n",
      " 4.16204e-08\n",
      " 1.6864e-05\n",
      " 4.55815e-07\n",
      " 2.6299e-07\n",
      " 0.000361799\n",
      " 1.56192e-05\n",
      " 1.13755e-07\n",
      " 3.52495e-07\n",
      " 1.68531e-05\n",
      " 6.46577e-08\n",
      " 1.34542e-07\n",
      " 1.22222e-06\n",
      " 0.000918009\n",
      " 1.08844e-07\n",
      " 0.0141021\n",
      " 3.95002e-07\n",
      " 1.2093e-07\n",
      " 5.32938e-07\n",
      " 1.39445e-07\n",
      " 4.24732e-07\n",
      " 6.46465e-08\n",
      " 2.45538e-07\n",
      " 1.16105e-07\n",
      " 1.69318e-07\n",
      " 1.43899e-07\n",
      " 1.42638e-07\n",
      " 1.31884e-07\n",
      " 9.37029e-08\n",
      " 0.0141054\n",
      " 0.000917928\n",
      "\n"
     ]
    }
   ],
   "source": [
    "eta2 = Integrate(err, mesh, VOL, element_wise=True)\n",
    "print(eta2)\n"
   ]
  },
  {
   "cell_type": "code",
   "execution_count": 53,
   "metadata": {},
   "outputs": [
    {
     "name": "stdout",
     "output_type": "stream",
     "text": [
      "maxerr =  0.014105350402221637\n"
     ]
    }
   ],
   "source": [
    "maxerr = max(eta2)\n",
    "print (\"maxerr = \", maxerr)\n",
    "\n",
    "for el in mesh.Elements():\n",
    "    mesh.SetRefinementFlag(el, eta2[el.nr] > 0.25*maxerr)\n",
    "    \n",
    "Draw(gfu)"
   ]
  },
  {
   "cell_type": "code",
   "execution_count": 54,
   "metadata": {},
   "outputs": [
    {
     "data": {
      "image/png": "[encoded data removed]",
      "text/plain": [
       "<Figure size 432x288 with 1 Axes>"
      ]
     },
     "metadata": {},
     "output_type": "display_data"
    }
   ],
   "source": [
    "from numpy import linspace\n",
    "from matplotlib import pyplot as plt\n",
    "%matplotlib inline\n",
    "pts =[(x,gfu(x,1)) for x in linspace(0,1,1000)]\n",
    "xs, ys = zip(*pts)\n",
    "plt.plot(xs,ys)\n",
    "plt.show()"
   ]
  },
  {
   "cell_type": "code",
   "execution_count": 43,
   "metadata": {},
   "outputs": [],
   "source": [
    "mesh.Refine()"
   ]
  },
  {
   "cell_type": "markdown",
   "metadata": {},
   "source": [
    "Using BVP\n",
    "\n",
    "NGSolve also provides a BVP facility, within which the above steps are performed automatically. You provide $A$, $f$, a grid function gfu with the boundary condition, and a preconditioner. Then BVP solves the problem with non-homogeneous Dirichlet boundary condition and overwrites gfu with the solution."
   ]
  },
  {
   "cell_type": "code",
   "execution_count": 12,
   "metadata": {},
   "outputs": [],
   "source": [
    "c = Preconditioner(a,\"local\")   #<- Jacobi preconditioner\n",
    "#c = Preconditioner(a,\"direct\") #<- sparse direct solver\n",
    "c.Update()\n",
    "BVP(bf=a,lf=f,gf=gfu,pre=c).Do()\n",
    "Redraw()\n"
   ]
  }
 ],
 "metadata": {
  "kernelspec": {
   "display_name": "Python 3",
   "language": "python",
   "name": "python3"
  },
  "language_info": {
   "codemirror_mode": {
    "name": "ipython",
    "version": 3
   },
   "file_extension": ".py",
   "mimetype": "text/x-python",
   "name": "python",
   "nbconvert_exporter": "python",
   "pygments_lexer": "ipython3",
   "version": "3.6.5"
  }
 },
 "nbformat": 4,
 "nbformat_minor": 2
}
