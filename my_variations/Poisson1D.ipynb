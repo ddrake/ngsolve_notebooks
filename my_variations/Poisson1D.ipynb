{
 "cells": [
  {
   "cell_type": "code",
   "execution_count": 1,
   "metadata": {
    "collapsed": true
   },
   "outputs": [],
   "source": [
    "import netgen.gui\n",
    "%gui tk\n",
    "import netgen.meshing as msh\n",
    "from ngsolve import *"
   ]
  },
  {
   "cell_type": "code",
   "execution_count": 2,
   "metadata": {},
   "outputs": [],
   "source": [
    "m1d = msh.Mesh(dim=1)\n",
    "n = 50\n",
    "pids = [m1d.Add(msh.MeshPoint(msh.Pnt(i/n+1,0,0))) for i in range(n+1)]\n",
    "for i in range(n):\n",
    "    m1d.Add(msh.Element1D([pids[i],pids[i+1]],index=1))\n",
    "m1d.Add (msh.Element0D( pids[0], index=1))\n",
    "m1d.Add (msh.Element0D( pids[n], index=2))\n",
    "\n",
    "# The periodic example adds point identification with type periodic.  \n",
    "# We don't want to do that here. I'm not sure if we need any identifications here.\n",
    "# I don't know how to see the identifications in Python\n",
    "\n",
    "# m1d.AddPointIdentification(pids[0],pids[n],1,4) \n",
    "# takes two points, and identification number and a type\n",
    "#    enum ID_TYPE { UNDEFINED = 1, PERIODIC = 2, CLOSESURFACES = 3, CLOSEEDGES = 4};\n",
    "# from meshtype.hpp\n"
   ]
  },
  {
   "cell_type": "code",
   "execution_count": 3,
   "metadata": {
    "collapsed": true
   },
   "outputs": [],
   "source": [
    "mesh = Mesh(m1d)"
   ]
  },
  {
   "cell_type": "code",
   "execution_count": 4,
   "metadata": {},
   "outputs": [
    {
     "data": {
      "text/plain": [
       "51"
      ]
     },
     "execution_count": 4,
     "metadata": {},
     "output_type": "execute_result"
    }
   ],
   "source": [
    "fes = H1(mesh, order=1, dirichlet=[1,2])\n",
    "fes.ndof\n"
   ]
  },
  {
   "cell_type": "code",
   "execution_count": 5,
   "metadata": {
    "collapsed": true
   },
   "outputs": [],
   "source": [
    "u = fes.TrialFunction()\n",
    "v = fes.TestFunction()\n",
    "gfu = GridFunction(fes)\n",
    "f = CoefficientFunction(1)\n",
    "\n",
    "a = BilinearForm(fes, symmetric=False)\n",
    "a += SymbolicBFI(grad(u)*grad(v))\n",
    "a.Assemble()\n",
    "\n",
    "b = LinearForm(fes)\n",
    "b += SymbolicLFI(f*v)\n",
    "b.Assemble()\n"
   ]
  },
  {
   "cell_type": "code",
   "execution_count": 6,
   "metadata": {},
   "outputs": [
    {
     "name": "stdout",
     "output_type": "stream",
     "text": [
      "Row 0:   0: 50   1: -50\n",
      "Row 1:   0: -50   1: 100   2: -50\n",
      "Row 2:   1: -50   2: 100   3: -50\n",
      "Row 3:   2: -50   3: 100   4: -50\n",
      "Row 4:   3: -50   4: 100   5: -50\n",
      "Row 5:   4: -50   5: 100   6: -50\n",
      "Row 6:   5: -50   6: 100   7: -50\n",
      "Row 7:   6: -50   7: 100   8: -50\n",
      "Row 8:   7: -50   8: 100   9: -50\n",
      "Row 9:   8: -50   9: 100   10: -50\n",
      "Row 10:   9: -50   10: 100   11: -50\n",
      "Row 11:   10: -50   11: 100   12: -50\n",
      "Row 12:   11: -50   12: 100   13: -50\n",
      "Row 13:   12: -50   13: 100   14: -50\n",
      "Row 14:   13: -50   14: 100   15: -50\n",
      "Row 15:   14: -50   15: 100   16: -50\n",
      "Row 16:   15: -50   16: 100   17: -50\n",
      "Row 17:   16: -50   17: 100   18: -50\n",
      "Row 18:   17: -50   18: 100   19: -50\n",
      "Row 19:   18: -50   19: 100   20: -50\n",
      "Row 20:   19: -50   20: 100   21: -50\n",
      "Row 21:   20: -50   21: 100   22: -50\n",
      "Row 22:   21: -50   22: 100   23: -50\n",
      "Row 23:   22: -50   23: 100   24: -50\n",
      "Row 24:   23: -50   24: 100   25: -50\n",
      "Row 25:   24: -50   25: 100   26: -50\n",
      "Row 26:   25: -50   26: 100   27: -50\n",
      "Row 27:   26: -50   27: 100   28: -50\n",
      "Row 28:   27: -50   28: 100   29: -50\n",
      "Row 29:   28: -50   29: 100   30: -50\n",
      "Row 30:   29: -50   30: 100   31: -50\n",
      "Row 31:   30: -50   31: 100   32: -50\n",
      "Row 32:   31: -50   32: 100   33: -50\n",
      "Row 33:   32: -50   33: 100   34: -50\n",
      "Row 34:   33: -50   34: 100   35: -50\n",
      "Row 35:   34: -50   35: 100   36: -50\n",
      "Row 36:   35: -50   36: 100   37: -50\n",
      "Row 37:   36: -50   37: 100   38: -50\n",
      "Row 38:   37: -50   38: 100   39: -50\n",
      "Row 39:   38: -50   39: 100   40: -50\n",
      "Row 40:   39: -50   40: 100   41: -50\n",
      "Row 41:   40: -50   41: 100   42: -50\n",
      "Row 42:   41: -50   42: 100   43: -50\n",
      "Row 43:   42: -50   43: 100   44: -50\n",
      "Row 44:   43: -50   44: 100   45: -50\n",
      "Row 45:   44: -50   45: 100   46: -50\n",
      "Row 46:   45: -50   46: 100   47: -50\n",
      "Row 47:   46: -50   47: 100   48: -50\n",
      "Row 48:   47: -50   48: 100   49: -50\n",
      "Row 49:   48: -50   49: 100   50: -50\n",
      "Row 50:   49: -50   50: 50\n",
      "\n"
     ]
    }
   ],
   "source": [
    "# this matrix is exactly the same as in Claes Johnson, except for the (0,0) and (50,50) entries\n",
    "# these are 1/2 of the value calculated there.\n",
    "# I think this is the correct matrix -- the boundary elements are not correctly integrated in the book.\n",
    "print(a.mat)"
   ]
  },
  {
   "cell_type": "code",
   "execution_count": 7,
   "metadata": {},
   "outputs": [
    {
     "name": "stdout",
     "output_type": "stream",
     "text": [
      "    0.01\n",
      "    0.02\n",
      "    0.02\n",
      "    0.02\n",
      "    0.02\n",
      "    0.02\n",
      "    0.02\n",
      "    0.02\n",
      "    0.02\n",
      "    0.02\n",
      "    0.02\n",
      "    0.02\n",
      "    0.02\n",
      "    0.02\n",
      "    0.02\n",
      "    0.02\n",
      "    0.02\n",
      "    0.02\n",
      "    0.02\n",
      "    0.02\n",
      "    0.02\n",
      "    0.02\n",
      "    0.02\n",
      "    0.02\n",
      "    0.02\n",
      "    0.02\n",
      "    0.02\n",
      "    0.02\n",
      "    0.02\n",
      "    0.02\n",
      "    0.02\n",
      "    0.02\n",
      "    0.02\n",
      "    0.02\n",
      "    0.02\n",
      "    0.02\n",
      "    0.02\n",
      "    0.02\n",
      "    0.02\n",
      "    0.02\n",
      "    0.02\n",
      "    0.02\n",
      "    0.02\n",
      "    0.02\n",
      "    0.02\n",
      "    0.02\n",
      "    0.02\n",
      "    0.02\n",
      "    0.02\n",
      "    0.02\n",
      "    0.01\n",
      "\n",
      "\n"
     ]
    }
   ],
   "source": [
    "# this vector is exactly the same as in Claes Johnson, except for the first and last entries\n",
    "# these are 1/2 of the value calculated there.\n",
    "print(b.vec)"
   ]
  },
  {
   "cell_type": "code",
   "execution_count": 8,
   "metadata": {},
   "outputs": [],
   "source": [
    "gfu.vec.data = a.mat.Inverse(freedofs=fes.FreeDofs())*b.vec"
   ]
  },
  {
   "cell_type": "code",
   "execution_count": 9,
   "metadata": {},
   "outputs": [
    {
     "name": "stdout",
     "output_type": "stream",
     "text": [
      "       0\n",
      "  0.0098\n",
      "  0.0192\n",
      "  0.0282\n",
      "  0.0368\n",
      "   0.045\n",
      "  0.0528\n",
      "  0.0602\n",
      "  0.0672\n",
      "  0.0738\n",
      "    0.08\n",
      "  0.0858\n",
      "  0.0912\n",
      "  0.0962\n",
      "  0.1008\n",
      "   0.105\n",
      "  0.1088\n",
      "  0.1122\n",
      "  0.1152\n",
      "  0.1178\n",
      "    0.12\n",
      "  0.1218\n",
      "  0.1232\n",
      "  0.1242\n",
      "  0.1248\n",
      "   0.125\n",
      "  0.1248\n",
      "  0.1242\n",
      "  0.1232\n",
      "  0.1218\n",
      "    0.12\n",
      "  0.1178\n",
      "  0.1152\n",
      "  0.1122\n",
      "  0.1088\n",
      "   0.105\n",
      "  0.1008\n",
      "  0.0962\n",
      "  0.0912\n",
      "  0.0858\n",
      "    0.08\n",
      "  0.0738\n",
      "  0.0672\n",
      "  0.0602\n",
      "  0.0528\n",
      "   0.045\n",
      "  0.0368\n",
      "  0.0282\n",
      "  0.0192\n",
      "  0.0098\n",
      "       0\n",
      "\n",
      "\n"
     ]
    }
   ],
   "source": [
    "print(gfu.vec)"
   ]
  },
  {
   "cell_type": "code",
   "execution_count": 10,
   "metadata": {
    "collapsed": true
   },
   "outputs": [],
   "source": [
    "Draw(gfu) # wasn't able to get this to work...\n",
    "# I was able to use Mesh doctor to get the mesh to show."
   ]
  },
  {
   "cell_type": "code",
   "execution_count": 11,
   "metadata": {},
   "outputs": [
    {
     "data": {
      "text/plain": [
       "[<matplotlib.lines.Line2D at 0x7fd040338240>]"
      ]
     },
     "execution_count": 11,
     "metadata": {},
     "output_type": "execute_result"
    }
   ],
   "source": [
    "import matplotlib.pyplot as plt\n",
    "plt.plot(gfu.vec)"
   ]
  },
  {
   "cell_type": "code",
   "execution_count": 12,
   "metadata": {},
   "outputs": [
    {
     "data": {
      "image/png": "[encoded data removed]",
      "text/plain": [
       "<matplotlib.figure.Figure at 0x7fd0938c8048>"
      ]
     },
     "metadata": {},
     "output_type": "display_data"
    }
   ],
   "source": [
    "plt.show()"
   ]
  }
 ],
 "metadata": {
  "kernelspec": {
   "display_name": "Python 3",
   "language": "python",
   "name": "python3"
  },
  "language_info": {
   "codemirror_mode": {
    "name": "ipython",
    "version": 3
   },
   "file_extension": ".py",
   "mimetype": "text/x-python",
   "name": "python",
   "nbconvert_exporter": "python",
   "pygments_lexer": "ipython3",
   "version": "3.5.2"
  }
 },
 "nbformat": 4,
 "nbformat_minor": 2
}
