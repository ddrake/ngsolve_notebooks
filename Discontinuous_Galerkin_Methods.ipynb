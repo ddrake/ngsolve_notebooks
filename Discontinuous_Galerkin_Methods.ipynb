{
 "cells": [
  {
   "cell_type": "markdown",
   "metadata": {},
   "source": [
    "# Discontinuous Galerkin Methods\n",
    "\n",
    "- Use discontinuous finite element spaces to solve PDEs.\n",
    "- Allows upwind-stabilization for convection-dominated problems\n",
    "- Requires additional jump terms for consistency\n",
    "\n",
    "Interior penalty DG form for $−\\Delta u$:\n",
    "\n",
    "$$A(u,v)=\\sum_T \\int_T \\nabla u \\nabla v = -\\frac{1}{2}\\sum_F \\int_F \\lbrace n\\nabla u \\rbrace [v] - \\frac{1}{2}\\sum_F \\int_F \\lbrace n\\nabla u \\rbrace [v] + \\frac{\\alpha p^2}{h} \\sum_F \\int_F [u][v]$$\n",
    "\n",
    "(Is there a typo?  The second term repeated?)\n",
    "\n",
    "with jump-term over facets:\n",
    "\n",
    "$$[u]=u_{left}−u_{right}$$\n",
    "\n",
    "and averaging operator\n",
    "\n",
    "$$\\lbrace n \\nabla u \\rbrace =\\frac{1}{2} (n_{left} \\nabla u_{left} + n_{left} \\nabla u_{right})$$\n",
    "\n",
    "DG form for div $bu$, where $b$ is the given wind:\n",
    "$$B(u,v)=−\\sum_T bu \\nabla v + \\sum_F \\int_F b \\cdot n u^{upwind} v$$"
   ]
  },
  {
   "cell_type": "code",
   "execution_count": 1,
   "metadata": {
    "collapsed": true
   },
   "outputs": [],
   "source": [
    "import netgen.gui\n",
    "%gui tk\n",
    "from netgen.geom2d import unit_square\n",
    "from ngsolve import *\n",
    "mesh = Mesh(unit_square.GenerateMesh(maxh=0.3))\n"
   ]
  },
  {
   "cell_type": "markdown",
   "metadata": {},
   "source": [
    "The space is responsible for allocating the matrix graph. Tell it that it should reserve entries for the coupling terms:"
   ]
  },
  {
   "cell_type": "code",
   "execution_count": 2,
   "metadata": {
    "collapsed": true
   },
   "outputs": [],
   "source": [
    "order=4\n",
    "fes = L2(mesh, order=order, flags = { \"dgjumps\" : True })\n",
    "u = fes.TrialFunction()\n",
    "v = fes.TestFunction()"
   ]
  },
  {
   "cell_type": "markdown",
   "metadata": {},
   "source": [
    "Every facet has a master element. The value from the other element is referred to via the Other() operator:"
   ]
  },
  {
   "cell_type": "code",
   "execution_count": 3,
   "metadata": {
    "collapsed": true
   },
   "outputs": [],
   "source": [
    "jump_u = u-u.Other()\n",
    "jump_v = v-v.Other()\n",
    "n = specialcf.normal(2)\n",
    "mean_dudn = 0.5*n * (grad(u)+grad(u.Other()))\n",
    "mean_dvdn = 0.5*n * (grad(v)+grad(v.Other()))"
   ]
  },
  {
   "cell_type": "markdown",
   "metadata": {},
   "source": [
    "Integrals on facets are computed by setting ```skeleton=True```. This iterates over all internal facets. Additionally setting ```BND``` iterates only over boundary facets:"
   ]
  },
  {
   "cell_type": "code",
   "execution_count": 4,
   "metadata": {
    "collapsed": true
   },
   "outputs": [],
   "source": [
    "alpha = 4\n",
    "h = specialcf.mesh_size\n",
    "a = BilinearForm(fes)\n",
    "a += SymbolicBFI(grad(u)*grad(v))\n",
    "a += SymbolicBFI(alpha*order**2/h*jump_u*jump_v, skeleton=True)\n",
    "a += SymbolicBFI(alpha*order**2/h*u*v, BND, skeleton=True)\n",
    "a += SymbolicBFI(-mean_dudn*jump_v -mean_dvdn*jump_u, skeleton=True)\n",
    "a += SymbolicBFI(-n*grad(u)*v-n*grad(v)*u, BND, skeleton=True)\n",
    "a.Assemble()"
   ]
  },
  {
   "cell_type": "code",
   "execution_count": 5,
   "metadata": {
    "collapsed": true
   },
   "outputs": [],
   "source": [
    "f = LinearForm(fes)\n",
    "f += SymbolicLFI(1*v)\n",
    "f.Assemble()"
   ]
  },
  {
   "cell_type": "code",
   "execution_count": 6,
   "metadata": {
    "collapsed": true
   },
   "outputs": [],
   "source": [
    "gfu = GridFunction(fes, name=\"uDG\")\n",
    "gfu.vec.data = a.mat.Inverse() * f.vec\n",
    "Draw (gfu)"
   ]
  },
  {
   "cell_type": "markdown",
   "metadata": {},
   "source": [
    "Next we are solving a convection-diffusion problem:"
   ]
  },
  {
   "cell_type": "code",
   "execution_count": 7,
   "metadata": {
    "collapsed": true
   },
   "outputs": [],
   "source": [
    "alpha = 4\n",
    "h = specialcf.mesh_size\n",
    "acd = BilinearForm(fes)\n",
    "acd += SymbolicBFI(grad(u)*grad(v))\n",
    "acd += SymbolicBFI(alpha*order**2/h*jump_u*jump_v, skeleton=True)\n",
    "acd += SymbolicBFI(alpha*order**2/h*u*v, BND, skeleton=True)\n",
    "acd += SymbolicBFI(-mean_dudn*jump_v -mean_dvdn*jump_u, skeleton=True)\n",
    "acd += SymbolicBFI(-n*grad(u)*v-n*grad(v)*u, BND, skeleton=True)"
   ]
  },
  {
   "cell_type": "markdown",
   "metadata": {},
   "source": [
    "The IfPos checks whether the first argument is positive. Then it returns the second one, else the third one. This is used to define the upwind flux. The check is performed in every integration-point on the skeleton:"
   ]
  },
  {
   "cell_type": "code",
   "execution_count": 8,
   "metadata": {
    "collapsed": true
   },
   "outputs": [],
   "source": [
    "b = CoefficientFunction( (20,1) )\n",
    "acd += SymbolicBFI(-b * u * grad(v))\n",
    "uup = IfPos(b*n, u, u.Other())\n",
    "acd += SymbolicBFI(b*n*uup*jump_v, skeleton=True)"
   ]
  },
  {
   "cell_type": "code",
   "execution_count": 9,
   "metadata": {
    "collapsed": true
   },
   "outputs": [],
   "source": [
    "acd.Assemble()"
   ]
  },
  {
   "cell_type": "code",
   "execution_count": 10,
   "metadata": {
    "collapsed": true
   },
   "outputs": [],
   "source": [
    "gfu = GridFunction(fes)\n",
    "gfu.vec.data = acd.mat.Inverse(freedofs=fes.FreeDofs(),inverse=\"umfpack\") * f.vec\n",
    "Draw (gfu)"
   ]
  },
  {
   "cell_type": "markdown",
   "metadata": {},
   "source": [
    "## Hybrid Discontinuous Galerkin methods\n",
    "use additionally the hybrid facet variable on the skeleton:\n",
    "$$A(u,\\hat{u};v,\\hat{v})=\\sum_T \\int_T \\nabla u \\nabla v - \\sum_T \\int_{\\partial_T} n \\nabla u (v - \\hat{v})  - \\sum_T \\int_{\\partial_T} n \\nabla u (u - \\hat{u}) + \\frac{\\alpha p^2}{h} \\sum_F \\int_F (u-\\hat{u})(v - \\hat{v})$$\n",
    "\n",
    "the jump-term is now replaced by the difference $u−\\hat{u}$.\n",
    "\n",
    "No additional matrix entries across elements are produced. Dirichlet boundary conditions are set as usual to the facet variable:\n"
   ]
  },
  {
   "cell_type": "code",
   "execution_count": 11,
   "metadata": {
    "collapsed": true
   },
   "outputs": [],
   "source": [
    "order=4\n",
    "V = L2(mesh, order=order)\n",
    "F = FacetFESpace(mesh, order=order, dirichlet=\"bottom|left|right|top\")\n",
    "fes = FESpace([V,F])\n",
    "u,uhat = fes.TrialFunction()\n",
    "v,vhat = fes.TestFunction()"
   ]
  },
  {
   "cell_type": "code",
   "execution_count": 12,
   "metadata": {
    "collapsed": true
   },
   "outputs": [],
   "source": [
    "jump_u = u-uhat\n",
    "jump_v = v-vhat"
   ]
  },
  {
   "cell_type": "code",
   "execution_count": 13,
   "metadata": {
    "collapsed": true
   },
   "outputs": [],
   "source": [
    "alpha = 4\n",
    "h = specialcf.mesh_size\n",
    "n = specialcf.normal(mesh.dim)\n",
    "\n",
    "a = BilinearForm(fes)\n",
    "a += SymbolicBFI(grad(u)*grad(v))\n",
    "a += SymbolicBFI(alpha*order**2/h*jump_u*jump_v, element_boundary=True)\n",
    "a += SymbolicBFI(-grad(u)*n*jump_v - grad(v)*n*jump_u, element_boundary=True)\n",
    "\n",
    "\n",
    "b = CoefficientFunction( (20,1) )\n",
    "a += SymbolicBFI(-b * u * grad(v))\n",
    "uup = IfPos(b*n, u, uhat)\n",
    "a += SymbolicBFI(b*n*uup*jump_v, element_boundary=True)\n",
    "a.Assemble()\n",
    "\n",
    "f = LinearForm(fes)\n",
    "f += SymbolicLFI(1*v)\n",
    "f.Assemble()\n"
   ]
  },
  {
   "cell_type": "code",
   "execution_count": 14,
   "metadata": {
    "collapsed": true
   },
   "outputs": [],
   "source": [
    "gfu = GridFunction(fes)\n",
    "inv = a.mat.Inverse(fes.FreeDofs(), \"umfpack\")\n",
    "gfu.vec.data = inv * f.vec\n",
    "\n",
    "Draw (gfu.components[0], mesh, \"u-HDG\")"
   ]
  },
  {
   "cell_type": "code",
   "execution_count": null,
   "metadata": {
    "collapsed": true
   },
   "outputs": [],
   "source": []
  }
 ],
 "metadata": {
  "kernelspec": {
   "display_name": "Python 3",
   "language": "python",
   "name": "python3"
  },
  "language_info": {
   "codemirror_mode": {
    "name": "ipython",
    "version": 3
   },
   "file_extension": ".py",
   "mimetype": "text/x-python",
   "name": "python",
   "nbconvert_exporter": "python",
   "pygments_lexer": "ipython3",
   "version": "3.5.2"
  }
 },
 "nbformat": 4,
 "nbformat_minor": 2
}
