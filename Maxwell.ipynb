{
 "cells": [
  {
   "cell_type": "code",
   "execution_count": 1,
   "metadata": {
    "collapsed": true
   },
   "outputs": [],
   "source": [
    "from ngsolve import *\n",
    "from netgen.csg import *\n",
    "import netgen.gui\n",
    "%gui tk"
   ]
  },
  {
   "cell_type": "code",
   "execution_count": 3,
   "metadata": {},
   "outputs": [],
   "source": [
    "box = OrthoBrick(Pnt(-3,-3,-3),Pnt(3,3,3)).bc(\"outer\")\n",
    "magnet = Cylinder(Pnt(-1,0,0),Pnt(1,0,0), 0.3) * OrthoBrick(Pnt(-1,-3,-3),Pnt(1,3,3))\n",
    "air = box - magnet\n",
    "\n",
    "geo = CSGeometry()\n",
    "geo.Add (air.mat(\"air\"))\n",
    "geo.Add (magnet.mat(\"magnet\").maxh(1))\n",
    "mesh = Mesh(geo.GenerateMesh(maxh=2))\n"
   ]
  },
  {
   "cell_type": "code",
   "execution_count": 4,
   "metadata": {},
   "outputs": [
    {
     "data": {
      "text/plain": [
       "(['air', 'magnet'],\n",
       " ['outer',\n",
       "  'outer',\n",
       "  'outer',\n",
       "  'outer',\n",
       "  'outer',\n",
       "  'outer',\n",
       "  'default',\n",
       "  'default',\n",
       "  'default'])"
      ]
     },
     "execution_count": 4,
     "metadata": {},
     "output_type": "execute_result"
    }
   ],
   "source": [
    "mesh.GetMaterials(), mesh.GetBoundaries()"
   ]
  },
  {
   "cell_type": "code",
   "execution_count": 5,
   "metadata": {},
   "outputs": [
    {
     "name": "stdout",
     "output_type": "stream",
     "text": [
      "ndof = 87940\n"
     ]
    }
   ],
   "source": [
    "fes = HCurl(mesh, order=3, dirichlet=\"outer\", flags = { \"nograds\" : True })\n",
    "print (\"ndof =\", fes.ndof)\n",
    "u = fes.TrialFunction()\n",
    "v = fes.TestFunction()\n",
    "\n",
    "from math import pi\n",
    "mu0 = 4*pi*1e-7\n",
    "mur = CoefficientFunction( [1000 if mat== \"magnet\" else 1 \n",
    "                            for mat in mesh.GetMaterials()]) \n",
    "\n",
    "a = BilinearForm(fes)\n",
    "a += SymbolicBFI(1/(mu0*mur) * curl(u) * curl(v) + 1e-6/(mu0*mur)*u*v)\n",
    "c = Preconditioner(a, \"bddc\")\n",
    "\n",
    "f = LinearForm(fes)\n",
    "mag = CoefficientFunction((1,0,0))\n",
    "f += SymbolicLFI(mag*curl(v), definedon=mesh.Materials(\"magnet\"))"
   ]
  },
  {
   "cell_type": "code",
   "execution_count": 10,
   "metadata": {
    "collapsed": true
   },
   "outputs": [],
   "source": [
    "with TaskManager():\n",
    "    a.Assemble()\n",
    "    f.Assemble()"
   ]
  },
  {
   "cell_type": "code",
   "execution_count": 11,
   "metadata": {
    "collapsed": true
   },
   "outputs": [],
   "source": [
    "gfu = GridFunction(fes)\n",
    "\n",
    "inv = CGSolver(a.mat, c.mat)\n",
    "gfu.vec.data = inv * f.vec\n",
    "Draw (curl(gfu), mesh, \"B-field\")"
   ]
  },
  {
   "cell_type": "code",
   "execution_count": 9,
   "metadata": {
    "collapsed": true
   },
   "outputs": [],
   "source": [
    "mesh.Curve(3)"
   ]
  }
 ],
 "metadata": {
  "kernelspec": {
   "display_name": "Python 3",
   "language": "python",
   "name": "python3"
  },
  "language_info": {
   "codemirror_mode": {
    "name": "ipython",
    "version": 3
   },
   "file_extension": ".py",
   "mimetype": "text/x-python",
   "name": "python",
   "nbconvert_exporter": "python",
   "pygments_lexer": "ipython3",
   "version": "3.5.2"
  }
 },
 "nbformat": 4,
 "nbformat_minor": 2
}
