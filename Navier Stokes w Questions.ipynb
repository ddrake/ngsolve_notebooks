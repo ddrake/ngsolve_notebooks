{
 "cells": [
  {
   "cell_type": "markdown",
   "metadata": {},
   "source": [
    "# Incompressible Navier Stokes Equations\n",
    "We are solving the unsteady Navier Stokes Equations\n",
    "\n",
    "$$u_t + (u \\cdot \\nabla)u + \\frac{1}{\\rho}\\nabla p = \\nu \\Delta u \\ \\text{where} \\ div(u) = 0$$\n",
    "\n",
    "which, since u is a vector valued function, is the following system in 2D:\n",
    "\n",
    "$$u^i_t + (u^i \\cdot \\nabla)u^i + \\frac{1}{\\rho}p_x = \\nu \\Delta u^i \\hspace{3em} \\text{for i = 1,2}$$\n",
    "\n",
    "I'm not sure how to obtain this variational form, probably using Green's theorem:\n",
    "\n",
    "Find $(u,p):[0,T]\\rightarrow(H_{0,D}^1)^d\\times L^2$, s.t.\n",
    "\n",
    "$$\\int_\\Omega \\partial_t uv + \\nu \\nabla v \\cdot \\nabla u + u \\cdot \\nabla uv - \\int_\\Omega div(v)\\cdot p = \\int fv \\hspace{3em} \\forall v \\in (H_{0,D}^1)^d$$\n",
    "\n",
    "Is d intended to be the dimension, in this case 2?\n",
    "\n",
    "$$-\\int_\\Omega div(u)q = 0  \\hspace{3em} \\forall q \\in L^2$$\n",
    "\n",
    "$$u(t = 0) = u_0$$\n"
   ]
  },
  {
   "cell_type": "code",
   "execution_count": 1,
   "metadata": {
    "collapsed": true
   },
   "outputs": [],
   "source": [
    "import netgen.gui\n",
    "%gui tk\n",
    "import tkinter\n",
    "from math import pi # do we need this?\n",
    "from ngsolve import *\n",
    "from netgen.geom2d import SplineGeometry"
   ]
  },
  {
   "cell_type": "markdown",
   "metadata": {},
   "source": [
    "We again consider the benchmark example from the [DFG Benchmark Site](http://www.featflow.de/en/benchmarks/cfdbenchmarking/flow/dfg_benchmark2_re100.html).  The geometry is a 2D channel with a circular obstacle which is positioned (only slightly) off the center of the channel.  The geometry:\n",
    "![geometry.png](geometry.png)\n",
    "\n",
    "The left part (red) is the inflow boundary\n",
    "\n",
    "The right part (green) is the outflow boundary\n",
    "\n",
    "The viscosity is set to $\\nu = 10^{-3}$"
   ]
  },
  {
   "cell_type": "code",
   "execution_count": 2,
   "metadata": {
    "collapsed": true
   },
   "outputs": [],
   "source": [
    "#from netgen.geom2d import SplineGeometry\n",
    "geo = SplineGeometry()\n",
    "geo.AddRectangle( (0, 0), (2, 0.41), \n",
    "                 bcs = (\"wall\", \"outlet\", \"wall\", \"inlet\"))\n",
    "geo.AddCircle ( (0.2, 0.2), r=0.05, \n",
    "               leftdomain=0, rightdomain=1, bc=\"cyl\")\n",
    "mesh = Mesh( geo.GenerateMesh(maxh=0.08))\n",
    "mesh.Curve(3)  # what does this do?\n",
    "\n",
    "# viscosity\n",
    "nu = 0.001"
   ]
  },
  {
   "cell_type": "markdown",
   "metadata": {},
   "source": [
    "We use a Taylor-Hood (ref?) discretization of degree k.  The finite element space for the velocity components $u_x$ and $u_y$ and the pressure is:\n",
    "\n",
    "$$u_x, u_y \\in V = \\{v \\in H^1(\\Omega) \\  | \\ v|_T \\in \\mathcal{P}^K(T)\\}$$\n",
    "\n",
    "$$p \\in Q = \\{q \\in H^1(\\Omega) \\ | \\ q_T \\in \\mathcal{P}^{K-1}(T)\\}$$\n",
    "\n"
   ]
  },
  {
   "cell_type": "code",
   "execution_count": 3,
   "metadata": {
    "collapsed": true
   },
   "outputs": [],
   "source": [
    "k = 3\n",
    "V = H1(mesh,order=k, dirichlet=\"wall|cyl|inlet\")\n",
    "Q = H1(mesh,order=k-1)\n",
    "\n",
    "X = FESpace([V,V,Q])"
   ]
  },
  {
   "cell_type": "markdown",
   "metadata": {},
   "source": [
    "As initial data, we use the solution to the Stokes problem:\n",
    "\n",
    "Find $u = (u_x, u_y) \\in V \\times V, P \\in Q$ so that\n",
    "\n",
    "$$\\int_\\Omega \\nu \\nabla v \\cdot \\nabla u - \\int_\\Omega div(v) p = \\int fv \\hspace{3em} \\forall v \\in V \\times V$$\n",
    "\n",
    "$$-\\int_\\Omega div(u)q = 0  \\hspace{3em} \\forall q \\in Q$$\n",
    "\n",
    "with boundary conditions\n",
    "\n",
    "* the inflow boundary data (\"inlet\") with mean value 1\n",
    "$$u_x(0,y)=6y(0.41−y)/(0.41)^2,\\int_0^{0.41}u_x(0,y)dy=1$$\n",
    "* \"do-nothing\" boundary conditions on the outflow ('outlet') and\n",
    "* homogeneous Dirichlet conditions on all other boundaries ('wall').\n",
    "\n"
   ]
  },
  {
   "cell_type": "code",
   "execution_count": 4,
   "metadata": {
    "collapsed": true,
    "scrolled": true
   },
   "outputs": [],
   "source": [
    "u = GridFunction(X)\n",
    "\n",
    "# parabolic inflow at bc=1:\n",
    "uin = 1.5*4*y*(0.41-y)/(0.41*0.41)\n",
    "u.components[0].Set(uin, definedon=mesh.Boundaries(\"inlet\"))\n",
    "\n",
    "# a sketch of the inflow profile:\n",
    "# import matplotlib\n",
    "# import numpy as np\n",
    "# import matplotlib.pyplot as plt\n",
    "# %matplotlib inline  \n",
    "\n",
    "# s = np.arange(0.0, 0.42, 0.01)\n",
    "# bvs = 6*s*(0.41-s)/(0.41)**2 \n",
    "# plt.plot(s, bvs)\n",
    "\n",
    "# plt.xlabel('y')\n",
    "# plt.ylabel('$u_x(0,y)$')\n",
    "# plt.title('inflow profile')\n",
    "# plt.grid(True)\n",
    "# plt.show()\n"
   ]
  },
  {
   "cell_type": "markdown",
   "metadata": {},
   "source": [
    "To solve the Stokes (and later the Navier-Stokes) problem, we introduce the bilinear form:\n",
    "$$a((u,p),(b,q)) := \\int_\\Omega \\nu \\nabla u \\cdot \\nabla v - div(v)p - div(u)q$$"
   ]
  },
  {
   "cell_type": "code",
   "execution_count": 5,
   "metadata": {},
   "outputs": [
    {
     "ename": "RuntimeError",
     "evalue": "SparseMatrix::InverseMatrix:  UmfpackInverse not available",
     "output_type": "error",
     "traceback": [
      "\u001b[0;31m---------------------------------------------------------------------------\u001b[0m",
      "\u001b[0;31mRuntimeError\u001b[0m                              Traceback (most recent call last)",
      "\u001b[0;32m<ipython-input-5-0577cfcaca25>\u001b[0m in \u001b[0;36m<module>\u001b[0;34m()\u001b[0m\n\u001b[1;32m     20\u001b[0m \u001b[0;34m\u001b[0m\u001b[0m\n\u001b[1;32m     21\u001b[0m \u001b[0;31m# dd: edited to add the type of inverse\u001b[0m\u001b[0;34m\u001b[0m\u001b[0;34m\u001b[0m\u001b[0m\n\u001b[0;32m---> 22\u001b[0;31m \u001b[0minv_stokes\u001b[0m \u001b[0;34m=\u001b[0m \u001b[0ma\u001b[0m\u001b[0;34m.\u001b[0m\u001b[0mmat\u001b[0m\u001b[0;34m.\u001b[0m\u001b[0mInverse\u001b[0m\u001b[0;34m(\u001b[0m\u001b[0mX\u001b[0m\u001b[0;34m.\u001b[0m\u001b[0mFreeDofs\u001b[0m\u001b[0;34m(\u001b[0m\u001b[0;34m)\u001b[0m\u001b[0;34m,\u001b[0m \u001b[0minverse\u001b[0m\u001b[0;34m=\u001b[0m\u001b[0;34m\"umfpack\"\u001b[0m\u001b[0;34m)\u001b[0m  \u001b[0;31m# a BaseMatrix - kernel crash if I try to print\u001b[0m\u001b[0;34m\u001b[0m\u001b[0m\n\u001b[0m\u001b[1;32m     23\u001b[0m \u001b[0;34m\u001b[0m\u001b[0m\n\u001b[1;32m     24\u001b[0m \u001b[0mres\u001b[0m \u001b[0;34m=\u001b[0m \u001b[0mf\u001b[0m\u001b[0;34m.\u001b[0m\u001b[0mvec\u001b[0m\u001b[0;34m.\u001b[0m\u001b[0mCreateVector\u001b[0m\u001b[0;34m(\u001b[0m\u001b[0;34m)\u001b[0m\u001b[0;34m\u001b[0m\u001b[0m\n",
      "\u001b[0;31mRuntimeError\u001b[0m: SparseMatrix::InverseMatrix:  UmfpackInverse not available"
     ]
    }
   ],
   "source": [
    "ux,uy,p = X.TrialFunction()\n",
    "vx,vy,q = X.TestFunction()\n",
    "\n",
    "div_u = grad(ux)[0]+grad(uy)[1]\n",
    "div_v = grad(vx)[0]+grad(vy)[1]\n",
    "\n",
    "# without the small p*q term, the matrix is not invertible.\n",
    "stokes = nu*grad(ux)*grad(vx)+nu*grad(uy)*grad(vy)-div_u*q-div_v*p - 1.0e-10*p*q\n",
    "        \n",
    "a = BilinearForm(X)\n",
    "a += SymbolicBFI(stokes)\n",
    "a.Assemble()\n",
    "# print(a.mat)   #gives reasonable values a.mat is a SparseMatrixD\n",
    "f = LinearForm(X)   \n",
    "# note: no rhs to integrate (I think this means assume rhs is zero)\n",
    "f.Assemble()\n",
    "\n",
    "# dd: edited to add the type of inverse\n",
    "inv_stokes = a.mat.Inverse(X.FreeDofs(), inverse=\"umfpack\")  # a BaseMatrix - kernel crash if I try to print\n",
    "\n",
    "res = f.vec.CreateVector()\n",
    "res.data = f.vec - a.mat*u.vec\n",
    "# note f.vec is all zeros, so don't need to explicitly add...\n",
    "\n",
    "# this doesn't make sense to me.  \n",
    "# since f.vec is all zeros, it seems that we are just going doing u = u-a*a^-1*u or u = u-u = 0\n",
    "u.vec.data += inv_stokes * res\n",
    "# print(u.vec) gives lots of -nan -- why?  Something wrong with inv_stokes perhaps?\n"
   ]
  },
  {
   "cell_type": "markdown",
   "metadata": {},
   "source": [
    "For the time integration we consider an semi-implicit Euler method (IMEX) where the convection is treated only explicitly and the remaining part implicitly:\n",
    "\n",
    "Find $(u^{n+1}, p^{n+1}) \\in X = V \\times V \\times Q$, s.t. for all $(v,q) \\in X$<br>\n",
    "$$m(u^{n+1},v) + \\Delta t \\cdot a((u^{n+1},p^{n+1}),(v,q)) = m(u^n,v) - \\Delta tc(u^n; u^n, v)$$\n",
    "\n",
    "where we define $M^*$ to be the l.h.s with \n",
    "\n",
    "$$m(u,v) = \\int u \\cdot v$$\n",
    "\n",
    "and \n",
    "\n",
    "$$ c(w,u,v) = \\int w \\cdot \\nabla u \\cdot v$$\n",
    "\n",
    "We prefer the incremental form (as it homogenizes the boundary conditions):\n",
    "$$m(\\Delta u^{n+1}, v) + \\Delta t \\cdot a((\\Delta u^{n+1}, p^{n+1}),(v,q)) = \\Delta t(-a((u^n,p^n),(v,q)) - c(u^n; u^n, v))$$\n",
    "\n",
    "I don't understand this notation with the semicolon.  Is c the convection part?  I think so.  Where is this in the original equation?\n",
    "\n"
   ]
  },
  {
   "cell_type": "code",
   "execution_count": null,
   "metadata": {
    "collapsed": true
   },
   "outputs": [],
   "source": [
    "dt = 0.001\n",
    "# matrix for implicit Euler \n",
    "mstar = BilinearForm(X)\n",
    "# again we are adding the velocity components -- how does it make sense?\n",
    "mstar += SymbolicBFI(ux*vx+uy*vy + dt*stokes)\n",
    "mstar.Assemble()\n",
    "inv = mstar.mat.Inverse(X.FreeDofs())\n",
    "\n",
    "velocity = CoefficientFunction (u.components[0:2])\n",
    "\n",
    "conv = LinearForm(X)\n",
    "conv += SymbolicLFI(velocity*grad(u.components[0])*vx)\n",
    "conv += SymbolicLFI(velocity*grad(u.components[1])*vy)\n",
    "\n",
    "# for visualization\n",
    "velocity = CoefficientFunction (u.components[0:2])\n",
    "Draw(u.components[2],mesh,\"p\")\n",
    "Draw(Norm(velocity),mesh,\"velocity\", sd=3)\n"
   ]
  },
  {
   "cell_type": "code",
   "execution_count": null,
   "metadata": {
    "collapsed": true
   },
   "outputs": [],
   "source": [
    "t = 0\n",
    "tend = 0"
   ]
  },
  {
   "cell_type": "code",
   "execution_count": null,
   "metadata": {
    "collapsed": true
   },
   "outputs": [],
   "source": [
    "# implicit Euler/explicit Euler splitting method:\n",
    "tend += 1\n",
    "while t < tend-0.5*dt:\n",
    "    print (\"\\rt=\", t, end=\"\")\n",
    "\n",
    "    conv.Assemble()\n",
    "    res.data = a.mat * u.vec + conv.vec\n",
    "    u.vec.data -= dt * inv * res    \n",
    "\n",
    "    t = t + dt\n",
    "    Redraw()\n"
   ]
  }
 ],
 "metadata": {
  "kernelspec": {
   "display_name": "Python 3",
   "language": "python",
   "name": "python3"
  },
  "language_info": {
   "codemirror_mode": {
    "name": "ipython",
    "version": 3
   },
   "file_extension": ".py",
   "mimetype": "text/x-python",
   "name": "python",
   "nbconvert_exporter": "python",
   "pygments_lexer": "ipython3",
   "version": "3.5.2"
  }
 },
 "nbformat": 4,
 "nbformat_minor": 2
}
